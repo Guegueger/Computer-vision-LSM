{
 "cells": [
  {
   "cell_type": "code",
   "execution_count": 44,
   "metadata": {},
   "outputs": [],
   "source": [
    "import h5py as h5\n",
    "import numpy as np\n",
    "import tensorflow as tf\n",
    "import matplotlib.pyplot as plt\n",
    "from tensorflow.python.framework.ops import EagerTensor\n",
    "from tensorflow.python.ops.resource_variable_ops import ResourceVariable\n",
    "from tensorflow import keras\n",
    "from modules.loaders import LoadDataset\n",
    "from sklearn.preprocessing import LabelEncoder\n",
    "from sklearn.model_selection import train_test_split"
   ]
  },
  {
   "cell_type": "code",
   "execution_count": 45,
   "metadata": {},
   "outputs": [
    {
     "data": {
      "text/plain": [
       "h5py._hl.files.File"
      ]
     },
     "execution_count": 45,
     "metadata": {},
     "output_type": "execute_result"
    }
   ],
   "source": [
    "###* Load the dataset\n",
    "dataset = LoadDataset(h5_file= 'positions_FACES_PCA.h5').load_h5()\n",
    "type(dataset)"
   ]
  },
  {
   "cell_type": "code",
   "execution_count": 46,
   "metadata": {},
   "outputs": [
    {
     "data": {
      "text/plain": [
       "(6165,)"
      ]
     },
     "execution_count": 46,
     "metadata": {},
     "output_type": "execute_result"
    }
   ],
   "source": [
    "with dataset as h5file:\n",
    "    data_h5 = []\n",
    "    labels = []\n",
    "    for face in h5file.keys():\n",
    "        positions = h5file[face]['positions'][:]\n",
    "        data_h5.append(positions)\n",
    "        # print(positions.shape)\n",
    "        labels.extend([face]*positions.shape[1]) #* extend is used to add the elements of the list, not the list itself  \n",
    "\n",
    "labels = np.array(labels)\n",
    "labels_letter = np.reshape(labels, (labels.shape[0], ))\n",
    "labels_letter.shape\n"
   ]
  },
  {
   "cell_type": "code",
   "execution_count": 47,
   "metadata": {},
   "outputs": [
    {
     "name": "stdout",
     "output_type": "stream",
     "text": [
      "Data shape 0 (464, 1233)\n",
      "Data shape 1 (464, 1233)\n",
      "Data shape 2 (464, 1233)\n",
      "Data shape 3 (464, 1233)\n",
      "Data shape 4 (464, 1233)\n"
     ]
    }
   ],
   "source": [
    "for i, id in enumerate(data_h5):\n",
    "    print('Data shape',i, id.shape)"
   ]
  },
  {
   "cell_type": "markdown",
   "metadata": {},
   "source": [
    "#### Remember nx -> 468*2 (positions in x and y)     m -> number of samples"
   ]
  },
  {
   "cell_type": "code",
   "execution_count": 48,
   "metadata": {},
   "outputs": [
    {
     "name": "stdout",
     "output_type": "stream",
     "text": [
      "The number of classes is: 5\n"
     ]
    },
    {
     "data": {
      "text/plain": [
       "(6165,)"
      ]
     },
     "execution_count": 48,
     "metadata": {},
     "output_type": "execute_result"
    }
   ],
   "source": [
    "label_encoder = LabelEncoder() ###* Face TO NUMBERS \n",
    "labels = label_encoder.fit_transform(labels_letter)\n",
    "print('The number of classes is:', len(label_encoder.classes_))\n",
    "labels.shape"
   ]
  },
  {
   "cell_type": "code",
   "execution_count": 49,
   "metadata": {},
   "outputs": [
    {
     "data": {
      "text/plain": [
       "array(['Enojo', 'Feliz', 'Neutral', 'Sorpresa', 'Triste'], dtype='<U8')"
      ]
     },
     "execution_count": 49,
     "metadata": {},
     "output_type": "execute_result"
    }
   ],
   "source": [
    "label_encoder.classes_"
   ]
  },
  {
   "cell_type": "markdown",
   "metadata": {},
   "source": [
    "### For every sample m we have one label"
   ]
  },
  {
   "cell_type": "code",
   "execution_count": 50,
   "metadata": {},
   "outputs": [
    {
     "data": {
      "text/plain": [
       "(464, 6165)"
      ]
     },
     "execution_count": 50,
     "metadata": {},
     "output_type": "execute_result"
    }
   ],
   "source": [
    "data = np.concatenate(data_h5,axis=1)\n",
    "data.shape"
   ]
  },
  {
   "cell_type": "markdown",
   "metadata": {},
   "source": [
    "#### sklearn needs data.shape = (m, nx), where:\n",
    "#### m is the number of samples\n",
    "#### nx number of featues (positions in this case)"
   ]
  },
  {
   "cell_type": "code",
   "execution_count": 51,
   "metadata": {},
   "outputs": [
    {
     "data": {
      "text/plain": [
       "(6165, 464)"
      ]
     },
     "execution_count": 51,
     "metadata": {},
     "output_type": "execute_result"
    }
   ],
   "source": [
    "data = data.T\n",
    "data.shape\n"
   ]
  },
  {
   "cell_type": "code",
   "execution_count": 52,
   "metadata": {},
   "outputs": [
    {
     "data": {
      "text/plain": [
       "array([0.47104776, 0.69397545, 0.44757318, 0.59490067, 0.47126651,\n",
       "       0.62478018, 0.44774017, 0.49775058, 0.44701153, 0.5655691 ,\n",
       "       0.45588827, 0.52794784, 0.49332994, 0.38069078, 0.49380013,\n",
       "       0.34620649, 0.51330113, 0.19451004, 0.47233513, 0.7079978 ,\n",
       "       0.47592664, 0.71735626, 0.48073196, 0.72049487, 0.4586345 ,\n",
       "       0.82136345, 0.45574662, 0.83627164, 0.45417613, 0.85198748,\n",
       "       0.45546794, 0.86809766, 0.45378238, 0.61005664, 0.44208419,\n",
       "       0.6042639 , 0.30462959, 0.29833674, 0.38228297, 0.36724341,\n",
       "       0.40735731, 0.37171522, 0.36075988, 0.36807007, 0.3481105 ,\n",
       "       0.37444758, 0.33036125, 0.43090701, 0.38815045, 0.86833256,\n",
       "       0.29497889, 0.4145501 , 0.31248322, 0.41278809, 0.43954149,\n",
       "       0.68479699, 0.45107597, 0.71370965, 0.42892733, 0.5908128 ,\n",
       "       0.42639196, 0.56334019, 0.31525707, 0.35430843, 0.43582457,\n",
       "       0.52804941, 0.35756844, 0.33715498, 0.33015552, 0.34019816,\n",
       "       0.31622487, 0.25306082, 0.45097733, 0.37237161, 0.32300833,\n",
       "       0.68675339, 0.41626275, 0.59119254, 0.4342882 , 0.60489589,\n",
       "       0.32113221, 0.32191926, 0.39782035, 0.34732375, 0.39221382,\n",
       "       0.32406086, 0.38629091, 0.1983206 , 0.3184824 , 0.28611565,\n",
       "       0.3897903 , 0.25686604, 0.30724669, 0.34197444, 0.30476809,\n",
       "       0.3213709 , 0.44362777, 0.70182878, 0.41823351, 0.58434135,\n",
       "       0.41887522, 0.85402346, 0.42084837, 0.8395232 , 0.42630392,\n",
       "       0.82427669, 0.43307918, 0.81275213, 0.31582198, 0.5399034 ,\n",
       "       0.46198216, 0.61619604, 0.44189852, 0.62013429, 0.43781632,\n",
       "       0.61288828, 0.34146056, 0.21838242, 0.3457185 , 0.26318935,\n",
       "       0.35085577, 0.31445765, 0.44178784, 0.33730549, 0.44020599,\n",
       "       0.25882366, 0.44056964, 0.19129604, 0.30907851, 0.44921044,\n",
       "       0.32858899, 0.38190535, 0.40544152, 0.56515437, 0.29077426,\n",
       "       0.46674204, 0.31719375, 0.46982038, 0.28612253, 0.52589852,\n",
       "       0.31344175, 0.37989596, 0.44209838, 0.60712439, 0.30953586,\n",
       "       0.41321659, 0.41117424, 0.54666442, 0.31444481, 0.60855556,\n",
       "       0.42224112, 0.53479886, 0.33145878, 0.7684561 , 0.34145144,\n",
       "       0.80221587, 0.28516749, 0.53322303, 0.31621218, 0.72256434,\n",
       "       0.29994524, 0.36311585, 0.38338414, 0.89678121, 0.45270619,\n",
       "       0.61406934, 0.30050486, 0.41681972, 0.28939879, 0.58521998,\n",
       "       0.4198454 , 0.95448005, 0.36932051, 0.88645363, 0.35541913,\n",
       "       0.84900969, 0.50258446, 0.2651622 , 0.47395751, 0.97516149,\n",
       "       0.30418152, 0.37382174, 0.30295262, 0.34810641, 0.47285411,\n",
       "       0.64735061, 0.41277882, 0.58661777, 0.43893802, 0.645473  ,\n",
       "       0.34732756, 0.81430548, 0.36529982, 0.85411441, 0.41555214,\n",
       "       0.9329651 , 0.33297816, 0.7530514 , 0.46779075, 0.95359904,\n",
       "       0.38815242, 0.92338896, 0.28881526, 0.59813291, 0.39752367,\n",
       "       0.82819366, 0.31484732, 0.68001455, 0.46606326, 0.49580052,\n",
       "       0.46598607, 0.92401803, 0.46584997, 0.89624149, 0.42568338,\n",
       "       0.88065094, 0.4185558 , 0.90591109, 0.36921448, 0.82553494,\n",
       "       0.29770491, 0.63789821, 0.29956883, 0.66134787, 0.41010481,\n",
       "       0.57848424, 0.40351903, 0.58321273, 0.41358107, 0.56255287,\n",
       "       0.44281152, 0.38052863, 0.40463296, 0.36338419, 0.37196812,\n",
       "       0.35663247, 0.34679905, 0.35758471, 0.33266294, 0.36553717,\n",
       "       0.32910758, 0.40524083, 0.28789195, 0.47272205, 0.31633955,\n",
       "       0.47665465, 0.43439788, 0.50813699, 0.41798818, 0.58339125,\n",
       "       0.43573868, 0.59998953, 0.42300382, 0.58766395, 0.43693802,\n",
       "       0.60403281, 0.44610703, 0.61017376, 0.4893989 , 0.5027597 ,\n",
       "       0.48907048, 0.61114311, 0.88004148, 0.3528387 , 0.7253384 ,\n",
       "       0.4577629 , 0.7508086 , 0.48144692, 0.58584654, 0.90512621,\n",
       "       0.72436231, 0.44093832, 0.88172203, 0.48246944, 0.79466289,\n",
       "       0.47002783, 0.51066458, 0.69529617, 0.50940245, 0.72232348,\n",
       "       0.47111082, 0.59687138, 0.47425234, 0.56946588, 0.76404941,\n",
       "       0.40276623, 0.48050284, 0.53336883, 0.67767012, 0.36769539,\n",
       "       0.72585404, 0.38067693, 0.83386111, 0.29796502, 0.54659456,\n",
       "       0.38016486, 0.85277486, 0.76728195, 0.51539528, 0.61504012,\n",
       "       0.74808884, 0.36467731, 0.61694223, 0.3662779 , 0.6234467 ,\n",
       "       0.34380865, 0.68298513, 0.22048175, 0.78825808, 0.32981378,\n",
       "       0.64873409, 0.27803573, 0.79039097, 0.39254814, 0.83363551,\n",
       "       0.37445223, 0.50994295, 0.71216601, 0.5134365 , 0.59854078,\n",
       "       0.50231588, 0.86821687, 0.49785888, 0.85270685, 0.49476394,\n",
       "       0.83547378, 0.4935953 , 0.82250094, 0.90433812, 0.61630899,\n",
       "       0.50652516, 0.62811315, 0.51051909, 0.62198693, 0.76944852,\n",
       "       0.25258815, 0.72861576, 0.29639146, 0.690777  , 0.34586853,\n",
       "       0.55562341, 0.34536833, 0.57737428, 0.27010685, 0.60090333,\n",
       "       0.20266303, 0.78577352, 0.5068019 , 0.7533704 , 0.4316228 ,\n",
       "       0.53267264, 0.5821718 , 0.82686913, 0.53241265, 0.75485337,\n",
       "       0.52240282, 0.81396294, 0.59316987, 0.78293991, 0.43348309,\n",
       "       0.46805257, 0.61118203, 0.91890597, 0.48110485, 0.73761243,\n",
       "       0.44360083, 0.88918   , 0.68934381, 0.50959581, 0.54552841,\n",
       "       0.73984772, 0.83669072, 0.75332367, 0.87504476, 0.874336  ,\n",
       "       0.61020237, 0.78629714, 0.79646164, 0.86097389, 0.42279994,\n",
       "       0.5940426 , 0.93777919, 0.4725858 , 0.61632574, 0.82949346,\n",
       "       0.47963649, 0.80754679, 0.65470505, 0.53907484, 0.97902185,\n",
       "       0.64864594, 0.94151044, 0.69758797, 0.91410029, 0.81458753,\n",
       "       0.43069309, 0.90708476, 0.40984315, 0.53570604, 0.60369718,\n",
       "       0.51303631, 0.65563482, 0.69310117, 0.87623781, 0.64658678,\n",
       "       0.90717685, 0.532749  , 0.95654666, 0.80336159, 0.83023608,\n",
       "       0.59616566, 0.96522141, 0.86116612, 0.67783535, 0.54332948,\n",
       "       0.85127354, 0.74848694, 0.66402406, 0.76028216, 0.74499226,\n",
       "       0.57427776, 0.87844396, 0.51931345, 0.89821434, 0.61883557,\n",
       "       0.848171  , 0.52666575, 0.92644656, 0.67861688, 0.83802426,\n",
       "       0.63501889, 0.87299854, 0.79905236, 0.70904893, 0.83393025,\n",
       "       0.74037457, 0.52148587, 0.59489584, 0.54797256, 0.60257691,\n",
       "       0.50381213, 0.57494891, 0.73497057, 0.40968755, 0.76167917,\n",
       "       0.45726165, 0.88170421, 0.5458163 , 0.72859132, 0.49052361,\n",
       "       0.91325504, 0.54838109, 0.49477625, 0.59498352, 0.48546803,\n",
       "       0.60762316, 0.49907336, 0.599801  , 0.47776675, 0.61024511,\n",
       "       0.48220491, 0.61520779, 0.73379278, 0.4284932 ])"
      ]
     },
     "execution_count": 52,
     "metadata": {},
     "output_type": "execute_result"
    }
   ],
   "source": [
    "data[0,:]"
   ]
  },
  {
   "cell_type": "code",
   "execution_count": 53,
   "metadata": {},
   "outputs": [],
   "source": [
    "X_train, X, y_train, Y = train_test_split(data, labels, test_size=0.3)"
   ]
  },
  {
   "cell_type": "code",
   "execution_count": 54,
   "metadata": {},
   "outputs": [
    {
     "data": {
      "text/plain": [
       "((4315, 464), (4315,), (1850, 464), (1850,))"
      ]
     },
     "execution_count": 54,
     "metadata": {},
     "output_type": "execute_result"
    }
   ],
   "source": [
    "X_train.shape, y_train.shape, X.shape, Y.shape"
   ]
  },
  {
   "cell_type": "markdown",
   "metadata": {},
   "source": [
    "#### Now we have our train dataset but we need a dev and test dataset"
   ]
  },
  {
   "cell_type": "code",
   "execution_count": 55,
   "metadata": {},
   "outputs": [],
   "source": [
    "X_dev, X_test, y_dev, y_test = train_test_split(X, Y, test_size=0.5, )"
   ]
  },
  {
   "cell_type": "code",
   "execution_count": 56,
   "metadata": {},
   "outputs": [
    {
     "name": "stdout",
     "output_type": "stream",
     "text": [
      "Traininig set: 4315 samples\n",
      "Dev set: 925 samples\n",
      "Test set: 925 samples\n"
     ]
    }
   ],
   "source": [
    "m = X_train.shape[0] # number of samples\n",
    "print(f'Traininig set: {X_train.shape[0]} samples')\n",
    "print(f'Dev set: {X_dev.shape[0]} samples')\n",
    "print(f'Test set: {X_test.shape[0]} samples')"
   ]
  },
  {
   "cell_type": "markdown",
   "metadata": {},
   "source": [
    "##### We have 60% for training and 20% for dev,test data\n",
    "##### Now we need to normalize the data, let's to use the z-score method"
   ]
  },
  {
   "cell_type": "code",
   "execution_count": 57,
   "metadata": {},
   "outputs": [],
   "source": [
    "from sklearn.preprocessing import StandardScaler\n",
    "scaler = StandardScaler()\n",
    "X_train = scaler.fit_transform(X_train) #* Normalize X_train using the mean and standard deviation of the training set\n",
    "X_dev = scaler.transform(X_dev)  #* Normalize X_test using the mean and standard deviation of the training set\n",
    "X_test = scaler.transform(X_test)  #* Normalize X_test using the mean and standard deviation of the training set"
   ]
  },
  {
   "cell_type": "markdown",
   "metadata": {},
   "source": [
    "### ONE HOT to create our matrix with labels"
   ]
  },
  {
   "cell_type": "code",
   "execution_count": 58,
   "metadata": {},
   "outputs": [
    {
     "data": {
      "text/plain": [
       "((4315, 5), (925, 5), (925, 5))"
      ]
     },
     "execution_count": 58,
     "metadata": {},
     "output_type": "execute_result"
    }
   ],
   "source": [
    "from sklearn.preprocessing import OneHotEncoder\n",
    "encoder = OneHotEncoder(sparse_output=False)\n",
    "y_train_onehot = encoder.fit_transform(y_train.reshape(-1, 1))\n",
    "y_dev_onehot = encoder.transform(y_dev.reshape(-1, 1))\n",
    "y_test_onehot = encoder.transform(y_test.reshape(-1, 1))\n",
    "y_train_onehot.shape, y_dev_onehot.shape, y_test_onehot.shape"
   ]
  },
  {
   "cell_type": "code",
   "execution_count": 59,
   "metadata": {},
   "outputs": [
    {
     "name": "stdout",
     "output_type": "stream",
     "text": [
      "3    191\n",
      "0    189\n",
      "2    183\n",
      "1    182\n",
      "4    180\n",
      "Name: count, dtype: int64\n"
     ]
    }
   ],
   "source": [
    "# Convertir el array a una serie de pandas\n",
    "import pandas as pd\n",
    "y_dev_series = pd.Series(y_dev)\n",
    "\n",
    "# Contar la frecuencia de cada elemento\n",
    "element_counts = y_dev_series.value_counts()\n",
    "print(element_counts)"
   ]
  },
  {
   "cell_type": "code",
   "execution_count": 60,
   "metadata": {},
   "outputs": [
    {
     "data": {
      "text/plain": [
       "2112"
      ]
     },
     "execution_count": 60,
     "metadata": {},
     "output_type": "execute_result"
    }
   ],
   "source": [
    "1056*2"
   ]
  },
  {
   "cell_type": "markdown",
   "metadata": {},
   "source": [
    "#### Let's to build our first NEURAL NETWORK"
   ]
  },
  {
   "cell_type": "code",
   "execution_count": 61,
   "metadata": {},
   "outputs": [
    {
     "name": "stdout",
     "output_type": "stream",
     "text": [
      "Epoch 1/300\n",
      "\u001b[1m34/34\u001b[0m \u001b[32m━━━━━━━━━━━━━━━━━━━━\u001b[0m\u001b[37m\u001b[0m \u001b[1m4s\u001b[0m 53ms/step - categorical_accuracy: 0.4312 - loss: 20.5906 - val_categorical_accuracy: 0.5935 - val_loss: 8.4444\n",
      "Epoch 2/300\n",
      "\u001b[1m34/34\u001b[0m \u001b[32m━━━━━━━━━━━━━━━━━━━━\u001b[0m\u001b[37m\u001b[0m \u001b[1m2s\u001b[0m 44ms/step - categorical_accuracy: 0.5869 - loss: 6.5871 - val_categorical_accuracy: 0.6259 - val_loss: 3.0631\n",
      "Epoch 3/300\n",
      "\u001b[1m34/34\u001b[0m \u001b[32m━━━━━━━━━━━━━━━━━━━━\u001b[0m\u001b[37m\u001b[0m \u001b[1m2s\u001b[0m 45ms/step - categorical_accuracy: 0.6161 - loss: 2.6215 - val_categorical_accuracy: 0.6119 - val_loss: 1.6903\n",
      "Epoch 4/300\n",
      "\u001b[1m34/34\u001b[0m \u001b[32m━━━━━━━━━━━━━━━━━━━━\u001b[0m\u001b[37m\u001b[0m \u001b[1m1s\u001b[0m 42ms/step - categorical_accuracy: 0.6330 - loss: 1.5543 - val_categorical_accuracy: 0.6292 - val_loss: 1.2630\n",
      "Epoch 5/300\n",
      "\u001b[1m34/34\u001b[0m \u001b[32m━━━━━━━━━━━━━━━━━━━━\u001b[0m\u001b[37m\u001b[0m \u001b[1m1s\u001b[0m 43ms/step - categorical_accuracy: 0.6226 - loss: 1.2504 - val_categorical_accuracy: 0.6151 - val_loss: 1.1548\n",
      "Epoch 6/300\n",
      "\u001b[1m34/34\u001b[0m \u001b[32m━━━━━━━━━━━━━━━━━━━━\u001b[0m\u001b[37m\u001b[0m \u001b[1m2s\u001b[0m 45ms/step - categorical_accuracy: 0.6393 - loss: 1.1095 - val_categorical_accuracy: 0.6508 - val_loss: 1.0471\n",
      "Epoch 7/300\n",
      "\u001b[1m34/34\u001b[0m \u001b[32m━━━━━━━━━━━━━━━━━━━━\u001b[0m\u001b[37m\u001b[0m \u001b[1m2s\u001b[0m 48ms/step - categorical_accuracy: 0.6535 - loss: 1.0097 - val_categorical_accuracy: 0.6443 - val_loss: 1.0392\n",
      "Epoch 8/300\n",
      "\u001b[1m34/34\u001b[0m \u001b[32m━━━━━━━━━━━━━━━━━━━━\u001b[0m\u001b[37m\u001b[0m \u001b[1m2s\u001b[0m 49ms/step - categorical_accuracy: 0.6484 - loss: 0.9963 - val_categorical_accuracy: 0.6000 - val_loss: 1.0306\n",
      "Epoch 9/300\n",
      "\u001b[1m34/34\u001b[0m \u001b[32m━━━━━━━━━━━━━━━━━━━━\u001b[0m\u001b[37m\u001b[0m \u001b[1m2s\u001b[0m 46ms/step - categorical_accuracy: 0.6324 - loss: 1.0168 - val_categorical_accuracy: 0.6227 - val_loss: 1.0108\n",
      "Epoch 10/300\n",
      "\u001b[1m34/34\u001b[0m \u001b[32m━━━━━━━━━━━━━━━━━━━━\u001b[0m\u001b[37m\u001b[0m \u001b[1m2s\u001b[0m 44ms/step - categorical_accuracy: 0.6600 - loss: 0.9371 - val_categorical_accuracy: 0.6649 - val_loss: 0.9196\n",
      "Epoch 11/300\n",
      "\u001b[1m34/34\u001b[0m \u001b[32m━━━━━━━━━━━━━━━━━━━━\u001b[0m\u001b[37m\u001b[0m \u001b[1m1s\u001b[0m 43ms/step - categorical_accuracy: 0.6793 - loss: 0.9017 - val_categorical_accuracy: 0.6746 - val_loss: 0.9064\n",
      "Epoch 12/300\n",
      "\u001b[1m34/34\u001b[0m \u001b[32m━━━━━━━━━━━━━━━━━━━━\u001b[0m\u001b[37m\u001b[0m \u001b[1m2s\u001b[0m 55ms/step - categorical_accuracy: 0.6703 - loss: 0.9134 - val_categorical_accuracy: 0.6173 - val_loss: 0.9422\n",
      "Epoch 13/300\n",
      "\u001b[1m34/34\u001b[0m \u001b[32m━━━━━━━━━━━━━━━━━━━━\u001b[0m\u001b[37m\u001b[0m \u001b[1m2s\u001b[0m 49ms/step - categorical_accuracy: 0.6747 - loss: 0.8900 - val_categorical_accuracy: 0.6259 - val_loss: 0.8806\n",
      "Epoch 14/300\n",
      "\u001b[1m34/34\u001b[0m \u001b[32m━━━━━━━━━━━━━━━━━━━━\u001b[0m\u001b[37m\u001b[0m \u001b[1m2s\u001b[0m 44ms/step - categorical_accuracy: 0.6643 - loss: 0.8831 - val_categorical_accuracy: 0.6411 - val_loss: 0.9269\n",
      "Epoch 15/300\n",
      "\u001b[1m34/34\u001b[0m \u001b[32m━━━━━━━━━━━━━━━━━━━━\u001b[0m\u001b[37m\u001b[0m \u001b[1m2s\u001b[0m 48ms/step - categorical_accuracy: 0.6529 - loss: 0.9032 - val_categorical_accuracy: 0.6130 - val_loss: 0.9381\n",
      "Epoch 16/300\n",
      "\u001b[1m34/34\u001b[0m \u001b[32m━━━━━━━━━━━━━━━━━━━━\u001b[0m\u001b[37m\u001b[0m \u001b[1m2s\u001b[0m 46ms/step - categorical_accuracy: 0.6426 - loss: 0.9190 - val_categorical_accuracy: 0.6400 - val_loss: 0.9086\n",
      "Epoch 17/300\n",
      "\u001b[1m34/34\u001b[0m \u001b[32m━━━━━━━━━━━━━━━━━━━━\u001b[0m\u001b[37m\u001b[0m \u001b[1m2s\u001b[0m 43ms/step - categorical_accuracy: 0.6709 - loss: 0.8556 - val_categorical_accuracy: 0.6703 - val_loss: 0.8676\n",
      "Epoch 18/300\n",
      "\u001b[1m34/34\u001b[0m \u001b[32m━━━━━━━━━━━━━━━━━━━━\u001b[0m\u001b[37m\u001b[0m \u001b[1m2s\u001b[0m 43ms/step - categorical_accuracy: 0.6930 - loss: 0.8408 - val_categorical_accuracy: 0.6584 - val_loss: 0.8845\n",
      "Epoch 19/300\n",
      "\u001b[1m34/34\u001b[0m \u001b[32m━━━━━━━━━━━━━━━━━━━━\u001b[0m\u001b[37m\u001b[0m \u001b[1m2s\u001b[0m 47ms/step - categorical_accuracy: 0.6798 - loss: 0.8505 - val_categorical_accuracy: 0.6659 - val_loss: 0.8777\n",
      "Epoch 20/300\n",
      "\u001b[1m34/34\u001b[0m \u001b[32m━━━━━━━━━━━━━━━━━━━━\u001b[0m\u001b[37m\u001b[0m \u001b[1m2s\u001b[0m 46ms/step - categorical_accuracy: 0.6685 - loss: 0.8554 - val_categorical_accuracy: 0.6465 - val_loss: 0.8919\n",
      "Epoch 21/300\n",
      "\u001b[1m34/34\u001b[0m \u001b[32m━━━━━━━━━━━━━━━━━━━━\u001b[0m\u001b[37m\u001b[0m \u001b[1m2s\u001b[0m 44ms/step - categorical_accuracy: 0.6876 - loss: 0.8425 - val_categorical_accuracy: 0.6659 - val_loss: 0.8801\n",
      "Epoch 22/300\n",
      "\u001b[1m34/34\u001b[0m \u001b[32m━━━━━━━━━━━━━━━━━━━━\u001b[0m\u001b[37m\u001b[0m \u001b[1m2s\u001b[0m 46ms/step - categorical_accuracy: 0.6675 - loss: 0.8701 - val_categorical_accuracy: 0.6346 - val_loss: 0.9057\n",
      "Epoch 23/300\n",
      "\u001b[1m34/34\u001b[0m \u001b[32m━━━━━━━━━━━━━━━━━━━━\u001b[0m\u001b[37m\u001b[0m \u001b[1m2s\u001b[0m 49ms/step - categorical_accuracy: 0.6866 - loss: 0.8273 - val_categorical_accuracy: 0.6735 - val_loss: 0.8410\n",
      "Epoch 24/300\n",
      "\u001b[1m34/34\u001b[0m \u001b[32m━━━━━━━━━━━━━━━━━━━━\u001b[0m\u001b[37m\u001b[0m \u001b[1m2s\u001b[0m 57ms/step - categorical_accuracy: 0.6762 - loss: 0.8337 - val_categorical_accuracy: 0.6627 - val_loss: 0.8518\n",
      "Epoch 25/300\n",
      "\u001b[1m34/34\u001b[0m \u001b[32m━━━━━━━━━━━━━━━━━━━━\u001b[0m\u001b[37m\u001b[0m \u001b[1m2s\u001b[0m 51ms/step - categorical_accuracy: 0.6993 - loss: 0.8218 - val_categorical_accuracy: 0.6519 - val_loss: 0.8610\n",
      "Epoch 26/300\n",
      "\u001b[1m34/34\u001b[0m \u001b[32m━━━━━━━━━━━━━━━━━━━━\u001b[0m\u001b[37m\u001b[0m \u001b[1m2s\u001b[0m 45ms/step - categorical_accuracy: 0.6879 - loss: 0.8118 - val_categorical_accuracy: 0.6692 - val_loss: 0.8593\n",
      "Epoch 27/300\n",
      "\u001b[1m34/34\u001b[0m \u001b[32m━━━━━━━━━━━━━━━━━━━━\u001b[0m\u001b[37m\u001b[0m \u001b[1m1s\u001b[0m 43ms/step - categorical_accuracy: 0.6826 - loss: 0.8262 - val_categorical_accuracy: 0.6681 - val_loss: 0.8466\n",
      "Epoch 28/300\n",
      "\u001b[1m34/34\u001b[0m \u001b[32m━━━━━━━━━━━━━━━━━━━━\u001b[0m\u001b[37m\u001b[0m \u001b[1m2s\u001b[0m 45ms/step - categorical_accuracy: 0.7037 - loss: 0.8065 - val_categorical_accuracy: 0.6573 - val_loss: 0.8567\n",
      "Epoch 29/300\n",
      "\u001b[1m34/34\u001b[0m \u001b[32m━━━━━━━━━━━━━━━━━━━━\u001b[0m\u001b[37m\u001b[0m \u001b[1m2s\u001b[0m 44ms/step - categorical_accuracy: 0.6798 - loss: 0.8141 - val_categorical_accuracy: 0.6670 - val_loss: 0.8443\n",
      "Epoch 30/300\n",
      "\u001b[1m34/34\u001b[0m \u001b[32m━━━━━━━━━━━━━━━━━━━━\u001b[0m\u001b[37m\u001b[0m \u001b[1m2s\u001b[0m 45ms/step - categorical_accuracy: 0.6963 - loss: 0.8180 - val_categorical_accuracy: 0.6465 - val_loss: 0.8867\n",
      "Epoch 31/300\n",
      "\u001b[1m34/34\u001b[0m \u001b[32m━━━━━━━━━━━━━━━━━━━━\u001b[0m\u001b[37m\u001b[0m \u001b[1m2s\u001b[0m 44ms/step - categorical_accuracy: 0.6891 - loss: 0.8089 - val_categorical_accuracy: 0.6670 - val_loss: 0.8353\n",
      "Epoch 32/300\n",
      "\u001b[1m34/34\u001b[0m \u001b[32m━━━━━━━━━━━━━━━━━━━━\u001b[0m\u001b[37m\u001b[0m \u001b[1m2s\u001b[0m 45ms/step - categorical_accuracy: 0.7104 - loss: 0.7904 - val_categorical_accuracy: 0.6832 - val_loss: 0.8157\n",
      "Epoch 33/300\n",
      "\u001b[1m34/34\u001b[0m \u001b[32m━━━━━━━━━━━━━━━━━━━━\u001b[0m\u001b[37m\u001b[0m \u001b[1m1s\u001b[0m 42ms/step - categorical_accuracy: 0.6888 - loss: 0.8232 - val_categorical_accuracy: 0.6432 - val_loss: 0.8575\n",
      "Epoch 34/300\n",
      "\u001b[1m34/34\u001b[0m \u001b[32m━━━━━━━━━━━━━━━━━━━━\u001b[0m\u001b[37m\u001b[0m \u001b[1m1s\u001b[0m 42ms/step - categorical_accuracy: 0.6820 - loss: 0.8233 - val_categorical_accuracy: 0.6670 - val_loss: 0.8578\n",
      "Epoch 35/300\n",
      "\u001b[1m34/34\u001b[0m \u001b[32m━━━━━━━━━━━━━━━━━━━━\u001b[0m\u001b[37m\u001b[0m \u001b[1m2s\u001b[0m 43ms/step - categorical_accuracy: 0.6802 - loss: 0.8135 - val_categorical_accuracy: 0.6541 - val_loss: 0.8313\n",
      "Epoch 36/300\n",
      "\u001b[1m34/34\u001b[0m \u001b[32m━━━━━━━━━━━━━━━━━━━━\u001b[0m\u001b[37m\u001b[0m \u001b[1m1s\u001b[0m 42ms/step - categorical_accuracy: 0.7014 - loss: 0.7897 - val_categorical_accuracy: 0.6692 - val_loss: 0.8503\n",
      "Epoch 37/300\n",
      "\u001b[1m34/34\u001b[0m \u001b[32m━━━━━━━━━━━━━━━━━━━━\u001b[0m\u001b[37m\u001b[0m \u001b[1m1s\u001b[0m 43ms/step - categorical_accuracy: 0.6866 - loss: 0.8024 - val_categorical_accuracy: 0.6854 - val_loss: 0.8089\n",
      "Epoch 38/300\n",
      "\u001b[1m34/34\u001b[0m \u001b[32m━━━━━━━━━━━━━━━━━━━━\u001b[0m\u001b[37m\u001b[0m \u001b[1m1s\u001b[0m 42ms/step - categorical_accuracy: 0.6998 - loss: 0.8036 - val_categorical_accuracy: 0.6616 - val_loss: 0.8131\n",
      "Epoch 39/300\n",
      "\u001b[1m34/34\u001b[0m \u001b[32m━━━━━━━━━━━━━━━━━━━━\u001b[0m\u001b[37m\u001b[0m \u001b[1m1s\u001b[0m 42ms/step - categorical_accuracy: 0.6929 - loss: 0.7888 - val_categorical_accuracy: 0.6714 - val_loss: 0.8087\n",
      "Epoch 40/300\n",
      "\u001b[1m34/34\u001b[0m \u001b[32m━━━━━━━━━━━━━━━━━━━━\u001b[0m\u001b[37m\u001b[0m \u001b[1m1s\u001b[0m 41ms/step - categorical_accuracy: 0.6970 - loss: 0.7934 - val_categorical_accuracy: 0.6681 - val_loss: 0.8318\n",
      "Epoch 41/300\n",
      "\u001b[1m34/34\u001b[0m \u001b[32m━━━━━━━━━━━━━━━━━━━━\u001b[0m\u001b[37m\u001b[0m \u001b[1m2s\u001b[0m 44ms/step - categorical_accuracy: 0.6910 - loss: 0.8020 - val_categorical_accuracy: 0.6627 - val_loss: 0.7994\n",
      "Epoch 42/300\n",
      "\u001b[1m34/34\u001b[0m \u001b[32m━━━━━━━━━━━━━━━━━━━━\u001b[0m\u001b[37m\u001b[0m \u001b[1m2s\u001b[0m 44ms/step - categorical_accuracy: 0.6930 - loss: 0.7761 - val_categorical_accuracy: 0.6627 - val_loss: 0.8336\n",
      "Epoch 43/300\n",
      "\u001b[1m34/34\u001b[0m \u001b[32m━━━━━━━━━━━━━━━━━━━━\u001b[0m\u001b[37m\u001b[0m \u001b[1m2s\u001b[0m 48ms/step - categorical_accuracy: 0.7019 - loss: 0.7794 - val_categorical_accuracy: 0.6584 - val_loss: 0.8293\n",
      "Epoch 44/300\n",
      "\u001b[1m34/34\u001b[0m \u001b[32m━━━━━━━━━━━━━━━━━━━━\u001b[0m\u001b[37m\u001b[0m \u001b[1m2s\u001b[0m 50ms/step - categorical_accuracy: 0.6752 - loss: 0.8078 - val_categorical_accuracy: 0.6757 - val_loss: 0.7926\n",
      "Epoch 45/300\n",
      "\u001b[1m34/34\u001b[0m \u001b[32m━━━━━━━━━━━━━━━━━━━━\u001b[0m\u001b[37m\u001b[0m \u001b[1m2s\u001b[0m 47ms/step - categorical_accuracy: 0.7132 - loss: 0.7512 - val_categorical_accuracy: 0.6865 - val_loss: 0.8004\n",
      "Epoch 46/300\n",
      "\u001b[1m34/34\u001b[0m \u001b[32m━━━━━━━━━━━━━━━━━━━━\u001b[0m\u001b[37m\u001b[0m \u001b[1m2s\u001b[0m 48ms/step - categorical_accuracy: 0.6931 - loss: 0.7709 - val_categorical_accuracy: 0.6616 - val_loss: 0.8067\n",
      "Epoch 47/300\n",
      "\u001b[1m34/34\u001b[0m \u001b[32m━━━━━━━━━━━━━━━━━━━━\u001b[0m\u001b[37m\u001b[0m \u001b[1m2s\u001b[0m 45ms/step - categorical_accuracy: 0.7107 - loss: 0.7507 - val_categorical_accuracy: 0.6476 - val_loss: 0.8473\n",
      "Epoch 48/300\n",
      "\u001b[1m34/34\u001b[0m \u001b[32m━━━━━━━━━━━━━━━━━━━━\u001b[0m\u001b[37m\u001b[0m \u001b[1m2s\u001b[0m 45ms/step - categorical_accuracy: 0.6838 - loss: 0.8077 - val_categorical_accuracy: 0.6595 - val_loss: 0.8249\n",
      "Epoch 49/300\n",
      "\u001b[1m34/34\u001b[0m \u001b[32m━━━━━━━━━━━━━━━━━━━━\u001b[0m\u001b[37m\u001b[0m \u001b[1m2s\u001b[0m 46ms/step - categorical_accuracy: 0.6914 - loss: 0.7791 - val_categorical_accuracy: 0.6714 - val_loss: 0.8218\n",
      "Epoch 50/300\n",
      "\u001b[1m34/34\u001b[0m \u001b[32m━━━━━━━━━━━━━━━━━━━━\u001b[0m\u001b[37m\u001b[0m \u001b[1m2s\u001b[0m 49ms/step - categorical_accuracy: 0.6949 - loss: 0.7867 - val_categorical_accuracy: 0.6800 - val_loss: 0.8112\n",
      "Epoch 51/300\n",
      "\u001b[1m34/34\u001b[0m \u001b[32m━━━━━━━━━━━━━━━━━━━━\u001b[0m\u001b[37m\u001b[0m \u001b[1m2s\u001b[0m 53ms/step - categorical_accuracy: 0.6866 - loss: 0.7811 - val_categorical_accuracy: 0.6919 - val_loss: 0.7775\n",
      "Epoch 52/300\n",
      "\u001b[1m34/34\u001b[0m \u001b[32m━━━━━━━━━━━━━━━━━━━━\u001b[0m\u001b[37m\u001b[0m \u001b[1m2s\u001b[0m 49ms/step - categorical_accuracy: 0.6987 - loss: 0.7576 - val_categorical_accuracy: 0.6897 - val_loss: 0.7780\n",
      "Epoch 53/300\n",
      "\u001b[1m34/34\u001b[0m \u001b[32m━━━━━━━━━━━━━━━━━━━━\u001b[0m\u001b[37m\u001b[0m \u001b[1m2s\u001b[0m 43ms/step - categorical_accuracy: 0.7070 - loss: 0.7479 - val_categorical_accuracy: 0.6627 - val_loss: 0.8340\n",
      "Epoch 54/300\n",
      "\u001b[1m34/34\u001b[0m \u001b[32m━━━━━━━━━━━━━━━━━━━━\u001b[0m\u001b[37m\u001b[0m \u001b[1m2s\u001b[0m 45ms/step - categorical_accuracy: 0.7015 - loss: 0.7744 - val_categorical_accuracy: 0.6919 - val_loss: 0.7995\n",
      "Epoch 55/300\n",
      "\u001b[1m34/34\u001b[0m \u001b[32m━━━━━━━━━━━━━━━━━━━━\u001b[0m\u001b[37m\u001b[0m \u001b[1m2s\u001b[0m 48ms/step - categorical_accuracy: 0.6938 - loss: 0.7790 - val_categorical_accuracy: 0.6627 - val_loss: 0.8040\n",
      "Epoch 56/300\n",
      "\u001b[1m34/34\u001b[0m \u001b[32m━━━━━━━━━━━━━━━━━━━━\u001b[0m\u001b[37m\u001b[0m \u001b[1m2s\u001b[0m 44ms/step - categorical_accuracy: 0.7155 - loss: 0.7522 - val_categorical_accuracy: 0.6735 - val_loss: 0.8149\n",
      "Epoch 57/300\n",
      "\u001b[1m34/34\u001b[0m \u001b[32m━━━━━━━━━━━━━━━━━━━━\u001b[0m\u001b[37m\u001b[0m \u001b[1m2s\u001b[0m 46ms/step - categorical_accuracy: 0.6989 - loss: 0.7714 - val_categorical_accuracy: 0.6670 - val_loss: 0.8265\n",
      "Epoch 58/300\n",
      "\u001b[1m34/34\u001b[0m \u001b[32m━━━━━━━━━━━━━━━━━━━━\u001b[0m\u001b[37m\u001b[0m \u001b[1m1s\u001b[0m 43ms/step - categorical_accuracy: 0.6921 - loss: 0.7593 - val_categorical_accuracy: 0.6908 - val_loss: 0.7895\n",
      "Epoch 59/300\n",
      "\u001b[1m34/34\u001b[0m \u001b[32m━━━━━━━━━━━━━━━━━━━━\u001b[0m\u001b[37m\u001b[0m \u001b[1m2s\u001b[0m 50ms/step - categorical_accuracy: 0.7005 - loss: 0.7537 - val_categorical_accuracy: 0.6692 - val_loss: 0.7860\n",
      "Epoch 60/300\n",
      "\u001b[1m34/34\u001b[0m \u001b[32m━━━━━━━━━━━━━━━━━━━━\u001b[0m\u001b[37m\u001b[0m \u001b[1m2s\u001b[0m 48ms/step - categorical_accuracy: 0.7078 - loss: 0.7573 - val_categorical_accuracy: 0.6789 - val_loss: 0.8181\n",
      "Epoch 61/300\n",
      "\u001b[1m34/34\u001b[0m \u001b[32m━━━━━━━━━━━━━━━━━━━━\u001b[0m\u001b[37m\u001b[0m \u001b[1m2s\u001b[0m 46ms/step - categorical_accuracy: 0.7099 - loss: 0.7598 - val_categorical_accuracy: 0.6800 - val_loss: 0.7771\n",
      "Epoch 62/300\n",
      "\u001b[1m34/34\u001b[0m \u001b[32m━━━━━━━━━━━━━━━━━━━━\u001b[0m\u001b[37m\u001b[0m \u001b[1m1s\u001b[0m 42ms/step - categorical_accuracy: 0.6941 - loss: 0.7510 - val_categorical_accuracy: 0.6724 - val_loss: 0.7995\n",
      "Epoch 63/300\n",
      "\u001b[1m34/34\u001b[0m \u001b[32m━━━━━━━━━━━━━━━━━━━━\u001b[0m\u001b[37m\u001b[0m \u001b[1m1s\u001b[0m 41ms/step - categorical_accuracy: 0.7095 - loss: 0.7477 - val_categorical_accuracy: 0.6768 - val_loss: 0.8116\n",
      "Epoch 64/300\n",
      "\u001b[1m34/34\u001b[0m \u001b[32m━━━━━━━━━━━━━━━━━━━━\u001b[0m\u001b[37m\u001b[0m \u001b[1m1s\u001b[0m 41ms/step - categorical_accuracy: 0.7050 - loss: 0.7606 - val_categorical_accuracy: 0.6984 - val_loss: 0.7828\n",
      "Epoch 65/300\n",
      "\u001b[1m34/34\u001b[0m \u001b[32m━━━━━━━━━━━━━━━━━━━━\u001b[0m\u001b[37m\u001b[0m \u001b[1m1s\u001b[0m 42ms/step - categorical_accuracy: 0.7022 - loss: 0.7426 - val_categorical_accuracy: 0.6605 - val_loss: 0.8235\n",
      "Epoch 66/300\n",
      "\u001b[1m34/34\u001b[0m \u001b[32m━━━━━━━━━━━━━━━━━━━━\u001b[0m\u001b[37m\u001b[0m \u001b[1m1s\u001b[0m 41ms/step - categorical_accuracy: 0.7046 - loss: 0.7627 - val_categorical_accuracy: 0.6789 - val_loss: 0.8007\n",
      "Epoch 67/300\n",
      "\u001b[1m34/34\u001b[0m \u001b[32m━━━━━━━━━━━━━━━━━━━━\u001b[0m\u001b[37m\u001b[0m \u001b[1m1s\u001b[0m 42ms/step - categorical_accuracy: 0.7157 - loss: 0.7268 - val_categorical_accuracy: 0.6789 - val_loss: 0.7701\n",
      "Epoch 68/300\n",
      "\u001b[1m34/34\u001b[0m \u001b[32m━━━━━━━━━━━━━━━━━━━━\u001b[0m\u001b[37m\u001b[0m \u001b[1m2s\u001b[0m 44ms/step - categorical_accuracy: 0.7117 - loss: 0.7442 - val_categorical_accuracy: 0.6854 - val_loss: 0.7967\n",
      "Epoch 69/300\n",
      "\u001b[1m34/34\u001b[0m \u001b[32m━━━━━━━━━━━━━━━━━━━━\u001b[0m\u001b[37m\u001b[0m \u001b[1m1s\u001b[0m 42ms/step - categorical_accuracy: 0.6925 - loss: 0.7734 - val_categorical_accuracy: 0.6724 - val_loss: 0.7902\n",
      "Epoch 70/300\n",
      "\u001b[1m34/34\u001b[0m \u001b[32m━━━━━━━━━━━━━━━━━━━━\u001b[0m\u001b[37m\u001b[0m \u001b[1m2s\u001b[0m 43ms/step - categorical_accuracy: 0.7163 - loss: 0.7248 - val_categorical_accuracy: 0.6681 - val_loss: 0.8222\n",
      "Epoch 71/300\n",
      "\u001b[1m34/34\u001b[0m \u001b[32m━━━━━━━━━━━━━━━━━━━━\u001b[0m\u001b[37m\u001b[0m \u001b[1m1s\u001b[0m 42ms/step - categorical_accuracy: 0.6944 - loss: 0.7431 - val_categorical_accuracy: 0.6638 - val_loss: 0.8050\n",
      "Epoch 72/300\n",
      "\u001b[1m34/34\u001b[0m \u001b[32m━━━━━━━━━━━━━━━━━━━━\u001b[0m\u001b[37m\u001b[0m \u001b[1m2s\u001b[0m 43ms/step - categorical_accuracy: 0.6925 - loss: 0.7713 - val_categorical_accuracy: 0.6811 - val_loss: 0.7982\n",
      "Epoch 73/300\n",
      "\u001b[1m34/34\u001b[0m \u001b[32m━━━━━━━━━━━━━━━━━━━━\u001b[0m\u001b[37m\u001b[0m \u001b[1m2s\u001b[0m 46ms/step - categorical_accuracy: 0.7154 - loss: 0.7226 - val_categorical_accuracy: 0.6843 - val_loss: 0.7787\n",
      "Epoch 74/300\n",
      "\u001b[1m34/34\u001b[0m \u001b[32m━━━━━━━━━━━━━━━━━━━━\u001b[0m\u001b[37m\u001b[0m \u001b[1m2s\u001b[0m 45ms/step - categorical_accuracy: 0.7093 - loss: 0.7351 - val_categorical_accuracy: 0.6919 - val_loss: 0.7766\n",
      "Epoch 75/300\n",
      "\u001b[1m34/34\u001b[0m \u001b[32m━━━━━━━━━━━━━━━━━━━━\u001b[0m\u001b[37m\u001b[0m \u001b[1m2s\u001b[0m 44ms/step - categorical_accuracy: 0.7218 - loss: 0.7252 - val_categorical_accuracy: 0.6724 - val_loss: 0.7881\n",
      "Epoch 76/300\n",
      "\u001b[1m34/34\u001b[0m \u001b[32m━━━━━━━━━━━━━━━━━━━━\u001b[0m\u001b[37m\u001b[0m \u001b[1m2s\u001b[0m 47ms/step - categorical_accuracy: 0.7057 - loss: 0.7546 - val_categorical_accuracy: 0.6768 - val_loss: 0.7903\n",
      "Epoch 77/300\n",
      "\u001b[1m34/34\u001b[0m \u001b[32m━━━━━━━━━━━━━━━━━━━━\u001b[0m\u001b[37m\u001b[0m \u001b[1m2s\u001b[0m 46ms/step - categorical_accuracy: 0.7037 - loss: 0.7517 - val_categorical_accuracy: 0.6746 - val_loss: 0.7922\n",
      "Epoch 78/300\n",
      "\u001b[1m34/34\u001b[0m \u001b[32m━━━━━━━━━━━━━━━━━━━━\u001b[0m\u001b[37m\u001b[0m \u001b[1m2s\u001b[0m 43ms/step - categorical_accuracy: 0.7055 - loss: 0.7308 - val_categorical_accuracy: 0.6757 - val_loss: 0.8137\n",
      "Epoch 79/300\n",
      "\u001b[1m34/34\u001b[0m \u001b[32m━━━━━━━━━━━━━━━━━━━━\u001b[0m\u001b[37m\u001b[0m \u001b[1m2s\u001b[0m 44ms/step - categorical_accuracy: 0.7011 - loss: 0.7615 - val_categorical_accuracy: 0.6962 - val_loss: 0.7584\n",
      "Epoch 80/300\n",
      "\u001b[1m34/34\u001b[0m \u001b[32m━━━━━━━━━━━━━━━━━━━━\u001b[0m\u001b[37m\u001b[0m \u001b[1m2s\u001b[0m 47ms/step - categorical_accuracy: 0.7080 - loss: 0.7323 - val_categorical_accuracy: 0.6692 - val_loss: 0.7959\n",
      "Epoch 81/300\n",
      "\u001b[1m34/34\u001b[0m \u001b[32m━━━━━━━━━━━━━━━━━━━━\u001b[0m\u001b[37m\u001b[0m \u001b[1m2s\u001b[0m 48ms/step - categorical_accuracy: 0.7014 - loss: 0.7549 - val_categorical_accuracy: 0.6919 - val_loss: 0.7747\n",
      "Epoch 82/300\n",
      "\u001b[1m34/34\u001b[0m \u001b[32m━━━━━━━━━━━━━━━━━━━━\u001b[0m\u001b[37m\u001b[0m \u001b[1m2s\u001b[0m 45ms/step - categorical_accuracy: 0.7001 - loss: 0.7497 - val_categorical_accuracy: 0.6800 - val_loss: 0.8042\n",
      "Epoch 83/300\n",
      "\u001b[1m34/34\u001b[0m \u001b[32m━━━━━━━━━━━━━━━━━━━━\u001b[0m\u001b[37m\u001b[0m \u001b[1m2s\u001b[0m 45ms/step - categorical_accuracy: 0.6937 - loss: 0.7479 - val_categorical_accuracy: 0.6757 - val_loss: 0.7943\n",
      "Epoch 84/300\n",
      "\u001b[1m34/34\u001b[0m \u001b[32m━━━━━━━━━━━━━━━━━━━━\u001b[0m\u001b[37m\u001b[0m \u001b[1m2s\u001b[0m 46ms/step - categorical_accuracy: 0.6973 - loss: 0.7543 - val_categorical_accuracy: 0.6886 - val_loss: 0.7670\n",
      "Epoch 85/300\n",
      "\u001b[1m34/34\u001b[0m \u001b[32m━━━━━━━━━━━━━━━━━━━━\u001b[0m\u001b[37m\u001b[0m \u001b[1m2s\u001b[0m 52ms/step - categorical_accuracy: 0.6956 - loss: 0.7577 - val_categorical_accuracy: 0.6832 - val_loss: 0.7732\n",
      "Epoch 86/300\n",
      "\u001b[1m34/34\u001b[0m \u001b[32m━━━━━━━━━━━━━━━━━━━━\u001b[0m\u001b[37m\u001b[0m \u001b[1m2s\u001b[0m 49ms/step - categorical_accuracy: 0.7076 - loss: 0.7326 - val_categorical_accuracy: 0.6908 - val_loss: 0.7676\n",
      "Epoch 87/300\n",
      "\u001b[1m34/34\u001b[0m \u001b[32m━━━━━━━━━━━━━━━━━━━━\u001b[0m\u001b[37m\u001b[0m \u001b[1m1s\u001b[0m 42ms/step - categorical_accuracy: 0.6968 - loss: 0.7363 - val_categorical_accuracy: 0.6941 - val_loss: 0.7597\n",
      "Epoch 88/300\n",
      "\u001b[1m34/34\u001b[0m \u001b[32m━━━━━━━━━━━━━━━━━━━━\u001b[0m\u001b[37m\u001b[0m \u001b[1m1s\u001b[0m 42ms/step - categorical_accuracy: 0.6986 - loss: 0.7528 - val_categorical_accuracy: 0.6789 - val_loss: 0.7973\n",
      "Epoch 89/300\n",
      "\u001b[1m34/34\u001b[0m \u001b[32m━━━━━━━━━━━━━━━━━━━━\u001b[0m\u001b[37m\u001b[0m \u001b[1m2s\u001b[0m 46ms/step - categorical_accuracy: 0.7068 - loss: 0.7539 - val_categorical_accuracy: 0.6778 - val_loss: 0.7732\n",
      "Epoch 90/300\n",
      "\u001b[1m34/34\u001b[0m \u001b[32m━━━━━━━━━━━━━━━━━━━━\u001b[0m\u001b[37m\u001b[0m \u001b[1m2s\u001b[0m 44ms/step - categorical_accuracy: 0.7285 - loss: 0.7100 - val_categorical_accuracy: 0.6811 - val_loss: 0.7782\n",
      "Epoch 91/300\n",
      "\u001b[1m34/34\u001b[0m \u001b[32m━━━━━━━━━━━━━━━━━━━━\u001b[0m\u001b[37m\u001b[0m \u001b[1m1s\u001b[0m 41ms/step - categorical_accuracy: 0.7148 - loss: 0.7289 - val_categorical_accuracy: 0.6843 - val_loss: 0.7816\n",
      "Epoch 92/300\n",
      "\u001b[1m34/34\u001b[0m \u001b[32m━━━━━━━━━━━━━━━━━━━━\u001b[0m\u001b[37m\u001b[0m \u001b[1m1s\u001b[0m 41ms/step - categorical_accuracy: 0.7113 - loss: 0.7307 - val_categorical_accuracy: 0.6930 - val_loss: 0.7724\n",
      "Epoch 93/300\n",
      "\u001b[1m34/34\u001b[0m \u001b[32m━━━━━━━━━━━━━━━━━━━━\u001b[0m\u001b[37m\u001b[0m \u001b[1m1s\u001b[0m 41ms/step - categorical_accuracy: 0.7042 - loss: 0.7411 - val_categorical_accuracy: 0.6778 - val_loss: 0.8203\n",
      "Epoch 94/300\n",
      "\u001b[1m34/34\u001b[0m \u001b[32m━━━━━━━━━━━━━━━━━━━━\u001b[0m\u001b[37m\u001b[0m \u001b[1m1s\u001b[0m 41ms/step - categorical_accuracy: 0.7134 - loss: 0.7233 - val_categorical_accuracy: 0.6854 - val_loss: 0.7917\n",
      "Epoch 95/300\n",
      "\u001b[1m34/34\u001b[0m \u001b[32m━━━━━━━━━━━━━━━━━━━━\u001b[0m\u001b[37m\u001b[0m \u001b[1m1s\u001b[0m 43ms/step - categorical_accuracy: 0.7100 - loss: 0.7413 - val_categorical_accuracy: 0.6886 - val_loss: 0.7809\n",
      "Epoch 96/300\n",
      "\u001b[1m34/34\u001b[0m \u001b[32m━━━━━━━━━━━━━━━━━━━━\u001b[0m\u001b[37m\u001b[0m \u001b[1m1s\u001b[0m 41ms/step - categorical_accuracy: 0.7174 - loss: 0.7201 - val_categorical_accuracy: 0.6584 - val_loss: 0.7811\n",
      "Epoch 97/300\n",
      "\u001b[1m34/34\u001b[0m \u001b[32m━━━━━━━━━━━━━━━━━━━━\u001b[0m\u001b[37m\u001b[0m \u001b[1m1s\u001b[0m 41ms/step - categorical_accuracy: 0.7114 - loss: 0.7277 - val_categorical_accuracy: 0.6984 - val_loss: 0.7584\n",
      "Epoch 98/300\n",
      "\u001b[1m34/34\u001b[0m \u001b[32m━━━━━━━━━━━━━━━━━━━━\u001b[0m\u001b[37m\u001b[0m \u001b[1m1s\u001b[0m 42ms/step - categorical_accuracy: 0.7131 - loss: 0.7217 - val_categorical_accuracy: 0.6800 - val_loss: 0.7751\n",
      "Epoch 99/300\n",
      "\u001b[1m34/34\u001b[0m \u001b[32m━━━━━━━━━━━━━━━━━━━━\u001b[0m\u001b[37m\u001b[0m \u001b[1m1s\u001b[0m 42ms/step - categorical_accuracy: 0.7183 - loss: 0.7159 - val_categorical_accuracy: 0.6876 - val_loss: 0.7893\n",
      "Epoch 100/300\n",
      "\u001b[1m34/34\u001b[0m \u001b[32m━━━━━━━━━━━━━━━━━━━━\u001b[0m\u001b[37m\u001b[0m \u001b[1m1s\u001b[0m 42ms/step - categorical_accuracy: 0.7184 - loss: 0.7290 - val_categorical_accuracy: 0.6908 - val_loss: 0.7836\n",
      "Epoch 101/300\n",
      "\u001b[1m34/34\u001b[0m \u001b[32m━━━━━━━━━━━━━━━━━━━━\u001b[0m\u001b[37m\u001b[0m \u001b[1m2s\u001b[0m 45ms/step - categorical_accuracy: 0.7091 - loss: 0.7284 - val_categorical_accuracy: 0.6908 - val_loss: 0.7579\n",
      "Epoch 102/300\n",
      "\u001b[1m34/34\u001b[0m \u001b[32m━━━━━━━━━━━━━━━━━━━━\u001b[0m\u001b[37m\u001b[0m \u001b[1m2s\u001b[0m 44ms/step - categorical_accuracy: 0.7060 - loss: 0.7346 - val_categorical_accuracy: 0.6995 - val_loss: 0.7731\n",
      "Epoch 103/300\n",
      "\u001b[1m34/34\u001b[0m \u001b[32m━━━━━━━━━━━━━━━━━━━━\u001b[0m\u001b[37m\u001b[0m \u001b[1m2s\u001b[0m 44ms/step - categorical_accuracy: 0.7022 - loss: 0.7244 - val_categorical_accuracy: 0.7027 - val_loss: 0.7504\n",
      "Epoch 104/300\n",
      "\u001b[1m34/34\u001b[0m \u001b[32m━━━━━━━━━━━━━━━━━━━━\u001b[0m\u001b[37m\u001b[0m \u001b[1m2s\u001b[0m 44ms/step - categorical_accuracy: 0.7217 - loss: 0.7106 - val_categorical_accuracy: 0.7103 - val_loss: 0.7546\n",
      "Epoch 105/300\n",
      "\u001b[1m34/34\u001b[0m \u001b[32m━━━━━━━━━━━━━━━━━━━━\u001b[0m\u001b[37m\u001b[0m \u001b[1m2s\u001b[0m 45ms/step - categorical_accuracy: 0.7144 - loss: 0.7286 - val_categorical_accuracy: 0.6962 - val_loss: 0.7635\n",
      "Epoch 106/300\n",
      "\u001b[1m34/34\u001b[0m \u001b[32m━━━━━━━━━━━━━━━━━━━━\u001b[0m\u001b[37m\u001b[0m \u001b[1m2s\u001b[0m 47ms/step - categorical_accuracy: 0.7128 - loss: 0.7290 - val_categorical_accuracy: 0.6930 - val_loss: 0.7687\n",
      "Epoch 107/300\n",
      "\u001b[1m34/34\u001b[0m \u001b[32m━━━━━━━━━━━━━━━━━━━━\u001b[0m\u001b[37m\u001b[0m \u001b[1m2s\u001b[0m 45ms/step - categorical_accuracy: 0.7130 - loss: 0.7251 - val_categorical_accuracy: 0.6919 - val_loss: 0.7639\n",
      "Epoch 108/300\n",
      "\u001b[1m34/34\u001b[0m \u001b[32m━━━━━━━━━━━━━━━━━━━━\u001b[0m\u001b[37m\u001b[0m \u001b[1m2s\u001b[0m 45ms/step - categorical_accuracy: 0.7216 - loss: 0.7269 - val_categorical_accuracy: 0.6768 - val_loss: 0.7790\n",
      "Epoch 109/300\n",
      "\u001b[1m34/34\u001b[0m \u001b[32m━━━━━━━━━━━━━━━━━━━━\u001b[0m\u001b[37m\u001b[0m \u001b[1m1s\u001b[0m 42ms/step - categorical_accuracy: 0.7250 - loss: 0.7103 - val_categorical_accuracy: 0.6897 - val_loss: 0.7706\n",
      "Epoch 110/300\n",
      "\u001b[1m34/34\u001b[0m \u001b[32m━━━━━━━━━━━━━━━━━━━━\u001b[0m\u001b[37m\u001b[0m \u001b[1m1s\u001b[0m 43ms/step - categorical_accuracy: 0.7138 - loss: 0.7293 - val_categorical_accuracy: 0.6757 - val_loss: 0.8041\n",
      "Epoch 111/300\n",
      "\u001b[1m34/34\u001b[0m \u001b[32m━━━━━━━━━━━━━━━━━━━━\u001b[0m\u001b[37m\u001b[0m \u001b[1m2s\u001b[0m 45ms/step - categorical_accuracy: 0.7240 - loss: 0.7090 - val_categorical_accuracy: 0.6962 - val_loss: 0.7687\n",
      "Epoch 112/300\n",
      "\u001b[1m34/34\u001b[0m \u001b[32m━━━━━━━━━━━━━━━━━━━━\u001b[0m\u001b[37m\u001b[0m \u001b[1m2s\u001b[0m 44ms/step - categorical_accuracy: 0.7234 - loss: 0.7042 - val_categorical_accuracy: 0.6897 - val_loss: 0.7718\n",
      "Epoch 113/300\n",
      "\u001b[1m34/34\u001b[0m \u001b[32m━━━━━━━━━━━━━━━━━━━━\u001b[0m\u001b[37m\u001b[0m \u001b[1m2s\u001b[0m 47ms/step - categorical_accuracy: 0.7151 - loss: 0.7286 - val_categorical_accuracy: 0.6951 - val_loss: 0.7665\n",
      "Epoch 114/300\n",
      "\u001b[1m34/34\u001b[0m \u001b[32m━━━━━━━━━━━━━━━━━━━━\u001b[0m\u001b[37m\u001b[0m \u001b[1m2s\u001b[0m 43ms/step - categorical_accuracy: 0.7215 - loss: 0.6999 - val_categorical_accuracy: 0.7059 - val_loss: 0.7632\n",
      "Epoch 115/300\n",
      "\u001b[1m34/34\u001b[0m \u001b[32m━━━━━━━━━━━━━━━━━━━━\u001b[0m\u001b[37m\u001b[0m \u001b[1m2s\u001b[0m 44ms/step - categorical_accuracy: 0.7069 - loss: 0.7355 - val_categorical_accuracy: 0.6930 - val_loss: 0.7791\n",
      "Epoch 116/300\n",
      "\u001b[1m34/34\u001b[0m \u001b[32m━━━━━━━━━━━━━━━━━━━━\u001b[0m\u001b[37m\u001b[0m \u001b[1m2s\u001b[0m 48ms/step - categorical_accuracy: 0.7192 - loss: 0.7198 - val_categorical_accuracy: 0.7038 - val_loss: 0.7719\n",
      "Epoch 117/300\n",
      "\u001b[1m34/34\u001b[0m \u001b[32m━━━━━━━━━━━━━━━━━━━━\u001b[0m\u001b[37m\u001b[0m \u001b[1m2s\u001b[0m 49ms/step - categorical_accuracy: 0.7214 - loss: 0.7076 - val_categorical_accuracy: 0.6941 - val_loss: 0.7679\n",
      "Epoch 118/300\n",
      "\u001b[1m34/34\u001b[0m \u001b[32m━━━━━━━━━━━━━━━━━━━━\u001b[0m\u001b[37m\u001b[0m \u001b[1m1s\u001b[0m 43ms/step - categorical_accuracy: 0.7177 - loss: 0.7107 - val_categorical_accuracy: 0.7059 - val_loss: 0.7668\n",
      "Epoch 119/300\n",
      "\u001b[1m34/34\u001b[0m \u001b[32m━━━━━━━━━━━━━━━━━━━━\u001b[0m\u001b[37m\u001b[0m \u001b[1m1s\u001b[0m 43ms/step - categorical_accuracy: 0.7158 - loss: 0.7060 - val_categorical_accuracy: 0.6951 - val_loss: 0.7752\n",
      "Epoch 120/300\n",
      "\u001b[1m34/34\u001b[0m \u001b[32m━━━━━━━━━━━━━━━━━━━━\u001b[0m\u001b[37m\u001b[0m \u001b[1m1s\u001b[0m 43ms/step - categorical_accuracy: 0.7295 - loss: 0.7000 - val_categorical_accuracy: 0.6908 - val_loss: 0.7768\n",
      "Epoch 121/300\n",
      "\u001b[1m34/34\u001b[0m \u001b[32m━━━━━━━━━━━━━━━━━━━━\u001b[0m\u001b[37m\u001b[0m \u001b[1m2s\u001b[0m 44ms/step - categorical_accuracy: 0.7224 - loss: 0.7118 - val_categorical_accuracy: 0.6735 - val_loss: 0.7816\n",
      "Epoch 122/300\n",
      "\u001b[1m34/34\u001b[0m \u001b[32m━━━━━━━━━━━━━━━━━━━━\u001b[0m\u001b[37m\u001b[0m \u001b[1m2s\u001b[0m 46ms/step - categorical_accuracy: 0.7134 - loss: 0.7108 - val_categorical_accuracy: 0.6962 - val_loss: 0.7663\n",
      "Epoch 123/300\n",
      "\u001b[1m34/34\u001b[0m \u001b[32m━━━━━━━━━━━━━━━━━━━━\u001b[0m\u001b[37m\u001b[0m \u001b[1m2s\u001b[0m 44ms/step - categorical_accuracy: 0.7204 - loss: 0.7152 - val_categorical_accuracy: 0.6919 - val_loss: 0.7752\n",
      "Epoch 124/300\n",
      "\u001b[1m34/34\u001b[0m \u001b[32m━━━━━━━━━━━━━━━━━━━━\u001b[0m\u001b[37m\u001b[0m \u001b[1m2s\u001b[0m 44ms/step - categorical_accuracy: 0.7201 - loss: 0.7024 - val_categorical_accuracy: 0.7016 - val_loss: 0.7705\n",
      "Epoch 125/300\n",
      "\u001b[1m34/34\u001b[0m \u001b[32m━━━━━━━━━━━━━━━━━━━━\u001b[0m\u001b[37m\u001b[0m \u001b[1m1s\u001b[0m 43ms/step - categorical_accuracy: 0.7138 - loss: 0.7241 - val_categorical_accuracy: 0.7070 - val_loss: 0.7638\n",
      "Epoch 126/300\n",
      "\u001b[1m34/34\u001b[0m \u001b[32m━━━━━━━━━━━━━━━━━━━━\u001b[0m\u001b[37m\u001b[0m \u001b[1m2s\u001b[0m 43ms/step - categorical_accuracy: 0.7217 - loss: 0.6975 - val_categorical_accuracy: 0.6908 - val_loss: 0.7674\n",
      "Epoch 127/300\n",
      "\u001b[1m34/34\u001b[0m \u001b[32m━━━━━━━━━━━━━━━━━━━━\u001b[0m\u001b[37m\u001b[0m \u001b[1m2s\u001b[0m 45ms/step - categorical_accuracy: 0.7173 - loss: 0.7052 - val_categorical_accuracy: 0.6843 - val_loss: 0.7896\n",
      "Epoch 128/300\n",
      "\u001b[1m34/34\u001b[0m \u001b[32m━━━━━━━━━━━━━━━━━━━━\u001b[0m\u001b[37m\u001b[0m \u001b[1m1s\u001b[0m 42ms/step - categorical_accuracy: 0.7264 - loss: 0.7009 - val_categorical_accuracy: 0.6973 - val_loss: 0.7766\n",
      "Epoch 129/300\n",
      "\u001b[1m34/34\u001b[0m \u001b[32m━━━━━━━━━━━━━━━━━━━━\u001b[0m\u001b[37m\u001b[0m \u001b[1m1s\u001b[0m 40ms/step - categorical_accuracy: 0.7088 - loss: 0.7194 - val_categorical_accuracy: 0.7070 - val_loss: 0.7801\n",
      "Epoch 130/300\n",
      "\u001b[1m34/34\u001b[0m \u001b[32m━━━━━━━━━━━━━━━━━━━━\u001b[0m\u001b[37m\u001b[0m \u001b[1m1s\u001b[0m 40ms/step - categorical_accuracy: 0.7315 - loss: 0.7096 - val_categorical_accuracy: 0.6886 - val_loss: 0.7921\n",
      "Epoch 131/300\n",
      "\u001b[1m34/34\u001b[0m \u001b[32m━━━━━━━━━━━━━━━━━━━━\u001b[0m\u001b[37m\u001b[0m \u001b[1m1s\u001b[0m 41ms/step - categorical_accuracy: 0.7140 - loss: 0.7181 - val_categorical_accuracy: 0.7059 - val_loss: 0.7580\n",
      "Epoch 132/300\n",
      "\u001b[1m34/34\u001b[0m \u001b[32m━━━━━━━━━━━━━━━━━━━━\u001b[0m\u001b[37m\u001b[0m \u001b[1m1s\u001b[0m 42ms/step - categorical_accuracy: 0.7236 - loss: 0.6926 - val_categorical_accuracy: 0.6897 - val_loss: 0.7784\n",
      "Epoch 133/300\n",
      "\u001b[1m34/34\u001b[0m \u001b[32m━━━━━━━━━━━━━━━━━━━━\u001b[0m\u001b[37m\u001b[0m \u001b[1m1s\u001b[0m 41ms/step - categorical_accuracy: 0.7124 - loss: 0.7188 - val_categorical_accuracy: 0.7016 - val_loss: 0.7668\n",
      "Epoch 134/300\n",
      "\u001b[1m34/34\u001b[0m \u001b[32m━━━━━━━━━━━━━━━━━━━━\u001b[0m\u001b[37m\u001b[0m \u001b[1m1s\u001b[0m 41ms/step - categorical_accuracy: 0.7329 - loss: 0.7170 - val_categorical_accuracy: 0.7059 - val_loss: 0.7694\n",
      "Epoch 135/300\n",
      "\u001b[1m34/34\u001b[0m \u001b[32m━━━━━━━━━━━━━━━━━━━━\u001b[0m\u001b[37m\u001b[0m \u001b[1m1s\u001b[0m 40ms/step - categorical_accuracy: 0.7201 - loss: 0.7152 - val_categorical_accuracy: 0.7027 - val_loss: 0.7985\n",
      "Epoch 136/300\n",
      "\u001b[1m34/34\u001b[0m \u001b[32m━━━━━━━━━━━━━━━━━━━━\u001b[0m\u001b[37m\u001b[0m \u001b[1m1s\u001b[0m 40ms/step - categorical_accuracy: 0.7160 - loss: 0.7276 - val_categorical_accuracy: 0.7059 - val_loss: 0.7534\n",
      "Epoch 137/300\n",
      "\u001b[1m34/34\u001b[0m \u001b[32m━━━━━━━━━━━━━━━━━━━━\u001b[0m\u001b[37m\u001b[0m \u001b[1m1s\u001b[0m 42ms/step - categorical_accuracy: 0.7158 - loss: 0.7081 - val_categorical_accuracy: 0.6941 - val_loss: 0.7695\n",
      "Epoch 138/300\n",
      "\u001b[1m34/34\u001b[0m \u001b[32m━━━━━━━━━━━━━━━━━━━━\u001b[0m\u001b[37m\u001b[0m \u001b[1m1s\u001b[0m 40ms/step - categorical_accuracy: 0.7251 - loss: 0.7092 - val_categorical_accuracy: 0.7049 - val_loss: 0.7461\n",
      "Epoch 139/300\n",
      "\u001b[1m34/34\u001b[0m \u001b[32m━━━━━━━━━━━━━━━━━━━━\u001b[0m\u001b[37m\u001b[0m \u001b[1m1s\u001b[0m 40ms/step - categorical_accuracy: 0.7427 - loss: 0.6906 - val_categorical_accuracy: 0.6995 - val_loss: 0.7637\n",
      "Epoch 140/300\n",
      "\u001b[1m34/34\u001b[0m \u001b[32m━━━━━━━━━━━━━━━━━━━━\u001b[0m\u001b[37m\u001b[0m \u001b[1m1s\u001b[0m 42ms/step - categorical_accuracy: 0.7355 - loss: 0.6988 - val_categorical_accuracy: 0.7114 - val_loss: 0.7763\n",
      "Epoch 141/300\n",
      "\u001b[1m34/34\u001b[0m \u001b[32m━━━━━━━━━━━━━━━━━━━━\u001b[0m\u001b[37m\u001b[0m \u001b[1m2s\u001b[0m 44ms/step - categorical_accuracy: 0.7289 - loss: 0.6973 - val_categorical_accuracy: 0.7038 - val_loss: 0.7895\n",
      "Epoch 142/300\n",
      "\u001b[1m34/34\u001b[0m \u001b[32m━━━━━━━━━━━━━━━━━━━━\u001b[0m\u001b[37m\u001b[0m \u001b[1m1s\u001b[0m 42ms/step - categorical_accuracy: 0.7314 - loss: 0.7090 - val_categorical_accuracy: 0.6962 - val_loss: 0.7652\n",
      "Epoch 143/300\n",
      "\u001b[1m34/34\u001b[0m \u001b[32m━━━━━━━━━━━━━━━━━━━━\u001b[0m\u001b[37m\u001b[0m \u001b[1m1s\u001b[0m 41ms/step - categorical_accuracy: 0.7204 - loss: 0.7212 - val_categorical_accuracy: 0.7027 - val_loss: 0.7551\n",
      "Epoch 144/300\n",
      "\u001b[1m34/34\u001b[0m \u001b[32m━━━━━━━━━━━━━━━━━━━━\u001b[0m\u001b[37m\u001b[0m \u001b[1m2s\u001b[0m 43ms/step - categorical_accuracy: 0.7275 - loss: 0.7124 - val_categorical_accuracy: 0.6908 - val_loss: 0.8339\n",
      "Epoch 145/300\n",
      "\u001b[1m34/34\u001b[0m \u001b[32m━━━━━━━━━━━━━━━━━━━━\u001b[0m\u001b[37m\u001b[0m \u001b[1m1s\u001b[0m 40ms/step - categorical_accuracy: 0.7094 - loss: 0.7404 - val_categorical_accuracy: 0.6930 - val_loss: 0.7580\n",
      "Epoch 146/300\n",
      "\u001b[1m34/34\u001b[0m \u001b[32m━━━━━━━━━━━━━━━━━━━━\u001b[0m\u001b[37m\u001b[0m \u001b[1m2s\u001b[0m 43ms/step - categorical_accuracy: 0.7294 - loss: 0.7121 - val_categorical_accuracy: 0.6962 - val_loss: 0.7730\n",
      "Epoch 147/300\n",
      "\u001b[1m34/34\u001b[0m \u001b[32m━━━━━━━━━━━━━━━━━━━━\u001b[0m\u001b[37m\u001b[0m \u001b[1m1s\u001b[0m 41ms/step - categorical_accuracy: 0.7357 - loss: 0.7103 - val_categorical_accuracy: 0.7059 - val_loss: 0.7655\n",
      "Epoch 148/300\n",
      "\u001b[1m34/34\u001b[0m \u001b[32m━━━━━━━━━━━━━━━━━━━━\u001b[0m\u001b[37m\u001b[0m \u001b[1m1s\u001b[0m 42ms/step - categorical_accuracy: 0.7246 - loss: 0.7099 - val_categorical_accuracy: 0.6951 - val_loss: 0.7657\n",
      "Epoch 149/300\n",
      "\u001b[1m34/34\u001b[0m \u001b[32m━━━━━━━━━━━━━━━━━━━━\u001b[0m\u001b[37m\u001b[0m \u001b[1m1s\u001b[0m 41ms/step - categorical_accuracy: 0.7242 - loss: 0.7223 - val_categorical_accuracy: 0.6919 - val_loss: 0.7734\n",
      "Epoch 150/300\n",
      "\u001b[1m34/34\u001b[0m \u001b[32m━━━━━━━━━━━━━━━━━━━━\u001b[0m\u001b[37m\u001b[0m \u001b[1m1s\u001b[0m 42ms/step - categorical_accuracy: 0.7222 - loss: 0.7195 - val_categorical_accuracy: 0.6984 - val_loss: 0.7719\n",
      "Epoch 151/300\n",
      "\u001b[1m34/34\u001b[0m \u001b[32m━━━━━━━━━━━━━━━━━━━━\u001b[0m\u001b[37m\u001b[0m \u001b[1m2s\u001b[0m 49ms/step - categorical_accuracy: 0.7298 - loss: 0.6925 - val_categorical_accuracy: 0.7059 - val_loss: 0.7539\n",
      "Epoch 152/300\n",
      "\u001b[1m34/34\u001b[0m \u001b[32m━━━━━━━━━━━━━━━━━━━━\u001b[0m\u001b[37m\u001b[0m \u001b[1m1s\u001b[0m 42ms/step - categorical_accuracy: 0.7428 - loss: 0.7003 - val_categorical_accuracy: 0.6930 - val_loss: 0.7686\n",
      "Epoch 153/300\n",
      "\u001b[1m34/34\u001b[0m \u001b[32m━━━━━━━━━━━━━━━━━━━━\u001b[0m\u001b[37m\u001b[0m \u001b[1m1s\u001b[0m 42ms/step - categorical_accuracy: 0.7318 - loss: 0.7019 - val_categorical_accuracy: 0.7081 - val_loss: 0.7628\n",
      "Epoch 154/300\n",
      "\u001b[1m34/34\u001b[0m \u001b[32m━━━━━━━━━━━━━━━━━━━━\u001b[0m\u001b[37m\u001b[0m \u001b[1m2s\u001b[0m 44ms/step - categorical_accuracy: 0.7170 - loss: 0.7236 - val_categorical_accuracy: 0.7027 - val_loss: 0.7831\n",
      "Epoch 155/300\n",
      "\u001b[1m34/34\u001b[0m \u001b[32m━━━━━━━━━━━━━━━━━━━━\u001b[0m\u001b[37m\u001b[0m \u001b[1m1s\u001b[0m 41ms/step - categorical_accuracy: 0.7181 - loss: 0.7104 - val_categorical_accuracy: 0.7146 - val_loss: 0.7489\n",
      "Epoch 156/300\n",
      "\u001b[1m34/34\u001b[0m \u001b[32m━━━━━━━━━━━━━━━━━━━━\u001b[0m\u001b[37m\u001b[0m \u001b[1m1s\u001b[0m 43ms/step - categorical_accuracy: 0.7396 - loss: 0.6901 - val_categorical_accuracy: 0.7092 - val_loss: 0.7623\n",
      "Epoch 157/300\n",
      "\u001b[1m34/34\u001b[0m \u001b[32m━━━━━━━━━━━━━━━━━━━━\u001b[0m\u001b[37m\u001b[0m \u001b[1m2s\u001b[0m 44ms/step - categorical_accuracy: 0.7465 - loss: 0.6734 - val_categorical_accuracy: 0.6919 - val_loss: 0.7873\n",
      "Epoch 158/300\n",
      "\u001b[1m34/34\u001b[0m \u001b[32m━━━━━━━━━━━━━━━━━━━━\u001b[0m\u001b[37m\u001b[0m \u001b[1m2s\u001b[0m 46ms/step - categorical_accuracy: 0.7205 - loss: 0.7217 - val_categorical_accuracy: 0.7146 - val_loss: 0.7633\n",
      "Epoch 159/300\n",
      "\u001b[1m34/34\u001b[0m \u001b[32m━━━━━━━━━━━━━━━━━━━━\u001b[0m\u001b[37m\u001b[0m \u001b[1m2s\u001b[0m 43ms/step - categorical_accuracy: 0.7363 - loss: 0.7030 - val_categorical_accuracy: 0.7103 - val_loss: 0.7519\n",
      "Epoch 160/300\n",
      "\u001b[1m34/34\u001b[0m \u001b[32m━━━━━━━━━━━━━━━━━━━━\u001b[0m\u001b[37m\u001b[0m \u001b[1m2s\u001b[0m 49ms/step - categorical_accuracy: 0.7389 - loss: 0.6905 - val_categorical_accuracy: 0.7070 - val_loss: 0.7506\n",
      "Epoch 161/300\n",
      "\u001b[1m34/34\u001b[0m \u001b[32m━━━━━━━━━━━━━━━━━━━━\u001b[0m\u001b[37m\u001b[0m \u001b[1m1s\u001b[0m 43ms/step - categorical_accuracy: 0.7265 - loss: 0.7097 - val_categorical_accuracy: 0.6984 - val_loss: 0.7708\n",
      "Epoch 162/300\n",
      "\u001b[1m34/34\u001b[0m \u001b[32m━━━━━━━━━━━━━━━━━━━━\u001b[0m\u001b[37m\u001b[0m \u001b[1m1s\u001b[0m 42ms/step - categorical_accuracy: 0.7393 - loss: 0.6877 - val_categorical_accuracy: 0.7059 - val_loss: 0.7942\n",
      "Epoch 163/300\n",
      "\u001b[1m34/34\u001b[0m \u001b[32m━━━━━━━━━━━━━━━━━━━━\u001b[0m\u001b[37m\u001b[0m \u001b[1m2s\u001b[0m 46ms/step - categorical_accuracy: 0.7414 - loss: 0.6785 - val_categorical_accuracy: 0.7157 - val_loss: 0.7396\n",
      "Epoch 164/300\n",
      "\u001b[1m34/34\u001b[0m \u001b[32m━━━━━━━━━━━━━━━━━━━━\u001b[0m\u001b[37m\u001b[0m \u001b[1m2s\u001b[0m 45ms/step - categorical_accuracy: 0.7317 - loss: 0.6906 - val_categorical_accuracy: 0.6865 - val_loss: 0.8119\n",
      "Epoch 165/300\n",
      "\u001b[1m34/34\u001b[0m \u001b[32m━━━━━━━━━━━━━━━━━━━━\u001b[0m\u001b[37m\u001b[0m \u001b[1m2s\u001b[0m 45ms/step - categorical_accuracy: 0.7299 - loss: 0.7045 - val_categorical_accuracy: 0.6951 - val_loss: 0.7554\n",
      "Epoch 166/300\n",
      "\u001b[1m34/34\u001b[0m \u001b[32m━━━━━━━━━━━━━━━━━━━━\u001b[0m\u001b[37m\u001b[0m \u001b[1m2s\u001b[0m 45ms/step - categorical_accuracy: 0.7398 - loss: 0.6793 - val_categorical_accuracy: 0.7070 - val_loss: 0.7611\n",
      "Epoch 167/300\n",
      "\u001b[1m34/34\u001b[0m \u001b[32m━━━━━━━━━━━━━━━━━━━━\u001b[0m\u001b[37m\u001b[0m \u001b[1m2s\u001b[0m 49ms/step - categorical_accuracy: 0.7328 - loss: 0.6992 - val_categorical_accuracy: 0.6973 - val_loss: 0.7527\n",
      "Epoch 168/300\n",
      "\u001b[1m34/34\u001b[0m \u001b[32m━━━━━━━━━━━━━━━━━━━━\u001b[0m\u001b[37m\u001b[0m \u001b[1m2s\u001b[0m 51ms/step - categorical_accuracy: 0.7351 - loss: 0.7090 - val_categorical_accuracy: 0.6941 - val_loss: 0.7685\n",
      "Epoch 169/300\n",
      "\u001b[1m34/34\u001b[0m \u001b[32m━━━━━━━━━━━━━━━━━━━━\u001b[0m\u001b[37m\u001b[0m \u001b[1m2s\u001b[0m 48ms/step - categorical_accuracy: 0.7450 - loss: 0.6804 - val_categorical_accuracy: 0.6995 - val_loss: 0.7608\n",
      "Epoch 170/300\n",
      "\u001b[1m34/34\u001b[0m \u001b[32m━━━━━━━━━━━━━━━━━━━━\u001b[0m\u001b[37m\u001b[0m \u001b[1m2s\u001b[0m 48ms/step - categorical_accuracy: 0.7484 - loss: 0.6745 - val_categorical_accuracy: 0.7016 - val_loss: 0.7638\n",
      "Epoch 171/300\n",
      "\u001b[1m34/34\u001b[0m \u001b[32m━━━━━━━━━━━━━━━━━━━━\u001b[0m\u001b[37m\u001b[0m \u001b[1m2s\u001b[0m 44ms/step - categorical_accuracy: 0.7271 - loss: 0.7031 - val_categorical_accuracy: 0.7005 - val_loss: 0.7760\n",
      "Epoch 172/300\n",
      "\u001b[1m34/34\u001b[0m \u001b[32m━━━━━━━━━━━━━━━━━━━━\u001b[0m\u001b[37m\u001b[0m \u001b[1m1s\u001b[0m 41ms/step - categorical_accuracy: 0.7280 - loss: 0.7024 - val_categorical_accuracy: 0.7016 - val_loss: 0.7491\n",
      "Epoch 173/300\n",
      "\u001b[1m34/34\u001b[0m \u001b[32m━━━━━━━━━━━━━━━━━━━━\u001b[0m\u001b[37m\u001b[0m \u001b[1m1s\u001b[0m 43ms/step - categorical_accuracy: 0.7357 - loss: 0.6864 - val_categorical_accuracy: 0.7081 - val_loss: 0.7528\n",
      "Epoch 174/300\n",
      "\u001b[1m34/34\u001b[0m \u001b[32m━━━━━━━━━━━━━━━━━━━━\u001b[0m\u001b[37m\u001b[0m \u001b[1m1s\u001b[0m 40ms/step - categorical_accuracy: 0.7302 - loss: 0.7126 - val_categorical_accuracy: 0.7211 - val_loss: 0.7642\n",
      "Epoch 175/300\n",
      "\u001b[1m34/34\u001b[0m \u001b[32m━━━━━━━━━━━━━━━━━━━━\u001b[0m\u001b[37m\u001b[0m \u001b[1m1s\u001b[0m 42ms/step - categorical_accuracy: 0.7505 - loss: 0.6820 - val_categorical_accuracy: 0.7027 - val_loss: 0.7478\n",
      "Epoch 176/300\n",
      "\u001b[1m34/34\u001b[0m \u001b[32m━━━━━━━━━━━━━━━━━━━━\u001b[0m\u001b[37m\u001b[0m \u001b[1m1s\u001b[0m 42ms/step - categorical_accuracy: 0.7250 - loss: 0.7107 - val_categorical_accuracy: 0.6930 - val_loss: 0.7680\n",
      "Epoch 177/300\n",
      "\u001b[1m34/34\u001b[0m \u001b[32m━━━━━━━━━━━━━━━━━━━━\u001b[0m\u001b[37m\u001b[0m \u001b[1m1s\u001b[0m 42ms/step - categorical_accuracy: 0.7297 - loss: 0.6830 - val_categorical_accuracy: 0.6973 - val_loss: 0.7542\n",
      "Epoch 178/300\n",
      "\u001b[1m34/34\u001b[0m \u001b[32m━━━━━━━━━━━━━━━━━━━━\u001b[0m\u001b[37m\u001b[0m \u001b[1m1s\u001b[0m 42ms/step - categorical_accuracy: 0.7404 - loss: 0.6925 - val_categorical_accuracy: 0.6865 - val_loss: 0.7805\n",
      "Epoch 179/300\n",
      "\u001b[1m34/34\u001b[0m \u001b[32m━━━━━━━━━━━━━━━━━━━━\u001b[0m\u001b[37m\u001b[0m \u001b[1m1s\u001b[0m 41ms/step - categorical_accuracy: 0.7271 - loss: 0.7050 - val_categorical_accuracy: 0.7114 - val_loss: 0.7494\n",
      "Epoch 180/300\n",
      "\u001b[1m34/34\u001b[0m \u001b[32m━━━━━━━━━━━━━━━━━━━━\u001b[0m\u001b[37m\u001b[0m \u001b[1m1s\u001b[0m 42ms/step - categorical_accuracy: 0.7597 - loss: 0.6714 - val_categorical_accuracy: 0.7081 - val_loss: 0.7496\n",
      "Epoch 181/300\n",
      "\u001b[1m34/34\u001b[0m \u001b[32m━━━━━━━━━━━━━━━━━━━━\u001b[0m\u001b[37m\u001b[0m \u001b[1m1s\u001b[0m 41ms/step - categorical_accuracy: 0.7297 - loss: 0.7202 - val_categorical_accuracy: 0.6995 - val_loss: 0.7620\n",
      "Epoch 182/300\n",
      "\u001b[1m34/34\u001b[0m \u001b[32m━━━━━━━━━━━━━━━━━━━━\u001b[0m\u001b[37m\u001b[0m \u001b[1m1s\u001b[0m 40ms/step - categorical_accuracy: 0.7303 - loss: 0.6903 - val_categorical_accuracy: 0.6984 - val_loss: 0.7778\n",
      "Epoch 183/300\n",
      "\u001b[1m34/34\u001b[0m \u001b[32m━━━━━━━━━━━━━━━━━━━━\u001b[0m\u001b[37m\u001b[0m \u001b[1m1s\u001b[0m 42ms/step - categorical_accuracy: 0.7268 - loss: 0.7080 - val_categorical_accuracy: 0.7016 - val_loss: 0.8154\n",
      "Epoch 184/300\n",
      "\u001b[1m34/34\u001b[0m \u001b[32m━━━━━━━━━━━━━━━━━━━━\u001b[0m\u001b[37m\u001b[0m \u001b[1m1s\u001b[0m 40ms/step - categorical_accuracy: 0.7309 - loss: 0.7129 - val_categorical_accuracy: 0.7330 - val_loss: 0.7536\n",
      "Epoch 185/300\n",
      "\u001b[1m34/34\u001b[0m \u001b[32m━━━━━━━━━━━━━━━━━━━━\u001b[0m\u001b[37m\u001b[0m \u001b[1m2s\u001b[0m 46ms/step - categorical_accuracy: 0.7367 - loss: 0.6852 - val_categorical_accuracy: 0.7092 - val_loss: 0.7695\n",
      "Epoch 186/300\n",
      "\u001b[1m34/34\u001b[0m \u001b[32m━━━━━━━━━━━━━━━━━━━━\u001b[0m\u001b[37m\u001b[0m \u001b[1m1s\u001b[0m 41ms/step - categorical_accuracy: 0.7491 - loss: 0.6801 - val_categorical_accuracy: 0.7135 - val_loss: 0.7525\n",
      "Epoch 187/300\n",
      "\u001b[1m34/34\u001b[0m \u001b[32m━━━━━━━━━━━━━━━━━━━━\u001b[0m\u001b[37m\u001b[0m \u001b[1m1s\u001b[0m 40ms/step - categorical_accuracy: 0.7545 - loss: 0.6685 - val_categorical_accuracy: 0.6951 - val_loss: 0.8018\n",
      "Epoch 188/300\n",
      "\u001b[1m34/34\u001b[0m \u001b[32m━━━━━━━━━━━━━━━━━━━━\u001b[0m\u001b[37m\u001b[0m \u001b[1m1s\u001b[0m 42ms/step - categorical_accuracy: 0.7495 - loss: 0.6859 - val_categorical_accuracy: 0.6973 - val_loss: 0.7803\n",
      "Epoch 189/300\n",
      "\u001b[1m34/34\u001b[0m \u001b[32m━━━━━━━━━━━━━━━━━━━━\u001b[0m\u001b[37m\u001b[0m \u001b[1m2s\u001b[0m 51ms/step - categorical_accuracy: 0.7474 - loss: 0.6903 - val_categorical_accuracy: 0.6995 - val_loss: 0.7815\n",
      "Epoch 190/300\n",
      "\u001b[1m34/34\u001b[0m \u001b[32m━━━━━━━━━━━━━━━━━━━━\u001b[0m\u001b[37m\u001b[0m \u001b[1m2s\u001b[0m 44ms/step - categorical_accuracy: 0.7556 - loss: 0.6679 - val_categorical_accuracy: 0.7092 - val_loss: 0.7596\n",
      "Epoch 191/300\n",
      "\u001b[1m34/34\u001b[0m \u001b[32m━━━━━━━━━━━━━━━━━━━━\u001b[0m\u001b[37m\u001b[0m \u001b[1m1s\u001b[0m 41ms/step - categorical_accuracy: 0.7515 - loss: 0.6801 - val_categorical_accuracy: 0.6962 - val_loss: 0.7723\n",
      "Epoch 192/300\n",
      "\u001b[1m34/34\u001b[0m \u001b[32m━━━━━━━━━━━━━━━━━━━━\u001b[0m\u001b[37m\u001b[0m \u001b[1m1s\u001b[0m 42ms/step - categorical_accuracy: 0.7298 - loss: 0.7065 - val_categorical_accuracy: 0.7059 - val_loss: 0.7808\n",
      "Epoch 193/300\n",
      "\u001b[1m34/34\u001b[0m \u001b[32m━━━━━━━━━━━━━━━━━━━━\u001b[0m\u001b[37m\u001b[0m \u001b[1m2s\u001b[0m 45ms/step - categorical_accuracy: 0.7369 - loss: 0.7011 - val_categorical_accuracy: 0.7049 - val_loss: 0.7711\n",
      "Epoch 194/300\n",
      "\u001b[1m34/34\u001b[0m \u001b[32m━━━━━━━━━━━━━━━━━━━━\u001b[0m\u001b[37m\u001b[0m \u001b[1m2s\u001b[0m 44ms/step - categorical_accuracy: 0.7354 - loss: 0.6965 - val_categorical_accuracy: 0.6951 - val_loss: 0.7901\n",
      "Epoch 195/300\n",
      "\u001b[1m34/34\u001b[0m \u001b[32m━━━━━━━━━━━━━━━━━━━━\u001b[0m\u001b[37m\u001b[0m \u001b[1m2s\u001b[0m 46ms/step - categorical_accuracy: 0.7298 - loss: 0.6916 - val_categorical_accuracy: 0.7232 - val_loss: 0.7402\n",
      "Epoch 196/300\n",
      "\u001b[1m34/34\u001b[0m \u001b[32m━━━━━━━━━━━━━━━━━━━━\u001b[0m\u001b[37m\u001b[0m \u001b[1m1s\u001b[0m 42ms/step - categorical_accuracy: 0.7433 - loss: 0.6880 - val_categorical_accuracy: 0.7157 - val_loss: 0.7440\n",
      "Epoch 197/300\n",
      "\u001b[1m34/34\u001b[0m \u001b[32m━━━━━━━━━━━━━━━━━━━━\u001b[0m\u001b[37m\u001b[0m \u001b[1m1s\u001b[0m 42ms/step - categorical_accuracy: 0.7635 - loss: 0.6643 - val_categorical_accuracy: 0.7070 - val_loss: 0.7917\n",
      "Epoch 198/300\n",
      "\u001b[1m34/34\u001b[0m \u001b[32m━━━━━━━━━━━━━━━━━━━━\u001b[0m\u001b[37m\u001b[0m \u001b[1m1s\u001b[0m 42ms/step - categorical_accuracy: 0.7578 - loss: 0.6721 - val_categorical_accuracy: 0.6962 - val_loss: 0.8024\n",
      "Epoch 199/300\n",
      "\u001b[1m34/34\u001b[0m \u001b[32m━━━━━━━━━━━━━━━━━━━━\u001b[0m\u001b[37m\u001b[0m \u001b[1m2s\u001b[0m 46ms/step - categorical_accuracy: 0.7410 - loss: 0.6921 - val_categorical_accuracy: 0.7081 - val_loss: 0.7537\n",
      "Epoch 200/300\n",
      "\u001b[1m34/34\u001b[0m \u001b[32m━━━━━━━━━━━━━━━━━━━━\u001b[0m\u001b[37m\u001b[0m \u001b[1m2s\u001b[0m 45ms/step - categorical_accuracy: 0.7549 - loss: 0.6736 - val_categorical_accuracy: 0.7135 - val_loss: 0.7800\n",
      "Epoch 201/300\n",
      "\u001b[1m34/34\u001b[0m \u001b[32m━━━━━━━━━━━━━━━━━━━━\u001b[0m\u001b[37m\u001b[0m \u001b[1m2s\u001b[0m 46ms/step - categorical_accuracy: 0.7379 - loss: 0.7065 - val_categorical_accuracy: 0.6995 - val_loss: 0.7671\n",
      "Epoch 202/300\n",
      "\u001b[1m34/34\u001b[0m \u001b[32m━━━━━━━━━━━━━━━━━━━━\u001b[0m\u001b[37m\u001b[0m \u001b[1m1s\u001b[0m 42ms/step - categorical_accuracy: 0.7480 - loss: 0.6866 - val_categorical_accuracy: 0.6962 - val_loss: 0.7620\n",
      "Epoch 203/300\n",
      "\u001b[1m34/34\u001b[0m \u001b[32m━━━━━━━━━━━━━━━━━━━━\u001b[0m\u001b[37m\u001b[0m \u001b[1m2s\u001b[0m 43ms/step - categorical_accuracy: 0.7363 - loss: 0.6918 - val_categorical_accuracy: 0.6811 - val_loss: 0.8021\n",
      "Epoch 204/300\n",
      "\u001b[1m34/34\u001b[0m \u001b[32m━━━━━━━━━━━━━━━━━━━━\u001b[0m\u001b[37m\u001b[0m \u001b[1m2s\u001b[0m 43ms/step - categorical_accuracy: 0.7452 - loss: 0.6926 - val_categorical_accuracy: 0.6930 - val_loss: 0.7932\n",
      "Epoch 205/300\n",
      "\u001b[1m34/34\u001b[0m \u001b[32m━━━━━━━━━━━━━━━━━━━━\u001b[0m\u001b[37m\u001b[0m \u001b[1m2s\u001b[0m 47ms/step - categorical_accuracy: 0.7561 - loss: 0.6801 - val_categorical_accuracy: 0.7200 - val_loss: 0.7404\n",
      "Epoch 206/300\n",
      "\u001b[1m34/34\u001b[0m \u001b[32m━━━━━━━━━━━━━━━━━━━━\u001b[0m\u001b[37m\u001b[0m \u001b[1m2s\u001b[0m 43ms/step - categorical_accuracy: 0.7393 - loss: 0.6952 - val_categorical_accuracy: 0.7157 - val_loss: 0.7720\n",
      "Epoch 207/300\n",
      "\u001b[1m34/34\u001b[0m \u001b[32m━━━━━━━━━━━━━━━━━━━━\u001b[0m\u001b[37m\u001b[0m \u001b[1m2s\u001b[0m 49ms/step - categorical_accuracy: 0.7489 - loss: 0.6805 - val_categorical_accuracy: 0.6886 - val_loss: 0.7923\n",
      "Epoch 208/300\n",
      "\u001b[1m34/34\u001b[0m \u001b[32m━━━━━━━━━━━━━━━━━━━━\u001b[0m\u001b[37m\u001b[0m \u001b[1m2s\u001b[0m 50ms/step - categorical_accuracy: 0.7487 - loss: 0.6854 - val_categorical_accuracy: 0.6973 - val_loss: 0.7673\n",
      "Epoch 209/300\n",
      "\u001b[1m34/34\u001b[0m \u001b[32m━━━━━━━━━━━━━━━━━━━━\u001b[0m\u001b[37m\u001b[0m \u001b[1m2s\u001b[0m 45ms/step - categorical_accuracy: 0.7457 - loss: 0.6796 - val_categorical_accuracy: 0.7146 - val_loss: 0.7443\n",
      "Epoch 210/300\n",
      "\u001b[1m34/34\u001b[0m \u001b[32m━━━━━━━━━━━━━━━━━━━━\u001b[0m\u001b[37m\u001b[0m \u001b[1m2s\u001b[0m 47ms/step - categorical_accuracy: 0.7361 - loss: 0.7118 - val_categorical_accuracy: 0.7059 - val_loss: 0.7640\n",
      "Epoch 211/300\n",
      "\u001b[1m34/34\u001b[0m \u001b[32m━━━━━━━━━━━━━━━━━━━━\u001b[0m\u001b[37m\u001b[0m \u001b[1m2s\u001b[0m 47ms/step - categorical_accuracy: 0.7575 - loss: 0.6614 - val_categorical_accuracy: 0.7081 - val_loss: 0.7886\n",
      "Epoch 212/300\n",
      "\u001b[1m34/34\u001b[0m \u001b[32m━━━━━━━━━━━━━━━━━━━━\u001b[0m\u001b[37m\u001b[0m \u001b[1m2s\u001b[0m 43ms/step - categorical_accuracy: 0.7506 - loss: 0.6919 - val_categorical_accuracy: 0.6951 - val_loss: 0.7879\n",
      "Epoch 213/300\n",
      "\u001b[1m34/34\u001b[0m \u001b[32m━━━━━━━━━━━━━━━━━━━━\u001b[0m\u001b[37m\u001b[0m \u001b[1m2s\u001b[0m 48ms/step - categorical_accuracy: 0.7543 - loss: 0.6727 - val_categorical_accuracy: 0.6962 - val_loss: 0.7687\n",
      "Epoch 214/300\n",
      "\u001b[1m34/34\u001b[0m \u001b[32m━━━━━━━━━━━━━━━━━━━━\u001b[0m\u001b[37m\u001b[0m \u001b[1m2s\u001b[0m 49ms/step - categorical_accuracy: 0.7663 - loss: 0.6813 - val_categorical_accuracy: 0.7146 - val_loss: 0.7791\n",
      "Epoch 215/300\n",
      "\u001b[1m34/34\u001b[0m \u001b[32m━━━━━━━━━━━━━━━━━━━━\u001b[0m\u001b[37m\u001b[0m \u001b[1m2s\u001b[0m 49ms/step - categorical_accuracy: 0.7407 - loss: 0.6886 - val_categorical_accuracy: 0.7276 - val_loss: 0.7295\n",
      "Epoch 216/300\n",
      "\u001b[1m34/34\u001b[0m \u001b[32m━━━━━━━━━━━━━━━━━━━━\u001b[0m\u001b[37m\u001b[0m \u001b[1m2s\u001b[0m 48ms/step - categorical_accuracy: 0.7682 - loss: 0.6579 - val_categorical_accuracy: 0.6930 - val_loss: 0.8021\n",
      "Epoch 217/300\n",
      "\u001b[1m34/34\u001b[0m \u001b[32m━━━━━━━━━━━━━━━━━━━━\u001b[0m\u001b[37m\u001b[0m \u001b[1m2s\u001b[0m 49ms/step - categorical_accuracy: 0.7496 - loss: 0.6705 - val_categorical_accuracy: 0.7265 - val_loss: 0.7455\n",
      "Epoch 218/300\n",
      "\u001b[1m34/34\u001b[0m \u001b[32m━━━━━━━━━━━━━━━━━━━━\u001b[0m\u001b[37m\u001b[0m \u001b[1m2s\u001b[0m 43ms/step - categorical_accuracy: 0.7620 - loss: 0.6494 - val_categorical_accuracy: 0.7103 - val_loss: 0.7395\n",
      "Epoch 219/300\n",
      "\u001b[1m34/34\u001b[0m \u001b[32m━━━━━━━━━━━━━━━━━━━━\u001b[0m\u001b[37m\u001b[0m \u001b[1m2s\u001b[0m 44ms/step - categorical_accuracy: 0.7407 - loss: 0.6936 - val_categorical_accuracy: 0.7049 - val_loss: 0.7673\n",
      "Epoch 220/300\n",
      "\u001b[1m34/34\u001b[0m \u001b[32m━━━━━━━━━━━━━━━━━━━━\u001b[0m\u001b[37m\u001b[0m \u001b[1m2s\u001b[0m 44ms/step - categorical_accuracy: 0.7531 - loss: 0.6945 - val_categorical_accuracy: 0.7114 - val_loss: 0.7575\n",
      "Epoch 221/300\n",
      "\u001b[1m34/34\u001b[0m \u001b[32m━━━━━━━━━━━━━━━━━━━━\u001b[0m\u001b[37m\u001b[0m \u001b[1m2s\u001b[0m 44ms/step - categorical_accuracy: 0.7425 - loss: 0.6868 - val_categorical_accuracy: 0.6984 - val_loss: 0.8006\n",
      "Epoch 222/300\n",
      "\u001b[1m34/34\u001b[0m \u001b[32m━━━━━━━━━━━━━━━━━━━━\u001b[0m\u001b[37m\u001b[0m \u001b[1m2s\u001b[0m 48ms/step - categorical_accuracy: 0.7421 - loss: 0.6990 - val_categorical_accuracy: 0.6951 - val_loss: 0.8153\n",
      "Epoch 223/300\n",
      "\u001b[1m34/34\u001b[0m \u001b[32m━━━━━━━━━━━━━━━━━━━━\u001b[0m\u001b[37m\u001b[0m \u001b[1m2s\u001b[0m 48ms/step - categorical_accuracy: 0.7462 - loss: 0.6819 - val_categorical_accuracy: 0.7211 - val_loss: 0.7482\n",
      "Epoch 224/300\n",
      "\u001b[1m34/34\u001b[0m \u001b[32m━━━━━━━━━━━━━━━━━━━━\u001b[0m\u001b[37m\u001b[0m \u001b[1m2s\u001b[0m 46ms/step - categorical_accuracy: 0.7661 - loss: 0.6517 - val_categorical_accuracy: 0.7016 - val_loss: 0.7808\n",
      "Epoch 225/300\n",
      "\u001b[1m34/34\u001b[0m \u001b[32m━━━━━━━━━━━━━━━━━━━━\u001b[0m\u001b[37m\u001b[0m \u001b[1m2s\u001b[0m 44ms/step - categorical_accuracy: 0.7595 - loss: 0.6587 - val_categorical_accuracy: 0.7070 - val_loss: 0.7915\n",
      "Epoch 226/300\n",
      "\u001b[1m34/34\u001b[0m \u001b[32m━━━━━━━━━━━━━━━━━━━━\u001b[0m\u001b[37m\u001b[0m \u001b[1m2s\u001b[0m 46ms/step - categorical_accuracy: 0.7565 - loss: 0.6730 - val_categorical_accuracy: 0.7297 - val_loss: 0.7512\n",
      "Epoch 227/300\n",
      "\u001b[1m34/34\u001b[0m \u001b[32m━━━━━━━━━━━━━━━━━━━━\u001b[0m\u001b[37m\u001b[0m \u001b[1m2s\u001b[0m 48ms/step - categorical_accuracy: 0.7543 - loss: 0.6636 - val_categorical_accuracy: 0.7168 - val_loss: 0.7724\n",
      "Epoch 228/300\n",
      "\u001b[1m34/34\u001b[0m \u001b[32m━━━━━━━━━━━━━━━━━━━━\u001b[0m\u001b[37m\u001b[0m \u001b[1m2s\u001b[0m 48ms/step - categorical_accuracy: 0.7603 - loss: 0.6605 - val_categorical_accuracy: 0.7038 - val_loss: 0.7703\n",
      "Epoch 229/300\n",
      "\u001b[1m34/34\u001b[0m \u001b[32m━━━━━━━━━━━━━━━━━━━━\u001b[0m\u001b[37m\u001b[0m \u001b[1m2s\u001b[0m 48ms/step - categorical_accuracy: 0.7691 - loss: 0.6537 - val_categorical_accuracy: 0.7005 - val_loss: 0.7889\n",
      "Epoch 230/300\n",
      "\u001b[1m34/34\u001b[0m \u001b[32m━━━━━━━━━━━━━━━━━━━━\u001b[0m\u001b[37m\u001b[0m \u001b[1m2s\u001b[0m 43ms/step - categorical_accuracy: 0.7484 - loss: 0.6801 - val_categorical_accuracy: 0.7157 - val_loss: 0.7995\n",
      "Epoch 231/300\n",
      "\u001b[1m34/34\u001b[0m \u001b[32m━━━━━━━━━━━━━━━━━━━━\u001b[0m\u001b[37m\u001b[0m \u001b[1m2s\u001b[0m 46ms/step - categorical_accuracy: 0.7459 - loss: 0.7036 - val_categorical_accuracy: 0.7222 - val_loss: 0.7678\n",
      "Epoch 232/300\n",
      "\u001b[1m34/34\u001b[0m \u001b[32m━━━━━━━━━━━━━━━━━━━━\u001b[0m\u001b[37m\u001b[0m \u001b[1m2s\u001b[0m 44ms/step - categorical_accuracy: 0.7527 - loss: 0.6756 - val_categorical_accuracy: 0.7081 - val_loss: 0.7823\n",
      "Epoch 233/300\n",
      "\u001b[1m34/34\u001b[0m \u001b[32m━━━━━━━━━━━━━━━━━━━━\u001b[0m\u001b[37m\u001b[0m \u001b[1m2s\u001b[0m 52ms/step - categorical_accuracy: 0.7468 - loss: 0.6911 - val_categorical_accuracy: 0.7135 - val_loss: 0.7658\n",
      "Epoch 234/300\n",
      "\u001b[1m34/34\u001b[0m \u001b[32m━━━━━━━━━━━━━━━━━━━━\u001b[0m\u001b[37m\u001b[0m \u001b[1m2s\u001b[0m 48ms/step - categorical_accuracy: 0.7515 - loss: 0.6609 - val_categorical_accuracy: 0.7081 - val_loss: 0.7738\n",
      "Epoch 235/300\n",
      "\u001b[1m34/34\u001b[0m \u001b[32m━━━━━━━━━━━━━━━━━━━━\u001b[0m\u001b[37m\u001b[0m \u001b[1m2s\u001b[0m 49ms/step - categorical_accuracy: 0.7485 - loss: 0.6832 - val_categorical_accuracy: 0.7146 - val_loss: 0.7624\n",
      "Epoch 236/300\n",
      "\u001b[1m34/34\u001b[0m \u001b[32m━━━━━━━━━━━━━━━━━━━━\u001b[0m\u001b[37m\u001b[0m \u001b[1m2s\u001b[0m 54ms/step - categorical_accuracy: 0.7494 - loss: 0.6810 - val_categorical_accuracy: 0.7092 - val_loss: 0.7907\n",
      "Epoch 237/300\n",
      "\u001b[1m34/34\u001b[0m \u001b[32m━━━━━━━━━━━━━━━━━━━━\u001b[0m\u001b[37m\u001b[0m \u001b[1m2s\u001b[0m 45ms/step - categorical_accuracy: 0.7484 - loss: 0.6848 - val_categorical_accuracy: 0.7059 - val_loss: 0.7598\n",
      "Epoch 238/300\n",
      "\u001b[1m34/34\u001b[0m \u001b[32m━━━━━━━━━━━━━━━━━━━━\u001b[0m\u001b[37m\u001b[0m \u001b[1m2s\u001b[0m 43ms/step - categorical_accuracy: 0.7511 - loss: 0.6704 - val_categorical_accuracy: 0.7038 - val_loss: 0.7601\n",
      "Epoch 239/300\n",
      "\u001b[1m34/34\u001b[0m \u001b[32m━━━━━━━━━━━━━━━━━━━━\u001b[0m\u001b[37m\u001b[0m \u001b[1m2s\u001b[0m 44ms/step - categorical_accuracy: 0.7551 - loss: 0.6715 - val_categorical_accuracy: 0.7005 - val_loss: 0.7875\n",
      "Epoch 240/300\n",
      "\u001b[1m34/34\u001b[0m \u001b[32m━━━━━━━━━━━━━━━━━━━━\u001b[0m\u001b[37m\u001b[0m \u001b[1m2s\u001b[0m 49ms/step - categorical_accuracy: 0.7647 - loss: 0.6657 - val_categorical_accuracy: 0.7178 - val_loss: 0.7628\n",
      "Epoch 241/300\n",
      "\u001b[1m34/34\u001b[0m \u001b[32m━━━━━━━━━━━━━━━━━━━━\u001b[0m\u001b[37m\u001b[0m \u001b[1m2s\u001b[0m 45ms/step - categorical_accuracy: 0.7574 - loss: 0.6674 - val_categorical_accuracy: 0.7114 - val_loss: 0.7539\n",
      "Epoch 242/300\n",
      "\u001b[1m34/34\u001b[0m \u001b[32m━━━━━━━━━━━━━━━━━━━━\u001b[0m\u001b[37m\u001b[0m \u001b[1m2s\u001b[0m 46ms/step - categorical_accuracy: 0.7582 - loss: 0.6667 - val_categorical_accuracy: 0.7092 - val_loss: 0.7654\n",
      "Epoch 243/300\n",
      "\u001b[1m34/34\u001b[0m \u001b[32m━━━━━━━━━━━━━━━━━━━━\u001b[0m\u001b[37m\u001b[0m \u001b[1m2s\u001b[0m 51ms/step - categorical_accuracy: 0.7541 - loss: 0.6828 - val_categorical_accuracy: 0.6941 - val_loss: 0.7900\n",
      "Epoch 244/300\n",
      "\u001b[1m34/34\u001b[0m \u001b[32m━━━━━━━━━━━━━━━━━━━━\u001b[0m\u001b[37m\u001b[0m \u001b[1m2s\u001b[0m 44ms/step - categorical_accuracy: 0.7488 - loss: 0.6771 - val_categorical_accuracy: 0.7222 - val_loss: 0.7827\n",
      "Epoch 245/300\n",
      "\u001b[1m34/34\u001b[0m \u001b[32m━━━━━━━━━━━━━━━━━━━━\u001b[0m\u001b[37m\u001b[0m \u001b[1m2s\u001b[0m 50ms/step - categorical_accuracy: 0.7711 - loss: 0.6508 - val_categorical_accuracy: 0.7146 - val_loss: 0.7492\n",
      "Epoch 246/300\n",
      "\u001b[1m34/34\u001b[0m \u001b[32m━━━━━━━━━━━━━━━━━━━━\u001b[0m\u001b[37m\u001b[0m \u001b[1m2s\u001b[0m 45ms/step - categorical_accuracy: 0.7476 - loss: 0.6655 - val_categorical_accuracy: 0.7211 - val_loss: 0.7837\n",
      "Epoch 247/300\n",
      "\u001b[1m34/34\u001b[0m \u001b[32m━━━━━━━━━━━━━━━━━━━━\u001b[0m\u001b[37m\u001b[0m \u001b[1m2s\u001b[0m 48ms/step - categorical_accuracy: 0.7603 - loss: 0.6919 - val_categorical_accuracy: 0.7222 - val_loss: 0.7491\n",
      "Epoch 248/300\n",
      "\u001b[1m34/34\u001b[0m \u001b[32m━━━━━━━━━━━━━━━━━━━━\u001b[0m\u001b[37m\u001b[0m \u001b[1m2s\u001b[0m 45ms/step - categorical_accuracy: 0.7770 - loss: 0.6572 - val_categorical_accuracy: 0.7103 - val_loss: 0.7714\n",
      "Epoch 249/300\n",
      "\u001b[1m34/34\u001b[0m \u001b[32m━━━━━━━━━━━━━━━━━━━━\u001b[0m\u001b[37m\u001b[0m \u001b[1m2s\u001b[0m 48ms/step - categorical_accuracy: 0.7587 - loss: 0.6739 - val_categorical_accuracy: 0.7005 - val_loss: 0.7747\n",
      "Epoch 250/300\n",
      "\u001b[1m34/34\u001b[0m \u001b[32m━━━━━━━━━━━━━━━━━━━━\u001b[0m\u001b[37m\u001b[0m \u001b[1m2s\u001b[0m 48ms/step - categorical_accuracy: 0.7710 - loss: 0.6472 - val_categorical_accuracy: 0.6995 - val_loss: 0.7710\n",
      "Epoch 251/300\n",
      "\u001b[1m34/34\u001b[0m \u001b[32m━━━━━━━━━━━━━━━━━━━━\u001b[0m\u001b[37m\u001b[0m \u001b[1m2s\u001b[0m 45ms/step - categorical_accuracy: 0.7597 - loss: 0.6843 - val_categorical_accuracy: 0.7232 - val_loss: 0.7858\n",
      "Epoch 252/300\n",
      "\u001b[1m34/34\u001b[0m \u001b[32m━━━━━━━━━━━━━━━━━━━━\u001b[0m\u001b[37m\u001b[0m \u001b[1m2s\u001b[0m 45ms/step - categorical_accuracy: 0.7516 - loss: 0.6710 - val_categorical_accuracy: 0.7005 - val_loss: 0.7612\n",
      "Epoch 253/300\n",
      "\u001b[1m34/34\u001b[0m \u001b[32m━━━━━━━━━━━━━━━━━━━━\u001b[0m\u001b[37m\u001b[0m \u001b[1m2s\u001b[0m 46ms/step - categorical_accuracy: 0.7469 - loss: 0.6894 - val_categorical_accuracy: 0.6941 - val_loss: 0.7803\n",
      "Epoch 254/300\n",
      "\u001b[1m34/34\u001b[0m \u001b[32m━━━━━━━━━━━━━━━━━━━━\u001b[0m\u001b[37m\u001b[0m \u001b[1m2s\u001b[0m 45ms/step - categorical_accuracy: 0.7626 - loss: 0.6559 - val_categorical_accuracy: 0.7168 - val_loss: 0.7695\n",
      "Epoch 255/300\n",
      "\u001b[1m34/34\u001b[0m \u001b[32m━━━━━━━━━━━━━━━━━━━━\u001b[0m\u001b[37m\u001b[0m \u001b[1m1s\u001b[0m 42ms/step - categorical_accuracy: 0.7488 - loss: 0.6766 - val_categorical_accuracy: 0.7200 - val_loss: 0.7637\n",
      "Epoch 256/300\n",
      "\u001b[1m34/34\u001b[0m \u001b[32m━━━━━━━━━━━━━━━━━━━━\u001b[0m\u001b[37m\u001b[0m \u001b[1m2s\u001b[0m 46ms/step - categorical_accuracy: 0.7601 - loss: 0.6798 - val_categorical_accuracy: 0.7081 - val_loss: 0.7901\n",
      "Epoch 257/300\n",
      "\u001b[1m34/34\u001b[0m \u001b[32m━━━━━━━━━━━━━━━━━━━━\u001b[0m\u001b[37m\u001b[0m \u001b[1m2s\u001b[0m 47ms/step - categorical_accuracy: 0.7590 - loss: 0.6721 - val_categorical_accuracy: 0.7081 - val_loss: 0.7833\n",
      "Epoch 258/300\n",
      "\u001b[1m34/34\u001b[0m \u001b[32m━━━━━━━━━━━━━━━━━━━━\u001b[0m\u001b[37m\u001b[0m \u001b[1m2s\u001b[0m 46ms/step - categorical_accuracy: 0.7425 - loss: 0.6795 - val_categorical_accuracy: 0.7135 - val_loss: 0.7577\n",
      "Epoch 259/300\n",
      "\u001b[1m34/34\u001b[0m \u001b[32m━━━━━━━━━━━━━━━━━━━━\u001b[0m\u001b[37m\u001b[0m \u001b[1m1s\u001b[0m 42ms/step - categorical_accuracy: 0.7680 - loss: 0.6553 - val_categorical_accuracy: 0.7135 - val_loss: 0.7854\n",
      "Epoch 260/300\n",
      "\u001b[1m34/34\u001b[0m \u001b[32m━━━━━━━━━━━━━━━━━━━━\u001b[0m\u001b[37m\u001b[0m \u001b[1m2s\u001b[0m 45ms/step - categorical_accuracy: 0.7572 - loss: 0.6731 - val_categorical_accuracy: 0.7232 - val_loss: 0.7705\n",
      "Epoch 261/300\n",
      "\u001b[1m34/34\u001b[0m \u001b[32m━━━━━━━━━━━━━━━━━━━━\u001b[0m\u001b[37m\u001b[0m \u001b[1m2s\u001b[0m 44ms/step - categorical_accuracy: 0.7590 - loss: 0.6859 - val_categorical_accuracy: 0.6995 - val_loss: 0.8012\n",
      "Epoch 262/300\n",
      "\u001b[1m34/34\u001b[0m \u001b[32m━━━━━━━━━━━━━━━━━━━━\u001b[0m\u001b[37m\u001b[0m \u001b[1m2s\u001b[0m 44ms/step - categorical_accuracy: 0.7538 - loss: 0.6791 - val_categorical_accuracy: 0.7114 - val_loss: 0.7914\n",
      "Epoch 263/300\n",
      "\u001b[1m34/34\u001b[0m \u001b[32m━━━━━━━━━━━━━━━━━━━━\u001b[0m\u001b[37m\u001b[0m \u001b[1m2s\u001b[0m 44ms/step - categorical_accuracy: 0.7689 - loss: 0.6542 - val_categorical_accuracy: 0.7081 - val_loss: 0.7854\n",
      "Epoch 264/300\n",
      "\u001b[1m34/34\u001b[0m \u001b[32m━━━━━━━━━━━━━━━━━━━━\u001b[0m\u001b[37m\u001b[0m \u001b[1m2s\u001b[0m 46ms/step - categorical_accuracy: 0.7522 - loss: 0.6644 - val_categorical_accuracy: 0.7059 - val_loss: 0.7834\n",
      "Epoch 265/300\n",
      "\u001b[1m34/34\u001b[0m \u001b[32m━━━━━━━━━━━━━━━━━━━━\u001b[0m\u001b[37m\u001b[0m \u001b[1m2s\u001b[0m 44ms/step - categorical_accuracy: 0.7715 - loss: 0.6589 - val_categorical_accuracy: 0.7146 - val_loss: 0.7615\n",
      "Epoch 266/300\n",
      "\u001b[1m34/34\u001b[0m \u001b[32m━━━━━━━━━━━━━━━━━━━━\u001b[0m\u001b[37m\u001b[0m \u001b[1m1s\u001b[0m 41ms/step - categorical_accuracy: 0.7645 - loss: 0.6551 - val_categorical_accuracy: 0.7070 - val_loss: 0.7627\n",
      "Epoch 267/300\n",
      "\u001b[1m34/34\u001b[0m \u001b[32m━━━━━━━━━━━━━━━━━━━━\u001b[0m\u001b[37m\u001b[0m \u001b[1m2s\u001b[0m 45ms/step - categorical_accuracy: 0.7583 - loss: 0.6729 - val_categorical_accuracy: 0.6962 - val_loss: 0.8181\n",
      "Epoch 268/300\n",
      "\u001b[1m34/34\u001b[0m \u001b[32m━━━━━━━━━━━━━━━━━━━━\u001b[0m\u001b[37m\u001b[0m \u001b[1m2s\u001b[0m 44ms/step - categorical_accuracy: 0.7583 - loss: 0.6866 - val_categorical_accuracy: 0.7265 - val_loss: 0.7585\n",
      "Epoch 269/300\n",
      "\u001b[1m34/34\u001b[0m \u001b[32m━━━━━━━━━━━━━━━━━━━━\u001b[0m\u001b[37m\u001b[0m \u001b[1m1s\u001b[0m 42ms/step - categorical_accuracy: 0.7580 - loss: 0.6650 - val_categorical_accuracy: 0.7092 - val_loss: 0.7888\n",
      "Epoch 270/300\n",
      "\u001b[1m34/34\u001b[0m \u001b[32m━━━━━━━━━━━━━━━━━━━━\u001b[0m\u001b[37m\u001b[0m \u001b[1m2s\u001b[0m 46ms/step - categorical_accuracy: 0.7595 - loss: 0.6771 - val_categorical_accuracy: 0.7092 - val_loss: 0.7722\n",
      "Epoch 271/300\n",
      "\u001b[1m34/34\u001b[0m \u001b[32m━━━━━━━━━━━━━━━━━━━━\u001b[0m\u001b[37m\u001b[0m \u001b[1m1s\u001b[0m 43ms/step - categorical_accuracy: 0.7609 - loss: 0.6507 - val_categorical_accuracy: 0.6973 - val_loss: 0.7930\n",
      "Epoch 272/300\n",
      "\u001b[1m34/34\u001b[0m \u001b[32m━━━━━━━━━━━━━━━━━━━━\u001b[0m\u001b[37m\u001b[0m \u001b[1m2s\u001b[0m 43ms/step - categorical_accuracy: 0.7520 - loss: 0.6605 - val_categorical_accuracy: 0.7157 - val_loss: 0.7667\n",
      "Epoch 273/300\n",
      "\u001b[1m34/34\u001b[0m \u001b[32m━━━━━━━━━━━━━━━━━━━━\u001b[0m\u001b[37m\u001b[0m \u001b[1m2s\u001b[0m 48ms/step - categorical_accuracy: 0.7750 - loss: 0.6405 - val_categorical_accuracy: 0.7016 - val_loss: 0.7931\n",
      "Epoch 274/300\n",
      "\u001b[1m34/34\u001b[0m \u001b[32m━━━━━━━━━━━━━━━━━━━━\u001b[0m\u001b[37m\u001b[0m \u001b[1m2s\u001b[0m 46ms/step - categorical_accuracy: 0.7662 - loss: 0.6670 - val_categorical_accuracy: 0.6995 - val_loss: 0.8156\n",
      "Epoch 275/300\n",
      "\u001b[1m34/34\u001b[0m \u001b[32m━━━━━━━━━━━━━━━━━━━━\u001b[0m\u001b[37m\u001b[0m \u001b[1m2s\u001b[0m 45ms/step - categorical_accuracy: 0.7529 - loss: 0.6580 - val_categorical_accuracy: 0.7081 - val_loss: 0.7854\n",
      "Epoch 276/300\n",
      "\u001b[1m34/34\u001b[0m \u001b[32m━━━━━━━━━━━━━━━━━━━━\u001b[0m\u001b[37m\u001b[0m \u001b[1m2s\u001b[0m 44ms/step - categorical_accuracy: 0.7674 - loss: 0.6380 - val_categorical_accuracy: 0.7168 - val_loss: 0.7561\n",
      "Epoch 277/300\n",
      "\u001b[1m34/34\u001b[0m \u001b[32m━━━━━━━━━━━━━━━━━━━━\u001b[0m\u001b[37m\u001b[0m \u001b[1m1s\u001b[0m 41ms/step - categorical_accuracy: 0.7769 - loss: 0.6452 - val_categorical_accuracy: 0.7124 - val_loss: 0.7927\n",
      "Epoch 278/300\n",
      "\u001b[1m34/34\u001b[0m \u001b[32m━━━━━━━━━━━━━━━━━━━━\u001b[0m\u001b[37m\u001b[0m \u001b[1m2s\u001b[0m 47ms/step - categorical_accuracy: 0.7647 - loss: 0.6503 - val_categorical_accuracy: 0.7157 - val_loss: 0.7617\n",
      "Epoch 279/300\n",
      "\u001b[1m34/34\u001b[0m \u001b[32m━━━━━━━━━━━━━━━━━━━━\u001b[0m\u001b[37m\u001b[0m \u001b[1m2s\u001b[0m 45ms/step - categorical_accuracy: 0.7582 - loss: 0.6739 - val_categorical_accuracy: 0.7070 - val_loss: 0.7538\n",
      "Epoch 280/300\n",
      "\u001b[1m34/34\u001b[0m \u001b[32m━━━━━━━━━━━━━━━━━━━━\u001b[0m\u001b[37m\u001b[0m \u001b[1m2s\u001b[0m 47ms/step - categorical_accuracy: 0.7629 - loss: 0.6617 - val_categorical_accuracy: 0.7038 - val_loss: 0.7731\n",
      "Epoch 281/300\n",
      "\u001b[1m34/34\u001b[0m \u001b[32m━━━━━━━━━━━━━━━━━━━━\u001b[0m\u001b[37m\u001b[0m \u001b[1m2s\u001b[0m 47ms/step - categorical_accuracy: 0.7669 - loss: 0.6387 - val_categorical_accuracy: 0.7297 - val_loss: 0.7677\n",
      "Epoch 282/300\n",
      "\u001b[1m34/34\u001b[0m \u001b[32m━━━━━━━━━━━━━━━━━━━━\u001b[0m\u001b[37m\u001b[0m \u001b[1m2s\u001b[0m 49ms/step - categorical_accuracy: 0.7640 - loss: 0.6491 - val_categorical_accuracy: 0.7265 - val_loss: 0.7676\n",
      "Epoch 283/300\n",
      "\u001b[1m34/34\u001b[0m \u001b[32m━━━━━━━━━━━━━━━━━━━━\u001b[0m\u001b[37m\u001b[0m \u001b[1m2s\u001b[0m 48ms/step - categorical_accuracy: 0.7729 - loss: 0.6425 - val_categorical_accuracy: 0.7135 - val_loss: 0.8089\n",
      "Epoch 284/300\n",
      "\u001b[1m34/34\u001b[0m \u001b[32m━━━━━━━━━━━━━━━━━━━━\u001b[0m\u001b[37m\u001b[0m \u001b[1m2s\u001b[0m 45ms/step - categorical_accuracy: 0.7607 - loss: 0.6483 - val_categorical_accuracy: 0.6832 - val_loss: 0.7974\n",
      "Epoch 285/300\n",
      "\u001b[1m34/34\u001b[0m \u001b[32m━━━━━━━━━━━━━━━━━━━━\u001b[0m\u001b[37m\u001b[0m \u001b[1m2s\u001b[0m 46ms/step - categorical_accuracy: 0.7550 - loss: 0.6706 - val_categorical_accuracy: 0.7070 - val_loss: 0.7752\n",
      "Epoch 286/300\n",
      "\u001b[1m34/34\u001b[0m \u001b[32m━━━━━━━━━━━━━━━━━━━━\u001b[0m\u001b[37m\u001b[0m \u001b[1m2s\u001b[0m 46ms/step - categorical_accuracy: 0.7637 - loss: 0.6561 - val_categorical_accuracy: 0.7146 - val_loss: 0.7632\n",
      "Epoch 287/300\n",
      "\u001b[1m34/34\u001b[0m \u001b[32m━━━━━━━━━━━━━━━━━━━━\u001b[0m\u001b[37m\u001b[0m \u001b[1m2s\u001b[0m 47ms/step - categorical_accuracy: 0.7759 - loss: 0.6376 - val_categorical_accuracy: 0.6962 - val_loss: 0.7944\n",
      "Epoch 288/300\n",
      "\u001b[1m34/34\u001b[0m \u001b[32m━━━━━━━━━━━━━━━━━━━━\u001b[0m\u001b[37m\u001b[0m \u001b[1m2s\u001b[0m 50ms/step - categorical_accuracy: 0.7687 - loss: 0.6613 - val_categorical_accuracy: 0.7178 - val_loss: 0.7703\n",
      "Epoch 289/300\n",
      "\u001b[1m34/34\u001b[0m \u001b[32m━━━━━━━━━━━━━━━━━━━━\u001b[0m\u001b[37m\u001b[0m \u001b[1m1s\u001b[0m 41ms/step - categorical_accuracy: 0.7819 - loss: 0.6427 - val_categorical_accuracy: 0.7254 - val_loss: 0.7768\n",
      "Epoch 290/300\n",
      "\u001b[1m34/34\u001b[0m \u001b[32m━━━━━━━━━━━━━━━━━━━━\u001b[0m\u001b[37m\u001b[0m \u001b[1m1s\u001b[0m 41ms/step - categorical_accuracy: 0.7724 - loss: 0.6472 - val_categorical_accuracy: 0.7232 - val_loss: 0.7535\n",
      "Epoch 291/300\n",
      "\u001b[1m34/34\u001b[0m \u001b[32m━━━━━━━━━━━━━━━━━━━━\u001b[0m\u001b[37m\u001b[0m \u001b[1m1s\u001b[0m 40ms/step - categorical_accuracy: 0.7697 - loss: 0.6447 - val_categorical_accuracy: 0.7049 - val_loss: 0.7892\n",
      "Epoch 292/300\n",
      "\u001b[1m34/34\u001b[0m \u001b[32m━━━━━━━━━━━━━━━━━━━━\u001b[0m\u001b[37m\u001b[0m \u001b[1m1s\u001b[0m 40ms/step - categorical_accuracy: 0.7642 - loss: 0.6543 - val_categorical_accuracy: 0.7168 - val_loss: 0.8028\n",
      "Epoch 293/300\n",
      "\u001b[1m34/34\u001b[0m \u001b[32m━━━━━━━━━━━━━━━━━━━━\u001b[0m\u001b[37m\u001b[0m \u001b[1m1s\u001b[0m 39ms/step - categorical_accuracy: 0.7583 - loss: 0.6738 - val_categorical_accuracy: 0.7038 - val_loss: 0.7644\n",
      "Epoch 294/300\n",
      "\u001b[1m34/34\u001b[0m \u001b[32m━━━━━━━━━━━━━━━━━━━━\u001b[0m\u001b[37m\u001b[0m \u001b[1m1s\u001b[0m 42ms/step - categorical_accuracy: 0.7579 - loss: 0.6646 - val_categorical_accuracy: 0.7016 - val_loss: 0.7958\n",
      "Epoch 295/300\n",
      "\u001b[1m34/34\u001b[0m \u001b[32m━━━━━━━━━━━━━━━━━━━━\u001b[0m\u001b[37m\u001b[0m \u001b[1m2s\u001b[0m 45ms/step - categorical_accuracy: 0.7689 - loss: 0.6648 - val_categorical_accuracy: 0.7070 - val_loss: 0.8009\n",
      "Epoch 296/300\n",
      "\u001b[1m34/34\u001b[0m \u001b[32m━━━━━━━━━━━━━━━━━━━━\u001b[0m\u001b[37m\u001b[0m \u001b[1m1s\u001b[0m 41ms/step - categorical_accuracy: 0.7673 - loss: 0.6592 - val_categorical_accuracy: 0.7200 - val_loss: 0.7741\n",
      "Epoch 297/300\n",
      "\u001b[1m34/34\u001b[0m \u001b[32m━━━━━━━━━━━━━━━━━━━━\u001b[0m\u001b[37m\u001b[0m \u001b[1m1s\u001b[0m 39ms/step - categorical_accuracy: 0.7794 - loss: 0.6342 - val_categorical_accuracy: 0.7189 - val_loss: 0.7866\n",
      "Epoch 298/300\n",
      "\u001b[1m34/34\u001b[0m \u001b[32m━━━━━━━━━━━━━━━━━━━━\u001b[0m\u001b[37m\u001b[0m \u001b[1m1s\u001b[0m 39ms/step - categorical_accuracy: 0.7789 - loss: 0.6439 - val_categorical_accuracy: 0.7049 - val_loss: 0.7878\n",
      "Epoch 299/300\n",
      "\u001b[1m34/34\u001b[0m \u001b[32m━━━━━━━━━━━━━━━━━━━━\u001b[0m\u001b[37m\u001b[0m \u001b[1m1s\u001b[0m 41ms/step - categorical_accuracy: 0.7633 - loss: 0.6646 - val_categorical_accuracy: 0.7124 - val_loss: 0.7645\n",
      "Epoch 300/300\n",
      "\u001b[1m34/34\u001b[0m \u001b[32m━━━━━━━━━━━━━━━━━━━━\u001b[0m\u001b[37m\u001b[0m \u001b[1m1s\u001b[0m 40ms/step - categorical_accuracy: 0.7781 - loss: 0.6364 - val_categorical_accuracy: 0.7124 - val_loss: 0.7843\n"
     ]
    },
    {
     "data": {
      "image/png": "[encoded data removed]",
      "text/plain": [
       "<Figure size 640x480 with 1 Axes>"
      ]
     },
     "metadata": {},
     "output_type": "display_data"
    },
    {
     "data": {
      "image/png": "[encoded data removed]",
      "text/plain": [
       "<Figure size 640x480 with 1 Axes>"
      ]
     },
     "metadata": {},
     "output_type": "display_data"
    }
   ],
   "source": [
    "from tensorflow.keras.optimizers import Adam\n",
    "num_classes = y_train_onehot.shape[1]  # Número de clases\n",
    "\n",
    "model = tf.keras.models.Sequential([\n",
    "    tf.keras.layers.InputLayer(shape=(464,)),\n",
    "    tf.keras.layers.Dense(1056, activation='relu', kernel_regularizer=tf.keras.regularizers.l2(0.01)),\n",
    "    # tf.keras.layers.Dropout(0.5),  # Dropout con 50% de probabilidad\n",
    "    tf.keras.layers.Dense(1056, activation='relu', kernel_regularizer=tf.keras.regularizers.l2(0.01)),  # Regularización L2\n",
    "    # tf.keras.layers.Dropout(0.5),  # Otro Dropout con 50% de probabilidad\n",
    "    # tf.keras.layers.Dense(32, activation='relu', kernel_regularizer=tf.keras.regularizers.l2(0.01)),  # Regularización L2\n",
    "    # tf.keras.layers.Dropout(0.5),  # Otro Dropout con 50% de probabilidad\n",
    "    # tf.keras.layers.Dense(528, activation='relu', kernel_regularizer=tf.keras.regularizers.l2(0.01)),  # Regularización L2\n",
    "    # tf.keras.layers.Dropout(0.5),  # Otro Dropout con 50% de probabilidad\n",
    "    tf.keras.layers.Dense(528, activation='relu', kernel_regularizer=tf.keras.regularizers.l2(0.01)),  # Regularización L2\n",
    "\n",
    "    \n",
    " \n",
    "    \n",
    "    # tf.keras.layers.Dense(264, activation='relu', kernel_regularizer=tf.keras.regularizers.l2(0.01)),  # Regularización L2\n",
    "    # tf.keras.layers.Dense(264, activation='relu', kernel_regularizer=tf.keras.regularizers.l2(0.01)),  # Regularización L2\n",
    "    # tf.keras.layers.Dense(128, activation='relu', kernel_regularizer=tf.keras.regularizers.l2(0.01)),  # Regularización L2\n",
    "    # tf.keras.layers.Dense(128, activation='relu', kernel_regularizer=tf.keras.regularizers.l2(0.01)),  # Regularización L2\n",
    "    tf.keras.layers.Dense(num_classes, activation='softmax')\n",
    "])\n",
    "# Compilar el modelo\n",
    "optimizer = Adam(learning_rate=0.001)\n",
    "model.compile(optimizer=optimizer,\n",
    "              loss='categorical_crossentropy',\n",
    "              metrics=['categorical_accuracy'])\n",
    "\n",
    "early_stopping = tf.keras.callbacks.EarlyStopping(monitor='val_loss', patience=10, restore_best_weights=True)\n",
    "# Entrenar el modelo\n",
    "history = model.fit(X_train, y_train_onehot,\n",
    "                    epochs=300,\n",
    "                    batch_size=128,\n",
    "                    validation_data=(X_dev, y_dev_onehot))\n",
    "                    # callbacks=[early_stopping]\n",
    "\n",
    "# Opcional: Graficar la pérdida y la precisión durante el entrenamiento\n",
    "plt.plot(history.history['loss'], label='loss')\n",
    "plt.plot(history.history['val_loss'], label='validation loss')\n",
    "plt.xlabel('Épocas')\n",
    "plt.ylabel('Pérdida')\n",
    "plt.legend()\n",
    "plt.show()\n",
    "\n",
    "\n",
    "plt.plot(history.history['categorical_accuracy'], label='accuracy') \n",
    "plt.plot(history.history['val_categorical_accuracy'], label='validation accuracy')\n",
    "plt.xlabel('Épocas')\n",
    "plt.ylabel('Precisión')\n",
    "plt.legend()\n",
    "plt.show()"
   ]
  },
  {
   "cell_type": "code",
   "execution_count": 62,
   "metadata": {},
   "outputs": [],
   "source": [
    "c_acuracy = history.history['categorical_accuracy'][0::30]\n",
    "v_acuracy = history.history['val_categorical_accuracy'][0::30]\n",
    "epocas = np.arange(1, len(history.history['categorical_accuracy']) + 1, 30)\n"
   ]
  },
  {
   "cell_type": "code",
   "execution_count": 63,
   "metadata": {},
   "outputs": [
    {
     "data": {
      "text/plain": [
       "Text(0, 0.5, 'Precisión')"
      ]
     },
     "execution_count": 63,
     "metadata": {},
     "output_type": "execute_result"
    },
    {
     "data": {
      "image/png": "[encoded data removed]",
      "text/plain": [
       "<Figure size 640x480 with 1 Axes>"
      ]
     },
     "metadata": {},
     "output_type": "display_data"
    }
   ],
   "source": [
    "plt.plot(epocas,c_acuracy, label='entrenamiento', color='black', linewidth=2.5, linestyle='-', marker='o')\n",
    "plt.plot(epocas,v_acuracy, label='validacion', color='red', linewidth=2.5, linestyle='-', marker='o')\n",
    "plt.legend()\n",
    "\n",
    "plt.xlabel('Épocas')\n",
    "plt.ylabel('Precisión')\n",
    "# plt.savefig('C:\\\\Users\\\\hgera\\\\OneDrive\\\\Escritorio\\\\PY4E\\\\figuras\\\\accuracy_faces.pdf')\n"
   ]
  },
  {
   "cell_type": "code",
   "execution_count": 64,
   "metadata": {},
   "outputs": [
    {
     "data": {
      "text/plain": [
       "(-0.5, 699.5, 699.5, -0.5)"
      ]
     },
     "execution_count": 64,
     "metadata": {},
     "output_type": "execute_result"
    },
    {
     "data": {
      "image/png": "[encoded data removed]",
      "text/plain": [
       "<Figure size 640x480 with 1 Axes>"
      ]
     },
     "metadata": {},
     "output_type": "display_data"
    }
   ],
   "source": [
    "import cv2\n",
    "import numpy as np\n",
    "import matplotlib.pyplot as plt\n",
    "\n",
    "# Parámetros para la red neuronal\n",
    "input_shape = 936  # Número de neuronas de entrada\n",
    "num_classes = 5 # Número de neuronas de salida (clases)\n",
    "hidden_layers = [(1028, 'ReLU', 'L2'), (1028, 'ReLU', 'L2'),(564, 'ReLU', 'L2')]  # Capas ocultas con número de neuronas, activación y regularización\n",
    "\n",
    "# Crear una imagen en blanco\n",
    "height, width = 700, 700  # Dimensiones de la imagen\n",
    "image = np.ones((height, width, 3), dtype=np.uint8) * 255  # Fondo blanco\n",
    "\n",
    "# Coordenadas iniciales y finales para dibujar las capas\n",
    "start_x = 50\n",
    "end_x = width - 50\n",
    "layer_height = 100  # Altura de cada capa\n",
    "\n",
    "# Dibujar la capa de entrada\n",
    "cv2.putText(image, f'    Capa de Entrada ({input_shape})', (start_x, layer_height), cv2.FONT_HERSHEY_SIMPLEX, 1, (0, 0, 0), 2)\n",
    "cv2.rectangle(image, (start_x, layer_height - 40), (end_x, layer_height + 40), (0, 0, 0), 2)\n",
    "\n",
    "# Dibujar capas ocultas\n",
    "for i, (neurons, activation, regularization) in enumerate(hidden_layers, start=2):\n",
    "    cv2.putText(image, f'    Capa Oculta ({neurons}, {activation}, {regularization})', \n",
    "                (start_x, i * layer_height), cv2.FONT_HERSHEY_SIMPLEX, 1, (0, 0, 0), 2)\n",
    "    cv2.rectangle(image, (start_x, i * layer_height - 40), (end_x, i * layer_height + 40), (0, 0, 0), 2)\n",
    "\n",
    "# Dibujar la capa de salida\n",
    "cv2.putText(image, f'    Capa de Salida ({num_classes}, Softmax)', (start_x, (len(hidden_layers) + 2) * layer_height), \n",
    "            cv2.FONT_HERSHEY_SIMPLEX, 1, (0, 0, 0), 2)\n",
    "cv2.rectangle(image, (start_x, (len(hidden_layers) + 2) * layer_height - 40), \n",
    "              (end_x, (len(hidden_layers) + 2) * layer_height + 40), (0, 0, 0), 2)\n",
    "\n",
    "# Mostrar la imagen\n",
    "# cv2.imshow('Red Neuronal', image)\n",
    "plt.imshow(image)\n",
    "plt.axis('off')\n",
    "\n"
   ]
  },
  {
   "cell_type": "code",
   "execution_count": 65,
   "metadata": {},
   "outputs": [
    {
     "name": "stdout",
     "output_type": "stream",
     "text": [
      "******************************************************************************************************************************************************\n",
      "\u001b[1m29/29\u001b[0m \u001b[32m━━━━━━━━━━━━━━━━━━━━\u001b[0m\u001b[37m\u001b[0m \u001b[1m0s\u001b[0m 6ms/step - categorical_accuracy: 0.7049 - loss: 0.7742\n",
      "Acuraccy on test data: 0.72\n",
      "Loss on test data: 0.74\n"
     ]
    }
   ],
   "source": [
    "# Evaluar el modelo\n",
    "print('***'*50)\n",
    "\n",
    "test_loss, test_acc = model.evaluate(X_test, y_test_onehot)\n",
    "print(f'Acuraccy on test data: {test_acc:.2f}')\n",
    "print(f'Loss on test data: {test_loss:.2f}')\n"
   ]
  },
  {
   "cell_type": "code",
   "execution_count": 68,
   "metadata": {},
   "outputs": [
    {
     "name": "stderr",
     "output_type": "stream",
     "text": [
      "WARNING:absl:You are saving your model as an HDF5 file via `model.save()` or `keras.saving.save_model(model)`. This file format is considered legacy. We recommend using instead the native Keras format, e.g. `model.save('my_model.keras')` or `keras.saving.save_model(model, 'my_model.keras')`. \n"
     ]
    }
   ],
   "source": [
    "#* Save the model\n",
    "path_save = '..\\\\..\\\\models\\\\Trained\\\\face\\\\face_model.h5'\n",
    "model.save(path_save)"
   ]
  },
  {
   "cell_type": "markdown",
   "metadata": {},
   "source": [
    "### REVISION\n"
   ]
  },
  {
   "cell_type": "code",
   "execution_count": 69,
   "metadata": {},
   "outputs": [
    {
     "name": "stderr",
     "output_type": "stream",
     "text": [
      "WARNING:absl:Compiled the loaded model, but the compiled metrics have yet to be built. `model.compile_metrics` will be empty until you train or evaluate the model.\n"
     ]
    },
    {
     "data": {
      "text/html": [
       "<pre style=\"white-space:pre;overflow-x:auto;line-height:normal;font-family:Menlo,'DejaVu Sans Mono',consolas,'Courier New',monospace\"><span style=\"font-weight: bold\">Model: \"sequential_2\"</span>\n",
       "</pre>\n"
      ],
      "text/plain": [
       "\u001b[1mModel: \"sequential_2\"\u001b[0m\n"
      ]
     },
     "metadata": {},
     "output_type": "display_data"
    },
    {
     "data": {
      "text/html": [
       "<pre style=\"white-space:pre;overflow-x:auto;line-height:normal;font-family:Menlo,'DejaVu Sans Mono',consolas,'Courier New',monospace\">┏━━━━━━━━━━━━━━━━━━━━━━━━━━━━━━━━━┳━━━━━━━━━━━━━━━━━━━━━━━━┳━━━━━━━━━━━━━━━┓\n",
       "┃<span style=\"font-weight: bold\"> Layer (type)                    </span>┃<span style=\"font-weight: bold\"> Output Shape           </span>┃<span style=\"font-weight: bold\">       Param # </span>┃\n",
       "┡━━━━━━━━━━━━━━━━━━━━━━━━━━━━━━━━━╇━━━━━━━━━━━━━━━━━━━━━━━━╇━━━━━━━━━━━━━━━┩\n",
       "│ dense_8 (<span style=\"color: #0087ff; text-decoration-color: #0087ff\">Dense</span>)                 │ (<span style=\"color: #00d7ff; text-decoration-color: #00d7ff\">None</span>, <span style=\"color: #00af00; text-decoration-color: #00af00\">1056</span>)           │       <span style=\"color: #00af00; text-decoration-color: #00af00\">491,040</span> │\n",
       "├─────────────────────────────────┼────────────────────────┼───────────────┤\n",
       "│ dense_9 (<span style=\"color: #0087ff; text-decoration-color: #0087ff\">Dense</span>)                 │ (<span style=\"color: #00d7ff; text-decoration-color: #00d7ff\">None</span>, <span style=\"color: #00af00; text-decoration-color: #00af00\">1056</span>)           │     <span style=\"color: #00af00; text-decoration-color: #00af00\">1,116,192</span> │\n",
       "├─────────────────────────────────┼────────────────────────┼───────────────┤\n",
       "│ dense_10 (<span style=\"color: #0087ff; text-decoration-color: #0087ff\">Dense</span>)                │ (<span style=\"color: #00d7ff; text-decoration-color: #00d7ff\">None</span>, <span style=\"color: #00af00; text-decoration-color: #00af00\">528</span>)            │       <span style=\"color: #00af00; text-decoration-color: #00af00\">558,096</span> │\n",
       "├─────────────────────────────────┼────────────────────────┼───────────────┤\n",
       "│ dense_11 (<span style=\"color: #0087ff; text-decoration-color: #0087ff\">Dense</span>)                │ (<span style=\"color: #00d7ff; text-decoration-color: #00d7ff\">None</span>, <span style=\"color: #00af00; text-decoration-color: #00af00\">5</span>)              │         <span style=\"color: #00af00; text-decoration-color: #00af00\">2,645</span> │\n",
       "└─────────────────────────────────┴────────────────────────┴───────────────┘\n",
       "</pre>\n"
      ],
      "text/plain": [
       "┏━━━━━━━━━━━━━━━━━━━━━━━━━━━━━━━━━┳━━━━━━━━━━━━━━━━━━━━━━━━┳━━━━━━━━━━━━━━━┓\n",
       "┃\u001b[1m \u001b[0m\u001b[1mLayer (type)                   \u001b[0m\u001b[1m \u001b[0m┃\u001b[1m \u001b[0m\u001b[1mOutput Shape          \u001b[0m\u001b[1m \u001b[0m┃\u001b[1m \u001b[0m\u001b[1m      Param #\u001b[0m\u001b[1m \u001b[0m┃\n",
       "┡━━━━━━━━━━━━━━━━━━━━━━━━━━━━━━━━━╇━━━━━━━━━━━━━━━━━━━━━━━━╇━━━━━━━━━━━━━━━┩\n",
       "│ dense_8 (\u001b[38;5;33mDense\u001b[0m)                 │ (\u001b[38;5;45mNone\u001b[0m, \u001b[38;5;34m1056\u001b[0m)           │       \u001b[38;5;34m491,040\u001b[0m │\n",
       "├─────────────────────────────────┼────────────────────────┼───────────────┤\n",
       "│ dense_9 (\u001b[38;5;33mDense\u001b[0m)                 │ (\u001b[38;5;45mNone\u001b[0m, \u001b[38;5;34m1056\u001b[0m)           │     \u001b[38;5;34m1,116,192\u001b[0m │\n",
       "├─────────────────────────────────┼────────────────────────┼───────────────┤\n",
       "│ dense_10 (\u001b[38;5;33mDense\u001b[0m)                │ (\u001b[38;5;45mNone\u001b[0m, \u001b[38;5;34m528\u001b[0m)            │       \u001b[38;5;34m558,096\u001b[0m │\n",
       "├─────────────────────────────────┼────────────────────────┼───────────────┤\n",
       "│ dense_11 (\u001b[38;5;33mDense\u001b[0m)                │ (\u001b[38;5;45mNone\u001b[0m, \u001b[38;5;34m5\u001b[0m)              │         \u001b[38;5;34m2,645\u001b[0m │\n",
       "└─────────────────────────────────┴────────────────────────┴───────────────┘\n"
      ]
     },
     "metadata": {},
     "output_type": "display_data"
    },
    {
     "data": {
      "text/html": [
       "<pre style=\"white-space:pre;overflow-x:auto;line-height:normal;font-family:Menlo,'DejaVu Sans Mono',consolas,'Courier New',monospace\"><span style=\"font-weight: bold\"> Total params: </span><span style=\"color: #00af00; text-decoration-color: #00af00\">2,167,975</span> (8.27 MB)\n",
       "</pre>\n"
      ],
      "text/plain": [
       "\u001b[1m Total params: \u001b[0m\u001b[38;5;34m2,167,975\u001b[0m (8.27 MB)\n"
      ]
     },
     "metadata": {},
     "output_type": "display_data"
    },
    {
     "data": {
      "text/html": [
       "<pre style=\"white-space:pre;overflow-x:auto;line-height:normal;font-family:Menlo,'DejaVu Sans Mono',consolas,'Courier New',monospace\"><span style=\"font-weight: bold\"> Trainable params: </span><span style=\"color: #00af00; text-decoration-color: #00af00\">2,167,973</span> (8.27 MB)\n",
       "</pre>\n"
      ],
      "text/plain": [
       "\u001b[1m Trainable params: \u001b[0m\u001b[38;5;34m2,167,973\u001b[0m (8.27 MB)\n"
      ]
     },
     "metadata": {},
     "output_type": "display_data"
    },
    {
     "data": {
      "text/html": [
       "<pre style=\"white-space:pre;overflow-x:auto;line-height:normal;font-family:Menlo,'DejaVu Sans Mono',consolas,'Courier New',monospace\"><span style=\"font-weight: bold\"> Non-trainable params: </span><span style=\"color: #00af00; text-decoration-color: #00af00\">0</span> (0.00 B)\n",
       "</pre>\n"
      ],
      "text/plain": [
       "\u001b[1m Non-trainable params: \u001b[0m\u001b[38;5;34m0\u001b[0m (0.00 B)\n"
      ]
     },
     "metadata": {},
     "output_type": "display_data"
    },
    {
     "data": {
      "text/html": [
       "<pre style=\"white-space:pre;overflow-x:auto;line-height:normal;font-family:Menlo,'DejaVu Sans Mono',consolas,'Courier New',monospace\"><span style=\"font-weight: bold\"> Optimizer params: </span><span style=\"color: #00af00; text-decoration-color: #00af00\">2</span> (12.00 B)\n",
       "</pre>\n"
      ],
      "text/plain": [
       "\u001b[1m Optimizer params: \u001b[0m\u001b[38;5;34m2\u001b[0m (12.00 B)\n"
      ]
     },
     "metadata": {},
     "output_type": "display_data"
    }
   ],
   "source": [
    "model = tf.keras.models.load_model(path_save)\n",
    "model.summary()"
   ]
  },
  {
   "cell_type": "code",
   "execution_count": 72,
   "metadata": {},
   "outputs": [
    {
     "name": "stdout",
     "output_type": "stream",
     "text": [
      "(1, 464)\n",
      "\u001b[1m1/1\u001b[0m \u001b[32m━━━━━━━━━━━━━━━━━━━━\u001b[0m\u001b[37m\u001b[0m \u001b[1m0s\u001b[0m 42ms/step\n",
      "Predicción: Neutral\n"
     ]
    }
   ],
   "source": [
    "# Supongamos que tienes datos nuevos para predecir\n",
    "dict_labels = {i: letter for i, letter in enumerate(label_encoder.classes_)}\n",
    "new_data = data_h5[4][:, 10 ]  # Supongamos que solo tenemos un dato nuevo\n",
    "new_data = new_data.reshape(1, -1)  # Convertirlo a un arreglo 2D\n",
    "print(new_data.shape)\n",
    "# Preprocesar los datos nuevos (normalización, etc.)\n",
    "new_data_normalized = scaler.transform(new_data)  # Normalización Z-score\n",
    "\n",
    "# Hacer predicciones\n",
    "predictions = model.predict(new_data_normalized)\n",
    "\n",
    "# Convertir las predicciones a etiquetas\n",
    "predicted_class = np.argmax(predictions, axis=1)\n",
    "\n",
    "print(f'Predicción: {dict_labels[predicted_class[0]]}')"
   ]
  },
  {
   "cell_type": "markdown",
   "metadata": {},
   "source": [
    "#### SAVE the values of the normalization"
   ]
  },
  {
   "cell_type": "code",
   "execution_count": 75,
   "metadata": {},
   "outputs": [
    {
     "data": {
      "text/plain": [
       "['..\\\\..\\\\models\\\\Trained\\\\face\\\\scaler_faces.pkl']"
      ]
     },
     "execution_count": 75,
     "metadata": {},
     "output_type": "execute_result"
    }
   ],
   "source": [
    "from sklearn.preprocessing import StandardScaler\n",
    "import joblib\n",
    "import numpy as np\n",
    "\n",
    "\n",
    "# Guardar el escalador ajustado en un archivo\n",
    "joblib.dump(scaler, '..\\\\..\\\\models\\\\Trained\\\\face\\\\scaler_faces.pkl')\n"
   ]
  }
 ],
 "metadata": {
  "kernelspec": {
   "display_name": "env",
   "language": "python",
   "name": "python3"
  },
  "language_info": {
   "codemirror_mode": {
    "name": "ipython",
    "version": 3
   },
   "file_extension": ".py",
   "mimetype": "text/x-python",
   "name": "python",
   "nbconvert_exporter": "python",
   "pygments_lexer": "ipython3",
   "version": "3.11.5"
  }
 },
 "nbformat": 4,
 "nbformat_minor": 2
}
