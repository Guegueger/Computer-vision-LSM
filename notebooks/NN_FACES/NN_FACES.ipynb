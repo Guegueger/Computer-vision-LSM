{
 "cells": [
  {
   "cell_type": "code",
   "execution_count": 4,
   "metadata": {},
   "outputs": [],
   "source": [
    "import h5py as h5\n",
    "import numpy as np\n",
    "import tensorflow as tf\n",
    "import matplotlib.pyplot as plt\n",
    "from tensorflow.python.framework.ops import EagerTensor\n",
    "from tensorflow.python.ops.resource_variable_ops import ResourceVariable\n",
    "from tensorflow import keras\n",
    "from modules.loaders import load_dataset\n",
    "from sklearn.preprocessing import LabelEncoder\n",
    "from sklearn.model_selection import train_test_split"
   ]
  },
  {
   "cell_type": "code",
   "execution_count": 5,
   "metadata": {},
   "outputs": [
    {
     "data": {
      "text/plain": [
       "h5py._hl.files.File"
      ]
     },
     "execution_count": 5,
     "metadata": {},
     "output_type": "execute_result"
    }
   ],
   "source": [
    "###* Load the dataset\n",
    "dataset = load_dataset(h5_file= 'positions_FACES.h5').load_h5()\n",
    "type(dataset)"
   ]
  },
  {
   "cell_type": "code",
   "execution_count": 22,
   "metadata": {},
   "outputs": [
    {
     "data": {
      "text/plain": [
       "(6165,)"
      ]
     },
     "execution_count": 22,
     "metadata": {},
     "output_type": "execute_result"
    }
   ],
   "source": [
    "with dataset as h5file:\n",
    "    data_h5 = []\n",
    "    labels = []\n",
    "    for face in h5file.keys():\n",
    "        positions = h5file[face]['positions'][:]\n",
    "        data_h5.append(positions)\n",
    "        # print(positions.shape)\n",
    "        labels.extend([face]*positions.shape[1]) #* extend is used to add the elements of the list, not the list itself  \n",
    "\n",
    "labels = np.array(labels)\n",
    "labels_letter = np.reshape(labels, (labels.shape[0], ))\n",
    "labels_letter.shape\n"
   ]
  },
  {
   "cell_type": "code",
   "execution_count": 23,
   "metadata": {},
   "outputs": [
    {
     "name": "stdout",
     "output_type": "stream",
     "text": [
      "Data shape 0 (936, 1233)\n",
      "Data shape 1 (936, 1233)\n",
      "Data shape 2 (936, 1233)\n",
      "Data shape 3 (936, 1233)\n",
      "Data shape 4 (936, 1233)\n"
     ]
    }
   ],
   "source": [
    "for i, id in enumerate(data_h5):\n",
    "    print('Data shape',i, id.shape)"
   ]
  },
  {
   "cell_type": "markdown",
   "metadata": {},
   "source": [
    "#### Remember nx -> 468*3 (positions in x and y)     m -> number of samples"
   ]
  },
  {
   "cell_type": "code",
   "execution_count": 24,
   "metadata": {},
   "outputs": [
    {
     "name": "stdout",
     "output_type": "stream",
     "text": [
      "The number of classes is: 5\n"
     ]
    },
    {
     "data": {
      "text/plain": [
       "(6165,)"
      ]
     },
     "execution_count": 24,
     "metadata": {},
     "output_type": "execute_result"
    }
   ],
   "source": [
    "label_encoder = LabelEncoder() ###* Face TO NUMBERS \n",
    "labels = label_encoder.fit_transform(labels_letter)\n",
    "print('The number of classes is:', len(label_encoder.classes_))\n",
    "labels.shape"
   ]
  },
  {
   "cell_type": "code",
   "execution_count": 25,
   "metadata": {},
   "outputs": [
    {
     "data": {
      "text/plain": [
       "17958"
      ]
     },
     "execution_count": 25,
     "metadata": {},
     "output_type": "execute_result"
    }
   ],
   "source": [
    "2993*6"
   ]
  },
  {
   "cell_type": "code",
   "execution_count": 26,
   "metadata": {},
   "outputs": [
    {
     "data": {
      "text/plain": [
       "array(['Enojo', 'Feliz', 'Neutral', 'Sorpresa', 'Triste'], dtype='<U8')"
      ]
     },
     "execution_count": 26,
     "metadata": {},
     "output_type": "execute_result"
    }
   ],
   "source": [
    "label_encoder.classes_"
   ]
  },
  {
   "cell_type": "markdown",
   "metadata": {},
   "source": [
    "### For every sample m we have one label"
   ]
  },
  {
   "cell_type": "code",
   "execution_count": 27,
   "metadata": {},
   "outputs": [
    {
     "data": {
      "text/plain": [
       "(936, 6165)"
      ]
     },
     "execution_count": 27,
     "metadata": {},
     "output_type": "execute_result"
    }
   ],
   "source": [
    "data = np.concatenate(data_h5,axis=1)\n",
    "data.shape"
   ]
  },
  {
   "cell_type": "markdown",
   "metadata": {},
   "source": [
    "#### sklearn needs data.shape = (m, nx), where:\n",
    "#### m is the number of samples\n",
    "#### nx number of featues (positions in this case)"
   ]
  },
  {
   "cell_type": "code",
   "execution_count": 28,
   "metadata": {},
   "outputs": [
    {
     "data": {
      "text/plain": [
       "(6165, 936)"
      ]
     },
     "execution_count": 28,
     "metadata": {},
     "output_type": "execute_result"
    }
   ],
   "source": [
    "data = data.T\n",
    "data.shape\n"
   ]
  },
  {
   "cell_type": "code",
   "execution_count": 29,
   "metadata": {},
   "outputs": [
    {
     "data": {
      "text/plain": [
       "array([0.47104776, 0.69397545, 0.44757318, 0.59490067, 0.47126651,\n",
       "       0.62478018, 0.44774017, 0.49775058, 0.44701153, 0.5655691 ,\n",
       "       0.45588827, 0.52794784, 0.48553571, 0.43397275, 0.3547174 ,\n",
       "       0.40136755, 0.49332994, 0.38069078, 0.49380013, 0.34620649,\n",
       "       0.51330113, 0.19451004, 0.47233513, 0.7079978 , 0.47592664,\n",
       "       0.71735626, 0.48073196, 0.72049487, 0.4586345 , 0.82136345,\n",
       "       0.45574662, 0.83627164, 0.45417613, 0.85198748, 0.45546794,\n",
       "       0.86809766, 0.463494  , 0.87981141, 0.45378238, 0.61005664,\n",
       "       0.44208419, 0.6042639 , 0.30462959, 0.29833674, 0.41982615,\n",
       "       0.43379959, 0.39630988, 0.4340027 , 0.3733142 , 0.43087018,\n",
       "       0.3481828 , 0.41106081, 0.43715221, 0.42836329, 0.38228297,\n",
       "       0.36724341, 0.40735731, 0.37171522, 0.36075988, 0.36807007,\n",
       "       0.3481105 , 0.37444758, 0.33036125, 0.43090701, 0.38815045,\n",
       "       0.86833256, 0.34794655, 0.39475471, 0.29497889, 0.4145501 ,\n",
       "       0.31248322, 0.41278809, 0.37788263, 0.55462867, 0.43954149,\n",
       "       0.68479699, 0.45107597, 0.71370965, 0.41430017, 0.68921244,\n",
       "       0.40347826, 0.70183772, 0.43365794, 0.71394521, 0.42239606,\n",
       "       0.71838641, 0.37857503, 0.7645368 , 0.42892733, 0.5908128 ,\n",
       "       0.42639196, 0.56334019, 0.31525707, 0.35430843, 0.42893642,\n",
       "       0.48577759, 0.39870292, 0.57288456, 0.40255368, 0.55746996,\n",
       "       0.32161948, 0.54317033, 0.43582457, 0.52804941, 0.35756844,\n",
       "       0.33715498, 0.33015552, 0.34019816, 0.31622487, 0.25306082,\n",
       "       0.45097733, 0.37237161, 0.43010789, 0.3808462 , 0.37012359,\n",
       "       0.72316754, 0.32300833, 0.68675339, 0.41626275, 0.59119254,\n",
       "       0.4342882 , 0.60489589, 0.38929743, 0.73548889, 0.40178615,\n",
       "       0.73806447, 0.32113221, 0.32191926, 0.40277293, 0.58563101,\n",
       "       0.39782035, 0.34732375, 0.39221382, 0.32406086, 0.38629091,\n",
       "       0.1983206 , 0.3184824 , 0.28611565, 0.3897903 , 0.25686604,\n",
       "       0.30724669, 0.34197444, 0.30476809, 0.3213709 , 0.44362777,\n",
       "       0.70182878, 0.42355233, 0.70444208, 0.41181868, 0.71037722,\n",
       "       0.4229238 , 0.59776306, 0.39484814, 0.73754179, 0.39406091,\n",
       "       0.76534927, 0.40670723, 0.73686635, 0.41823351, 0.58434135,\n",
       "       0.43087631, 0.7170527 , 0.44284552, 0.71487689, 0.45894304,\n",
       "       0.71682727, 0.42579579, 0.86732632, 0.41887522, 0.85402346,\n",
       "       0.42084837, 0.8395232 , 0.42630392, 0.82427669, 0.43307918,\n",
       "       0.81275213, 0.4118968 , 0.78289151, 0.40526822, 0.78583747,\n",
       "       0.39577958, 0.79048824, 0.38965705, 0.79537398, 0.3869442 ,\n",
       "       0.66765392, 0.31582198, 0.5399034 , 0.46198216, 0.61619604,\n",
       "       0.40969479, 0.76677179, 0.40062433, 0.76600927, 0.44189852,\n",
       "       0.62013429, 0.41309729, 0.60527343, 0.43781632, 0.61288828,\n",
       "       0.40797156, 0.49867928, 0.37046063, 0.5144828 , 0.40238452,\n",
       "       0.57007176, 0.34146056, 0.21838242, 0.3457185 , 0.26318935,\n",
       "       0.35085577, 0.31445765, 0.38582498, 0.79977131, 0.44178784,\n",
       "       0.33730549, 0.44020599, 0.25882366, 0.44056964, 0.19129604,\n",
       "       0.35651192, 0.42273286, 0.30907851, 0.44921044, 0.44740632,\n",
       "       0.42255902, 0.32858899, 0.38190535, 0.44266838, 0.47026014,\n",
       "       0.40544152, 0.56515437, 0.29077426, 0.46674204, 0.31719375,\n",
       "       0.46982038, 0.33998409, 0.48327494, 0.38164842, 0.48302349,\n",
       "       0.41396534, 0.47431549, 0.43587458, 0.46389511, 0.46522921,\n",
       "       0.43879798, 0.28612253, 0.52589852, 0.31344175, 0.37989596,\n",
       "       0.44209838, 0.60712439, 0.42336076, 0.5143711 , 0.30953586,\n",
       "       0.41321659, 0.45081478, 0.45208466, 0.40644848, 0.57114351,\n",
       "       0.34179708, 0.39533418, 0.41117424, 0.54666442, 0.31444481,\n",
       "       0.60855556, 0.44735166, 0.41257331, 0.42224112, 0.53479886,\n",
       "       0.33145878, 0.7684561 , 0.34145144, 0.80221587, 0.28516749,\n",
       "       0.53322303, 0.31621218, 0.72256434, 0.29994524, 0.36311585,\n",
       "       0.38338414, 0.89678121, 0.45270619, 0.61406934, 0.40577102,\n",
       "       0.53287202, 0.30050486, 0.41681972, 0.37584081, 0.41321436,\n",
       "       0.39658993, 0.4177469 , 0.3885546 , 0.76514959, 0.28939879,\n",
       "       0.58521998, 0.4198454 , 0.95448005, 0.36932051, 0.88645363,\n",
       "       0.35541913, 0.84900969, 0.50258446, 0.2651622 , 0.47395751,\n",
       "       0.97516149, 0.41650361, 0.41769549, 0.4338344 , 0.41473705,\n",
       "       0.44351897, 0.41350347, 0.30418152, 0.37382174, 0.42974687,\n",
       "       0.39576805, 0.41088003, 0.38908964, 0.39008969, 0.38559568,\n",
       "       0.37005144, 0.38648167, 0.3584775 , 0.39025027, 0.30295262,\n",
       "       0.34810641, 0.36304212, 0.40720195, 0.47285411, 0.64735061,\n",
       "       0.40149868, 0.64979649, 0.41277882, 0.58661777, 0.43893802,\n",
       "       0.645473  , 0.49347764, 0.40513209, 0.34732756, 0.81430548,\n",
       "       0.36529982, 0.85411441, 0.41555214, 0.9329651 , 0.33297816,\n",
       "       0.7530514 , 0.4414213 , 0.40538126, 0.44421887, 0.48217326,\n",
       "       0.46779075, 0.95359904, 0.38815242, 0.92338896, 0.28881526,\n",
       "       0.59813291, 0.41866225, 0.79940635, 0.41114047, 0.80668634,\n",
       "       0.40285555, 0.81672049, 0.39752367, 0.82819366, 0.39872545,\n",
       "       0.83581817, 0.4126716 , 0.72523052, 0.40339348, 0.72089338,\n",
       "       0.39640632, 0.71496278, 0.37695825, 0.69240272, 0.31063014,\n",
       "       0.60589516, 0.45444268, 0.45314214, 0.46044421, 0.40061963,\n",
       "       0.44970456, 0.39940387, 0.42062747, 0.72211093, 0.31484732,\n",
       "       0.68001455, 0.46935621, 0.40535879, 0.39677075, 0.8466109 ,\n",
       "       0.46606326, 0.49580052, 0.45576862, 0.46942919, 0.47585487,\n",
       "       0.46557072, 0.42580426, 0.52348769, 0.46598607, 0.92401803,\n",
       "       0.46584997, 0.89624149, 0.42568338, 0.88065094, 0.36303046,\n",
       "       0.7651307 , 0.39043164, 0.59529865, 0.37752783, 0.80752289,\n",
       "       0.34581292, 0.58785176, 0.37229323, 0.62643659, 0.33446193,\n",
       "       0.63477641, 0.4185558 , 0.90591109, 0.41757336, 0.53647989,\n",
       "       0.34872511, 0.78260434, 0.36921448, 0.82553494, 0.35217911,\n",
       "       0.7202642 , 0.29770491, 0.63789821, 0.3315725 , 0.71996284,\n",
       "       0.29956883, 0.66134787, 0.36050752, 0.66551173, 0.43453678,\n",
       "       0.49796951, 0.41010481, 0.57848424, 0.40351903, 0.58321273,\n",
       "       0.41358107, 0.56255287, 0.44281152, 0.38052863, 0.40463296,\n",
       "       0.36338419, 0.37196812, 0.35663247, 0.34679905, 0.35758471,\n",
       "       0.33266294, 0.36553717, 0.32910758, 0.40524083, 0.28789195,\n",
       "       0.47272205, 0.33948076, 0.44342321, 0.35929772, 0.45426115,\n",
       "       0.38946915, 0.45716363, 0.4186416 , 0.45268783, 0.43891466,\n",
       "       0.44559118, 0.45200574, 0.43898499, 0.31633955, 0.47665465,\n",
       "       0.40841717, 0.59101117, 0.43439788, 0.50813699, 0.41798818,\n",
       "       0.58339125, 0.43573868, 0.59998953, 0.42300382, 0.58766395,\n",
       "       0.41672128, 0.60135722, 0.43693802, 0.60403281, 0.44610703,\n",
       "       0.61017376, 0.45430195, 0.41555861, 0.46245962, 0.42615235,\n",
       "       0.46262383, 0.43334392, 0.35223004, 0.39299715, 0.34023437,\n",
       "       0.38254416, 0.4893989 , 0.5027597 , 0.70953059, 0.44544393,\n",
       "       0.48907048, 0.61114311, 0.88004148, 0.3528387 , 0.61970687,\n",
       "       0.45853803, 0.64817017, 0.46510649, 0.67843831, 0.46834332,\n",
       "       0.7253384 , 0.4577629 , 0.59794623, 0.44811544, 0.66524732,\n",
       "       0.39664605, 0.63441765, 0.39430064, 0.69507653, 0.40436178,\n",
       "       0.7164309 , 0.41542095, 0.7508086 , 0.48144692, 0.58584654,\n",
       "       0.90512621, 0.72436231, 0.44093832, 0.88172203, 0.48246944,\n",
       "       0.79466289, 0.47002783, 0.62750715, 0.58520806, 0.51066458,\n",
       "       0.69529617, 0.50940245, 0.72232348, 0.55403537, 0.71056426,\n",
       "       0.58274126, 0.72703755, 0.54009324, 0.72958356, 0.56488907,\n",
       "       0.73723614, 0.62477064, 0.79950023, 0.47111082, 0.59687138,\n",
       "       0.47425234, 0.56946588, 0.76404941, 0.40276623, 0.57624853,\n",
       "       0.50320804, 0.5582248 , 0.59326845, 0.56445998, 0.57741612,\n",
       "       0.72109342, 0.59259868, 0.48050284, 0.53336883, 0.67767012,\n",
       "       0.36769539, 0.72585404, 0.38067693, 0.83386111, 0.29796502,\n",
       "       0.54659456, 0.38016486, 0.6086325 , 0.3985402 , 0.64734453,\n",
       "       0.76026446, 0.85277486, 0.76728195, 0.53849143, 0.60735357,\n",
       "       0.51539528, 0.61504012, 0.61967838, 0.76436806, 0.60510069,\n",
       "       0.76342613, 0.74808884, 0.36467731, 0.56394041, 0.60536456,\n",
       "       0.61694223, 0.3662779 , 0.6234467 , 0.34380865, 0.68298513,\n",
       "       0.22048175, 0.78825808, 0.32981378, 0.64873409, 0.27803573,\n",
       "       0.79039097, 0.39254814, 0.83363551, 0.37445223, 0.50994295,\n",
       "       0.71216601, 0.54565388, 0.72275758, 0.57327282, 0.73277283,\n",
       "       0.53303409, 0.61223572, 0.61217076, 0.76442873, 0.59183985,\n",
       "       0.79125309, 0.60187238, 0.76113892, 0.5134365 , 0.59854078,\n",
       "       0.56265312, 0.7338497 , 0.53833681, 0.72796619, 0.51082093,\n",
       "       0.72422576, 0.51119906, 0.88240886, 0.50231588, 0.86821687,\n",
       "       0.49785888, 0.85270685, 0.49476394, 0.83547378, 0.4935953 ,\n",
       "       0.82250094, 0.55407417, 0.80230623, 0.55901831, 0.80703151,\n",
       "       0.56799817, 0.81485438, 0.57684165, 0.82260942, 0.60310435,\n",
       "       0.69662881, 0.90433812, 0.61630899, 0.5753538 , 0.78788137,\n",
       "       0.58344138, 0.78972542, 0.50652516, 0.62811315, 0.55894274,\n",
       "       0.62269366, 0.51051909, 0.62198693, 0.60518682, 0.52223366,\n",
       "       0.65049529, 0.54795218, 0.5733431 , 0.59042603, 0.76944852,\n",
       "       0.25258815, 0.72861576, 0.29639146, 0.690777  , 0.34586853,\n",
       "       0.595667  , 0.83284676, 0.55562341, 0.34536833, 0.57737428,\n",
       "       0.27010685, 0.60090333, 0.20266303, 0.70718688, 0.46627641,\n",
       "       0.78577352, 0.5068019 , 0.58480364, 0.43950933, 0.7533704 ,\n",
       "       0.4316228 , 0.55561882, 0.48384073, 0.53267264, 0.5821718 ,\n",
       "       0.82686913, 0.53241265, 0.75485337, 0.52240282, 0.70824683,\n",
       "       0.52705669, 0.65018576, 0.51509619, 0.610439  , 0.49752206,\n",
       "       0.58227664, 0.48133156, 0.51269358, 0.44421816, 0.81396294,\n",
       "       0.59316987, 0.78293991, 0.43348309, 0.46805257, 0.61118203,\n",
       "       0.56876814, 0.53178072, 0.91890597, 0.48110485, 0.56022167,\n",
       "       0.46487588, 0.58143926, 0.59191364, 0.73761243, 0.44360083,\n",
       "       0.5396629 , 0.56265694, 0.88918   , 0.68934381, 0.58965999,\n",
       "       0.43115985, 0.50959581, 0.54552841, 0.73984772, 0.83669072,\n",
       "       0.75332367, 0.87504476, 0.874336  , 0.61020237, 0.78629714,\n",
       "       0.79646164, 0.86097389, 0.42279994, 0.5940426 , 0.93777919,\n",
       "       0.4725858 , 0.61632574, 0.59507984, 0.55530369, 0.82949346,\n",
       "       0.47963649, 0.67400336, 0.45004573, 0.64718604, 0.44872192,\n",
       "       0.60190886, 0.79324067, 0.80754679, 0.65470505, 0.53907484,\n",
       "       0.97902185, 0.64864594, 0.94151044, 0.69758797, 0.91410029,\n",
       "       0.62503594, 0.44338962, 0.60546708, 0.43581456, 0.59406334,\n",
       "       0.43269044, 0.81458753, 0.43069309, 0.61422998, 0.418136  ,\n",
       "       0.63861877, 0.41578743, 0.66206956, 0.41820627, 0.68675882,\n",
       "       0.42487225, 0.7035706 , 0.43207943, 0.90708476, 0.40984315,\n",
       "       0.69371367, 0.44831395, 0.57362133, 0.67233723, 0.53570604,\n",
       "       0.60369718, 0.51303631, 0.65563482, 0.69310117, 0.87623781,\n",
       "       0.64658678, 0.90717685, 0.532749  , 0.95654666, 0.80336159,\n",
       "       0.83023608, 0.59715861, 0.42576516, 0.52436936, 0.49167523,\n",
       "       0.59616566, 0.96522141, 0.86116612, 0.67783535, 0.52491367,\n",
       "       0.81513381, 0.53002816, 0.82482326, 0.53639346, 0.83753943,\n",
       "       0.54332948, 0.85127354, 0.55916727, 0.86286747, 0.58945781,\n",
       "       0.74749058, 0.59769738, 0.74553573, 0.60633379, 0.74189854,\n",
       "       0.62878615, 0.72574019, 0.74848694, 0.66402406, 0.53363788,\n",
       "       0.4625048 , 0.5616684 , 0.41216421, 0.58364034, 0.41471276,\n",
       "       0.58500779, 0.74248177, 0.76028216, 0.74499226, 0.53063405,\n",
       "       0.41212994, 0.57427776, 0.87844396, 0.50119203, 0.47489634,\n",
       "       0.54051256, 0.53736454, 0.51931345, 0.89821434, 0.65201831,\n",
       "       0.81057835, 0.6050216 , 0.62126201, 0.61883557, 0.848171  ,\n",
       "       0.67041463, 0.6292578 , 0.63003069, 0.65935242, 0.6972214 ,\n",
       "       0.68321002, 0.52666575, 0.92644656, 0.56257224, 0.55377036,\n",
       "       0.67861688, 0.83802426, 0.63501889, 0.87299854, 0.67413282,\n",
       "       0.76717973, 0.79905236, 0.70904893, 0.71542954, 0.77844548,\n",
       "       0.83393025, 0.74037457, 0.65544879, 0.7041105 , 0.54634553,\n",
       "       0.51134491, 0.52148587, 0.59489584, 0.54797256, 0.60257691,\n",
       "       0.50381213, 0.57494891, 0.580001  , 0.39474165, 0.62548983,\n",
       "       0.38575333, 0.66749889, 0.38635296, 0.70581234, 0.39482838,\n",
       "       0.73497057, 0.40968755, 0.76167917, 0.45726165, 0.88170421,\n",
       "       0.5458163 , 0.72859132, 0.49052361, 0.69272351, 0.49446407,\n",
       "       0.65146673, 0.48848394, 0.61533976, 0.47657147, 0.58955485,\n",
       "       0.46373025, 0.57192361, 0.45321631, 0.91325504, 0.54838109,\n",
       "       0.55118316, 0.6090883 , 0.51463509, 0.51791281, 0.49477625,\n",
       "       0.59498352, 0.48546803, 0.60762316, 0.49907336, 0.599801  ,\n",
       "       0.54651284, 0.61723429, 0.47776675, 0.61024511, 0.48220491,\n",
       "       0.61520779, 0.57696396, 0.43089658, 0.55806965, 0.43752754,\n",
       "       0.54472518, 0.44280639, 0.71432614, 0.43731406, 0.73379278,\n",
       "       0.4284932 ])"
      ]
     },
     "execution_count": 29,
     "metadata": {},
     "output_type": "execute_result"
    }
   ],
   "source": [
    "data[0,:]"
   ]
  },
  {
   "cell_type": "code",
   "execution_count": 30,
   "metadata": {},
   "outputs": [],
   "source": [
    "X_train, X, y_train, Y = train_test_split(data, labels, test_size=0.3)"
   ]
  },
  {
   "cell_type": "code",
   "execution_count": 31,
   "metadata": {},
   "outputs": [
    {
     "data": {
      "text/plain": [
       "((4315, 936), (4315,), (1850, 936), (1850,))"
      ]
     },
     "execution_count": 31,
     "metadata": {},
     "output_type": "execute_result"
    }
   ],
   "source": [
    "X_train.shape, y_train.shape, X.shape, Y.shape"
   ]
  },
  {
   "cell_type": "markdown",
   "metadata": {},
   "source": [
    "#### Now we have our train dataset but we need a dev and test dataset"
   ]
  },
  {
   "cell_type": "code",
   "execution_count": 32,
   "metadata": {},
   "outputs": [],
   "source": [
    "X_dev, X_test, y_dev, y_test = train_test_split(X, Y, test_size=0.5, )"
   ]
  },
  {
   "cell_type": "code",
   "execution_count": 33,
   "metadata": {},
   "outputs": [
    {
     "name": "stdout",
     "output_type": "stream",
     "text": [
      "Traininig set: 4315 samples\n",
      "Dev set: 925 samples\n",
      "Test set: 925 samples\n"
     ]
    }
   ],
   "source": [
    "m = X_train.shape[0] # number of samples\n",
    "print(f'Traininig set: {X_train.shape[0]} samples')\n",
    "print(f'Dev set: {X_dev.shape[0]} samples')\n",
    "print(f'Test set: {X_test.shape[0]} samples')"
   ]
  },
  {
   "cell_type": "markdown",
   "metadata": {},
   "source": [
    "##### We have 60% for training and 20% for dev,test data\n",
    "##### Now we need to normalize the data, let's to use the z-score method"
   ]
  },
  {
   "cell_type": "code",
   "execution_count": 34,
   "metadata": {},
   "outputs": [],
   "source": [
    "from sklearn.preprocessing import StandardScaler\n",
    "scaler = StandardScaler()\n",
    "X_train = scaler.fit_transform(X_train) #* Normalize X_train using the mean and standard deviation of the training set\n",
    "X_dev = scaler.transform(X_dev)  #* Normalize X_test using the mean and standard deviation of the training set\n",
    "X_test = scaler.transform(X_test)  #* Normalize X_test using the mean and standard deviation of the training set"
   ]
  },
  {
   "cell_type": "markdown",
   "metadata": {},
   "source": [
    "### ONE HOT to create our matrix with labels"
   ]
  },
  {
   "cell_type": "code",
   "execution_count": 35,
   "metadata": {},
   "outputs": [
    {
     "name": "stderr",
     "output_type": "stream",
     "text": [
      "c:\\Users\\hgera\\anaconda3\\Lib\\site-packages\\sklearn\\preprocessing\\_encoders.py:972: FutureWarning: `sparse` was renamed to `sparse_output` in version 1.2 and will be removed in 1.4. `sparse_output` is ignored unless you leave `sparse` to its default value.\n",
      "  warnings.warn(\n"
     ]
    },
    {
     "data": {
      "text/plain": [
       "((4315, 5), (925, 5), (925, 5))"
      ]
     },
     "execution_count": 35,
     "metadata": {},
     "output_type": "execute_result"
    }
   ],
   "source": [
    "from sklearn.preprocessing import OneHotEncoder\n",
    "encoder = OneHotEncoder(sparse=False)\n",
    "y_train_onehot = encoder.fit_transform(y_train.reshape(-1, 1))\n",
    "y_dev_onehot = encoder.transform(y_dev.reshape(-1, 1))\n",
    "y_test_onehot = encoder.transform(y_test.reshape(-1, 1))\n",
    "y_train_onehot.shape, y_dev_onehot.shape, y_test_onehot.shape"
   ]
  },
  {
   "cell_type": "code",
   "execution_count": 36,
   "metadata": {},
   "outputs": [
    {
     "name": "stdout",
     "output_type": "stream",
     "text": [
      "2    206\n",
      "0    190\n",
      "4    179\n",
      "1    176\n",
      "3    174\n",
      "Name: count, dtype: int64\n"
     ]
    }
   ],
   "source": [
    "# Convertir el array a una serie de pandas\n",
    "import pandas as pd\n",
    "y_dev_series = pd.Series(y_dev)\n",
    "\n",
    "# Contar la frecuencia de cada elemento\n",
    "element_counts = y_dev_series.value_counts()\n",
    "print(element_counts)"
   ]
  },
  {
   "cell_type": "code",
   "execution_count": 37,
   "metadata": {},
   "outputs": [
    {
     "data": {
      "text/plain": [
       "2112"
      ]
     },
     "execution_count": 37,
     "metadata": {},
     "output_type": "execute_result"
    }
   ],
   "source": [
    "1056*2"
   ]
  },
  {
   "cell_type": "markdown",
   "metadata": {},
   "source": [
    "#### Let's to build our first NEURAL NETWORK"
   ]
  },
  {
   "cell_type": "code",
   "execution_count": 39,
   "metadata": {},
   "outputs": [
    {
     "name": "stdout",
     "output_type": "stream",
     "text": [
      "Epoch 1/300\n",
      "\u001b[1m34/34\u001b[0m \u001b[32m━━━━━━━━━━━━━━━━━━━━\u001b[0m\u001b[37m\u001b[0m \u001b[1m4s\u001b[0m 54ms/step - categorical_accuracy: 0.4416 - loss: 24.3505 - val_categorical_accuracy: 0.5881 - val_loss: 11.2847\n",
      "Epoch 2/300\n",
      "\u001b[1m34/34\u001b[0m \u001b[32m━━━━━━━━━━━━━━━━━━━━\u001b[0m\u001b[37m\u001b[0m \u001b[1m2s\u001b[0m 47ms/step - categorical_accuracy: 0.6049 - loss: 8.8443 - val_categorical_accuracy: 0.6292 - val_loss: 4.0719\n",
      "Epoch 3/300\n",
      "\u001b[1m34/34\u001b[0m \u001b[32m━━━━━━━━━━━━━━━━━━━━\u001b[0m\u001b[37m\u001b[0m \u001b[1m2s\u001b[0m 47ms/step - categorical_accuracy: 0.6354 - loss: 3.3933 - val_categorical_accuracy: 0.6130 - val_loss: 2.1100\n",
      "Epoch 4/300\n",
      "\u001b[1m34/34\u001b[0m \u001b[32m━━━━━━━━━━━━━━━━━━━━\u001b[0m\u001b[37m\u001b[0m \u001b[1m2s\u001b[0m 46ms/step - categorical_accuracy: 0.6073 - loss: 1.8757 - val_categorical_accuracy: 0.6108 - val_loss: 1.4697\n",
      "Epoch 5/300\n",
      "\u001b[1m34/34\u001b[0m \u001b[32m━━━━━━━━━━━━━━━━━━━━\u001b[0m\u001b[37m\u001b[0m \u001b[1m2s\u001b[0m 46ms/step - categorical_accuracy: 0.6184 - loss: 1.3987 - val_categorical_accuracy: 0.5795 - val_loss: 1.1979\n",
      "Epoch 6/300\n",
      "\u001b[1m34/34\u001b[0m \u001b[32m━━━━━━━━━━━━━━━━━━━━\u001b[0m\u001b[37m\u001b[0m \u001b[1m2s\u001b[0m 46ms/step - categorical_accuracy: 0.6332 - loss: 1.1340 - val_categorical_accuracy: 0.6422 - val_loss: 1.1246\n",
      "Epoch 7/300\n",
      "\u001b[1m34/34\u001b[0m \u001b[32m━━━━━━━━━━━━━━━━━━━━\u001b[0m\u001b[37m\u001b[0m \u001b[1m2s\u001b[0m 46ms/step - categorical_accuracy: 0.6426 - loss: 1.0666 - val_categorical_accuracy: 0.6314 - val_loss: 1.0707\n",
      "Epoch 8/300\n",
      "\u001b[1m34/34\u001b[0m \u001b[32m━━━━━━━━━━━━━━━━━━━━\u001b[0m\u001b[37m\u001b[0m \u001b[1m2s\u001b[0m 47ms/step - categorical_accuracy: 0.6408 - loss: 1.0147 - val_categorical_accuracy: 0.6508 - val_loss: 0.9831\n",
      "Epoch 9/300\n",
      "\u001b[1m34/34\u001b[0m \u001b[32m━━━━━━━━━━━━━━━━━━━━\u001b[0m\u001b[37m\u001b[0m \u001b[1m2s\u001b[0m 47ms/step - categorical_accuracy: 0.6602 - loss: 0.9159 - val_categorical_accuracy: 0.6216 - val_loss: 1.0077\n",
      "Epoch 10/300\n",
      "\u001b[1m34/34\u001b[0m \u001b[32m━━━━━━━━━━━━━━━━━━━━\u001b[0m\u001b[37m\u001b[0m \u001b[1m2s\u001b[0m 46ms/step - categorical_accuracy: 0.6444 - loss: 0.9387 - val_categorical_accuracy: 0.6595 - val_loss: 0.9119\n",
      "Epoch 11/300\n",
      "\u001b[1m34/34\u001b[0m \u001b[32m━━━━━━━━━━━━━━━━━━━━\u001b[0m\u001b[37m\u001b[0m \u001b[1m2s\u001b[0m 45ms/step - categorical_accuracy: 0.6505 - loss: 0.9140 - val_categorical_accuracy: 0.6443 - val_loss: 0.9257\n",
      "Epoch 12/300\n",
      "\u001b[1m34/34\u001b[0m \u001b[32m━━━━━━━━━━━━━━━━━━━━\u001b[0m\u001b[37m\u001b[0m \u001b[1m2s\u001b[0m 46ms/step - categorical_accuracy: 0.6592 - loss: 0.9272 - val_categorical_accuracy: 0.6411 - val_loss: 0.9113\n",
      "Epoch 13/300\n",
      "\u001b[1m34/34\u001b[0m \u001b[32m━━━━━━━━━━━━━━━━━━━━\u001b[0m\u001b[37m\u001b[0m \u001b[1m2s\u001b[0m 48ms/step - categorical_accuracy: 0.6627 - loss: 0.8724 - val_categorical_accuracy: 0.6703 - val_loss: 0.8851\n",
      "Epoch 14/300\n",
      "\u001b[1m34/34\u001b[0m \u001b[32m━━━━━━━━━━━━━━━━━━━━\u001b[0m\u001b[37m\u001b[0m \u001b[1m2s\u001b[0m 46ms/step - categorical_accuracy: 0.6737 - loss: 0.8503 - val_categorical_accuracy: 0.6789 - val_loss: 0.8540\n",
      "Epoch 15/300\n",
      "\u001b[1m34/34\u001b[0m \u001b[32m━━━━━━━━━━━━━━━━━━━━\u001b[0m\u001b[37m\u001b[0m \u001b[1m2s\u001b[0m 47ms/step - categorical_accuracy: 0.6699 - loss: 0.8584 - val_categorical_accuracy: 0.6714 - val_loss: 0.8834\n",
      "Epoch 16/300\n",
      "\u001b[1m34/34\u001b[0m \u001b[32m━━━━━━━━━━━━━━━━━━━━\u001b[0m\u001b[37m\u001b[0m \u001b[1m2s\u001b[0m 46ms/step - categorical_accuracy: 0.6679 - loss: 0.8530 - val_categorical_accuracy: 0.6670 - val_loss: 0.9090\n",
      "Epoch 17/300\n",
      "\u001b[1m34/34\u001b[0m \u001b[32m━━━━━━━━━━━━━━━━━━━━\u001b[0m\u001b[37m\u001b[0m \u001b[1m2s\u001b[0m 45ms/step - categorical_accuracy: 0.6573 - loss: 0.8652 - val_categorical_accuracy: 0.6789 - val_loss: 0.8517\n",
      "Epoch 18/300\n",
      "\u001b[1m34/34\u001b[0m \u001b[32m━━━━━━━━━━━━━━━━━━━━\u001b[0m\u001b[37m\u001b[0m \u001b[1m2s\u001b[0m 47ms/step - categorical_accuracy: 0.6756 - loss: 0.8438 - val_categorical_accuracy: 0.6670 - val_loss: 0.8788\n",
      "Epoch 19/300\n",
      "\u001b[1m34/34\u001b[0m \u001b[32m━━━━━━━━━━━━━━━━━━━━\u001b[0m\u001b[37m\u001b[0m \u001b[1m2s\u001b[0m 46ms/step - categorical_accuracy: 0.6662 - loss: 0.8497 - val_categorical_accuracy: 0.6735 - val_loss: 0.8812\n",
      "Epoch 20/300\n",
      "\u001b[1m34/34\u001b[0m \u001b[32m━━━━━━━━━━━━━━━━━━━━\u001b[0m\u001b[37m\u001b[0m \u001b[1m2s\u001b[0m 46ms/step - categorical_accuracy: 0.6804 - loss: 0.8409 - val_categorical_accuracy: 0.6757 - val_loss: 0.8353\n",
      "Epoch 21/300\n",
      "\u001b[1m34/34\u001b[0m \u001b[32m━━━━━━━━━━━━━━━━━━━━\u001b[0m\u001b[37m\u001b[0m \u001b[1m2s\u001b[0m 46ms/step - categorical_accuracy: 0.6806 - loss: 0.8120 - val_categorical_accuracy: 0.6497 - val_loss: 0.8890\n",
      "Epoch 22/300\n",
      "\u001b[1m34/34\u001b[0m \u001b[32m━━━━━━━━━━━━━━━━━━━━\u001b[0m\u001b[37m\u001b[0m \u001b[1m2s\u001b[0m 45ms/step - categorical_accuracy: 0.6761 - loss: 0.8268 - val_categorical_accuracy: 0.6724 - val_loss: 0.8217\n",
      "Epoch 23/300\n",
      "\u001b[1m34/34\u001b[0m \u001b[32m━━━━━━━━━━━━━━━━━━━━\u001b[0m\u001b[37m\u001b[0m \u001b[1m2s\u001b[0m 47ms/step - categorical_accuracy: 0.6890 - loss: 0.8196 - val_categorical_accuracy: 0.6595 - val_loss: 0.8261\n",
      "Epoch 24/300\n",
      "\u001b[1m34/34\u001b[0m \u001b[32m━━━━━━━━━━━━━━━━━━━━\u001b[0m\u001b[37m\u001b[0m \u001b[1m2s\u001b[0m 46ms/step - categorical_accuracy: 0.6821 - loss: 0.8090 - val_categorical_accuracy: 0.6714 - val_loss: 0.8298\n",
      "Epoch 25/300\n",
      "\u001b[1m34/34\u001b[0m \u001b[32m━━━━━━━━━━━━━━━━━━━━\u001b[0m\u001b[37m\u001b[0m \u001b[1m2s\u001b[0m 46ms/step - categorical_accuracy: 0.6831 - loss: 0.8026 - val_categorical_accuracy: 0.6811 - val_loss: 0.8270\n",
      "Epoch 26/300\n",
      "\u001b[1m34/34\u001b[0m \u001b[32m━━━━━━━━━━━━━━━━━━━━\u001b[0m\u001b[37m\u001b[0m \u001b[1m2s\u001b[0m 46ms/step - categorical_accuracy: 0.6931 - loss: 0.8083 - val_categorical_accuracy: 0.6562 - val_loss: 0.8858\n",
      "Epoch 27/300\n",
      "\u001b[1m34/34\u001b[0m \u001b[32m━━━━━━━━━━━━━━━━━━━━\u001b[0m\u001b[37m\u001b[0m \u001b[1m2s\u001b[0m 47ms/step - categorical_accuracy: 0.6804 - loss: 0.8332 - val_categorical_accuracy: 0.6714 - val_loss: 0.8419\n",
      "Epoch 28/300\n",
      "\u001b[1m34/34\u001b[0m \u001b[32m━━━━━━━━━━━━━━━━━━━━\u001b[0m\u001b[37m\u001b[0m \u001b[1m2s\u001b[0m 45ms/step - categorical_accuracy: 0.6769 - loss: 0.7968 - val_categorical_accuracy: 0.6778 - val_loss: 0.8060\n",
      "Epoch 29/300\n",
      "\u001b[1m34/34\u001b[0m \u001b[32m━━━━━━━━━━━━━━━━━━━━\u001b[0m\u001b[37m\u001b[0m \u001b[1m2s\u001b[0m 46ms/step - categorical_accuracy: 0.6876 - loss: 0.7910 - val_categorical_accuracy: 0.6789 - val_loss: 0.7932\n",
      "Epoch 30/300\n",
      "\u001b[1m34/34\u001b[0m \u001b[32m━━━━━━━━━━━━━━━━━━━━\u001b[0m\u001b[37m\u001b[0m \u001b[1m2s\u001b[0m 46ms/step - categorical_accuracy: 0.6742 - loss: 0.8061 - val_categorical_accuracy: 0.6714 - val_loss: 0.8334\n",
      "Epoch 31/300\n",
      "\u001b[1m34/34\u001b[0m \u001b[32m━━━━━━━━━━━━━━━━━━━━\u001b[0m\u001b[37m\u001b[0m \u001b[1m2s\u001b[0m 45ms/step - categorical_accuracy: 0.6751 - loss: 0.8188 - val_categorical_accuracy: 0.6703 - val_loss: 0.8277\n",
      "Epoch 32/300\n",
      "\u001b[1m34/34\u001b[0m \u001b[32m━━━━━━━━━━━━━━━━━━━━\u001b[0m\u001b[37m\u001b[0m \u001b[1m2s\u001b[0m 47ms/step - categorical_accuracy: 0.6856 - loss: 0.7959 - val_categorical_accuracy: 0.6562 - val_loss: 0.8647\n",
      "Epoch 33/300\n",
      "\u001b[1m34/34\u001b[0m \u001b[32m━━━━━━━━━━━━━━━━━━━━\u001b[0m\u001b[37m\u001b[0m \u001b[1m2s\u001b[0m 46ms/step - categorical_accuracy: 0.6573 - loss: 0.8179 - val_categorical_accuracy: 0.6735 - val_loss: 0.8226\n",
      "Epoch 34/300\n",
      "\u001b[1m34/34\u001b[0m \u001b[32m━━━━━━━━━━━━━━━━━━━━\u001b[0m\u001b[37m\u001b[0m \u001b[1m2s\u001b[0m 46ms/step - categorical_accuracy: 0.6927 - loss: 0.7921 - val_categorical_accuracy: 0.6746 - val_loss: 0.8048\n",
      "Epoch 35/300\n",
      "\u001b[1m34/34\u001b[0m \u001b[32m━━━━━━━━━━━━━━━━━━━━\u001b[0m\u001b[37m\u001b[0m \u001b[1m2s\u001b[0m 46ms/step - categorical_accuracy: 0.6926 - loss: 0.7822 - val_categorical_accuracy: 0.6659 - val_loss: 0.8332\n",
      "Epoch 36/300\n",
      "\u001b[1m34/34\u001b[0m \u001b[32m━━━━━━━━━━━━━━━━━━━━\u001b[0m\u001b[37m\u001b[0m \u001b[1m2s\u001b[0m 47ms/step - categorical_accuracy: 0.6928 - loss: 0.7779 - val_categorical_accuracy: 0.6778 - val_loss: 0.8226\n",
      "Epoch 37/300\n",
      "\u001b[1m34/34\u001b[0m \u001b[32m━━━━━━━━━━━━━━━━━━━━\u001b[0m\u001b[37m\u001b[0m \u001b[1m2s\u001b[0m 46ms/step - categorical_accuracy: 0.6889 - loss: 0.7906 - val_categorical_accuracy: 0.6735 - val_loss: 0.8377\n",
      "Epoch 38/300\n",
      "\u001b[1m34/34\u001b[0m \u001b[32m━━━━━━━━━━━━━━━━━━━━\u001b[0m\u001b[37m\u001b[0m \u001b[1m2s\u001b[0m 46ms/step - categorical_accuracy: 0.6996 - loss: 0.7800 - val_categorical_accuracy: 0.6714 - val_loss: 0.7918\n",
      "Epoch 39/300\n",
      "\u001b[1m34/34\u001b[0m \u001b[32m━━━━━━━━━━━━━━━━━━━━\u001b[0m\u001b[37m\u001b[0m \u001b[1m2s\u001b[0m 47ms/step - categorical_accuracy: 0.6813 - loss: 0.7880 - val_categorical_accuracy: 0.6876 - val_loss: 0.7932\n",
      "Epoch 40/300\n",
      "\u001b[1m34/34\u001b[0m \u001b[32m━━━━━━━━━━━━━━━━━━━━\u001b[0m\u001b[37m\u001b[0m \u001b[1m2s\u001b[0m 45ms/step - categorical_accuracy: 0.6850 - loss: 0.7754 - val_categorical_accuracy: 0.6757 - val_loss: 0.7934\n",
      "Epoch 41/300\n",
      "\u001b[1m34/34\u001b[0m \u001b[32m━━━━━━━━━━━━━━━━━━━━\u001b[0m\u001b[37m\u001b[0m \u001b[1m2s\u001b[0m 46ms/step - categorical_accuracy: 0.6900 - loss: 0.7790 - val_categorical_accuracy: 0.6822 - val_loss: 0.7957\n",
      "Epoch 42/300\n",
      "\u001b[1m34/34\u001b[0m \u001b[32m━━━━━━━━━━━━━━━━━━━━\u001b[0m\u001b[37m\u001b[0m \u001b[1m2s\u001b[0m 47ms/step - categorical_accuracy: 0.6954 - loss: 0.7620 - val_categorical_accuracy: 0.6811 - val_loss: 0.8134\n",
      "Epoch 43/300\n",
      "\u001b[1m34/34\u001b[0m \u001b[32m━━━━━━━━━━━━━━━━━━━━\u001b[0m\u001b[37m\u001b[0m \u001b[1m2s\u001b[0m 45ms/step - categorical_accuracy: 0.6993 - loss: 0.7658 - val_categorical_accuracy: 0.6908 - val_loss: 0.7896\n",
      "Epoch 44/300\n",
      "\u001b[1m34/34\u001b[0m \u001b[32m━━━━━━━━━━━━━━━━━━━━\u001b[0m\u001b[37m\u001b[0m \u001b[1m2s\u001b[0m 46ms/step - categorical_accuracy: 0.6865 - loss: 0.7731 - val_categorical_accuracy: 0.6876 - val_loss: 0.7776\n",
      "Epoch 45/300\n",
      "\u001b[1m34/34\u001b[0m \u001b[32m━━━━━━━━━━━━━━━━━━━━\u001b[0m\u001b[37m\u001b[0m \u001b[1m2s\u001b[0m 47ms/step - categorical_accuracy: 0.6754 - loss: 0.7993 - val_categorical_accuracy: 0.6984 - val_loss: 0.7942\n",
      "Epoch 46/300\n",
      "\u001b[1m34/34\u001b[0m \u001b[32m━━━━━━━━━━━━━━━━━━━━\u001b[0m\u001b[37m\u001b[0m \u001b[1m2s\u001b[0m 46ms/step - categorical_accuracy: 0.6974 - loss: 0.7733 - val_categorical_accuracy: 0.6908 - val_loss: 0.7867\n",
      "Epoch 47/300\n",
      "\u001b[1m34/34\u001b[0m \u001b[32m━━━━━━━━━━━━━━━━━━━━\u001b[0m\u001b[37m\u001b[0m \u001b[1m2s\u001b[0m 47ms/step - categorical_accuracy: 0.7065 - loss: 0.7410 - val_categorical_accuracy: 0.6854 - val_loss: 0.7960\n",
      "Epoch 48/300\n",
      "\u001b[1m34/34\u001b[0m \u001b[32m━━━━━━━━━━━━━━━━━━━━\u001b[0m\u001b[37m\u001b[0m \u001b[1m2s\u001b[0m 46ms/step - categorical_accuracy: 0.6898 - loss: 0.7714 - val_categorical_accuracy: 0.6908 - val_loss: 0.7806\n",
      "Epoch 49/300\n",
      "\u001b[1m34/34\u001b[0m \u001b[32m━━━━━━━━━━━━━━━━━━━━\u001b[0m\u001b[37m\u001b[0m \u001b[1m2s\u001b[0m 46ms/step - categorical_accuracy: 0.6916 - loss: 0.7493 - val_categorical_accuracy: 0.6822 - val_loss: 0.7861\n",
      "Epoch 50/300\n",
      "\u001b[1m34/34\u001b[0m \u001b[32m━━━━━━━━━━━━━━━━━━━━\u001b[0m\u001b[37m\u001b[0m \u001b[1m2s\u001b[0m 46ms/step - categorical_accuracy: 0.6996 - loss: 0.7420 - val_categorical_accuracy: 0.6789 - val_loss: 0.7833\n",
      "Epoch 51/300\n",
      "\u001b[1m34/34\u001b[0m \u001b[32m━━━━━━━━━━━━━━━━━━━━\u001b[0m\u001b[37m\u001b[0m \u001b[1m2s\u001b[0m 46ms/step - categorical_accuracy: 0.7049 - loss: 0.7491 - val_categorical_accuracy: 0.7059 - val_loss: 0.7654\n",
      "Epoch 52/300\n",
      "\u001b[1m34/34\u001b[0m \u001b[32m━━━━━━━━━━━━━━━━━━━━\u001b[0m\u001b[37m\u001b[0m \u001b[1m2s\u001b[0m 46ms/step - categorical_accuracy: 0.7078 - loss: 0.7454 - val_categorical_accuracy: 0.6757 - val_loss: 0.7836\n",
      "Epoch 53/300\n",
      "\u001b[1m34/34\u001b[0m \u001b[32m━━━━━━━━━━━━━━━━━━━━\u001b[0m\u001b[37m\u001b[0m \u001b[1m2s\u001b[0m 46ms/step - categorical_accuracy: 0.7038 - loss: 0.7364 - val_categorical_accuracy: 0.6681 - val_loss: 0.8024\n",
      "Epoch 54/300\n",
      "\u001b[1m34/34\u001b[0m \u001b[32m━━━━━━━━━━━━━━━━━━━━\u001b[0m\u001b[37m\u001b[0m \u001b[1m2s\u001b[0m 47ms/step - categorical_accuracy: 0.6848 - loss: 0.7810 - val_categorical_accuracy: 0.6854 - val_loss: 0.7794\n",
      "Epoch 55/300\n",
      "\u001b[1m34/34\u001b[0m \u001b[32m━━━━━━━━━━━━━━━━━━━━\u001b[0m\u001b[37m\u001b[0m \u001b[1m2s\u001b[0m 46ms/step - categorical_accuracy: 0.6983 - loss: 0.7444 - val_categorical_accuracy: 0.6822 - val_loss: 0.8029\n",
      "Epoch 56/300\n",
      "\u001b[1m34/34\u001b[0m \u001b[32m━━━━━━━━━━━━━━━━━━━━\u001b[0m\u001b[37m\u001b[0m \u001b[1m2s\u001b[0m 46ms/step - categorical_accuracy: 0.6943 - loss: 0.7578 - val_categorical_accuracy: 0.6930 - val_loss: 0.7886\n",
      "Epoch 57/300\n",
      "\u001b[1m34/34\u001b[0m \u001b[32m━━━━━━━━━━━━━━━━━━━━\u001b[0m\u001b[37m\u001b[0m \u001b[1m2s\u001b[0m 48ms/step - categorical_accuracy: 0.6942 - loss: 0.7502 - val_categorical_accuracy: 0.6995 - val_loss: 0.7605\n",
      "Epoch 58/300\n",
      "\u001b[1m34/34\u001b[0m \u001b[32m━━━━━━━━━━━━━━━━━━━━\u001b[0m\u001b[37m\u001b[0m \u001b[1m2s\u001b[0m 47ms/step - categorical_accuracy: 0.7167 - loss: 0.7265 - val_categorical_accuracy: 0.6886 - val_loss: 0.7675\n",
      "Epoch 59/300\n",
      "\u001b[1m34/34\u001b[0m \u001b[32m━━━━━━━━━━━━━━━━━━━━\u001b[0m\u001b[37m\u001b[0m \u001b[1m2s\u001b[0m 46ms/step - categorical_accuracy: 0.6948 - loss: 0.7395 - val_categorical_accuracy: 0.6843 - val_loss: 0.7779\n",
      "Epoch 60/300\n",
      "\u001b[1m34/34\u001b[0m \u001b[32m━━━━━━━━━━━━━━━━━━━━\u001b[0m\u001b[37m\u001b[0m \u001b[1m2s\u001b[0m 46ms/step - categorical_accuracy: 0.6983 - loss: 0.7432 - val_categorical_accuracy: 0.7005 - val_loss: 0.7720\n",
      "Epoch 61/300\n",
      "\u001b[1m34/34\u001b[0m \u001b[32m━━━━━━━━━━━━━━━━━━━━\u001b[0m\u001b[37m\u001b[0m \u001b[1m2s\u001b[0m 46ms/step - categorical_accuracy: 0.6958 - loss: 0.7369 - val_categorical_accuracy: 0.6757 - val_loss: 0.7901\n",
      "Epoch 62/300\n",
      "\u001b[1m34/34\u001b[0m \u001b[32m━━━━━━━━━━━━━━━━━━━━\u001b[0m\u001b[37m\u001b[0m \u001b[1m2s\u001b[0m 45ms/step - categorical_accuracy: 0.6980 - loss: 0.7591 - val_categorical_accuracy: 0.6638 - val_loss: 0.8101\n",
      "Epoch 63/300\n",
      "\u001b[1m34/34\u001b[0m \u001b[32m━━━━━━━━━━━━━━━━━━━━\u001b[0m\u001b[37m\u001b[0m \u001b[1m2s\u001b[0m 45ms/step - categorical_accuracy: 0.7039 - loss: 0.7435 - val_categorical_accuracy: 0.6930 - val_loss: 0.7734\n",
      "Epoch 64/300\n",
      "\u001b[1m34/34\u001b[0m \u001b[32m━━━━━━━━━━━━━━━━━━━━\u001b[0m\u001b[37m\u001b[0m \u001b[1m2s\u001b[0m 46ms/step - categorical_accuracy: 0.7160 - loss: 0.7293 - val_categorical_accuracy: 0.6778 - val_loss: 0.7924\n",
      "Epoch 65/300\n",
      "\u001b[1m34/34\u001b[0m \u001b[32m━━━━━━━━━━━━━━━━━━━━\u001b[0m\u001b[37m\u001b[0m \u001b[1m2s\u001b[0m 47ms/step - categorical_accuracy: 0.7054 - loss: 0.7377 - val_categorical_accuracy: 0.6930 - val_loss: 0.7569\n",
      "Epoch 66/300\n",
      "\u001b[1m34/34\u001b[0m \u001b[32m━━━━━━━━━━━━━━━━━━━━\u001b[0m\u001b[37m\u001b[0m \u001b[1m2s\u001b[0m 47ms/step - categorical_accuracy: 0.7103 - loss: 0.7296 - val_categorical_accuracy: 0.7124 - val_loss: 0.7531\n",
      "Epoch 67/300\n",
      "\u001b[1m34/34\u001b[0m \u001b[32m━━━━━━━━━━━━━━━━━━━━\u001b[0m\u001b[37m\u001b[0m \u001b[1m2s\u001b[0m 46ms/step - categorical_accuracy: 0.7082 - loss: 0.7295 - val_categorical_accuracy: 0.6908 - val_loss: 0.7630\n",
      "Epoch 68/300\n",
      "\u001b[1m34/34\u001b[0m \u001b[32m━━━━━━━━━━━━━━━━━━━━\u001b[0m\u001b[37m\u001b[0m \u001b[1m2s\u001b[0m 46ms/step - categorical_accuracy: 0.7079 - loss: 0.7514 - val_categorical_accuracy: 0.6865 - val_loss: 0.7860\n",
      "Epoch 69/300\n",
      "\u001b[1m34/34\u001b[0m \u001b[32m━━━━━━━━━━━━━━━━━━━━\u001b[0m\u001b[37m\u001b[0m \u001b[1m2s\u001b[0m 45ms/step - categorical_accuracy: 0.7228 - loss: 0.7174 - val_categorical_accuracy: 0.6811 - val_loss: 0.7746\n",
      "Epoch 70/300\n",
      "\u001b[1m34/34\u001b[0m \u001b[32m━━━━━━━━━━━━━━━━━━━━\u001b[0m\u001b[37m\u001b[0m \u001b[1m2s\u001b[0m 48ms/step - categorical_accuracy: 0.7105 - loss: 0.7326 - val_categorical_accuracy: 0.7005 - val_loss: 0.7862\n",
      "Epoch 71/300\n",
      "\u001b[1m34/34\u001b[0m \u001b[32m━━━━━━━━━━━━━━━━━━━━\u001b[0m\u001b[37m\u001b[0m \u001b[1m2s\u001b[0m 46ms/step - categorical_accuracy: 0.7043 - loss: 0.7587 - val_categorical_accuracy: 0.6908 - val_loss: 0.7736\n",
      "Epoch 72/300\n",
      "\u001b[1m34/34\u001b[0m \u001b[32m━━━━━━━━━━━━━━━━━━━━\u001b[0m\u001b[37m\u001b[0m \u001b[1m2s\u001b[0m 45ms/step - categorical_accuracy: 0.7226 - loss: 0.7149 - val_categorical_accuracy: 0.7081 - val_loss: 0.7465\n",
      "Epoch 73/300\n",
      "\u001b[1m34/34\u001b[0m \u001b[32m━━━━━━━━━━━━━━━━━━━━\u001b[0m\u001b[37m\u001b[0m \u001b[1m2s\u001b[0m 45ms/step - categorical_accuracy: 0.7065 - loss: 0.7498 - val_categorical_accuracy: 0.6854 - val_loss: 0.7930\n",
      "Epoch 74/300\n",
      "\u001b[1m34/34\u001b[0m \u001b[32m━━━━━━━━━━━━━━━━━━━━\u001b[0m\u001b[37m\u001b[0m \u001b[1m2s\u001b[0m 46ms/step - categorical_accuracy: 0.7044 - loss: 0.7563 - val_categorical_accuracy: 0.6973 - val_loss: 0.7759\n",
      "Epoch 75/300\n",
      "\u001b[1m34/34\u001b[0m \u001b[32m━━━━━━━━━━━━━━━━━━━━\u001b[0m\u001b[37m\u001b[0m \u001b[1m2s\u001b[0m 46ms/step - categorical_accuracy: 0.7181 - loss: 0.7186 - val_categorical_accuracy: 0.6897 - val_loss: 0.7685\n",
      "Epoch 76/300\n",
      "\u001b[1m34/34\u001b[0m \u001b[32m━━━━━━━━━━━━━━━━━━━━\u001b[0m\u001b[37m\u001b[0m \u001b[1m2s\u001b[0m 46ms/step - categorical_accuracy: 0.7315 - loss: 0.7210 - val_categorical_accuracy: 0.6941 - val_loss: 0.7496\n",
      "Epoch 77/300\n",
      "\u001b[1m34/34\u001b[0m \u001b[32m━━━━━━━━━━━━━━━━━━━━\u001b[0m\u001b[37m\u001b[0m \u001b[1m2s\u001b[0m 44ms/step - categorical_accuracy: 0.7246 - loss: 0.7211 - val_categorical_accuracy: 0.6649 - val_loss: 0.8414\n",
      "Epoch 78/300\n",
      "\u001b[1m34/34\u001b[0m \u001b[32m━━━━━━━━━━━━━━━━━━━━\u001b[0m\u001b[37m\u001b[0m \u001b[1m2s\u001b[0m 46ms/step - categorical_accuracy: 0.7106 - loss: 0.7563 - val_categorical_accuracy: 0.7059 - val_loss: 0.7553\n",
      "Epoch 79/300\n",
      "\u001b[1m34/34\u001b[0m \u001b[32m━━━━━━━━━━━━━━━━━━━━\u001b[0m\u001b[37m\u001b[0m \u001b[1m2s\u001b[0m 46ms/step - categorical_accuracy: 0.7284 - loss: 0.6979 - val_categorical_accuracy: 0.6941 - val_loss: 0.7667\n",
      "Epoch 80/300\n",
      "\u001b[1m34/34\u001b[0m \u001b[32m━━━━━━━━━━━━━━━━━━━━\u001b[0m\u001b[37m\u001b[0m \u001b[1m2s\u001b[0m 46ms/step - categorical_accuracy: 0.7207 - loss: 0.7326 - val_categorical_accuracy: 0.7168 - val_loss: 0.7485\n",
      "Epoch 81/300\n",
      "\u001b[1m34/34\u001b[0m \u001b[32m━━━━━━━━━━━━━━━━━━━━\u001b[0m\u001b[37m\u001b[0m \u001b[1m2s\u001b[0m 46ms/step - categorical_accuracy: 0.7284 - loss: 0.7065 - val_categorical_accuracy: 0.6941 - val_loss: 0.7551\n",
      "Epoch 82/300\n",
      "\u001b[1m34/34\u001b[0m \u001b[32m━━━━━━━━━━━━━━━━━━━━\u001b[0m\u001b[37m\u001b[0m \u001b[1m2s\u001b[0m 46ms/step - categorical_accuracy: 0.7280 - loss: 0.7242 - val_categorical_accuracy: 0.7146 - val_loss: 0.7485\n",
      "Epoch 83/300\n",
      "\u001b[1m34/34\u001b[0m \u001b[32m━━━━━━━━━━━━━━━━━━━━\u001b[0m\u001b[37m\u001b[0m \u001b[1m2s\u001b[0m 46ms/step - categorical_accuracy: 0.7217 - loss: 0.7103 - val_categorical_accuracy: 0.7200 - val_loss: 0.7587\n",
      "Epoch 84/300\n",
      "\u001b[1m34/34\u001b[0m \u001b[32m━━━━━━━━━━━━━━━━━━━━\u001b[0m\u001b[37m\u001b[0m \u001b[1m2s\u001b[0m 45ms/step - categorical_accuracy: 0.7167 - loss: 0.7289 - val_categorical_accuracy: 0.6984 - val_loss: 0.7524\n",
      "Epoch 85/300\n",
      "\u001b[1m34/34\u001b[0m \u001b[32m━━━━━━━━━━━━━━━━━━━━\u001b[0m\u001b[37m\u001b[0m \u001b[1m2s\u001b[0m 46ms/step - categorical_accuracy: 0.7183 - loss: 0.7287 - val_categorical_accuracy: 0.6973 - val_loss: 0.7808\n",
      "Epoch 86/300\n",
      "\u001b[1m34/34\u001b[0m \u001b[32m━━━━━━━━━━━━━━━━━━━━\u001b[0m\u001b[37m\u001b[0m \u001b[1m2s\u001b[0m 46ms/step - categorical_accuracy: 0.7159 - loss: 0.7113 - val_categorical_accuracy: 0.6703 - val_loss: 0.8248\n",
      "Epoch 87/300\n",
      "\u001b[1m34/34\u001b[0m \u001b[32m━━━━━━━━━━━━━━━━━━━━\u001b[0m\u001b[37m\u001b[0m \u001b[1m2s\u001b[0m 47ms/step - categorical_accuracy: 0.7214 - loss: 0.7179 - val_categorical_accuracy: 0.6865 - val_loss: 0.7780\n",
      "Epoch 88/300\n",
      "\u001b[1m34/34\u001b[0m \u001b[32m━━━━━━━━━━━━━━━━━━━━\u001b[0m\u001b[37m\u001b[0m \u001b[1m2s\u001b[0m 48ms/step - categorical_accuracy: 0.7279 - loss: 0.7035 - val_categorical_accuracy: 0.7081 - val_loss: 0.7465\n",
      "Epoch 89/300\n",
      "\u001b[1m34/34\u001b[0m \u001b[32m━━━━━━━━━━━━━━━━━━━━\u001b[0m\u001b[37m\u001b[0m \u001b[1m2s\u001b[0m 47ms/step - categorical_accuracy: 0.7153 - loss: 0.7195 - val_categorical_accuracy: 0.7049 - val_loss: 0.7615\n",
      "Epoch 90/300\n",
      "\u001b[1m34/34\u001b[0m \u001b[32m━━━━━━━━━━━━━━━━━━━━\u001b[0m\u001b[37m\u001b[0m \u001b[1m2s\u001b[0m 46ms/step - categorical_accuracy: 0.7230 - loss: 0.7034 - val_categorical_accuracy: 0.6984 - val_loss: 0.7551\n",
      "Epoch 91/300\n",
      "\u001b[1m34/34\u001b[0m \u001b[32m━━━━━━━━━━━━━━━━━━━━\u001b[0m\u001b[37m\u001b[0m \u001b[1m2s\u001b[0m 46ms/step - categorical_accuracy: 0.7273 - loss: 0.7200 - val_categorical_accuracy: 0.7081 - val_loss: 0.7589\n",
      "Epoch 92/300\n",
      "\u001b[1m34/34\u001b[0m \u001b[32m━━━━━━━━━━━━━━━━━━━━\u001b[0m\u001b[37m\u001b[0m \u001b[1m2s\u001b[0m 45ms/step - categorical_accuracy: 0.7247 - loss: 0.7153 - val_categorical_accuracy: 0.7049 - val_loss: 0.7483\n",
      "Epoch 93/300\n",
      "\u001b[1m34/34\u001b[0m \u001b[32m━━━━━━━━━━━━━━━━━━━━\u001b[0m\u001b[37m\u001b[0m \u001b[1m2s\u001b[0m 46ms/step - categorical_accuracy: 0.7262 - loss: 0.7202 - val_categorical_accuracy: 0.7059 - val_loss: 0.7427\n",
      "Epoch 94/300\n",
      "\u001b[1m34/34\u001b[0m \u001b[32m━━━━━━━━━━━━━━━━━━━━\u001b[0m\u001b[37m\u001b[0m \u001b[1m2s\u001b[0m 46ms/step - categorical_accuracy: 0.7334 - loss: 0.7044 - val_categorical_accuracy: 0.6714 - val_loss: 0.7738\n",
      "Epoch 95/300\n",
      "\u001b[1m34/34\u001b[0m \u001b[32m━━━━━━━━━━━━━━━━━━━━\u001b[0m\u001b[37m\u001b[0m \u001b[1m2s\u001b[0m 45ms/step - categorical_accuracy: 0.7335 - loss: 0.6912 - val_categorical_accuracy: 0.7092 - val_loss: 0.7384\n",
      "Epoch 96/300\n",
      "\u001b[1m34/34\u001b[0m \u001b[32m━━━━━━━━━━━━━━━━━━━━\u001b[0m\u001b[37m\u001b[0m \u001b[1m2s\u001b[0m 45ms/step - categorical_accuracy: 0.7384 - loss: 0.7003 - val_categorical_accuracy: 0.7081 - val_loss: 0.7497\n",
      "Epoch 97/300\n",
      "\u001b[1m34/34\u001b[0m \u001b[32m━━━━━━━━━━━━━━━━━━━━\u001b[0m\u001b[37m\u001b[0m \u001b[1m2s\u001b[0m 46ms/step - categorical_accuracy: 0.7361 - loss: 0.6943 - val_categorical_accuracy: 0.7189 - val_loss: 0.7372\n",
      "Epoch 98/300\n",
      "\u001b[1m34/34\u001b[0m \u001b[32m━━━━━━━━━━━━━━━━━━━━\u001b[0m\u001b[37m\u001b[0m \u001b[1m2s\u001b[0m 46ms/step - categorical_accuracy: 0.7501 - loss: 0.6891 - val_categorical_accuracy: 0.7027 - val_loss: 0.8170\n",
      "Epoch 99/300\n",
      "\u001b[1m34/34\u001b[0m \u001b[32m━━━━━━━━━━━━━━━━━━━━\u001b[0m\u001b[37m\u001b[0m \u001b[1m2s\u001b[0m 45ms/step - categorical_accuracy: 0.7173 - loss: 0.7389 - val_categorical_accuracy: 0.7232 - val_loss: 0.7536\n",
      "Epoch 100/300\n",
      "\u001b[1m34/34\u001b[0m \u001b[32m━━━━━━━━━━━━━━━━━━━━\u001b[0m\u001b[37m\u001b[0m \u001b[1m2s\u001b[0m 45ms/step - categorical_accuracy: 0.7440 - loss: 0.7115 - val_categorical_accuracy: 0.6886 - val_loss: 0.7840\n",
      "Epoch 101/300\n",
      "\u001b[1m34/34\u001b[0m \u001b[32m━━━━━━━━━━━━━━━━━━━━\u001b[0m\u001b[37m\u001b[0m \u001b[1m2s\u001b[0m 45ms/step - categorical_accuracy: 0.7308 - loss: 0.7164 - val_categorical_accuracy: 0.7157 - val_loss: 0.7218\n",
      "Epoch 102/300\n",
      "\u001b[1m34/34\u001b[0m \u001b[32m━━━━━━━━━━━━━━━━━━━━\u001b[0m\u001b[37m\u001b[0m \u001b[1m2s\u001b[0m 46ms/step - categorical_accuracy: 0.7375 - loss: 0.7055 - val_categorical_accuracy: 0.6832 - val_loss: 0.7951\n",
      "Epoch 103/300\n",
      "\u001b[1m34/34\u001b[0m \u001b[32m━━━━━━━━━━━━━━━━━━━━\u001b[0m\u001b[37m\u001b[0m \u001b[1m2s\u001b[0m 46ms/step - categorical_accuracy: 0.7333 - loss: 0.7081 - val_categorical_accuracy: 0.7178 - val_loss: 0.7469\n",
      "Epoch 104/300\n",
      "\u001b[1m34/34\u001b[0m \u001b[32m━━━━━━━━━━━━━━━━━━━━\u001b[0m\u001b[37m\u001b[0m \u001b[1m2s\u001b[0m 45ms/step - categorical_accuracy: 0.7317 - loss: 0.7118 - val_categorical_accuracy: 0.6962 - val_loss: 0.7908\n",
      "Epoch 105/300\n",
      "\u001b[1m34/34\u001b[0m \u001b[32m━━━━━━━━━━━━━━━━━━━━\u001b[0m\u001b[37m\u001b[0m \u001b[1m2s\u001b[0m 46ms/step - categorical_accuracy: 0.7365 - loss: 0.7126 - val_categorical_accuracy: 0.7059 - val_loss: 0.7568\n",
      "Epoch 106/300\n",
      "\u001b[1m34/34\u001b[0m \u001b[32m━━━━━━━━━━━━━━━━━━━━\u001b[0m\u001b[37m\u001b[0m \u001b[1m2s\u001b[0m 46ms/step - categorical_accuracy: 0.7402 - loss: 0.7044 - val_categorical_accuracy: 0.7232 - val_loss: 0.7283\n",
      "Epoch 107/300\n",
      "\u001b[1m34/34\u001b[0m \u001b[32m━━━━━━━━━━━━━━━━━━━━\u001b[0m\u001b[37m\u001b[0m \u001b[1m2s\u001b[0m 46ms/step - categorical_accuracy: 0.7403 - loss: 0.6879 - val_categorical_accuracy: 0.7330 - val_loss: 0.7292\n",
      "Epoch 108/300\n",
      "\u001b[1m34/34\u001b[0m \u001b[32m━━━━━━━━━━━━━━━━━━━━\u001b[0m\u001b[37m\u001b[0m \u001b[1m2s\u001b[0m 45ms/step - categorical_accuracy: 0.7430 - loss: 0.6917 - val_categorical_accuracy: 0.7222 - val_loss: 0.7487\n",
      "Epoch 109/300\n",
      "\u001b[1m34/34\u001b[0m \u001b[32m━━━━━━━━━━━━━━━━━━━━\u001b[0m\u001b[37m\u001b[0m \u001b[1m2s\u001b[0m 46ms/step - categorical_accuracy: 0.7532 - loss: 0.6877 - val_categorical_accuracy: 0.7146 - val_loss: 0.7344\n",
      "Epoch 110/300\n",
      "\u001b[1m34/34\u001b[0m \u001b[32m━━━━━━━━━━━━━━━━━━━━\u001b[0m\u001b[37m\u001b[0m \u001b[1m2s\u001b[0m 46ms/step - categorical_accuracy: 0.7325 - loss: 0.7058 - val_categorical_accuracy: 0.7200 - val_loss: 0.7510\n",
      "Epoch 111/300\n",
      "\u001b[1m34/34\u001b[0m \u001b[32m━━━━━━━━━━━━━━━━━━━━\u001b[0m\u001b[37m\u001b[0m \u001b[1m2s\u001b[0m 46ms/step - categorical_accuracy: 0.7327 - loss: 0.7179 - val_categorical_accuracy: 0.7027 - val_loss: 0.7798\n",
      "Epoch 112/300\n",
      "\u001b[1m34/34\u001b[0m \u001b[32m━━━━━━━━━━━━━━━━━━━━\u001b[0m\u001b[37m\u001b[0m \u001b[1m2s\u001b[0m 46ms/step - categorical_accuracy: 0.7460 - loss: 0.6868 - val_categorical_accuracy: 0.7200 - val_loss: 0.7158\n",
      "Epoch 113/300\n",
      "\u001b[1m34/34\u001b[0m \u001b[32m━━━━━━━━━━━━━━━━━━━━\u001b[0m\u001b[37m\u001b[0m \u001b[1m2s\u001b[0m 46ms/step - categorical_accuracy: 0.7422 - loss: 0.6815 - val_categorical_accuracy: 0.7319 - val_loss: 0.7279\n",
      "Epoch 114/300\n",
      "\u001b[1m34/34\u001b[0m \u001b[32m━━━━━━━━━━━━━━━━━━━━\u001b[0m\u001b[37m\u001b[0m \u001b[1m2s\u001b[0m 46ms/step - categorical_accuracy: 0.7430 - loss: 0.6914 - val_categorical_accuracy: 0.7178 - val_loss: 0.7563\n",
      "Epoch 115/300\n",
      "\u001b[1m34/34\u001b[0m \u001b[32m━━━━━━━━━━━━━━━━━━━━\u001b[0m\u001b[37m\u001b[0m \u001b[1m2s\u001b[0m 46ms/step - categorical_accuracy: 0.7490 - loss: 0.6851 - val_categorical_accuracy: 0.7146 - val_loss: 0.7596\n",
      "Epoch 116/300\n",
      "\u001b[1m34/34\u001b[0m \u001b[32m━━━━━━━━━━━━━━━━━━━━\u001b[0m\u001b[37m\u001b[0m \u001b[1m2s\u001b[0m 46ms/step - categorical_accuracy: 0.7571 - loss: 0.6742 - val_categorical_accuracy: 0.7038 - val_loss: 0.7481\n",
      "Epoch 117/300\n",
      "\u001b[1m34/34\u001b[0m \u001b[32m━━━━━━━━━━━━━━━━━━━━\u001b[0m\u001b[37m\u001b[0m \u001b[1m2s\u001b[0m 45ms/step - categorical_accuracy: 0.7565 - loss: 0.6669 - val_categorical_accuracy: 0.7135 - val_loss: 0.7442\n",
      "Epoch 118/300\n",
      "\u001b[1m34/34\u001b[0m \u001b[32m━━━━━━━━━━━━━━━━━━━━\u001b[0m\u001b[37m\u001b[0m \u001b[1m2s\u001b[0m 45ms/step - categorical_accuracy: 0.7505 - loss: 0.6902 - val_categorical_accuracy: 0.7081 - val_loss: 0.7684\n",
      "Epoch 119/300\n",
      "\u001b[1m34/34\u001b[0m \u001b[32m━━━━━━━━━━━━━━━━━━━━\u001b[0m\u001b[37m\u001b[0m \u001b[1m2s\u001b[0m 46ms/step - categorical_accuracy: 0.7457 - loss: 0.6725 - val_categorical_accuracy: 0.7211 - val_loss: 0.7459\n",
      "Epoch 120/300\n",
      "\u001b[1m34/34\u001b[0m \u001b[32m━━━━━━━━━━━━━━━━━━━━\u001b[0m\u001b[37m\u001b[0m \u001b[1m2s\u001b[0m 46ms/step - categorical_accuracy: 0.7443 - loss: 0.6891 - val_categorical_accuracy: 0.7308 - val_loss: 0.7390\n",
      "Epoch 121/300\n",
      "\u001b[1m34/34\u001b[0m \u001b[32m━━━━━━━━━━━━━━━━━━━━\u001b[0m\u001b[37m\u001b[0m \u001b[1m2s\u001b[0m 46ms/step - categorical_accuracy: 0.7564 - loss: 0.6654 - val_categorical_accuracy: 0.7178 - val_loss: 0.7281\n",
      "Epoch 122/300\n",
      "\u001b[1m34/34\u001b[0m \u001b[32m━━━━━━━━━━━━━━━━━━━━\u001b[0m\u001b[37m\u001b[0m \u001b[1m2s\u001b[0m 45ms/step - categorical_accuracy: 0.7546 - loss: 0.6723 - val_categorical_accuracy: 0.7092 - val_loss: 0.7610\n",
      "Epoch 123/300\n",
      "\u001b[1m34/34\u001b[0m \u001b[32m━━━━━━━━━━━━━━━━━━━━\u001b[0m\u001b[37m\u001b[0m \u001b[1m2s\u001b[0m 46ms/step - categorical_accuracy: 0.7484 - loss: 0.6858 - val_categorical_accuracy: 0.7286 - val_loss: 0.7293\n",
      "Epoch 124/300\n",
      "\u001b[1m34/34\u001b[0m \u001b[32m━━━━━━━━━━━━━━━━━━━━\u001b[0m\u001b[37m\u001b[0m \u001b[1m2s\u001b[0m 46ms/step - categorical_accuracy: 0.7494 - loss: 0.7020 - val_categorical_accuracy: 0.7146 - val_loss: 0.7571\n",
      "Epoch 125/300\n",
      "\u001b[1m34/34\u001b[0m \u001b[32m━━━━━━━━━━━━━━━━━━━━\u001b[0m\u001b[37m\u001b[0m \u001b[1m2s\u001b[0m 46ms/step - categorical_accuracy: 0.7377 - loss: 0.7062 - val_categorical_accuracy: 0.6962 - val_loss: 0.7853\n",
      "Epoch 126/300\n",
      "\u001b[1m34/34\u001b[0m \u001b[32m━━━━━━━━━━━━━━━━━━━━\u001b[0m\u001b[37m\u001b[0m \u001b[1m2s\u001b[0m 46ms/step - categorical_accuracy: 0.7318 - loss: 0.7113 - val_categorical_accuracy: 0.7189 - val_loss: 0.7524\n",
      "Epoch 127/300\n",
      "\u001b[1m34/34\u001b[0m \u001b[32m━━━━━━━━━━━━━━━━━━━━\u001b[0m\u001b[37m\u001b[0m \u001b[1m2s\u001b[0m 45ms/step - categorical_accuracy: 0.7408 - loss: 0.6924 - val_categorical_accuracy: 0.7319 - val_loss: 0.7450\n",
      "Epoch 128/300\n",
      "\u001b[1m34/34\u001b[0m \u001b[32m━━━━━━━━━━━━━━━━━━━━\u001b[0m\u001b[37m\u001b[0m \u001b[1m2s\u001b[0m 46ms/step - categorical_accuracy: 0.7578 - loss: 0.6679 - val_categorical_accuracy: 0.7297 - val_loss: 0.7227\n",
      "Epoch 129/300\n",
      "\u001b[1m34/34\u001b[0m \u001b[32m━━━━━━━━━━━━━━━━━━━━\u001b[0m\u001b[37m\u001b[0m \u001b[1m2s\u001b[0m 46ms/step - categorical_accuracy: 0.7625 - loss: 0.6612 - val_categorical_accuracy: 0.7038 - val_loss: 0.7507\n",
      "Epoch 130/300\n",
      "\u001b[1m34/34\u001b[0m \u001b[32m━━━━━━━━━━━━━━━━━━━━\u001b[0m\u001b[37m\u001b[0m \u001b[1m2s\u001b[0m 45ms/step - categorical_accuracy: 0.7419 - loss: 0.6801 - val_categorical_accuracy: 0.7222 - val_loss: 0.7551\n",
      "Epoch 131/300\n",
      "\u001b[1m34/34\u001b[0m \u001b[32m━━━━━━━━━━━━━━━━━━━━\u001b[0m\u001b[37m\u001b[0m \u001b[1m2s\u001b[0m 45ms/step - categorical_accuracy: 0.7396 - loss: 0.7005 - val_categorical_accuracy: 0.7103 - val_loss: 0.7345\n",
      "Epoch 132/300\n",
      "\u001b[1m34/34\u001b[0m \u001b[32m━━━━━━━━━━━━━━━━━━━━\u001b[0m\u001b[37m\u001b[0m \u001b[1m2s\u001b[0m 45ms/step - categorical_accuracy: 0.7495 - loss: 0.6857 - val_categorical_accuracy: 0.7232 - val_loss: 0.7336\n",
      "Epoch 133/300\n",
      "\u001b[1m34/34\u001b[0m \u001b[32m━━━━━━━━━━━━━━━━━━━━\u001b[0m\u001b[37m\u001b[0m \u001b[1m2s\u001b[0m 46ms/step - categorical_accuracy: 0.7518 - loss: 0.6744 - val_categorical_accuracy: 0.6962 - val_loss: 0.7797\n",
      "Epoch 134/300\n",
      "\u001b[1m34/34\u001b[0m \u001b[32m━━━━━━━━━━━━━━━━━━━━\u001b[0m\u001b[37m\u001b[0m \u001b[1m2s\u001b[0m 46ms/step - categorical_accuracy: 0.7540 - loss: 0.6959 - val_categorical_accuracy: 0.7341 - val_loss: 0.7298\n",
      "Epoch 135/300\n",
      "\u001b[1m34/34\u001b[0m \u001b[32m━━━━━━━━━━━━━━━━━━━━\u001b[0m\u001b[37m\u001b[0m \u001b[1m2s\u001b[0m 46ms/step - categorical_accuracy: 0.7611 - loss: 0.6627 - val_categorical_accuracy: 0.7384 - val_loss: 0.7184\n",
      "Epoch 136/300\n",
      "\u001b[1m34/34\u001b[0m \u001b[32m━━━━━━━━━━━━━━━━━━━━\u001b[0m\u001b[37m\u001b[0m \u001b[1m2s\u001b[0m 46ms/step - categorical_accuracy: 0.7402 - loss: 0.6981 - val_categorical_accuracy: 0.7265 - val_loss: 0.7258\n",
      "Epoch 137/300\n",
      "\u001b[1m34/34\u001b[0m \u001b[32m━━━━━━━━━━━━━━━━━━━━\u001b[0m\u001b[37m\u001b[0m \u001b[1m2s\u001b[0m 45ms/step - categorical_accuracy: 0.7504 - loss: 0.6809 - val_categorical_accuracy: 0.7254 - val_loss: 0.7427\n",
      "Epoch 138/300\n",
      "\u001b[1m34/34\u001b[0m \u001b[32m━━━━━━━━━━━━━━━━━━━━\u001b[0m\u001b[37m\u001b[0m \u001b[1m2s\u001b[0m 45ms/step - categorical_accuracy: 0.7498 - loss: 0.6873 - val_categorical_accuracy: 0.7178 - val_loss: 0.7325\n",
      "Epoch 139/300\n",
      "\u001b[1m34/34\u001b[0m \u001b[32m━━━━━━━━━━━━━━━━━━━━\u001b[0m\u001b[37m\u001b[0m \u001b[1m2s\u001b[0m 46ms/step - categorical_accuracy: 0.7553 - loss: 0.6743 - val_categorical_accuracy: 0.7005 - val_loss: 0.7760\n",
      "Epoch 140/300\n",
      "\u001b[1m34/34\u001b[0m \u001b[32m━━━━━━━━━━━━━━━━━━━━\u001b[0m\u001b[37m\u001b[0m \u001b[1m2s\u001b[0m 46ms/step - categorical_accuracy: 0.7541 - loss: 0.6886 - val_categorical_accuracy: 0.7211 - val_loss: 0.7326\n",
      "Epoch 141/300\n",
      "\u001b[1m34/34\u001b[0m \u001b[32m━━━━━━━━━━━━━━━━━━━━\u001b[0m\u001b[37m\u001b[0m \u001b[1m2s\u001b[0m 46ms/step - categorical_accuracy: 0.7485 - loss: 0.6859 - val_categorical_accuracy: 0.7200 - val_loss: 0.7459\n",
      "Epoch 142/300\n",
      "\u001b[1m34/34\u001b[0m \u001b[32m━━━━━━━━━━━━━━━━━━━━\u001b[0m\u001b[37m\u001b[0m \u001b[1m2s\u001b[0m 45ms/step - categorical_accuracy: 0.7485 - loss: 0.6950 - val_categorical_accuracy: 0.7286 - val_loss: 0.7371\n",
      "Epoch 143/300\n",
      "\u001b[1m34/34\u001b[0m \u001b[32m━━━━━━━━━━━━━━━━━━━━\u001b[0m\u001b[37m\u001b[0m \u001b[1m2s\u001b[0m 46ms/step - categorical_accuracy: 0.7436 - loss: 0.6903 - val_categorical_accuracy: 0.7211 - val_loss: 0.7415\n",
      "Epoch 144/300\n",
      "\u001b[1m34/34\u001b[0m \u001b[32m━━━━━━━━━━━━━━━━━━━━\u001b[0m\u001b[37m\u001b[0m \u001b[1m2s\u001b[0m 46ms/step - categorical_accuracy: 0.7664 - loss: 0.6649 - val_categorical_accuracy: 0.7232 - val_loss: 0.7504\n",
      "Epoch 145/300\n",
      "\u001b[1m34/34\u001b[0m \u001b[32m━━━━━━━━━━━━━━━━━━━━\u001b[0m\u001b[37m\u001b[0m \u001b[1m2s\u001b[0m 46ms/step - categorical_accuracy: 0.7527 - loss: 0.6781 - val_categorical_accuracy: 0.7189 - val_loss: 0.7650\n",
      "Epoch 146/300\n",
      "\u001b[1m34/34\u001b[0m \u001b[32m━━━━━━━━━━━━━━━━━━━━\u001b[0m\u001b[37m\u001b[0m \u001b[1m2s\u001b[0m 45ms/step - categorical_accuracy: 0.7629 - loss: 0.6651 - val_categorical_accuracy: 0.7103 - val_loss: 0.7422\n",
      "Epoch 147/300\n",
      "\u001b[1m34/34\u001b[0m \u001b[32m━━━━━━━━━━━━━━━━━━━━\u001b[0m\u001b[37m\u001b[0m \u001b[1m2s\u001b[0m 45ms/step - categorical_accuracy: 0.7673 - loss: 0.6634 - val_categorical_accuracy: 0.7276 - val_loss: 0.7289\n",
      "Epoch 148/300\n",
      "\u001b[1m34/34\u001b[0m \u001b[32m━━━━━━━━━━━━━━━━━━━━\u001b[0m\u001b[37m\u001b[0m \u001b[1m2s\u001b[0m 46ms/step - categorical_accuracy: 0.7508 - loss: 0.6752 - val_categorical_accuracy: 0.7319 - val_loss: 0.7194\n",
      "Epoch 149/300\n",
      "\u001b[1m34/34\u001b[0m \u001b[32m━━━━━━━━━━━━━━━━━━━━\u001b[0m\u001b[37m\u001b[0m \u001b[1m2s\u001b[0m 46ms/step - categorical_accuracy: 0.7619 - loss: 0.6596 - val_categorical_accuracy: 0.7265 - val_loss: 0.7321\n",
      "Epoch 150/300\n",
      "\u001b[1m34/34\u001b[0m \u001b[32m━━━━━━━━━━━━━━━━━━━━\u001b[0m\u001b[37m\u001b[0m \u001b[1m2s\u001b[0m 46ms/step - categorical_accuracy: 0.7598 - loss: 0.6613 - val_categorical_accuracy: 0.7146 - val_loss: 0.7538\n",
      "Epoch 151/300\n",
      "\u001b[1m34/34\u001b[0m \u001b[32m━━━━━━━━━━━━━━━━━━━━\u001b[0m\u001b[37m\u001b[0m \u001b[1m2s\u001b[0m 46ms/step - categorical_accuracy: 0.7556 - loss: 0.6688 - val_categorical_accuracy: 0.7297 - val_loss: 0.7271\n",
      "Epoch 152/300\n",
      "\u001b[1m34/34\u001b[0m \u001b[32m━━━━━━━━━━━━━━━━━━━━\u001b[0m\u001b[37m\u001b[0m \u001b[1m2s\u001b[0m 45ms/step - categorical_accuracy: 0.7507 - loss: 0.6804 - val_categorical_accuracy: 0.7135 - val_loss: 0.7423\n",
      "Epoch 153/300\n",
      "\u001b[1m34/34\u001b[0m \u001b[32m━━━━━━━━━━━━━━━━━━━━\u001b[0m\u001b[37m\u001b[0m \u001b[1m2s\u001b[0m 47ms/step - categorical_accuracy: 0.7663 - loss: 0.6577 - val_categorical_accuracy: 0.7168 - val_loss: 0.7555\n",
      "Epoch 154/300\n",
      "\u001b[1m34/34\u001b[0m \u001b[32m━━━━━━━━━━━━━━━━━━━━\u001b[0m\u001b[37m\u001b[0m \u001b[1m2s\u001b[0m 46ms/step - categorical_accuracy: 0.7686 - loss: 0.6629 - val_categorical_accuracy: 0.7265 - val_loss: 0.7453\n",
      "Epoch 155/300\n",
      "\u001b[1m34/34\u001b[0m \u001b[32m━━━━━━━━━━━━━━━━━━━━\u001b[0m\u001b[37m\u001b[0m \u001b[1m2s\u001b[0m 46ms/step - categorical_accuracy: 0.7583 - loss: 0.6651 - val_categorical_accuracy: 0.7373 - val_loss: 0.7162\n",
      "Epoch 156/300\n",
      "\u001b[1m34/34\u001b[0m \u001b[32m━━━━━━━━━━━━━━━━━━━━\u001b[0m\u001b[37m\u001b[0m \u001b[1m2s\u001b[0m 45ms/step - categorical_accuracy: 0.7591 - loss: 0.6670 - val_categorical_accuracy: 0.7135 - val_loss: 0.7525\n",
      "Epoch 157/300\n",
      "\u001b[1m34/34\u001b[0m \u001b[32m━━━━━━━━━━━━━━━━━━━━\u001b[0m\u001b[37m\u001b[0m \u001b[1m2s\u001b[0m 46ms/step - categorical_accuracy: 0.7583 - loss: 0.6576 - val_categorical_accuracy: 0.6962 - val_loss: 0.7916\n",
      "Epoch 158/300\n",
      "\u001b[1m34/34\u001b[0m \u001b[32m━━━━━━━━━━━━━━━━━━━━\u001b[0m\u001b[37m\u001b[0m \u001b[1m2s\u001b[0m 46ms/step - categorical_accuracy: 0.7551 - loss: 0.6684 - val_categorical_accuracy: 0.7103 - val_loss: 0.7489\n",
      "Epoch 159/300\n",
      "\u001b[1m34/34\u001b[0m \u001b[32m━━━━━━━━━━━━━━━━━━━━\u001b[0m\u001b[37m\u001b[0m \u001b[1m2s\u001b[0m 46ms/step - categorical_accuracy: 0.7545 - loss: 0.6694 - val_categorical_accuracy: 0.7319 - val_loss: 0.7283\n",
      "Epoch 160/300\n",
      "\u001b[1m34/34\u001b[0m \u001b[32m━━━━━━━━━━━━━━━━━━━━\u001b[0m\u001b[37m\u001b[0m \u001b[1m2s\u001b[0m 46ms/step - categorical_accuracy: 0.7616 - loss: 0.6569 - val_categorical_accuracy: 0.7103 - val_loss: 0.7624\n",
      "Epoch 161/300\n",
      "\u001b[1m34/34\u001b[0m \u001b[32m━━━━━━━━━━━━━━━━━━━━\u001b[0m\u001b[37m\u001b[0m \u001b[1m2s\u001b[0m 46ms/step - categorical_accuracy: 0.7620 - loss: 0.6667 - val_categorical_accuracy: 0.7308 - val_loss: 0.7159\n",
      "Epoch 162/300\n",
      "\u001b[1m34/34\u001b[0m \u001b[32m━━━━━━━━━━━━━━━━━━━━\u001b[0m\u001b[37m\u001b[0m \u001b[1m2s\u001b[0m 45ms/step - categorical_accuracy: 0.7575 - loss: 0.6645 - val_categorical_accuracy: 0.7449 - val_loss: 0.7123\n",
      "Epoch 163/300\n",
      "\u001b[1m34/34\u001b[0m \u001b[32m━━━━━━━━━━━━━━━━━━━━\u001b[0m\u001b[37m\u001b[0m \u001b[1m2s\u001b[0m 46ms/step - categorical_accuracy: 0.7719 - loss: 0.6471 - val_categorical_accuracy: 0.7265 - val_loss: 0.7465\n",
      "Epoch 164/300\n",
      "\u001b[1m34/34\u001b[0m \u001b[32m━━━━━━━━━━━━━━━━━━━━\u001b[0m\u001b[37m\u001b[0m \u001b[1m2s\u001b[0m 45ms/step - categorical_accuracy: 0.7488 - loss: 0.6715 - val_categorical_accuracy: 0.7265 - val_loss: 0.7316\n",
      "Epoch 165/300\n",
      "\u001b[1m34/34\u001b[0m \u001b[32m━━━━━━━━━━━━━━━━━━━━\u001b[0m\u001b[37m\u001b[0m \u001b[1m2s\u001b[0m 46ms/step - categorical_accuracy: 0.7738 - loss: 0.6502 - val_categorical_accuracy: 0.7146 - val_loss: 0.7659\n",
      "Epoch 166/300\n",
      "\u001b[1m34/34\u001b[0m \u001b[32m━━━━━━━━━━━━━━━━━━━━\u001b[0m\u001b[37m\u001b[0m \u001b[1m2s\u001b[0m 46ms/step - categorical_accuracy: 0.7629 - loss: 0.6621 - val_categorical_accuracy: 0.7070 - val_loss: 0.7426\n",
      "Epoch 167/300\n",
      "\u001b[1m34/34\u001b[0m \u001b[32m━━━━━━━━━━━━━━━━━━━━\u001b[0m\u001b[37m\u001b[0m \u001b[1m2s\u001b[0m 46ms/step - categorical_accuracy: 0.7641 - loss: 0.6542 - val_categorical_accuracy: 0.7114 - val_loss: 0.7444\n",
      "Epoch 168/300\n",
      "\u001b[1m34/34\u001b[0m \u001b[32m━━━━━━━━━━━━━━━━━━━━\u001b[0m\u001b[37m\u001b[0m \u001b[1m2s\u001b[0m 46ms/step - categorical_accuracy: 0.7699 - loss: 0.6452 - val_categorical_accuracy: 0.7265 - val_loss: 0.7221\n",
      "Epoch 169/300\n",
      "\u001b[1m34/34\u001b[0m \u001b[32m━━━━━━━━━━━━━━━━━━━━\u001b[0m\u001b[37m\u001b[0m \u001b[1m2s\u001b[0m 46ms/step - categorical_accuracy: 0.7869 - loss: 0.6221 - val_categorical_accuracy: 0.7243 - val_loss: 0.7343\n",
      "Epoch 170/300\n",
      "\u001b[1m34/34\u001b[0m \u001b[32m━━━━━━━━━━━━━━━━━━━━\u001b[0m\u001b[37m\u001b[0m \u001b[1m2s\u001b[0m 48ms/step - categorical_accuracy: 0.7492 - loss: 0.6839 - val_categorical_accuracy: 0.7276 - val_loss: 0.7519\n",
      "Epoch 171/300\n",
      "\u001b[1m34/34\u001b[0m \u001b[32m━━━━━━━━━━━━━━━━━━━━\u001b[0m\u001b[37m\u001b[0m \u001b[1m2s\u001b[0m 45ms/step - categorical_accuracy: 0.7526 - loss: 0.6806 - val_categorical_accuracy: 0.6941 - val_loss: 0.7735\n",
      "Epoch 172/300\n",
      "\u001b[1m34/34\u001b[0m \u001b[32m━━━━━━━━━━━━━━━━━━━━\u001b[0m\u001b[37m\u001b[0m \u001b[1m2s\u001b[0m 46ms/step - categorical_accuracy: 0.7545 - loss: 0.6746 - val_categorical_accuracy: 0.7297 - val_loss: 0.7259\n",
      "Epoch 173/300\n",
      "\u001b[1m34/34\u001b[0m \u001b[32m━━━━━━━━━━━━━━━━━━━━\u001b[0m\u001b[37m\u001b[0m \u001b[1m2s\u001b[0m 46ms/step - categorical_accuracy: 0.7612 - loss: 0.6646 - val_categorical_accuracy: 0.7178 - val_loss: 0.7429\n",
      "Epoch 174/300\n",
      "\u001b[1m34/34\u001b[0m \u001b[32m━━━━━━━━━━━━━━━━━━━━\u001b[0m\u001b[37m\u001b[0m \u001b[1m2s\u001b[0m 46ms/step - categorical_accuracy: 0.7594 - loss: 0.6775 - val_categorical_accuracy: 0.7243 - val_loss: 0.7406\n",
      "Epoch 175/300\n",
      "\u001b[1m34/34\u001b[0m \u001b[32m━━━━━━━━━━━━━━━━━━━━\u001b[0m\u001b[37m\u001b[0m \u001b[1m2s\u001b[0m 46ms/step - categorical_accuracy: 0.7701 - loss: 0.6502 - val_categorical_accuracy: 0.7200 - val_loss: 0.7598\n",
      "Epoch 176/300\n",
      "\u001b[1m34/34\u001b[0m \u001b[32m━━━━━━━━━━━━━━━━━━━━\u001b[0m\u001b[37m\u001b[0m \u001b[1m2s\u001b[0m 46ms/step - categorical_accuracy: 0.7661 - loss: 0.6668 - val_categorical_accuracy: 0.7124 - val_loss: 0.7532\n",
      "Epoch 177/300\n",
      "\u001b[1m34/34\u001b[0m \u001b[32m━━━━━━━━━━━━━━━━━━━━\u001b[0m\u001b[37m\u001b[0m \u001b[1m2s\u001b[0m 46ms/step - categorical_accuracy: 0.7553 - loss: 0.6714 - val_categorical_accuracy: 0.7081 - val_loss: 0.7493\n",
      "Epoch 178/300\n",
      "\u001b[1m34/34\u001b[0m \u001b[32m━━━━━━━━━━━━━━━━━━━━\u001b[0m\u001b[37m\u001b[0m \u001b[1m2s\u001b[0m 46ms/step - categorical_accuracy: 0.7578 - loss: 0.6676 - val_categorical_accuracy: 0.7059 - val_loss: 0.7702\n",
      "Epoch 179/300\n",
      "\u001b[1m34/34\u001b[0m \u001b[32m━━━━━━━━━━━━━━━━━━━━\u001b[0m\u001b[37m\u001b[0m \u001b[1m2s\u001b[0m 47ms/step - categorical_accuracy: 0.7558 - loss: 0.6450 - val_categorical_accuracy: 0.7254 - val_loss: 0.7315\n",
      "Epoch 180/300\n",
      "\u001b[1m34/34\u001b[0m \u001b[32m━━━━━━━━━━━━━━━━━━━━\u001b[0m\u001b[37m\u001b[0m \u001b[1m2s\u001b[0m 46ms/step - categorical_accuracy: 0.7722 - loss: 0.6404 - val_categorical_accuracy: 0.7189 - val_loss: 0.7456\n",
      "Epoch 181/300\n",
      "\u001b[1m34/34\u001b[0m \u001b[32m━━━━━━━━━━━━━━━━━━━━\u001b[0m\u001b[37m\u001b[0m \u001b[1m2s\u001b[0m 46ms/step - categorical_accuracy: 0.7535 - loss: 0.6751 - val_categorical_accuracy: 0.7330 - val_loss: 0.7346\n",
      "Epoch 182/300\n",
      "\u001b[1m34/34\u001b[0m \u001b[32m━━━━━━━━━━━━━━━━━━━━\u001b[0m\u001b[37m\u001b[0m \u001b[1m2s\u001b[0m 46ms/step - categorical_accuracy: 0.7578 - loss: 0.6394 - val_categorical_accuracy: 0.7114 - val_loss: 0.7652\n",
      "Epoch 183/300\n",
      "\u001b[1m34/34\u001b[0m \u001b[32m━━━━━━━━━━━━━━━━━━━━\u001b[0m\u001b[37m\u001b[0m \u001b[1m2s\u001b[0m 46ms/step - categorical_accuracy: 0.7539 - loss: 0.6757 - val_categorical_accuracy: 0.7276 - val_loss: 0.7343\n",
      "Epoch 184/300\n",
      "\u001b[1m34/34\u001b[0m \u001b[32m━━━━━━━━━━━━━━━━━━━━\u001b[0m\u001b[37m\u001b[0m \u001b[1m2s\u001b[0m 46ms/step - categorical_accuracy: 0.7676 - loss: 0.6451 - val_categorical_accuracy: 0.7124 - val_loss: 0.7387\n",
      "Epoch 185/300\n",
      "\u001b[1m34/34\u001b[0m \u001b[32m━━━━━━━━━━━━━━━━━━━━\u001b[0m\u001b[37m\u001b[0m \u001b[1m2s\u001b[0m 46ms/step - categorical_accuracy: 0.7611 - loss: 0.6579 - val_categorical_accuracy: 0.7330 - val_loss: 0.7222\n",
      "Epoch 186/300\n",
      "\u001b[1m34/34\u001b[0m \u001b[32m━━━━━━━━━━━━━━━━━━━━\u001b[0m\u001b[37m\u001b[0m \u001b[1m2s\u001b[0m 47ms/step - categorical_accuracy: 0.7713 - loss: 0.6452 - val_categorical_accuracy: 0.7146 - val_loss: 0.7353\n",
      "Epoch 187/300\n",
      "\u001b[1m34/34\u001b[0m \u001b[32m━━━━━━━━━━━━━━━━━━━━\u001b[0m\u001b[37m\u001b[0m \u001b[1m2s\u001b[0m 45ms/step - categorical_accuracy: 0.7562 - loss: 0.6540 - val_categorical_accuracy: 0.7254 - val_loss: 0.7339\n",
      "Epoch 188/300\n",
      "\u001b[1m34/34\u001b[0m \u001b[32m━━━━━━━━━━━━━━━━━━━━\u001b[0m\u001b[37m\u001b[0m \u001b[1m2s\u001b[0m 45ms/step - categorical_accuracy: 0.7621 - loss: 0.6475 - val_categorical_accuracy: 0.7211 - val_loss: 0.7471\n",
      "Epoch 189/300\n",
      "\u001b[1m34/34\u001b[0m \u001b[32m━━━━━━━━━━━━━━━━━━━━\u001b[0m\u001b[37m\u001b[0m \u001b[1m2s\u001b[0m 46ms/step - categorical_accuracy: 0.7732 - loss: 0.6422 - val_categorical_accuracy: 0.7059 - val_loss: 0.7371\n",
      "Epoch 190/300\n",
      "\u001b[1m34/34\u001b[0m \u001b[32m━━━━━━━━━━━━━━━━━━━━\u001b[0m\u001b[37m\u001b[0m \u001b[1m2s\u001b[0m 46ms/step - categorical_accuracy: 0.7595 - loss: 0.6746 - val_categorical_accuracy: 0.7341 - val_loss: 0.7309\n",
      "Epoch 191/300\n",
      "\u001b[1m34/34\u001b[0m \u001b[32m━━━━━━━━━━━━━━━━━━━━\u001b[0m\u001b[37m\u001b[0m \u001b[1m2s\u001b[0m 46ms/step - categorical_accuracy: 0.7637 - loss: 0.6463 - val_categorical_accuracy: 0.7189 - val_loss: 0.7385\n",
      "Epoch 192/300\n",
      "\u001b[1m34/34\u001b[0m \u001b[32m━━━━━━━━━━━━━━━━━━━━\u001b[0m\u001b[37m\u001b[0m \u001b[1m2s\u001b[0m 46ms/step - categorical_accuracy: 0.7610 - loss: 0.6717 - val_categorical_accuracy: 0.7005 - val_loss: 0.7520\n",
      "Epoch 193/300\n",
      "\u001b[1m34/34\u001b[0m \u001b[32m━━━━━━━━━━━━━━━━━━━━\u001b[0m\u001b[37m\u001b[0m \u001b[1m2s\u001b[0m 46ms/step - categorical_accuracy: 0.7705 - loss: 0.6553 - val_categorical_accuracy: 0.7254 - val_loss: 0.7432\n",
      "Epoch 194/300\n",
      "\u001b[1m34/34\u001b[0m \u001b[32m━━━━━━━━━━━━━━━━━━━━\u001b[0m\u001b[37m\u001b[0m \u001b[1m2s\u001b[0m 46ms/step - categorical_accuracy: 0.7693 - loss: 0.6434 - val_categorical_accuracy: 0.7254 - val_loss: 0.7345\n",
      "Epoch 195/300\n",
      "\u001b[1m34/34\u001b[0m \u001b[32m━━━━━━━━━━━━━━━━━━━━\u001b[0m\u001b[37m\u001b[0m \u001b[1m2s\u001b[0m 45ms/step - categorical_accuracy: 0.7607 - loss: 0.6568 - val_categorical_accuracy: 0.7243 - val_loss: 0.7671\n",
      "Epoch 196/300\n",
      "\u001b[1m34/34\u001b[0m \u001b[32m━━━━━━━━━━━━━━━━━━━━\u001b[0m\u001b[37m\u001b[0m \u001b[1m2s\u001b[0m 46ms/step - categorical_accuracy: 0.7462 - loss: 0.6869 - val_categorical_accuracy: 0.7211 - val_loss: 0.7381\n",
      "Epoch 197/300\n",
      "\u001b[1m34/34\u001b[0m \u001b[32m━━━━━━━━━━━━━━━━━━━━\u001b[0m\u001b[37m\u001b[0m \u001b[1m2s\u001b[0m 46ms/step - categorical_accuracy: 0.7585 - loss: 0.6635 - val_categorical_accuracy: 0.7330 - val_loss: 0.7307\n",
      "Epoch 198/300\n",
      "\u001b[1m34/34\u001b[0m \u001b[32m━━━━━━━━━━━━━━━━━━━━\u001b[0m\u001b[37m\u001b[0m \u001b[1m2s\u001b[0m 46ms/step - categorical_accuracy: 0.7639 - loss: 0.6526 - val_categorical_accuracy: 0.7308 - val_loss: 0.7183\n",
      "Epoch 199/300\n",
      "\u001b[1m34/34\u001b[0m \u001b[32m━━━━━━━━━━━━━━━━━━━━\u001b[0m\u001b[37m\u001b[0m \u001b[1m2s\u001b[0m 46ms/step - categorical_accuracy: 0.7643 - loss: 0.6593 - val_categorical_accuracy: 0.7286 - val_loss: 0.7371\n",
      "Epoch 200/300\n",
      "\u001b[1m34/34\u001b[0m \u001b[32m━━━━━━━━━━━━━━━━━━━━\u001b[0m\u001b[37m\u001b[0m \u001b[1m2s\u001b[0m 46ms/step - categorical_accuracy: 0.7498 - loss: 0.6751 - val_categorical_accuracy: 0.7351 - val_loss: 0.7166\n",
      "Epoch 201/300\n",
      "\u001b[1m34/34\u001b[0m \u001b[32m━━━━━━━━━━━━━━━━━━━━\u001b[0m\u001b[37m\u001b[0m \u001b[1m2s\u001b[0m 46ms/step - categorical_accuracy: 0.7722 - loss: 0.6365 - val_categorical_accuracy: 0.7200 - val_loss: 0.7662\n",
      "Epoch 202/300\n",
      "\u001b[1m34/34\u001b[0m \u001b[32m━━━━━━━━━━━━━━━━━━━━\u001b[0m\u001b[37m\u001b[0m \u001b[1m2s\u001b[0m 45ms/step - categorical_accuracy: 0.7569 - loss: 0.6681 - val_categorical_accuracy: 0.7135 - val_loss: 0.7484\n",
      "Epoch 203/300\n",
      "\u001b[1m34/34\u001b[0m \u001b[32m━━━━━━━━━━━━━━━━━━━━\u001b[0m\u001b[37m\u001b[0m \u001b[1m2s\u001b[0m 45ms/step - categorical_accuracy: 0.7678 - loss: 0.6472 - val_categorical_accuracy: 0.7157 - val_loss: 0.7586\n",
      "Epoch 204/300\n",
      "\u001b[1m34/34\u001b[0m \u001b[32m━━━━━━━━━━━━━━━━━━━━\u001b[0m\u001b[37m\u001b[0m \u001b[1m2s\u001b[0m 46ms/step - categorical_accuracy: 0.7654 - loss: 0.6596 - val_categorical_accuracy: 0.7286 - val_loss: 0.7348\n",
      "Epoch 205/300\n",
      "\u001b[1m34/34\u001b[0m \u001b[32m━━━━━━━━━━━━━━━━━━━━\u001b[0m\u001b[37m\u001b[0m \u001b[1m2s\u001b[0m 46ms/step - categorical_accuracy: 0.7609 - loss: 0.6639 - val_categorical_accuracy: 0.7276 - val_loss: 0.7270\n",
      "Epoch 206/300\n",
      "\u001b[1m34/34\u001b[0m \u001b[32m━━━━━━━━━━━━━━━━━━━━\u001b[0m\u001b[37m\u001b[0m \u001b[1m2s\u001b[0m 46ms/step - categorical_accuracy: 0.7748 - loss: 0.6357 - val_categorical_accuracy: 0.7222 - val_loss: 0.7415\n",
      "Epoch 207/300\n",
      "\u001b[1m34/34\u001b[0m \u001b[32m━━━━━━━━━━━━━━━━━━━━\u001b[0m\u001b[37m\u001b[0m \u001b[1m2s\u001b[0m 46ms/step - categorical_accuracy: 0.7711 - loss: 0.6415 - val_categorical_accuracy: 0.7070 - val_loss: 0.7506\n",
      "Epoch 208/300\n",
      "\u001b[1m34/34\u001b[0m \u001b[32m━━━━━━━━━━━━━━━━━━━━\u001b[0m\u001b[37m\u001b[0m \u001b[1m2s\u001b[0m 46ms/step - categorical_accuracy: 0.7607 - loss: 0.6752 - val_categorical_accuracy: 0.6962 - val_loss: 0.7812\n",
      "Epoch 209/300\n",
      "\u001b[1m34/34\u001b[0m \u001b[32m━━━━━━━━━━━━━━━━━━━━\u001b[0m\u001b[37m\u001b[0m \u001b[1m2s\u001b[0m 46ms/step - categorical_accuracy: 0.7653 - loss: 0.6534 - val_categorical_accuracy: 0.7297 - val_loss: 0.7127\n",
      "Epoch 210/300\n",
      "\u001b[1m34/34\u001b[0m \u001b[32m━━━━━━━━━━━━━━━━━━━━\u001b[0m\u001b[37m\u001b[0m \u001b[1m2s\u001b[0m 45ms/step - categorical_accuracy: 0.7761 - loss: 0.6375 - val_categorical_accuracy: 0.7330 - val_loss: 0.7215\n",
      "Epoch 211/300\n",
      "\u001b[1m34/34\u001b[0m \u001b[32m━━━━━━━━━━━━━━━━━━━━\u001b[0m\u001b[37m\u001b[0m \u001b[1m2s\u001b[0m 46ms/step - categorical_accuracy: 0.7750 - loss: 0.6420 - val_categorical_accuracy: 0.7178 - val_loss: 0.7368\n",
      "Epoch 212/300\n",
      "\u001b[1m34/34\u001b[0m \u001b[32m━━━━━━━━━━━━━━━━━━━━\u001b[0m\u001b[37m\u001b[0m \u001b[1m2s\u001b[0m 46ms/step - categorical_accuracy: 0.7688 - loss: 0.6418 - val_categorical_accuracy: 0.7092 - val_loss: 0.7546\n",
      "Epoch 213/300\n",
      "\u001b[1m34/34\u001b[0m \u001b[32m━━━━━━━━━━━━━━━━━━━━\u001b[0m\u001b[37m\u001b[0m \u001b[1m2s\u001b[0m 46ms/step - categorical_accuracy: 0.7473 - loss: 0.6519 - val_categorical_accuracy: 0.7297 - val_loss: 0.7311\n",
      "Epoch 214/300\n",
      "\u001b[1m34/34\u001b[0m \u001b[32m━━━━━━━━━━━━━━━━━━━━\u001b[0m\u001b[37m\u001b[0m \u001b[1m2s\u001b[0m 46ms/step - categorical_accuracy: 0.7676 - loss: 0.6605 - val_categorical_accuracy: 0.7189 - val_loss: 0.7392\n",
      "Epoch 215/300\n",
      "\u001b[1m34/34\u001b[0m \u001b[32m━━━━━━━━━━━━━━━━━━━━\u001b[0m\u001b[37m\u001b[0m \u001b[1m2s\u001b[0m 47ms/step - categorical_accuracy: 0.7628 - loss: 0.6490 - val_categorical_accuracy: 0.7341 - val_loss: 0.7251\n",
      "Epoch 216/300\n",
      "\u001b[1m34/34\u001b[0m \u001b[32m━━━━━━━━━━━━━━━━━━━━\u001b[0m\u001b[37m\u001b[0m \u001b[1m2s\u001b[0m 46ms/step - categorical_accuracy: 0.7691 - loss: 0.6469 - val_categorical_accuracy: 0.7308 - val_loss: 0.7335\n",
      "Epoch 217/300\n",
      "\u001b[1m34/34\u001b[0m \u001b[32m━━━━━━━━━━━━━━━━━━━━\u001b[0m\u001b[37m\u001b[0m \u001b[1m2s\u001b[0m 46ms/step - categorical_accuracy: 0.7755 - loss: 0.6379 - val_categorical_accuracy: 0.7222 - val_loss: 0.7396\n",
      "Epoch 218/300\n",
      "\u001b[1m34/34\u001b[0m \u001b[32m━━━━━━━━━━━━━━━━━━━━\u001b[0m\u001b[37m\u001b[0m \u001b[1m2s\u001b[0m 46ms/step - categorical_accuracy: 0.7745 - loss: 0.6354 - val_categorical_accuracy: 0.7243 - val_loss: 0.7534\n",
      "Epoch 219/300\n",
      "\u001b[1m34/34\u001b[0m \u001b[32m━━━━━━━━━━━━━━━━━━━━\u001b[0m\u001b[37m\u001b[0m \u001b[1m2s\u001b[0m 45ms/step - categorical_accuracy: 0.7613 - loss: 0.6517 - val_categorical_accuracy: 0.7416 - val_loss: 0.7222\n",
      "Epoch 220/300\n",
      "\u001b[1m34/34\u001b[0m \u001b[32m━━━━━━━━━━━━━━━━━━━━\u001b[0m\u001b[37m\u001b[0m \u001b[1m2s\u001b[0m 46ms/step - categorical_accuracy: 0.7619 - loss: 0.6576 - val_categorical_accuracy: 0.7222 - val_loss: 0.7445\n",
      "Epoch 221/300\n",
      "\u001b[1m34/34\u001b[0m \u001b[32m━━━━━━━━━━━━━━━━━━━━\u001b[0m\u001b[37m\u001b[0m \u001b[1m2s\u001b[0m 45ms/step - categorical_accuracy: 0.7629 - loss: 0.6624 - val_categorical_accuracy: 0.7373 - val_loss: 0.7238\n",
      "Epoch 222/300\n",
      "\u001b[1m34/34\u001b[0m \u001b[32m━━━━━━━━━━━━━━━━━━━━\u001b[0m\u001b[37m\u001b[0m \u001b[1m2s\u001b[0m 46ms/step - categorical_accuracy: 0.7840 - loss: 0.6263 - val_categorical_accuracy: 0.7319 - val_loss: 0.6947\n",
      "Epoch 223/300\n",
      "\u001b[1m34/34\u001b[0m \u001b[32m━━━━━━━━━━━━━━━━━━━━\u001b[0m\u001b[37m\u001b[0m \u001b[1m2s\u001b[0m 46ms/step - categorical_accuracy: 0.7661 - loss: 0.6527 - val_categorical_accuracy: 0.7308 - val_loss: 0.7012\n",
      "Epoch 224/300\n",
      "\u001b[1m34/34\u001b[0m \u001b[32m━━━━━━━━━━━━━━━━━━━━\u001b[0m\u001b[37m\u001b[0m \u001b[1m2s\u001b[0m 46ms/step - categorical_accuracy: 0.7807 - loss: 0.6401 - val_categorical_accuracy: 0.7232 - val_loss: 0.7507\n",
      "Epoch 225/300\n",
      "\u001b[1m34/34\u001b[0m \u001b[32m━━━━━━━━━━━━━━━━━━━━\u001b[0m\u001b[37m\u001b[0m \u001b[1m2s\u001b[0m 46ms/step - categorical_accuracy: 0.7618 - loss: 0.6570 - val_categorical_accuracy: 0.7276 - val_loss: 0.7627\n",
      "Epoch 226/300\n",
      "\u001b[1m34/34\u001b[0m \u001b[32m━━━━━━━━━━━━━━━━━━━━\u001b[0m\u001b[37m\u001b[0m \u001b[1m2s\u001b[0m 46ms/step - categorical_accuracy: 0.7588 - loss: 0.6681 - val_categorical_accuracy: 0.7416 - val_loss: 0.7485\n",
      "Epoch 227/300\n",
      "\u001b[1m34/34\u001b[0m \u001b[32m━━━━━━━━━━━━━━━━━━━━\u001b[0m\u001b[37m\u001b[0m \u001b[1m2s\u001b[0m 46ms/step - categorical_accuracy: 0.7650 - loss: 0.6507 - val_categorical_accuracy: 0.7178 - val_loss: 0.7544\n",
      "Epoch 228/300\n",
      "\u001b[1m34/34\u001b[0m \u001b[32m━━━━━━━━━━━━━━━━━━━━\u001b[0m\u001b[37m\u001b[0m \u001b[1m2s\u001b[0m 46ms/step - categorical_accuracy: 0.7578 - loss: 0.6448 - val_categorical_accuracy: 0.7308 - val_loss: 0.7393\n",
      "Epoch 229/300\n",
      "\u001b[1m34/34\u001b[0m \u001b[32m━━━━━━━━━━━━━━━━━━━━\u001b[0m\u001b[37m\u001b[0m \u001b[1m2s\u001b[0m 47ms/step - categorical_accuracy: 0.7615 - loss: 0.6544 - val_categorical_accuracy: 0.7384 - val_loss: 0.7174\n",
      "Epoch 230/300\n",
      "\u001b[1m34/34\u001b[0m \u001b[32m━━━━━━━━━━━━━━━━━━━━\u001b[0m\u001b[37m\u001b[0m \u001b[1m2s\u001b[0m 46ms/step - categorical_accuracy: 0.7680 - loss: 0.6440 - val_categorical_accuracy: 0.7362 - val_loss: 0.7196\n",
      "Epoch 231/300\n",
      "\u001b[1m34/34\u001b[0m \u001b[32m━━━━━━━━━━━━━━━━━━━━\u001b[0m\u001b[37m\u001b[0m \u001b[1m2s\u001b[0m 46ms/step - categorical_accuracy: 0.7659 - loss: 0.6443 - val_categorical_accuracy: 0.7481 - val_loss: 0.7160\n",
      "Epoch 232/300\n",
      "\u001b[1m34/34\u001b[0m \u001b[32m━━━━━━━━━━━━━━━━━━━━\u001b[0m\u001b[37m\u001b[0m \u001b[1m2s\u001b[0m 46ms/step - categorical_accuracy: 0.7773 - loss: 0.6366 - val_categorical_accuracy: 0.7200 - val_loss: 0.7422\n",
      "Epoch 233/300\n",
      "\u001b[1m34/34\u001b[0m \u001b[32m━━━━━━━━━━━━━━━━━━━━\u001b[0m\u001b[37m\u001b[0m \u001b[1m2s\u001b[0m 45ms/step - categorical_accuracy: 0.7659 - loss: 0.6504 - val_categorical_accuracy: 0.7222 - val_loss: 0.7581\n",
      "Epoch 234/300\n",
      "\u001b[1m34/34\u001b[0m \u001b[32m━━━━━━━━━━━━━━━━━━━━\u001b[0m\u001b[37m\u001b[0m \u001b[1m2s\u001b[0m 46ms/step - categorical_accuracy: 0.7802 - loss: 0.6362 - val_categorical_accuracy: 0.7341 - val_loss: 0.7362\n",
      "Epoch 235/300\n",
      "\u001b[1m34/34\u001b[0m \u001b[32m━━━━━━━━━━━━━━━━━━━━\u001b[0m\u001b[37m\u001b[0m \u001b[1m2s\u001b[0m 46ms/step - categorical_accuracy: 0.7768 - loss: 0.6229 - val_categorical_accuracy: 0.7005 - val_loss: 0.7617\n",
      "Epoch 236/300\n",
      "\u001b[1m34/34\u001b[0m \u001b[32m━━━━━━━━━━━━━━━━━━━━\u001b[0m\u001b[37m\u001b[0m \u001b[1m2s\u001b[0m 46ms/step - categorical_accuracy: 0.7597 - loss: 0.6607 - val_categorical_accuracy: 0.7319 - val_loss: 0.7244\n",
      "Epoch 237/300\n",
      "\u001b[1m34/34\u001b[0m \u001b[32m━━━━━━━━━━━━━━━━━━━━\u001b[0m\u001b[37m\u001b[0m \u001b[1m2s\u001b[0m 46ms/step - categorical_accuracy: 0.7779 - loss: 0.6262 - val_categorical_accuracy: 0.7168 - val_loss: 0.7516\n",
      "Epoch 238/300\n",
      "\u001b[1m34/34\u001b[0m \u001b[32m━━━━━━━━━━━━━━━━━━━━\u001b[0m\u001b[37m\u001b[0m \u001b[1m2s\u001b[0m 46ms/step - categorical_accuracy: 0.7714 - loss: 0.6439 - val_categorical_accuracy: 0.7222 - val_loss: 0.7506\n",
      "Epoch 239/300\n",
      "\u001b[1m34/34\u001b[0m \u001b[32m━━━━━━━━━━━━━━━━━━━━\u001b[0m\u001b[37m\u001b[0m \u001b[1m2s\u001b[0m 46ms/step - categorical_accuracy: 0.7709 - loss: 0.6671 - val_categorical_accuracy: 0.7438 - val_loss: 0.7320\n",
      "Epoch 240/300\n",
      "\u001b[1m34/34\u001b[0m \u001b[32m━━━━━━━━━━━━━━━━━━━━\u001b[0m\u001b[37m\u001b[0m \u001b[1m2s\u001b[0m 46ms/step - categorical_accuracy: 0.7624 - loss: 0.6626 - val_categorical_accuracy: 0.7103 - val_loss: 0.7608\n",
      "Epoch 241/300\n",
      "\u001b[1m34/34\u001b[0m \u001b[32m━━━━━━━━━━━━━━━━━━━━\u001b[0m\u001b[37m\u001b[0m \u001b[1m2s\u001b[0m 46ms/step - categorical_accuracy: 0.7644 - loss: 0.6298 - val_categorical_accuracy: 0.7146 - val_loss: 0.7639\n",
      "Epoch 242/300\n",
      "\u001b[1m34/34\u001b[0m \u001b[32m━━━━━━━━━━━━━━━━━━━━\u001b[0m\u001b[37m\u001b[0m \u001b[1m2s\u001b[0m 46ms/step - categorical_accuracy: 0.7589 - loss: 0.6624 - val_categorical_accuracy: 0.7470 - val_loss: 0.7243\n",
      "Epoch 243/300\n",
      "\u001b[1m34/34\u001b[0m \u001b[32m━━━━━━━━━━━━━━━━━━━━\u001b[0m\u001b[37m\u001b[0m \u001b[1m2s\u001b[0m 46ms/step - categorical_accuracy: 0.7624 - loss: 0.6612 - val_categorical_accuracy: 0.7341 - val_loss: 0.7572\n",
      "Epoch 244/300\n",
      "\u001b[1m34/34\u001b[0m \u001b[32m━━━━━━━━━━━━━━━━━━━━\u001b[0m\u001b[37m\u001b[0m \u001b[1m2s\u001b[0m 47ms/step - categorical_accuracy: 0.7639 - loss: 0.6577 - val_categorical_accuracy: 0.7265 - val_loss: 0.7299\n",
      "Epoch 245/300\n",
      "\u001b[1m34/34\u001b[0m \u001b[32m━━━━━━━━━━━━━━━━━━━━\u001b[0m\u001b[37m\u001b[0m \u001b[1m2s\u001b[0m 46ms/step - categorical_accuracy: 0.7799 - loss: 0.6327 - val_categorical_accuracy: 0.7243 - val_loss: 0.7396\n",
      "Epoch 246/300\n",
      "\u001b[1m34/34\u001b[0m \u001b[32m━━━━━━━━━━━━━━━━━━━━\u001b[0m\u001b[37m\u001b[0m \u001b[1m2s\u001b[0m 47ms/step - categorical_accuracy: 0.7735 - loss: 0.6355 - val_categorical_accuracy: 0.7232 - val_loss: 0.7402\n",
      "Epoch 247/300\n",
      "\u001b[1m34/34\u001b[0m \u001b[32m━━━━━━━━━━━━━━━━━━━━\u001b[0m\u001b[37m\u001b[0m \u001b[1m2s\u001b[0m 47ms/step - categorical_accuracy: 0.7705 - loss: 0.6373 - val_categorical_accuracy: 0.7351 - val_loss: 0.7398\n",
      "Epoch 248/300\n",
      "\u001b[1m34/34\u001b[0m \u001b[32m━━━━━━━━━━━━━━━━━━━━\u001b[0m\u001b[37m\u001b[0m \u001b[1m2s\u001b[0m 46ms/step - categorical_accuracy: 0.7844 - loss: 0.6225 - val_categorical_accuracy: 0.7330 - val_loss: 0.7320\n",
      "Epoch 249/300\n",
      "\u001b[1m34/34\u001b[0m \u001b[32m━━━━━━━━━━━━━━━━━━━━\u001b[0m\u001b[37m\u001b[0m \u001b[1m2s\u001b[0m 47ms/step - categorical_accuracy: 0.7721 - loss: 0.6380 - val_categorical_accuracy: 0.7330 - val_loss: 0.7428\n",
      "Epoch 250/300\n",
      "\u001b[1m34/34\u001b[0m \u001b[32m━━━━━━━━━━━━━━━━━━━━\u001b[0m\u001b[37m\u001b[0m \u001b[1m2s\u001b[0m 45ms/step - categorical_accuracy: 0.7666 - loss: 0.6468 - val_categorical_accuracy: 0.7308 - val_loss: 0.7152\n",
      "Epoch 251/300\n",
      "\u001b[1m34/34\u001b[0m \u001b[32m━━━━━━━━━━━━━━━━━━━━\u001b[0m\u001b[37m\u001b[0m \u001b[1m2s\u001b[0m 47ms/step - categorical_accuracy: 0.7754 - loss: 0.6433 - val_categorical_accuracy: 0.7351 - val_loss: 0.7358\n",
      "Epoch 252/300\n",
      "\u001b[1m34/34\u001b[0m \u001b[32m━━━━━━━━━━━━━━━━━━━━\u001b[0m\u001b[37m\u001b[0m \u001b[1m2s\u001b[0m 47ms/step - categorical_accuracy: 0.7809 - loss: 0.6221 - val_categorical_accuracy: 0.7373 - val_loss: 0.7185\n",
      "Epoch 253/300\n",
      "\u001b[1m34/34\u001b[0m \u001b[32m━━━━━━━━━━━━━━━━━━━━\u001b[0m\u001b[37m\u001b[0m \u001b[1m2s\u001b[0m 47ms/step - categorical_accuracy: 0.7815 - loss: 0.6399 - val_categorical_accuracy: 0.6930 - val_loss: 0.7972\n",
      "Epoch 254/300\n",
      "\u001b[1m34/34\u001b[0m \u001b[32m━━━━━━━━━━━━━━━━━━━━\u001b[0m\u001b[37m\u001b[0m \u001b[1m2s\u001b[0m 47ms/step - categorical_accuracy: 0.7639 - loss: 0.6428 - val_categorical_accuracy: 0.7395 - val_loss: 0.7274\n",
      "Epoch 255/300\n",
      "\u001b[1m34/34\u001b[0m \u001b[32m━━━━━━━━━━━━━━━━━━━━\u001b[0m\u001b[37m\u001b[0m \u001b[1m2s\u001b[0m 44ms/step - categorical_accuracy: 0.7865 - loss: 0.6362 - val_categorical_accuracy: 0.7297 - val_loss: 0.7237\n",
      "Epoch 256/300\n",
      "\u001b[1m34/34\u001b[0m \u001b[32m━━━━━━━━━━━━━━━━━━━━\u001b[0m\u001b[37m\u001b[0m \u001b[1m2s\u001b[0m 45ms/step - categorical_accuracy: 0.7637 - loss: 0.6497 - val_categorical_accuracy: 0.7297 - val_loss: 0.7331\n",
      "Epoch 257/300\n",
      "\u001b[1m34/34\u001b[0m \u001b[32m━━━━━━━━━━━━━━━━━━━━\u001b[0m\u001b[37m\u001b[0m \u001b[1m2s\u001b[0m 46ms/step - categorical_accuracy: 0.7576 - loss: 0.6556 - val_categorical_accuracy: 0.7503 - val_loss: 0.7162\n",
      "Epoch 258/300\n",
      "\u001b[1m34/34\u001b[0m \u001b[32m━━━━━━━━━━━━━━━━━━━━\u001b[0m\u001b[37m\u001b[0m \u001b[1m2s\u001b[0m 44ms/step - categorical_accuracy: 0.7760 - loss: 0.6261 - val_categorical_accuracy: 0.7405 - val_loss: 0.7139\n",
      "Epoch 259/300\n",
      "\u001b[1m34/34\u001b[0m \u001b[32m━━━━━━━━━━━━━━━━━━━━\u001b[0m\u001b[37m\u001b[0m \u001b[1m2s\u001b[0m 45ms/step - categorical_accuracy: 0.7770 - loss: 0.6305 - val_categorical_accuracy: 0.7005 - val_loss: 0.7769\n",
      "Epoch 260/300\n",
      "\u001b[1m34/34\u001b[0m \u001b[32m━━━━━━━━━━━━━━━━━━━━\u001b[0m\u001b[37m\u001b[0m \u001b[1m2s\u001b[0m 45ms/step - categorical_accuracy: 0.7420 - loss: 0.6786 - val_categorical_accuracy: 0.7211 - val_loss: 0.7652\n",
      "Epoch 261/300\n",
      "\u001b[1m34/34\u001b[0m \u001b[32m━━━━━━━━━━━━━━━━━━━━\u001b[0m\u001b[37m\u001b[0m \u001b[1m2s\u001b[0m 46ms/step - categorical_accuracy: 0.7796 - loss: 0.6402 - val_categorical_accuracy: 0.7081 - val_loss: 0.7912\n",
      "Epoch 262/300\n",
      "\u001b[1m34/34\u001b[0m \u001b[32m━━━━━━━━━━━━━━━━━━━━\u001b[0m\u001b[37m\u001b[0m \u001b[1m2s\u001b[0m 45ms/step - categorical_accuracy: 0.7794 - loss: 0.6484 - val_categorical_accuracy: 0.7286 - val_loss: 0.7257\n",
      "Epoch 263/300\n",
      "\u001b[1m34/34\u001b[0m \u001b[32m━━━━━━━━━━━━━━━━━━━━\u001b[0m\u001b[37m\u001b[0m \u001b[1m2s\u001b[0m 47ms/step - categorical_accuracy: 0.7778 - loss: 0.6358 - val_categorical_accuracy: 0.6973 - val_loss: 0.7679\n",
      "Epoch 264/300\n",
      "\u001b[1m34/34\u001b[0m \u001b[32m━━━━━━━━━━━━━━━━━━━━\u001b[0m\u001b[37m\u001b[0m \u001b[1m2s\u001b[0m 46ms/step - categorical_accuracy: 0.7529 - loss: 0.6575 - val_categorical_accuracy: 0.7319 - val_loss: 0.7267\n",
      "Epoch 265/300\n",
      "\u001b[1m34/34\u001b[0m \u001b[32m━━━━━━━━━━━━━━━━━━━━\u001b[0m\u001b[37m\u001b[0m \u001b[1m2s\u001b[0m 46ms/step - categorical_accuracy: 0.7937 - loss: 0.5982 - val_categorical_accuracy: 0.7200 - val_loss: 0.7462\n",
      "Epoch 266/300\n",
      "\u001b[1m34/34\u001b[0m \u001b[32m━━━━━━━━━━━━━━━━━━━━\u001b[0m\u001b[37m\u001b[0m \u001b[1m2s\u001b[0m 46ms/step - categorical_accuracy: 0.7760 - loss: 0.6210 - val_categorical_accuracy: 0.7384 - val_loss: 0.7476\n",
      "Epoch 267/300\n",
      "\u001b[1m34/34\u001b[0m \u001b[32m━━━━━━━━━━━━━━━━━━━━\u001b[0m\u001b[37m\u001b[0m \u001b[1m2s\u001b[0m 45ms/step - categorical_accuracy: 0.7713 - loss: 0.6478 - val_categorical_accuracy: 0.7254 - val_loss: 0.7335\n",
      "Epoch 268/300\n",
      "\u001b[1m34/34\u001b[0m \u001b[32m━━━━━━━━━━━━━━━━━━━━\u001b[0m\u001b[37m\u001b[0m \u001b[1m2s\u001b[0m 45ms/step - categorical_accuracy: 0.7612 - loss: 0.6433 - val_categorical_accuracy: 0.7438 - val_loss: 0.7194\n",
      "Epoch 269/300\n",
      "\u001b[1m34/34\u001b[0m \u001b[32m━━━━━━━━━━━━━━━━━━━━\u001b[0m\u001b[37m\u001b[0m \u001b[1m2s\u001b[0m 46ms/step - categorical_accuracy: 0.7816 - loss: 0.6299 - val_categorical_accuracy: 0.7492 - val_loss: 0.7077\n",
      "Epoch 270/300\n",
      "\u001b[1m34/34\u001b[0m \u001b[32m━━━━━━━━━━━━━━━━━━━━\u001b[0m\u001b[37m\u001b[0m \u001b[1m2s\u001b[0m 46ms/step - categorical_accuracy: 0.7652 - loss: 0.6463 - val_categorical_accuracy: 0.7168 - val_loss: 0.7464\n",
      "Epoch 271/300\n",
      "\u001b[1m34/34\u001b[0m \u001b[32m━━━━━━━━━━━━━━━━━━━━\u001b[0m\u001b[37m\u001b[0m \u001b[1m2s\u001b[0m 45ms/step - categorical_accuracy: 0.7733 - loss: 0.6283 - val_categorical_accuracy: 0.7276 - val_loss: 0.7325\n",
      "Epoch 272/300\n",
      "\u001b[1m34/34\u001b[0m \u001b[32m━━━━━━━━━━━━━━━━━━━━\u001b[0m\u001b[37m\u001b[0m \u001b[1m2s\u001b[0m 46ms/step - categorical_accuracy: 0.7775 - loss: 0.6341 - val_categorical_accuracy: 0.7189 - val_loss: 0.7408\n",
      "Epoch 273/300\n",
      "\u001b[1m34/34\u001b[0m \u001b[32m━━━━━━━━━━━━━━━━━━━━\u001b[0m\u001b[37m\u001b[0m \u001b[1m2s\u001b[0m 46ms/step - categorical_accuracy: 0.7845 - loss: 0.6260 - val_categorical_accuracy: 0.7395 - val_loss: 0.7347\n",
      "Epoch 274/300\n",
      "\u001b[1m34/34\u001b[0m \u001b[32m━━━━━━━━━━━━━━━━━━━━\u001b[0m\u001b[37m\u001b[0m \u001b[1m2s\u001b[0m 46ms/step - categorical_accuracy: 0.7829 - loss: 0.6250 - val_categorical_accuracy: 0.7470 - val_loss: 0.7576\n",
      "Epoch 275/300\n",
      "\u001b[1m34/34\u001b[0m \u001b[32m━━━━━━━━━━━━━━━━━━━━\u001b[0m\u001b[37m\u001b[0m \u001b[1m2s\u001b[0m 46ms/step - categorical_accuracy: 0.7663 - loss: 0.6486 - val_categorical_accuracy: 0.7319 - val_loss: 0.7423\n",
      "Epoch 276/300\n",
      "\u001b[1m34/34\u001b[0m \u001b[32m━━━━━━━━━━━━━━━━━━━━\u001b[0m\u001b[37m\u001b[0m \u001b[1m2s\u001b[0m 46ms/step - categorical_accuracy: 0.7709 - loss: 0.6302 - val_categorical_accuracy: 0.7243 - val_loss: 0.7760\n",
      "Epoch 277/300\n",
      "\u001b[1m34/34\u001b[0m \u001b[32m━━━━━━━━━━━━━━━━━━━━\u001b[0m\u001b[37m\u001b[0m \u001b[1m2s\u001b[0m 45ms/step - categorical_accuracy: 0.7743 - loss: 0.6388 - val_categorical_accuracy: 0.7286 - val_loss: 0.7419\n",
      "Epoch 278/300\n",
      "\u001b[1m34/34\u001b[0m \u001b[32m━━━━━━━━━━━━━━━━━━━━\u001b[0m\u001b[37m\u001b[0m \u001b[1m2s\u001b[0m 45ms/step - categorical_accuracy: 0.7700 - loss: 0.6416 - val_categorical_accuracy: 0.7384 - val_loss: 0.7178\n",
      "Epoch 279/300\n",
      "\u001b[1m34/34\u001b[0m \u001b[32m━━━━━━━━━━━━━━━━━━━━\u001b[0m\u001b[37m\u001b[0m \u001b[1m2s\u001b[0m 46ms/step - categorical_accuracy: 0.7848 - loss: 0.6179 - val_categorical_accuracy: 0.7308 - val_loss: 0.7305\n",
      "Epoch 280/300\n",
      "\u001b[1m34/34\u001b[0m \u001b[32m━━━━━━━━━━━━━━━━━━━━\u001b[0m\u001b[37m\u001b[0m \u001b[1m2s\u001b[0m 47ms/step - categorical_accuracy: 0.7891 - loss: 0.6209 - val_categorical_accuracy: 0.7254 - val_loss: 0.7746\n",
      "Epoch 281/300\n",
      "\u001b[1m34/34\u001b[0m \u001b[32m━━━━━━━━━━━━━━━━━━━━\u001b[0m\u001b[37m\u001b[0m \u001b[1m2s\u001b[0m 45ms/step - categorical_accuracy: 0.7523 - loss: 0.6668 - val_categorical_accuracy: 0.7254 - val_loss: 0.7434\n",
      "Epoch 282/300\n",
      "\u001b[1m34/34\u001b[0m \u001b[32m━━━━━━━━━━━━━━━━━━━━\u001b[0m\u001b[37m\u001b[0m \u001b[1m2s\u001b[0m 45ms/step - categorical_accuracy: 0.7860 - loss: 0.6372 - val_categorical_accuracy: 0.7438 - val_loss: 0.7106\n",
      "Epoch 283/300\n",
      "\u001b[1m34/34\u001b[0m \u001b[32m━━━━━━━━━━━━━━━━━━━━\u001b[0m\u001b[37m\u001b[0m \u001b[1m2s\u001b[0m 45ms/step - categorical_accuracy: 0.7775 - loss: 0.6386 - val_categorical_accuracy: 0.7427 - val_loss: 0.7380\n",
      "Epoch 284/300\n",
      "\u001b[1m34/34\u001b[0m \u001b[32m━━━━━━━━━━━━━━━━━━━━\u001b[0m\u001b[37m\u001b[0m \u001b[1m2s\u001b[0m 46ms/step - categorical_accuracy: 0.7789 - loss: 0.6183 - val_categorical_accuracy: 0.7297 - val_loss: 0.7456\n",
      "Epoch 285/300\n",
      "\u001b[1m34/34\u001b[0m \u001b[32m━━━━━━━━━━━━━━━━━━━━\u001b[0m\u001b[37m\u001b[0m \u001b[1m2s\u001b[0m 46ms/step - categorical_accuracy: 0.7733 - loss: 0.6390 - val_categorical_accuracy: 0.7297 - val_loss: 0.7539\n",
      "Epoch 286/300\n",
      "\u001b[1m34/34\u001b[0m \u001b[32m━━━━━━━━━━━━━━━━━━━━\u001b[0m\u001b[37m\u001b[0m \u001b[1m2s\u001b[0m 46ms/step - categorical_accuracy: 0.7729 - loss: 0.6417 - val_categorical_accuracy: 0.7276 - val_loss: 0.7450\n",
      "Epoch 287/300\n",
      "\u001b[1m34/34\u001b[0m \u001b[32m━━━━━━━━━━━━━━━━━━━━\u001b[0m\u001b[37m\u001b[0m \u001b[1m2s\u001b[0m 45ms/step - categorical_accuracy: 0.7720 - loss: 0.6484 - val_categorical_accuracy: 0.7362 - val_loss: 0.7335\n",
      "Epoch 288/300\n",
      "\u001b[1m34/34\u001b[0m \u001b[32m━━━━━━━━━━━━━━━━━━━━\u001b[0m\u001b[37m\u001b[0m \u001b[1m2s\u001b[0m 45ms/step - categorical_accuracy: 0.7863 - loss: 0.6264 - val_categorical_accuracy: 0.7341 - val_loss: 0.7469\n",
      "Epoch 289/300\n",
      "\u001b[1m34/34\u001b[0m \u001b[32m━━━━━━━━━━━━━━━━━━━━\u001b[0m\u001b[37m\u001b[0m \u001b[1m2s\u001b[0m 46ms/step - categorical_accuracy: 0.7673 - loss: 0.6376 - val_categorical_accuracy: 0.7459 - val_loss: 0.7446\n",
      "Epoch 290/300\n",
      "\u001b[1m34/34\u001b[0m \u001b[32m━━━━━━━━━━━━━━━━━━━━\u001b[0m\u001b[37m\u001b[0m \u001b[1m2s\u001b[0m 46ms/step - categorical_accuracy: 0.7809 - loss: 0.6353 - val_categorical_accuracy: 0.7395 - val_loss: 0.7041\n",
      "Epoch 291/300\n",
      "\u001b[1m34/34\u001b[0m \u001b[32m━━━━━━━━━━━━━━━━━━━━\u001b[0m\u001b[37m\u001b[0m \u001b[1m2s\u001b[0m 45ms/step - categorical_accuracy: 0.7970 - loss: 0.6006 - val_categorical_accuracy: 0.7308 - val_loss: 0.7276\n",
      "Epoch 292/300\n",
      "\u001b[1m34/34\u001b[0m \u001b[32m━━━━━━━━━━━━━━━━━━━━\u001b[0m\u001b[37m\u001b[0m \u001b[1m2s\u001b[0m 46ms/step - categorical_accuracy: 0.7883 - loss: 0.6120 - val_categorical_accuracy: 0.7200 - val_loss: 0.7820\n",
      "Epoch 293/300\n",
      "\u001b[1m34/34\u001b[0m \u001b[32m━━━━━━━━━━━━━━━━━━━━\u001b[0m\u001b[37m\u001b[0m \u001b[1m2s\u001b[0m 45ms/step - categorical_accuracy: 0.7728 - loss: 0.6337 - val_categorical_accuracy: 0.7168 - val_loss: 0.7527\n",
      "Epoch 294/300\n",
      "\u001b[1m34/34\u001b[0m \u001b[32m━━━━━━━━━━━━━━━━━━━━\u001b[0m\u001b[37m\u001b[0m \u001b[1m2s\u001b[0m 44ms/step - categorical_accuracy: 0.7785 - loss: 0.6176 - val_categorical_accuracy: 0.7049 - val_loss: 0.7839\n",
      "Epoch 295/300\n",
      "\u001b[1m34/34\u001b[0m \u001b[32m━━━━━━━━━━━━━━━━━━━━\u001b[0m\u001b[37m\u001b[0m \u001b[1m2s\u001b[0m 47ms/step - categorical_accuracy: 0.7647 - loss: 0.6363 - val_categorical_accuracy: 0.7222 - val_loss: 0.7286\n",
      "Epoch 296/300\n",
      "\u001b[1m34/34\u001b[0m \u001b[32m━━━━━━━━━━━━━━━━━━━━\u001b[0m\u001b[37m\u001b[0m \u001b[1m2s\u001b[0m 46ms/step - categorical_accuracy: 0.7641 - loss: 0.6453 - val_categorical_accuracy: 0.7114 - val_loss: 0.7460\n",
      "Epoch 297/300\n",
      "\u001b[1m34/34\u001b[0m \u001b[32m━━━━━━━━━━━━━━━━━━━━\u001b[0m\u001b[37m\u001b[0m \u001b[1m2s\u001b[0m 46ms/step - categorical_accuracy: 0.7804 - loss: 0.6229 - val_categorical_accuracy: 0.7308 - val_loss: 0.7394\n",
      "Epoch 298/300\n",
      "\u001b[1m34/34\u001b[0m \u001b[32m━━━━━━━━━━━━━━━━━━━━\u001b[0m\u001b[37m\u001b[0m \u001b[1m2s\u001b[0m 46ms/step - categorical_accuracy: 0.7804 - loss: 0.6305 - val_categorical_accuracy: 0.7200 - val_loss: 0.7414\n",
      "Epoch 299/300\n",
      "\u001b[1m34/34\u001b[0m \u001b[32m━━━━━━━━━━━━━━━━━━━━\u001b[0m\u001b[37m\u001b[0m \u001b[1m2s\u001b[0m 45ms/step - categorical_accuracy: 0.7775 - loss: 0.6331 - val_categorical_accuracy: 0.7308 - val_loss: 0.7274\n",
      "Epoch 300/300\n",
      "\u001b[1m34/34\u001b[0m \u001b[32m━━━━━━━━━━━━━━━━━━━━\u001b[0m\u001b[37m\u001b[0m \u001b[1m2s\u001b[0m 45ms/step - categorical_accuracy: 0.7824 - loss: 0.6347 - val_categorical_accuracy: 0.7265 - val_loss: 0.7413\n"
     ]
    },
    {
     "data": {
      "image/png": "[encoded data removed]",
      "text/plain": [
       "<Figure size 640x480 with 1 Axes>"
      ]
     },
     "metadata": {},
     "output_type": "display_data"
    },
    {
     "data": {
      "image/png": "[encoded data removed]",
      "text/plain": [
       "<Figure size 640x480 with 1 Axes>"
      ]
     },
     "metadata": {},
     "output_type": "display_data"
    }
   ],
   "source": [
    "from tensorflow.keras.optimizers import Adam\n",
    "num_classes = y_train_onehot.shape[1]  # Número de clases\n",
    "\n",
    "model = tf.keras.models.Sequential([\n",
    "    tf.keras.layers.InputLayer(input_shape=(936,)),\n",
    "    tf.keras.layers.Dense(1056, activation='relu', kernel_regularizer=tf.keras.regularizers.l2(0.01)),\n",
    "    # tf.keras.layers.Dropout(0.5),  # Dropout con 50% de probabilidad\n",
    "    tf.keras.layers.Dense(1056, activation='relu', kernel_regularizer=tf.keras.regularizers.l2(0.01)),  # Regularización L2\n",
    "    # tf.keras.layers.Dropout(0.5),  # Otro Dropout con 50% de probabilidad\n",
    "    # tf.keras.layers.Dense(32, activation='relu', kernel_regularizer=tf.keras.regularizers.l2(0.01)),  # Regularización L2\n",
    "    # tf.keras.layers.Dropout(0.5),  # Otro Dropout con 50% de probabilidad\n",
    "    # tf.keras.layers.Dense(528, activation='relu', kernel_regularizer=tf.keras.regularizers.l2(0.01)),  # Regularización L2\n",
    "    # tf.keras.layers.Dropout(0.5),  # Otro Dropout con 50% de probabilidad\n",
    "    tf.keras.layers.Dense(528, activation='relu', kernel_regularizer=tf.keras.regularizers.l2(0.01)),  # Regularización L2\n",
    "\n",
    "    \n",
    " \n",
    "    \n",
    "    # tf.keras.layers.Dense(264, activation='relu', kernel_regularizer=tf.keras.regularizers.l2(0.01)),  # Regularización L2\n",
    "    # tf.keras.layers.Dense(264, activation='relu', kernel_regularizer=tf.keras.regularizers.l2(0.01)),  # Regularización L2\n",
    "    # tf.keras.layers.Dense(128, activation='relu', kernel_regularizer=tf.keras.regularizers.l2(0.01)),  # Regularización L2\n",
    "    # tf.keras.layers.Dense(128, activation='relu', kernel_regularizer=tf.keras.regularizers.l2(0.01)),  # Regularización L2\n",
    "    tf.keras.layers.Dense(num_classes, activation='softmax')\n",
    "])\n",
    "# Compilar el modelo\n",
    "optimizer = Adam(learning_rate=0.001)\n",
    "model.compile(optimizer=optimizer,\n",
    "              loss='categorical_crossentropy',\n",
    "              metrics=['categorical_accuracy'])\n",
    "\n",
    "early_stopping = tf.keras.callbacks.EarlyStopping(monitor='val_loss', patience=10, restore_best_weights=True)\n",
    "# Entrenar el modelo\n",
    "history = model.fit(X_train, y_train_onehot,\n",
    "                    epochs=300,\n",
    "                    batch_size=128,\n",
    "                    validation_data=(X_dev, y_dev_onehot))\n",
    "                    # callbacks=[early_stopping]\n",
    "\n",
    "# Opcional: Graficar la pérdida y la precisión durante el entrenamiento\n",
    "plt.plot(history.history['loss'], label='loss')\n",
    "plt.plot(history.history['val_loss'], label='validation loss')\n",
    "plt.xlabel('Épocas')\n",
    "plt.ylabel('Pérdida')\n",
    "plt.legend()\n",
    "plt.show()\n",
    "\n",
    "\n",
    "plt.plot(history.history['categorical_accuracy'], label='accuracy') \n",
    "plt.plot(history.history['val_categorical_accuracy'], label='validation accuracy')\n",
    "plt.xlabel('Épocas')\n",
    "plt.ylabel('Precisión')\n",
    "plt.legend()\n",
    "plt.show()"
   ]
  },
  {
   "cell_type": "code",
   "execution_count": 59,
   "metadata": {},
   "outputs": [],
   "source": [
    "c_acuracy = history.history['categorical_accuracy'][0::30]\n",
    "v_acuracy = history.history['val_categorical_accuracy'][0::30]\n",
    "epocas = np.arange(1, len(history.history['categorical_accuracy']) + 1, 30)\n"
   ]
  },
  {
   "cell_type": "code",
   "execution_count": 61,
   "metadata": {},
   "outputs": [
    {
     "data": {
      "image/png": "[encoded data removed]",
      "text/plain": [
       "<Figure size 640x480 with 1 Axes>"
      ]
     },
     "metadata": {},
     "output_type": "display_data"
    }
   ],
   "source": [
    "plt.plot(epocas,c_acuracy, label='entrenamiento', color='black', linewidth=2.5, linestyle='-', marker='o')\n",
    "plt.plot(epocas,v_acuracy, label='validacion', color='red', linewidth=2.5, linestyle='-', marker='o')\n",
    "plt.legend()\n",
    "\n",
    "plt.xlabel('Épocas')\n",
    "plt.ylabel('Precisión')\n",
    "plt.savefig('C:\\\\Users\\\\hgera\\\\OneDrive\\\\Escritorio\\\\PY4E\\\\figuras\\\\accuracy_faces.pdf')\n"
   ]
  },
  {
   "cell_type": "code",
   "execution_count": 56,
   "metadata": {},
   "outputs": [
    {
     "data": {
      "text/plain": [
       "(-0.5, 699.5, 699.5, -0.5)"
      ]
     },
     "execution_count": 56,
     "metadata": {},
     "output_type": "execute_result"
    },
    {
     "data": {
      "image/png": "[encoded data removed]",
      "text/plain": [
       "<Figure size 640x480 with 1 Axes>"
      ]
     },
     "metadata": {},
     "output_type": "display_data"
    }
   ],
   "source": [
    "import cv2\n",
    "import numpy as np\n",
    "import matplotlib.pyplot as plt\n",
    "\n",
    "# Parámetros para la red neuronal\n",
    "input_shape = 936  # Número de neuronas de entrada\n",
    "num_classes = 5 # Número de neuronas de salida (clases)\n",
    "hidden_layers = [(1028, 'ReLU', 'L2'), (1028, 'ReLU', 'L2'),(564, 'ReLU', 'L2')]  # Capas ocultas con número de neuronas, activación y regularización\n",
    "\n",
    "# Crear una imagen en blanco\n",
    "height, width = 700, 700  # Dimensiones de la imagen\n",
    "image = np.ones((height, width, 3), dtype=np.uint8) * 255  # Fondo blanco\n",
    "\n",
    "# Coordenadas iniciales y finales para dibujar las capas\n",
    "start_x = 50\n",
    "end_x = width - 50\n",
    "layer_height = 100  # Altura de cada capa\n",
    "\n",
    "# Dibujar la capa de entrada\n",
    "cv2.putText(image, f'    Capa de Entrada ({input_shape})', (start_x, layer_height), cv2.FONT_HERSHEY_SIMPLEX, 1, (0, 0, 0), 2)\n",
    "cv2.rectangle(image, (start_x, layer_height - 40), (end_x, layer_height + 40), (0, 0, 0), 2)\n",
    "\n",
    "# Dibujar capas ocultas\n",
    "for i, (neurons, activation, regularization) in enumerate(hidden_layers, start=2):\n",
    "    cv2.putText(image, f'    Capa Oculta ({neurons}, {activation}, {regularization})', \n",
    "                (start_x, i * layer_height), cv2.FONT_HERSHEY_SIMPLEX, 1, (0, 0, 0), 2)\n",
    "    cv2.rectangle(image, (start_x, i * layer_height - 40), (end_x, i * layer_height + 40), (0, 0, 0), 2)\n",
    "\n",
    "# Dibujar la capa de salida\n",
    "cv2.putText(image, f'    Capa de Salida ({num_classes}, Softmax)', (start_x, (len(hidden_layers) + 2) * layer_height), \n",
    "            cv2.FONT_HERSHEY_SIMPLEX, 1, (0, 0, 0), 2)\n",
    "cv2.rectangle(image, (start_x, (len(hidden_layers) + 2) * layer_height - 40), \n",
    "              (end_x, (len(hidden_layers) + 2) * layer_height + 40), (0, 0, 0), 2)\n",
    "\n",
    "# Mostrar la imagen\n",
    "# cv2.imshow('Red Neuronal', image)\n",
    "plt.imshow(image)\n",
    "plt.axis('off')\n",
    "\n"
   ]
  },
  {
   "cell_type": "code",
   "execution_count": 40,
   "metadata": {},
   "outputs": [
    {
     "name": "stdout",
     "output_type": "stream",
     "text": [
      "******************************************************************************************************************************************************\n",
      "\u001b[1m29/29\u001b[0m \u001b[32m━━━━━━━━━━━━━━━━━━━━\u001b[0m\u001b[37m\u001b[0m \u001b[1m0s\u001b[0m 6ms/step - categorical_accuracy: 0.7661 - loss: 0.7116\n",
      "Acuraccy on test data: 0.76\n",
      "Loss on test data: 0.71\n"
     ]
    }
   ],
   "source": [
    "# Evaluar el modelo\n",
    "print('***'*50)\n",
    "\n",
    "test_loss, test_acc = model.evaluate(X_test, y_test_onehot)\n",
    "print(f'Acuraccy on test data: {test_acc:.2f}')\n",
    "print(f'Loss on test data: {test_loss:.2f}')\n"
   ]
  },
  {
   "cell_type": "code",
   "execution_count": null,
   "metadata": {},
   "outputs": [
    {
     "name": "stderr",
     "output_type": "stream",
     "text": [
      "WARNING:absl:You are saving your model as an HDF5 file via `model.save()` or `keras.saving.save_model(model)`. This file format is considered legacy. We recommend using instead the native Keras format, e.g. `model.save('my_model.keras')` or `keras.saving.save_model(model, 'my_model.keras')`. \n"
     ]
    }
   ],
   "source": [
    "#* Save the model\n",
    "path_save = '..\\\\..\\\\models\\\\Trained\\\\face\\\\face_model.h5'\n",
    "model.save(path_save)"
   ]
  },
  {
   "cell_type": "markdown",
   "metadata": {},
   "source": [
    "### REVISION\n"
   ]
  },
  {
   "cell_type": "code",
   "execution_count": 42,
   "metadata": {},
   "outputs": [
    {
     "name": "stderr",
     "output_type": "stream",
     "text": [
      "WARNING:absl:Compiled the loaded model, but the compiled metrics have yet to be built. `model.compile_metrics` will be empty until you train or evaluate the model.\n"
     ]
    },
    {
     "data": {
      "text/html": [
       "<pre style=\"white-space:pre;overflow-x:auto;line-height:normal;font-family:Menlo,'DejaVu Sans Mono',consolas,'Courier New',monospace\"><span style=\"font-weight: bold\">Model: \"sequential_2\"</span>\n",
       "</pre>\n"
      ],
      "text/plain": [
       "\u001b[1mModel: \"sequential_2\"\u001b[0m\n"
      ]
     },
     "metadata": {},
     "output_type": "display_data"
    },
    {
     "data": {
      "text/html": [
       "<pre style=\"white-space:pre;overflow-x:auto;line-height:normal;font-family:Menlo,'DejaVu Sans Mono',consolas,'Courier New',monospace\">┏━━━━━━━━━━━━━━━━━━━━━━━━━━━━━━━━━┳━━━━━━━━━━━━━━━━━━━━━━━━┳━━━━━━━━━━━━━━━┓\n",
       "┃<span style=\"font-weight: bold\"> Layer (type)                    </span>┃<span style=\"font-weight: bold\"> Output Shape           </span>┃<span style=\"font-weight: bold\">       Param # </span>┃\n",
       "┡━━━━━━━━━━━━━━━━━━━━━━━━━━━━━━━━━╇━━━━━━━━━━━━━━━━━━━━━━━━╇━━━━━━━━━━━━━━━┩\n",
       "│ dense_10 (<span style=\"color: #0087ff; text-decoration-color: #0087ff\">Dense</span>)                │ (<span style=\"color: #00d7ff; text-decoration-color: #00d7ff\">None</span>, <span style=\"color: #00af00; text-decoration-color: #00af00\">1056</span>)           │       <span style=\"color: #00af00; text-decoration-color: #00af00\">989,472</span> │\n",
       "├─────────────────────────────────┼────────────────────────┼───────────────┤\n",
       "│ dense_11 (<span style=\"color: #0087ff; text-decoration-color: #0087ff\">Dense</span>)                │ (<span style=\"color: #00d7ff; text-decoration-color: #00d7ff\">None</span>, <span style=\"color: #00af00; text-decoration-color: #00af00\">1056</span>)           │     <span style=\"color: #00af00; text-decoration-color: #00af00\">1,116,192</span> │\n",
       "├─────────────────────────────────┼────────────────────────┼───────────────┤\n",
       "│ dense_12 (<span style=\"color: #0087ff; text-decoration-color: #0087ff\">Dense</span>)                │ (<span style=\"color: #00d7ff; text-decoration-color: #00d7ff\">None</span>, <span style=\"color: #00af00; text-decoration-color: #00af00\">528</span>)            │       <span style=\"color: #00af00; text-decoration-color: #00af00\">558,096</span> │\n",
       "├─────────────────────────────────┼────────────────────────┼───────────────┤\n",
       "│ dense_13 (<span style=\"color: #0087ff; text-decoration-color: #0087ff\">Dense</span>)                │ (<span style=\"color: #00d7ff; text-decoration-color: #00d7ff\">None</span>, <span style=\"color: #00af00; text-decoration-color: #00af00\">5</span>)              │         <span style=\"color: #00af00; text-decoration-color: #00af00\">2,645</span> │\n",
       "└─────────────────────────────────┴────────────────────────┴───────────────┘\n",
       "</pre>\n"
      ],
      "text/plain": [
       "┏━━━━━━━━━━━━━━━━━━━━━━━━━━━━━━━━━┳━━━━━━━━━━━━━━━━━━━━━━━━┳━━━━━━━━━━━━━━━┓\n",
       "┃\u001b[1m \u001b[0m\u001b[1mLayer (type)                   \u001b[0m\u001b[1m \u001b[0m┃\u001b[1m \u001b[0m\u001b[1mOutput Shape          \u001b[0m\u001b[1m \u001b[0m┃\u001b[1m \u001b[0m\u001b[1m      Param #\u001b[0m\u001b[1m \u001b[0m┃\n",
       "┡━━━━━━━━━━━━━━━━━━━━━━━━━━━━━━━━━╇━━━━━━━━━━━━━━━━━━━━━━━━╇━━━━━━━━━━━━━━━┩\n",
       "│ dense_10 (\u001b[38;5;33mDense\u001b[0m)                │ (\u001b[38;5;45mNone\u001b[0m, \u001b[38;5;34m1056\u001b[0m)           │       \u001b[38;5;34m989,472\u001b[0m │\n",
       "├─────────────────────────────────┼────────────────────────┼───────────────┤\n",
       "│ dense_11 (\u001b[38;5;33mDense\u001b[0m)                │ (\u001b[38;5;45mNone\u001b[0m, \u001b[38;5;34m1056\u001b[0m)           │     \u001b[38;5;34m1,116,192\u001b[0m │\n",
       "├─────────────────────────────────┼────────────────────────┼───────────────┤\n",
       "│ dense_12 (\u001b[38;5;33mDense\u001b[0m)                │ (\u001b[38;5;45mNone\u001b[0m, \u001b[38;5;34m528\u001b[0m)            │       \u001b[38;5;34m558,096\u001b[0m │\n",
       "├─────────────────────────────────┼────────────────────────┼───────────────┤\n",
       "│ dense_13 (\u001b[38;5;33mDense\u001b[0m)                │ (\u001b[38;5;45mNone\u001b[0m, \u001b[38;5;34m5\u001b[0m)              │         \u001b[38;5;34m2,645\u001b[0m │\n",
       "└─────────────────────────────────┴────────────────────────┴───────────────┘\n"
      ]
     },
     "metadata": {},
     "output_type": "display_data"
    },
    {
     "data": {
      "text/html": [
       "<pre style=\"white-space:pre;overflow-x:auto;line-height:normal;font-family:Menlo,'DejaVu Sans Mono',consolas,'Courier New',monospace\"><span style=\"font-weight: bold\"> Total params: </span><span style=\"color: #00af00; text-decoration-color: #00af00\">2,666,407</span> (10.17 MB)\n",
       "</pre>\n"
      ],
      "text/plain": [
       "\u001b[1m Total params: \u001b[0m\u001b[38;5;34m2,666,407\u001b[0m (10.17 MB)\n"
      ]
     },
     "metadata": {},
     "output_type": "display_data"
    },
    {
     "data": {
      "text/html": [
       "<pre style=\"white-space:pre;overflow-x:auto;line-height:normal;font-family:Menlo,'DejaVu Sans Mono',consolas,'Courier New',monospace\"><span style=\"font-weight: bold\"> Trainable params: </span><span style=\"color: #00af00; text-decoration-color: #00af00\">2,666,405</span> (10.17 MB)\n",
       "</pre>\n"
      ],
      "text/plain": [
       "\u001b[1m Trainable params: \u001b[0m\u001b[38;5;34m2,666,405\u001b[0m (10.17 MB)\n"
      ]
     },
     "metadata": {},
     "output_type": "display_data"
    },
    {
     "data": {
      "text/html": [
       "<pre style=\"white-space:pre;overflow-x:auto;line-height:normal;font-family:Menlo,'DejaVu Sans Mono',consolas,'Courier New',monospace\"><span style=\"font-weight: bold\"> Non-trainable params: </span><span style=\"color: #00af00; text-decoration-color: #00af00\">0</span> (0.00 B)\n",
       "</pre>\n"
      ],
      "text/plain": [
       "\u001b[1m Non-trainable params: \u001b[0m\u001b[38;5;34m0\u001b[0m (0.00 B)\n"
      ]
     },
     "metadata": {},
     "output_type": "display_data"
    },
    {
     "data": {
      "text/html": [
       "<pre style=\"white-space:pre;overflow-x:auto;line-height:normal;font-family:Menlo,'DejaVu Sans Mono',consolas,'Courier New',monospace\"><span style=\"font-weight: bold\"> Optimizer params: </span><span style=\"color: #00af00; text-decoration-color: #00af00\">2</span> (12.00 B)\n",
       "</pre>\n"
      ],
      "text/plain": [
       "\u001b[1m Optimizer params: \u001b[0m\u001b[38;5;34m2\u001b[0m (12.00 B)\n"
      ]
     },
     "metadata": {},
     "output_type": "display_data"
    }
   ],
   "source": [
    "model = tf.keras.models.load_model(path_save)\n",
    "model.summary()"
   ]
  },
  {
   "cell_type": "code",
   "execution_count": 53,
   "metadata": {},
   "outputs": [
    {
     "name": "stdout",
     "output_type": "stream",
     "text": [
      "(1, 936)\n",
      "\u001b[1m1/1\u001b[0m \u001b[32m━━━━━━━━━━━━━━━━━━━━\u001b[0m\u001b[37m\u001b[0m \u001b[1m0s\u001b[0m 32ms/step\n",
      "Predicción: Neutral\n"
     ]
    }
   ],
   "source": [
    "# Supongamos que tienes datos nuevos para predecir\n",
    "dict_labels = {i: letter for i, letter in enumerate(label_encoder.classes_)}\n",
    "new_data = data_h5[4][:, 1003 ]  # Supongamos que solo tenemos un dato nuevo\n",
    "new_data = new_data.reshape(1, -1)  # Convertirlo a un arreglo 2D\n",
    "print(new_data.shape)\n",
    "# Preprocesar los datos nuevos (normalización, etc.)\n",
    "new_data_normalized = scaler.transform(new_data)  # Normalización Z-score\n",
    "\n",
    "# Hacer predicciones\n",
    "predictions = model.predict(new_data_normalized)\n",
    "\n",
    "# Convertir las predicciones a etiquetas\n",
    "predicted_class = np.argmax(predictions, axis=1)\n",
    "\n",
    "print(f'Predicción: {dict_labels[predicted_class[0]]}')"
   ]
  },
  {
   "cell_type": "markdown",
   "metadata": {},
   "source": [
    "#### SAVE the values of the normalization"
   ]
  },
  {
   "cell_type": "code",
   "execution_count": null,
   "metadata": {},
   "outputs": [
    {
     "name": "stdout",
     "output_type": "stream",
     "text": [
      "Escalador ajustado y guardado en 'scaler.pkl'\n"
     ]
    }
   ],
   "source": [
    "from sklearn.preprocessing import StandardScaler\n",
    "import joblib\n",
    "import numpy as np\n",
    "\n",
    "\n",
    "# Guardar el escalador ajustado en un archivo\n",
    "joblib.dump(scaler, '..\\\\..\\\\models\\\\Trained\\\\signs\\\\scaler_faces.pkl')\n"
   ]
  }
 ],
 "metadata": {
  "kernelspec": {
   "display_name": "env",
   "language": "python",
   "name": "python3"
  },
  "language_info": {
   "codemirror_mode": {
    "name": "ipython",
    "version": 3
   },
   "file_extension": ".py",
   "mimetype": "text/x-python",
   "name": "python",
   "nbconvert_exporter": "python",
   "pygments_lexer": "ipython3",
   "version": "3.11.5"
  }
 },
 "nbformat": 4,
 "nbformat_minor": 2
}
