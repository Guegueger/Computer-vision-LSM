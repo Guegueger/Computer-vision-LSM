{
 "cells": [
  {
   "cell_type": "code",
   "execution_count": 129,
   "metadata": {},
   "outputs": [],
   "source": [
    "import h5py as h5\n",
    "import numpy as np\n",
    "import tensorflow as tf\n",
    "import matplotlib.pyplot as plt\n",
    "from tensorflow.python.framework.ops import EagerTensor\n",
    "from tensorflow.python.ops.resource_variable_ops import ResourceVariable\n",
    "from tensorflow import keras\n",
    "from modules.loaders import LoadDataset\n",
    "from sklearn.preprocessing import LabelEncoder\n",
    "from sklearn.model_selection import train_test_split"
   ]
  },
  {
   "cell_type": "code",
   "execution_count": 130,
   "metadata": {},
   "outputs": [
    {
     "data": {
      "text/plain": [
       "h5py._hl.files.File"
      ]
     },
     "execution_count": 130,
     "metadata": {},
     "output_type": "execute_result"
    }
   ],
   "source": [
    "###* Load the dataset\n",
    "dataset = LoadDataset(h5_file= 'positions_FACES_PCA.h5').load_h5()\n",
    "type(dataset)"
   ]
  },
  {
   "cell_type": "code",
   "execution_count": 131,
   "metadata": {},
   "outputs": [
    {
     "data": {
      "text/plain": [
       "(6165,)"
      ]
     },
     "execution_count": 131,
     "metadata": {},
     "output_type": "execute_result"
    }
   ],
   "source": [
    "with dataset as h5file:\n",
    "    data_h5 = []\n",
    "    labels = []\n",
    "    for face in h5file.keys():\n",
    "        positions = h5file[face]['positions'][:]\n",
    "        data_h5.append(positions)\n",
    "        # print(positions.shape)\n",
    "        labels.extend([face]*positions.shape[1]) #* extend is used to add the elements of the list, not the list itself  \n",
    "\n",
    "labels = np.array(labels)\n",
    "labels_letter = np.reshape(labels, (labels.shape[0], ))\n",
    "labels_letter.shape\n"
   ]
  },
  {
   "cell_type": "code",
   "execution_count": 132,
   "metadata": {},
   "outputs": [
    {
     "name": "stdout",
     "output_type": "stream",
     "text": [
      "Data shape 0 (16, 1233)\n",
      "Data shape 1 (16, 1233)\n",
      "Data shape 2 (16, 1233)\n",
      "Data shape 3 (16, 1233)\n",
      "Data shape 4 (16, 1233)\n"
     ]
    }
   ],
   "source": [
    "for i, id in enumerate(data_h5):\n",
    "    print('Data shape',i, id.shape)"
   ]
  },
  {
   "cell_type": "markdown",
   "metadata": {},
   "source": [
    "#### Remember nx -> 468*2 (positions in x and y)     m -> number of samples"
   ]
  },
  {
   "cell_type": "code",
   "execution_count": 133,
   "metadata": {},
   "outputs": [
    {
     "name": "stdout",
     "output_type": "stream",
     "text": [
      "The number of classes is: 5\n"
     ]
    },
    {
     "data": {
      "text/plain": [
       "(6165,)"
      ]
     },
     "execution_count": 133,
     "metadata": {},
     "output_type": "execute_result"
    }
   ],
   "source": [
    "label_encoder = LabelEncoder() ###* Face TO NUMBERS \n",
    "labels = label_encoder.fit_transform(labels_letter)\n",
    "print('The number of classes is:', len(label_encoder.classes_))\n",
    "labels.shape"
   ]
  },
  {
   "cell_type": "code",
   "execution_count": 134,
   "metadata": {},
   "outputs": [
    {
     "data": {
      "text/plain": [
       "array(['Enojo', 'Feliz', 'Neutral', 'Sorpresa', 'Triste'], dtype='<U8')"
      ]
     },
     "execution_count": 134,
     "metadata": {},
     "output_type": "execute_result"
    }
   ],
   "source": [
    "label_encoder.classes_"
   ]
  },
  {
   "cell_type": "markdown",
   "metadata": {},
   "source": [
    "### For every sample m we have one label"
   ]
  },
  {
   "cell_type": "code",
   "execution_count": 135,
   "metadata": {},
   "outputs": [
    {
     "data": {
      "text/plain": [
       "(16, 6165)"
      ]
     },
     "execution_count": 135,
     "metadata": {},
     "output_type": "execute_result"
    }
   ],
   "source": [
    "data = np.concatenate(data_h5,axis=1)\n",
    "data.shape"
   ]
  },
  {
   "cell_type": "markdown",
   "metadata": {},
   "source": [
    "#### sklearn needs data.shape = (m, nx), where:\n",
    "#### m is the number of samples\n",
    "#### nx number of featues (positions in this case)"
   ]
  },
  {
   "cell_type": "code",
   "execution_count": 136,
   "metadata": {},
   "outputs": [
    {
     "data": {
      "text/plain": [
       "(6165, 16)"
      ]
     },
     "execution_count": 136,
     "metadata": {},
     "output_type": "execute_result"
    }
   ],
   "source": [
    "data = data.T\n",
    "data.shape\n"
   ]
  },
  {
   "cell_type": "code",
   "execution_count": 137,
   "metadata": {},
   "outputs": [
    {
     "data": {
      "text/plain": [
       "array([-0.32396234,  0.52188835,  0.26421629,  0.28396354, -0.46725567,\n",
       "        0.6709343 ,  0.26749381,  0.19374828,  0.22077486,  0.12051525,\n",
       "        0.13160521, -0.05008458, -0.01582606, -0.02864379, -0.03207949,\n",
       "       -0.04809904])"
      ]
     },
     "execution_count": 137,
     "metadata": {},
     "output_type": "execute_result"
    }
   ],
   "source": [
    "data[0,:]"
   ]
  },
  {
   "cell_type": "code",
   "execution_count": 138,
   "metadata": {},
   "outputs": [],
   "source": [
    "X_train, X, y_train, Y = train_test_split(data, labels, test_size=0.3)"
   ]
  },
  {
   "cell_type": "code",
   "execution_count": 139,
   "metadata": {},
   "outputs": [
    {
     "data": {
      "text/plain": [
       "((4315, 16), (4315,), (1850, 16), (1850,))"
      ]
     },
     "execution_count": 139,
     "metadata": {},
     "output_type": "execute_result"
    }
   ],
   "source": [
    "X_train.shape, y_train.shape, X.shape, Y.shape"
   ]
  },
  {
   "cell_type": "markdown",
   "metadata": {},
   "source": [
    "#### Now we have our train dataset but we need a dev and test dataset"
   ]
  },
  {
   "cell_type": "code",
   "execution_count": 140,
   "metadata": {},
   "outputs": [],
   "source": [
    "X_dev, X_test, y_dev, y_test = train_test_split(X, Y, test_size=0.5, )"
   ]
  },
  {
   "cell_type": "code",
   "execution_count": 141,
   "metadata": {},
   "outputs": [
    {
     "name": "stdout",
     "output_type": "stream",
     "text": [
      "Traininig set: 4315 samples\n",
      "Dev set: 925 samples\n",
      "Test set: 925 samples\n"
     ]
    }
   ],
   "source": [
    "m = X_train.shape[0] # number of samples\n",
    "print(f'Traininig set: {X_train.shape[0]} samples')\n",
    "print(f'Dev set: {X_dev.shape[0]} samples')\n",
    "print(f'Test set: {X_test.shape[0]} samples')"
   ]
  },
  {
   "cell_type": "markdown",
   "metadata": {},
   "source": [
    "##### We have 60% for training and 20% for dev,test data\n",
    "##### Now we need to normalize the data, let's to use the z-score method"
   ]
  },
  {
   "cell_type": "code",
   "execution_count": 142,
   "metadata": {},
   "outputs": [],
   "source": [
    "from sklearn.preprocessing import StandardScaler\n",
    "scaler = StandardScaler()\n",
    "X_train = scaler.fit_transform(X_train) #* Normalize X_train using the mean and standard deviation of the training set\n",
    "X_dev = scaler.transform(X_dev)  #* Normalize X_test using the mean and standard deviation of the training set\n",
    "X_test = scaler.transform(X_test)  #* Normalize X_test using the mean and standard deviation of the training set"
   ]
  },
  {
   "cell_type": "markdown",
   "metadata": {},
   "source": [
    "### ONE HOT to create our matrix with labels"
   ]
  },
  {
   "cell_type": "code",
   "execution_count": 143,
   "metadata": {},
   "outputs": [
    {
     "data": {
      "text/plain": [
       "((4315, 5), (925, 5), (925, 5))"
      ]
     },
     "execution_count": 143,
     "metadata": {},
     "output_type": "execute_result"
    }
   ],
   "source": [
    "from sklearn.preprocessing import OneHotEncoder\n",
    "encoder = OneHotEncoder(sparse_output=False)\n",
    "y_train_onehot = encoder.fit_transform(y_train.reshape(-1, 1))\n",
    "y_dev_onehot = encoder.transform(y_dev.reshape(-1, 1))\n",
    "y_test_onehot = encoder.transform(y_test.reshape(-1, 1))\n",
    "y_train_onehot.shape, y_dev_onehot.shape, y_test_onehot.shape"
   ]
  },
  {
   "cell_type": "code",
   "execution_count": 144,
   "metadata": {},
   "outputs": [
    {
     "name": "stdout",
     "output_type": "stream",
     "text": [
      "2    200\n",
      "1    190\n",
      "3    187\n",
      "4    182\n",
      "0    166\n",
      "Name: count, dtype: int64\n"
     ]
    }
   ],
   "source": [
    "# Convertir el array a una serie de pandas\n",
    "import pandas as pd\n",
    "y_dev_series = pd.Series(y_dev)\n",
    "\n",
    "# Contar la frecuencia de cada elemento\n",
    "element_counts = y_dev_series.value_counts()\n",
    "print(element_counts)"
   ]
  },
  {
   "cell_type": "code",
   "execution_count": 145,
   "metadata": {},
   "outputs": [
    {
     "data": {
      "text/plain": [
       "2112"
      ]
     },
     "execution_count": 145,
     "metadata": {},
     "output_type": "execute_result"
    }
   ],
   "source": [
    "1056*2"
   ]
  },
  {
   "cell_type": "markdown",
   "metadata": {},
   "source": [
    "#### Let's to build our first NEURAL NETWORK"
   ]
  },
  {
   "cell_type": "code",
   "execution_count": 146,
   "metadata": {},
   "outputs": [
    {
     "name": "stdout",
     "output_type": "stream",
     "text": [
      "Epoch 1/300\n"
     ]
    },
    {
     "name": "stdout",
     "output_type": "stream",
     "text": [
      "\u001b[1m34/34\u001b[0m \u001b[32m━━━━━━━━━━━━━━━━━━━━\u001b[0m\u001b[37m\u001b[0m \u001b[1m4s\u001b[0m 46ms/step - categorical_accuracy: 0.5170 - loss: 13.5954 - val_categorical_accuracy: 0.6800 - val_loss: 3.3317\n",
      "Epoch 2/300\n",
      "\u001b[1m34/34\u001b[0m \u001b[32m━━━━━━━━━━━━━━━━━━━━\u001b[0m\u001b[37m\u001b[0m \u001b[1m1s\u001b[0m 34ms/step - categorical_accuracy: 0.6866 - loss: 2.4180 - val_categorical_accuracy: 0.6908 - val_loss: 1.1496\n",
      "Epoch 3/300\n",
      "\u001b[1m34/34\u001b[0m \u001b[32m━━━━━━━━━━━━━━━━━━━━\u001b[0m\u001b[37m\u001b[0m \u001b[1m1s\u001b[0m 34ms/step - categorical_accuracy: 0.6884 - loss: 1.0648 - val_categorical_accuracy: 0.6951 - val_loss: 0.9628\n",
      "Epoch 4/300\n",
      "\u001b[1m34/34\u001b[0m \u001b[32m━━━━━━━━━━━━━━━━━━━━\u001b[0m\u001b[37m\u001b[0m \u001b[1m1s\u001b[0m 34ms/step - categorical_accuracy: 0.6982 - loss: 0.9236 - val_categorical_accuracy: 0.6703 - val_loss: 0.9804\n",
      "Epoch 5/300\n",
      "\u001b[1m34/34\u001b[0m \u001b[32m━━━━━━━━━━━━━━━━━━━━\u001b[0m\u001b[37m\u001b[0m \u001b[1m1s\u001b[0m 34ms/step - categorical_accuracy: 0.6830 - loss: 0.9224 - val_categorical_accuracy: 0.6951 - val_loss: 0.8984\n",
      "Epoch 6/300\n",
      "\u001b[1m34/34\u001b[0m \u001b[32m━━━━━━━━━━━━━━━━━━━━\u001b[0m\u001b[37m\u001b[0m \u001b[1m1s\u001b[0m 34ms/step - categorical_accuracy: 0.6932 - loss: 0.8805 - val_categorical_accuracy: 0.6595 - val_loss: 0.9076\n",
      "Epoch 7/300\n",
      "\u001b[1m34/34\u001b[0m \u001b[32m━━━━━━━━━━━━━━━━━━━━\u001b[0m\u001b[37m\u001b[0m \u001b[1m1s\u001b[0m 35ms/step - categorical_accuracy: 0.6670 - loss: 0.8786 - val_categorical_accuracy: 0.6951 - val_loss: 0.8855\n",
      "Epoch 8/300\n",
      "\u001b[1m34/34\u001b[0m \u001b[32m━━━━━━━━━━━━━━━━━━━━\u001b[0m\u001b[37m\u001b[0m \u001b[1m1s\u001b[0m 33ms/step - categorical_accuracy: 0.6964 - loss: 0.8511 - val_categorical_accuracy: 0.6584 - val_loss: 0.9010\n",
      "Epoch 9/300\n",
      "\u001b[1m34/34\u001b[0m \u001b[32m━━━━━━━━━━━━━━━━━━━━\u001b[0m\u001b[37m\u001b[0m \u001b[1m1s\u001b[0m 33ms/step - categorical_accuracy: 0.6981 - loss: 0.8281 - val_categorical_accuracy: 0.6908 - val_loss: 0.8548\n",
      "Epoch 10/300\n",
      "\u001b[1m34/34\u001b[0m \u001b[32m━━━━━━━━━━━━━━━━━━━━\u001b[0m\u001b[37m\u001b[0m \u001b[1m1s\u001b[0m 34ms/step - categorical_accuracy: 0.6925 - loss: 0.8400 - val_categorical_accuracy: 0.6930 - val_loss: 0.8450\n",
      "Epoch 11/300\n",
      "\u001b[1m34/34\u001b[0m \u001b[32m━━━━━━━━━━━━━━━━━━━━\u001b[0m\u001b[37m\u001b[0m \u001b[1m1s\u001b[0m 36ms/step - categorical_accuracy: 0.6940 - loss: 0.8213 - val_categorical_accuracy: 0.6908 - val_loss: 0.8611\n",
      "Epoch 12/300\n",
      "\u001b[1m34/34\u001b[0m \u001b[32m━━━━━━━━━━━━━━━━━━━━\u001b[0m\u001b[37m\u001b[0m \u001b[1m1s\u001b[0m 34ms/step - categorical_accuracy: 0.6965 - loss: 0.8276 - val_categorical_accuracy: 0.6832 - val_loss: 0.8402\n",
      "Epoch 13/300\n",
      "\u001b[1m34/34\u001b[0m \u001b[32m━━━━━━━━━━━━━━━━━━━━\u001b[0m\u001b[37m\u001b[0m \u001b[1m1s\u001b[0m 35ms/step - categorical_accuracy: 0.7171 - loss: 0.8030 - val_categorical_accuracy: 0.6768 - val_loss: 0.8440\n",
      "Epoch 14/300\n",
      "\u001b[1m34/34\u001b[0m \u001b[32m━━━━━━━━━━━━━━━━━━━━\u001b[0m\u001b[37m\u001b[0m \u001b[1m1s\u001b[0m 34ms/step - categorical_accuracy: 0.7029 - loss: 0.7962 - val_categorical_accuracy: 0.6800 - val_loss: 0.8350\n",
      "Epoch 15/300\n",
      "\u001b[1m34/34\u001b[0m \u001b[32m━━━━━━━━━━━━━━━━━━━━\u001b[0m\u001b[37m\u001b[0m \u001b[1m1s\u001b[0m 35ms/step - categorical_accuracy: 0.7005 - loss: 0.8065 - val_categorical_accuracy: 0.6908 - val_loss: 0.8331\n",
      "Epoch 16/300\n",
      "\u001b[1m34/34\u001b[0m \u001b[32m━━━━━━━━━━━━━━━━━━━━\u001b[0m\u001b[37m\u001b[0m \u001b[1m1s\u001b[0m 35ms/step - categorical_accuracy: 0.7108 - loss: 0.7913 - val_categorical_accuracy: 0.6897 - val_loss: 0.8292\n",
      "Epoch 17/300\n",
      "\u001b[1m34/34\u001b[0m \u001b[32m━━━━━━━━━━━━━━━━━━━━\u001b[0m\u001b[37m\u001b[0m \u001b[1m1s\u001b[0m 36ms/step - categorical_accuracy: 0.7095 - loss: 0.7879 - val_categorical_accuracy: 0.6919 - val_loss: 0.8236\n",
      "Epoch 18/300\n",
      "\u001b[1m34/34\u001b[0m \u001b[32m━━━━━━━━━━━━━━━━━━━━\u001b[0m\u001b[37m\u001b[0m \u001b[1m1s\u001b[0m 36ms/step - categorical_accuracy: 0.7098 - loss: 0.7900 - val_categorical_accuracy: 0.6551 - val_loss: 0.8533\n",
      "Epoch 19/300\n",
      "\u001b[1m34/34\u001b[0m \u001b[32m━━━━━━━━━━━━━━━━━━━━\u001b[0m\u001b[37m\u001b[0m \u001b[1m1s\u001b[0m 35ms/step - categorical_accuracy: 0.7112 - loss: 0.7881 - val_categorical_accuracy: 0.6962 - val_loss: 0.8126\n",
      "Epoch 20/300\n",
      "\u001b[1m34/34\u001b[0m \u001b[32m━━━━━━━━━━━━━━━━━━━━\u001b[0m\u001b[37m\u001b[0m \u001b[1m1s\u001b[0m 36ms/step - categorical_accuracy: 0.7171 - loss: 0.7874 - val_categorical_accuracy: 0.6692 - val_loss: 0.8718\n",
      "Epoch 21/300\n",
      "\u001b[1m34/34\u001b[0m \u001b[32m━━━━━━━━━━━━━━━━━━━━\u001b[0m\u001b[37m\u001b[0m \u001b[1m1s\u001b[0m 35ms/step - categorical_accuracy: 0.7228 - loss: 0.7930 - val_categorical_accuracy: 0.6876 - val_loss: 0.8161\n",
      "Epoch 22/300\n",
      "\u001b[1m34/34\u001b[0m \u001b[32m━━━━━━━━━━━━━━━━━━━━\u001b[0m\u001b[37m\u001b[0m \u001b[1m1s\u001b[0m 37ms/step - categorical_accuracy: 0.7145 - loss: 0.7712 - val_categorical_accuracy: 0.6984 - val_loss: 0.8111\n",
      "Epoch 23/300\n",
      "\u001b[1m34/34\u001b[0m \u001b[32m━━━━━━━━━━━━━━━━━━━━\u001b[0m\u001b[37m\u001b[0m \u001b[1m1s\u001b[0m 41ms/step - categorical_accuracy: 0.7245 - loss: 0.7566 - val_categorical_accuracy: 0.6962 - val_loss: 0.8091\n",
      "Epoch 24/300\n",
      "\u001b[1m34/34\u001b[0m \u001b[32m━━━━━━━━━━━━━━━━━━━━\u001b[0m\u001b[37m\u001b[0m \u001b[1m1s\u001b[0m 40ms/step - categorical_accuracy: 0.7188 - loss: 0.7574 - val_categorical_accuracy: 0.7005 - val_loss: 0.8299\n",
      "Epoch 25/300\n",
      "\u001b[1m34/34\u001b[0m \u001b[32m━━━━━━━━━━━━━━━━━━━━\u001b[0m\u001b[37m\u001b[0m \u001b[1m1s\u001b[0m 41ms/step - categorical_accuracy: 0.7222 - loss: 0.7579 - val_categorical_accuracy: 0.6876 - val_loss: 0.8095\n",
      "Epoch 26/300\n",
      "\u001b[1m34/34\u001b[0m \u001b[32m━━━━━━━━━━━━━━━━━━━━\u001b[0m\u001b[37m\u001b[0m \u001b[1m1s\u001b[0m 41ms/step - categorical_accuracy: 0.7190 - loss: 0.7677 - val_categorical_accuracy: 0.7016 - val_loss: 0.8199\n",
      "Epoch 27/300\n",
      "\u001b[1m34/34\u001b[0m \u001b[32m━━━━━━━━━━━━━━━━━━━━\u001b[0m\u001b[37m\u001b[0m \u001b[1m1s\u001b[0m 40ms/step - categorical_accuracy: 0.7191 - loss: 0.7586 - val_categorical_accuracy: 0.7178 - val_loss: 0.7914\n",
      "Epoch 28/300\n",
      "\u001b[1m34/34\u001b[0m \u001b[32m━━━━━━━━━━━━━━━━━━━━\u001b[0m\u001b[37m\u001b[0m \u001b[1m1s\u001b[0m 41ms/step - categorical_accuracy: 0.7086 - loss: 0.7794 - val_categorical_accuracy: 0.7038 - val_loss: 0.8002\n",
      "Epoch 29/300\n",
      "\u001b[1m34/34\u001b[0m \u001b[32m━━━━━━━━━━━━━━━━━━━━\u001b[0m\u001b[37m\u001b[0m \u001b[1m1s\u001b[0m 39ms/step - categorical_accuracy: 0.7167 - loss: 0.7718 - val_categorical_accuracy: 0.6984 - val_loss: 0.8033\n",
      "Epoch 30/300\n",
      "\u001b[1m34/34\u001b[0m \u001b[32m━━━━━━━━━━━━━━━━━━━━\u001b[0m\u001b[37m\u001b[0m \u001b[1m1s\u001b[0m 40ms/step - categorical_accuracy: 0.7271 - loss: 0.7448 - val_categorical_accuracy: 0.7103 - val_loss: 0.8002\n",
      "Epoch 31/300\n",
      "\u001b[1m34/34\u001b[0m \u001b[32m━━━━━━━━━━━━━━━━━━━━\u001b[0m\u001b[37m\u001b[0m \u001b[1m1s\u001b[0m 37ms/step - categorical_accuracy: 0.7243 - loss: 0.7365 - val_categorical_accuracy: 0.6984 - val_loss: 0.8112\n",
      "Epoch 32/300\n",
      "\u001b[1m34/34\u001b[0m \u001b[32m━━━━━━━━━━━━━━━━━━━━\u001b[0m\u001b[37m\u001b[0m \u001b[1m1s\u001b[0m 42ms/step - categorical_accuracy: 0.7281 - loss: 0.7316 - val_categorical_accuracy: 0.7114 - val_loss: 0.7872\n",
      "Epoch 33/300\n",
      "\u001b[1m34/34\u001b[0m \u001b[32m━━━━━━━━━━━━━━━━━━━━\u001b[0m\u001b[37m\u001b[0m \u001b[1m1s\u001b[0m 40ms/step - categorical_accuracy: 0.7343 - loss: 0.7442 - val_categorical_accuracy: 0.7049 - val_loss: 0.7912\n",
      "Epoch 34/300\n",
      "\u001b[1m34/34\u001b[0m \u001b[32m━━━━━━━━━━━━━━━━━━━━\u001b[0m\u001b[37m\u001b[0m \u001b[1m1s\u001b[0m 40ms/step - categorical_accuracy: 0.7246 - loss: 0.7323 - val_categorical_accuracy: 0.6919 - val_loss: 0.7948\n",
      "Epoch 35/300\n",
      "\u001b[1m34/34\u001b[0m \u001b[32m━━━━━━━━━━━━━━━━━━━━\u001b[0m\u001b[37m\u001b[0m \u001b[1m1s\u001b[0m 38ms/step - categorical_accuracy: 0.7290 - loss: 0.7404 - val_categorical_accuracy: 0.6984 - val_loss: 0.8002\n",
      "Epoch 36/300\n",
      "\u001b[1m34/34\u001b[0m \u001b[32m━━━━━━━━━━━━━━━━━━━━\u001b[0m\u001b[37m\u001b[0m \u001b[1m1s\u001b[0m 39ms/step - categorical_accuracy: 0.7362 - loss: 0.7516 - val_categorical_accuracy: 0.6919 - val_loss: 0.7983\n",
      "Epoch 37/300\n",
      "\u001b[1m34/34\u001b[0m \u001b[32m━━━━━━━━━━━━━━━━━━━━\u001b[0m\u001b[37m\u001b[0m \u001b[1m1s\u001b[0m 38ms/step - categorical_accuracy: 0.7228 - loss: 0.7396 - val_categorical_accuracy: 0.6973 - val_loss: 0.8055\n",
      "Epoch 38/300\n",
      "\u001b[1m34/34\u001b[0m \u001b[32m━━━━━━━━━━━━━━━━━━━━\u001b[0m\u001b[37m\u001b[0m \u001b[1m1s\u001b[0m 34ms/step - categorical_accuracy: 0.7314 - loss: 0.7387 - val_categorical_accuracy: 0.7103 - val_loss: 0.7905\n",
      "Epoch 39/300\n",
      "\u001b[1m34/34\u001b[0m \u001b[32m━━━━━━━━━━━━━━━━━━━━\u001b[0m\u001b[37m\u001b[0m \u001b[1m1s\u001b[0m 34ms/step - categorical_accuracy: 0.7300 - loss: 0.7279 - val_categorical_accuracy: 0.6768 - val_loss: 0.8464\n",
      "Epoch 40/300\n",
      "\u001b[1m34/34\u001b[0m \u001b[32m━━━━━━━━━━━━━━━━━━━━\u001b[0m\u001b[37m\u001b[0m \u001b[1m1s\u001b[0m 36ms/step - categorical_accuracy: 0.7215 - loss: 0.7470 - val_categorical_accuracy: 0.6951 - val_loss: 0.8016\n",
      "Epoch 41/300\n",
      "\u001b[1m34/34\u001b[0m \u001b[32m━━━━━━━━━━━━━━━━━━━━\u001b[0m\u001b[37m\u001b[0m \u001b[1m1s\u001b[0m 39ms/step - categorical_accuracy: 0.7175 - loss: 0.7582 - val_categorical_accuracy: 0.6908 - val_loss: 0.7970\n",
      "Epoch 42/300\n",
      "\u001b[1m34/34\u001b[0m \u001b[32m━━━━━━━━━━━━━━━━━━━━\u001b[0m\u001b[37m\u001b[0m \u001b[1m1s\u001b[0m 41ms/step - categorical_accuracy: 0.7191 - loss: 0.7468 - val_categorical_accuracy: 0.6973 - val_loss: 0.7879\n",
      "Epoch 43/300\n",
      "\u001b[1m34/34\u001b[0m \u001b[32m━━━━━━━━━━━━━━━━━━━━\u001b[0m\u001b[37m\u001b[0m \u001b[1m1s\u001b[0m 36ms/step - categorical_accuracy: 0.7389 - loss: 0.7205 - val_categorical_accuracy: 0.7092 - val_loss: 0.8013\n",
      "Epoch 44/300\n",
      "\u001b[1m34/34\u001b[0m \u001b[32m━━━━━━━━━━━━━━━━━━━━\u001b[0m\u001b[37m\u001b[0m \u001b[1m1s\u001b[0m 34ms/step - categorical_accuracy: 0.7164 - loss: 0.7489 - val_categorical_accuracy: 0.6984 - val_loss: 0.7918\n",
      "Epoch 45/300\n",
      "\u001b[1m34/34\u001b[0m \u001b[32m━━━━━━━━━━━━━━━━━━━━\u001b[0m\u001b[37m\u001b[0m \u001b[1m1s\u001b[0m 36ms/step - categorical_accuracy: 0.7210 - loss: 0.7455 - val_categorical_accuracy: 0.6962 - val_loss: 0.8023\n",
      "Epoch 46/300\n",
      "\u001b[1m34/34\u001b[0m \u001b[32m━━━━━━━━━━━━━━━━━━━━\u001b[0m\u001b[37m\u001b[0m \u001b[1m1s\u001b[0m 36ms/step - categorical_accuracy: 0.7339 - loss: 0.7225 - val_categorical_accuracy: 0.7049 - val_loss: 0.7883\n",
      "Epoch 47/300\n",
      "\u001b[1m34/34\u001b[0m \u001b[32m━━━━━━━━━━━━━━━━━━━━\u001b[0m\u001b[37m\u001b[0m \u001b[1m1s\u001b[0m 40ms/step - categorical_accuracy: 0.7451 - loss: 0.7094 - val_categorical_accuracy: 0.7016 - val_loss: 0.8009\n",
      "Epoch 48/300\n",
      "\u001b[1m34/34\u001b[0m \u001b[32m━━━━━━━━━━━━━━━━━━━━\u001b[0m\u001b[37m\u001b[0m \u001b[1m1s\u001b[0m 35ms/step - categorical_accuracy: 0.7354 - loss: 0.7171 - val_categorical_accuracy: 0.6973 - val_loss: 0.7924\n",
      "Epoch 49/300\n",
      "\u001b[1m34/34\u001b[0m \u001b[32m━━━━━━━━━━━━━━━━━━━━\u001b[0m\u001b[37m\u001b[0m \u001b[1m1s\u001b[0m 35ms/step - categorical_accuracy: 0.7440 - loss: 0.7048 - val_categorical_accuracy: 0.7070 - val_loss: 0.7737\n",
      "Epoch 50/300\n",
      "\u001b[1m34/34\u001b[0m \u001b[32m━━━━━━━━━━━━━━━━━━━━\u001b[0m\u001b[37m\u001b[0m \u001b[1m1s\u001b[0m 36ms/step - categorical_accuracy: 0.7367 - loss: 0.7110 - val_categorical_accuracy: 0.6984 - val_loss: 0.8002\n",
      "Epoch 51/300\n",
      "\u001b[1m34/34\u001b[0m \u001b[32m━━━━━━━━━━━━━━━━━━━━\u001b[0m\u001b[37m\u001b[0m \u001b[1m1s\u001b[0m 35ms/step - categorical_accuracy: 0.7251 - loss: 0.7453 - val_categorical_accuracy: 0.6973 - val_loss: 0.8028\n",
      "Epoch 52/300\n",
      "\u001b[1m34/34\u001b[0m \u001b[32m━━━━━━━━━━━━━━━━━━━━\u001b[0m\u001b[37m\u001b[0m \u001b[1m1s\u001b[0m 33ms/step - categorical_accuracy: 0.7377 - loss: 0.7296 - val_categorical_accuracy: 0.7016 - val_loss: 0.8085\n",
      "Epoch 53/300\n",
      "\u001b[1m34/34\u001b[0m \u001b[32m━━━━━━━━━━━━━━━━━━━━\u001b[0m\u001b[37m\u001b[0m \u001b[1m1s\u001b[0m 35ms/step - categorical_accuracy: 0.7374 - loss: 0.7228 - val_categorical_accuracy: 0.7038 - val_loss: 0.7811\n",
      "Epoch 54/300\n",
      "\u001b[1m34/34\u001b[0m \u001b[32m━━━━━━━━━━━━━━━━━━━━\u001b[0m\u001b[37m\u001b[0m \u001b[1m1s\u001b[0m 34ms/step - categorical_accuracy: 0.7347 - loss: 0.7033 - val_categorical_accuracy: 0.7059 - val_loss: 0.7946\n",
      "Epoch 55/300\n",
      "\u001b[1m34/34\u001b[0m \u001b[32m━━━━━━━━━━━━━━━━━━━━\u001b[0m\u001b[37m\u001b[0m \u001b[1m1s\u001b[0m 34ms/step - categorical_accuracy: 0.7184 - loss: 0.7407 - val_categorical_accuracy: 0.7038 - val_loss: 0.8016\n",
      "Epoch 56/300\n",
      "\u001b[1m34/34\u001b[0m \u001b[32m━━━━━━━━━━━━━━━━━━━━\u001b[0m\u001b[37m\u001b[0m \u001b[1m1s\u001b[0m 35ms/step - categorical_accuracy: 0.7283 - loss: 0.7165 - val_categorical_accuracy: 0.7005 - val_loss: 0.7848\n",
      "Epoch 57/300\n",
      "\u001b[1m34/34\u001b[0m \u001b[32m━━━━━━━━━━━━━━━━━━━━\u001b[0m\u001b[37m\u001b[0m \u001b[1m1s\u001b[0m 34ms/step - categorical_accuracy: 0.7279 - loss: 0.7150 - val_categorical_accuracy: 0.7049 - val_loss: 0.8186\n",
      "Epoch 58/300\n",
      "\u001b[1m34/34\u001b[0m \u001b[32m━━━━━━━━━━━━━━━━━━━━\u001b[0m\u001b[37m\u001b[0m \u001b[1m1s\u001b[0m 33ms/step - categorical_accuracy: 0.7360 - loss: 0.7253 - val_categorical_accuracy: 0.7135 - val_loss: 0.7852\n",
      "Epoch 59/300\n",
      "\u001b[1m34/34\u001b[0m \u001b[32m━━━━━━━━━━━━━━━━━━━━\u001b[0m\u001b[37m\u001b[0m \u001b[1m1s\u001b[0m 35ms/step - categorical_accuracy: 0.7504 - loss: 0.7032 - val_categorical_accuracy: 0.7189 - val_loss: 0.7848\n",
      "Epoch 60/300\n",
      "\u001b[1m34/34\u001b[0m \u001b[32m━━━━━━━━━━━━━━━━━━━━\u001b[0m\u001b[37m\u001b[0m \u001b[1m1s\u001b[0m 33ms/step - categorical_accuracy: 0.7436 - loss: 0.7032 - val_categorical_accuracy: 0.6973 - val_loss: 0.8038\n",
      "Epoch 61/300\n",
      "\u001b[1m34/34\u001b[0m \u001b[32m━━━━━━━━━━━━━━━━━━━━\u001b[0m\u001b[37m\u001b[0m \u001b[1m1s\u001b[0m 34ms/step - categorical_accuracy: 0.7487 - loss: 0.7057 - val_categorical_accuracy: 0.7059 - val_loss: 0.7873\n",
      "Epoch 62/300\n",
      "\u001b[1m34/34\u001b[0m \u001b[32m━━━━━━━━━━━━━━━━━━━━\u001b[0m\u001b[37m\u001b[0m \u001b[1m1s\u001b[0m 34ms/step - categorical_accuracy: 0.7404 - loss: 0.7056 - val_categorical_accuracy: 0.7038 - val_loss: 0.7854\n",
      "Epoch 63/300\n",
      "\u001b[1m34/34\u001b[0m \u001b[32m━━━━━━━━━━━━━━━━━━━━\u001b[0m\u001b[37m\u001b[0m \u001b[1m1s\u001b[0m 34ms/step - categorical_accuracy: 0.7317 - loss: 0.7248 - val_categorical_accuracy: 0.7059 - val_loss: 0.7994\n",
      "Epoch 64/300\n",
      "\u001b[1m34/34\u001b[0m \u001b[32m━━━━━━━━━━━━━━━━━━━━\u001b[0m\u001b[37m\u001b[0m \u001b[1m1s\u001b[0m 34ms/step - categorical_accuracy: 0.7380 - loss: 0.7008 - val_categorical_accuracy: 0.6984 - val_loss: 0.7837\n",
      "Epoch 65/300\n",
      "\u001b[1m34/34\u001b[0m \u001b[32m━━━━━━━━━━━━━━━━━━━━\u001b[0m\u001b[37m\u001b[0m \u001b[1m1s\u001b[0m 35ms/step - categorical_accuracy: 0.7449 - loss: 0.6947 - val_categorical_accuracy: 0.7081 - val_loss: 0.7737\n",
      "Epoch 66/300\n",
      "\u001b[1m34/34\u001b[0m \u001b[32m━━━━━━━━━━━━━━━━━━━━\u001b[0m\u001b[37m\u001b[0m \u001b[1m1s\u001b[0m 34ms/step - categorical_accuracy: 0.7333 - loss: 0.7210 - val_categorical_accuracy: 0.6854 - val_loss: 0.8023\n",
      "Epoch 67/300\n",
      "\u001b[1m34/34\u001b[0m \u001b[32m━━━━━━━━━━━━━━━━━━━━\u001b[0m\u001b[37m\u001b[0m \u001b[1m1s\u001b[0m 33ms/step - categorical_accuracy: 0.7408 - loss: 0.7060 - val_categorical_accuracy: 0.7027 - val_loss: 0.7950\n",
      "Epoch 68/300\n",
      "\u001b[1m34/34\u001b[0m \u001b[32m━━━━━━━━━━━━━━━━━━━━\u001b[0m\u001b[37m\u001b[0m \u001b[1m1s\u001b[0m 35ms/step - categorical_accuracy: 0.7549 - loss: 0.6921 - val_categorical_accuracy: 0.7016 - val_loss: 0.7934\n",
      "Epoch 69/300\n",
      "\u001b[1m34/34\u001b[0m \u001b[32m━━━━━━━━━━━━━━━━━━━━\u001b[0m\u001b[37m\u001b[0m \u001b[1m1s\u001b[0m 34ms/step - categorical_accuracy: 0.7352 - loss: 0.6988 - val_categorical_accuracy: 0.7092 - val_loss: 0.7862\n",
      "Epoch 70/300\n",
      "\u001b[1m34/34\u001b[0m \u001b[32m━━━━━━━━━━━━━━━━━━━━\u001b[0m\u001b[37m\u001b[0m \u001b[1m1s\u001b[0m 35ms/step - categorical_accuracy: 0.7503 - loss: 0.6852 - val_categorical_accuracy: 0.7070 - val_loss: 0.7754\n",
      "Epoch 71/300\n",
      "\u001b[1m34/34\u001b[0m \u001b[32m━━━━━━━━━━━━━━━━━━━━\u001b[0m\u001b[37m\u001b[0m \u001b[1m1s\u001b[0m 33ms/step - categorical_accuracy: 0.7446 - loss: 0.7040 - val_categorical_accuracy: 0.7038 - val_loss: 0.7848\n",
      "Epoch 72/300\n",
      "\u001b[1m34/34\u001b[0m \u001b[32m━━━━━━━━━━━━━━━━━━━━\u001b[0m\u001b[37m\u001b[0m \u001b[1m1s\u001b[0m 34ms/step - categorical_accuracy: 0.7416 - loss: 0.6938 - val_categorical_accuracy: 0.7059 - val_loss: 0.7887\n",
      "Epoch 73/300\n",
      "\u001b[1m34/34\u001b[0m \u001b[32m━━━━━━━━━━━━━━━━━━━━\u001b[0m\u001b[37m\u001b[0m \u001b[1m1s\u001b[0m 34ms/step - categorical_accuracy: 0.7579 - loss: 0.6886 - val_categorical_accuracy: 0.7027 - val_loss: 0.7803\n",
      "Epoch 74/300\n",
      "\u001b[1m34/34\u001b[0m \u001b[32m━━━━━━━━━━━━━━━━━━━━\u001b[0m\u001b[37m\u001b[0m \u001b[1m1s\u001b[0m 34ms/step - categorical_accuracy: 0.7432 - loss: 0.6960 - val_categorical_accuracy: 0.7189 - val_loss: 0.7747\n",
      "Epoch 75/300\n",
      "\u001b[1m34/34\u001b[0m \u001b[32m━━━━━━━━━━━━━━━━━━━━\u001b[0m\u001b[37m\u001b[0m \u001b[1m1s\u001b[0m 33ms/step - categorical_accuracy: 0.7469 - loss: 0.6910 - val_categorical_accuracy: 0.7081 - val_loss: 0.7907\n",
      "Epoch 76/300\n",
      "\u001b[1m34/34\u001b[0m \u001b[32m━━━━━━━━━━━━━━━━━━━━\u001b[0m\u001b[37m\u001b[0m \u001b[1m1s\u001b[0m 35ms/step - categorical_accuracy: 0.7489 - loss: 0.6948 - val_categorical_accuracy: 0.6984 - val_loss: 0.7833\n",
      "Epoch 77/300\n",
      "\u001b[1m34/34\u001b[0m \u001b[32m━━━━━━━━━━━━━━━━━━━━\u001b[0m\u001b[37m\u001b[0m \u001b[1m1s\u001b[0m 34ms/step - categorical_accuracy: 0.7432 - loss: 0.6861 - val_categorical_accuracy: 0.6984 - val_loss: 0.7785\n",
      "Epoch 78/300\n",
      "\u001b[1m34/34\u001b[0m \u001b[32m━━━━━━━━━━━━━━━━━━━━\u001b[0m\u001b[37m\u001b[0m \u001b[1m1s\u001b[0m 35ms/step - categorical_accuracy: 0.7488 - loss: 0.6832 - val_categorical_accuracy: 0.7070 - val_loss: 0.8078\n",
      "Epoch 79/300\n",
      "\u001b[1m34/34\u001b[0m \u001b[32m━━━━━━━━━━━━━━━━━━━━\u001b[0m\u001b[37m\u001b[0m \u001b[1m1s\u001b[0m 33ms/step - categorical_accuracy: 0.7507 - loss: 0.6813 - val_categorical_accuracy: 0.7038 - val_loss: 0.8130\n",
      "Epoch 80/300\n",
      "\u001b[1m34/34\u001b[0m \u001b[32m━━━━━━━━━━━━━━━━━━━━\u001b[0m\u001b[37m\u001b[0m \u001b[1m1s\u001b[0m 34ms/step - categorical_accuracy: 0.7363 - loss: 0.7048 - val_categorical_accuracy: 0.6984 - val_loss: 0.8040\n",
      "Epoch 81/300\n",
      "\u001b[1m34/34\u001b[0m \u001b[32m━━━━━━━━━━━━━━━━━━━━\u001b[0m\u001b[37m\u001b[0m \u001b[1m1s\u001b[0m 35ms/step - categorical_accuracy: 0.7478 - loss: 0.6956 - val_categorical_accuracy: 0.7222 - val_loss: 0.7827\n",
      "Epoch 82/300\n",
      "\u001b[1m34/34\u001b[0m \u001b[32m━━━━━━━━━━━━━━━━━━━━\u001b[0m\u001b[37m\u001b[0m \u001b[1m1s\u001b[0m 33ms/step - categorical_accuracy: 0.7533 - loss: 0.6850 - val_categorical_accuracy: 0.7124 - val_loss: 0.7821\n",
      "Epoch 83/300\n",
      "\u001b[1m34/34\u001b[0m \u001b[32m━━━━━━━━━━━━━━━━━━━━\u001b[0m\u001b[37m\u001b[0m \u001b[1m1s\u001b[0m 34ms/step - categorical_accuracy: 0.7570 - loss: 0.6739 - val_categorical_accuracy: 0.7059 - val_loss: 0.7845\n",
      "Epoch 84/300\n",
      "\u001b[1m34/34\u001b[0m \u001b[32m━━━━━━━━━━━━━━━━━━━━\u001b[0m\u001b[37m\u001b[0m \u001b[1m1s\u001b[0m 34ms/step - categorical_accuracy: 0.7453 - loss: 0.6907 - val_categorical_accuracy: 0.7168 - val_loss: 0.7853\n",
      "Epoch 85/300\n",
      "\u001b[1m34/34\u001b[0m \u001b[32m━━━━━━━━━━━━━━━━━━━━\u001b[0m\u001b[37m\u001b[0m \u001b[1m1s\u001b[0m 34ms/step - categorical_accuracy: 0.7437 - loss: 0.6866 - val_categorical_accuracy: 0.7038 - val_loss: 0.7828\n",
      "Epoch 86/300\n",
      "\u001b[1m34/34\u001b[0m \u001b[32m━━━━━━━━━━━━━━━━━━━━\u001b[0m\u001b[37m\u001b[0m \u001b[1m1s\u001b[0m 35ms/step - categorical_accuracy: 0.7557 - loss: 0.6830 - val_categorical_accuracy: 0.7016 - val_loss: 0.7747\n",
      "Epoch 87/300\n",
      "\u001b[1m34/34\u001b[0m \u001b[32m━━━━━━━━━━━━━━━━━━━━\u001b[0m\u001b[37m\u001b[0m \u001b[1m1s\u001b[0m 34ms/step - categorical_accuracy: 0.7466 - loss: 0.6839 - val_categorical_accuracy: 0.7027 - val_loss: 0.7825\n",
      "Epoch 88/300\n",
      "\u001b[1m34/34\u001b[0m \u001b[32m━━━━━━━━━━━━━━━━━━━━\u001b[0m\u001b[37m\u001b[0m \u001b[1m1s\u001b[0m 33ms/step - categorical_accuracy: 0.7568 - loss: 0.6824 - val_categorical_accuracy: 0.7114 - val_loss: 0.7866\n",
      "Epoch 89/300\n",
      "\u001b[1m34/34\u001b[0m \u001b[32m━━━━━━━━━━━━━━━━━━━━\u001b[0m\u001b[37m\u001b[0m \u001b[1m1s\u001b[0m 35ms/step - categorical_accuracy: 0.7541 - loss: 0.6839 - val_categorical_accuracy: 0.6951 - val_loss: 0.8056\n",
      "Epoch 90/300\n",
      "\u001b[1m34/34\u001b[0m \u001b[32m━━━━━━━━━━━━━━━━━━━━\u001b[0m\u001b[37m\u001b[0m \u001b[1m1s\u001b[0m 34ms/step - categorical_accuracy: 0.7710 - loss: 0.6599 - val_categorical_accuracy: 0.7070 - val_loss: 0.7769\n",
      "Epoch 91/300\n",
      "\u001b[1m34/34\u001b[0m \u001b[32m━━━━━━━━━━━━━━━━━━━━\u001b[0m\u001b[37m\u001b[0m \u001b[1m1s\u001b[0m 35ms/step - categorical_accuracy: 0.7551 - loss: 0.6822 - val_categorical_accuracy: 0.7092 - val_loss: 0.7854\n",
      "Epoch 92/300\n",
      "\u001b[1m34/34\u001b[0m \u001b[32m━━━━━━━━━━━━━━━━━━━━\u001b[0m\u001b[37m\u001b[0m \u001b[1m1s\u001b[0m 34ms/step - categorical_accuracy: 0.7460 - loss: 0.6872 - val_categorical_accuracy: 0.6908 - val_loss: 0.7922\n",
      "Epoch 93/300\n",
      "\u001b[1m34/34\u001b[0m \u001b[32m━━━━━━━━━━━━━━━━━━━━\u001b[0m\u001b[37m\u001b[0m \u001b[1m1s\u001b[0m 34ms/step - categorical_accuracy: 0.7499 - loss: 0.6926 - val_categorical_accuracy: 0.7103 - val_loss: 0.7785\n",
      "Epoch 94/300\n",
      "\u001b[1m34/34\u001b[0m \u001b[32m━━━━━━━━━━━━━━━━━━━━\u001b[0m\u001b[37m\u001b[0m \u001b[1m1s\u001b[0m 35ms/step - categorical_accuracy: 0.7446 - loss: 0.6833 - val_categorical_accuracy: 0.7168 - val_loss: 0.7749\n",
      "Epoch 95/300\n",
      "\u001b[1m34/34\u001b[0m \u001b[32m━━━━━━━━━━━━━━━━━━━━\u001b[0m\u001b[37m\u001b[0m \u001b[1m1s\u001b[0m 33ms/step - categorical_accuracy: 0.7539 - loss: 0.6611 - val_categorical_accuracy: 0.7114 - val_loss: 0.7748\n",
      "Epoch 96/300\n",
      "\u001b[1m34/34\u001b[0m \u001b[32m━━━━━━━━━━━━━━━━━━━━\u001b[0m\u001b[37m\u001b[0m \u001b[1m1s\u001b[0m 34ms/step - categorical_accuracy: 0.7530 - loss: 0.6787 - val_categorical_accuracy: 0.7081 - val_loss: 0.7923\n",
      "Epoch 97/300\n",
      "\u001b[1m34/34\u001b[0m \u001b[32m━━━━━━━━━━━━━━━━━━━━\u001b[0m\u001b[37m\u001b[0m \u001b[1m1s\u001b[0m 35ms/step - categorical_accuracy: 0.7510 - loss: 0.6828 - val_categorical_accuracy: 0.7092 - val_loss: 0.7855\n",
      "Epoch 98/300\n",
      "\u001b[1m34/34\u001b[0m \u001b[32m━━━━━━━━━━━━━━━━━━━━\u001b[0m\u001b[37m\u001b[0m \u001b[1m1s\u001b[0m 34ms/step - categorical_accuracy: 0.7661 - loss: 0.6572 - val_categorical_accuracy: 0.7070 - val_loss: 0.7790\n",
      "Epoch 99/300\n",
      "\u001b[1m34/34\u001b[0m \u001b[32m━━━━━━━━━━━━━━━━━━━━\u001b[0m\u001b[37m\u001b[0m \u001b[1m1s\u001b[0m 34ms/step - categorical_accuracy: 0.7665 - loss: 0.6647 - val_categorical_accuracy: 0.7114 - val_loss: 0.7821\n",
      "Epoch 100/300\n",
      "\u001b[1m34/34\u001b[0m \u001b[32m━━━━━━━━━━━━━━━━━━━━\u001b[0m\u001b[37m\u001b[0m \u001b[1m1s\u001b[0m 34ms/step - categorical_accuracy: 0.7519 - loss: 0.6725 - val_categorical_accuracy: 0.7124 - val_loss: 0.7867\n",
      "Epoch 101/300\n",
      "\u001b[1m34/34\u001b[0m \u001b[32m━━━━━━━━━━━━━━━━━━━━\u001b[0m\u001b[37m\u001b[0m \u001b[1m1s\u001b[0m 34ms/step - categorical_accuracy: 0.7662 - loss: 0.6702 - val_categorical_accuracy: 0.7092 - val_loss: 0.8057\n",
      "Epoch 102/300\n",
      "\u001b[1m34/34\u001b[0m \u001b[32m━━━━━━━━━━━━━━━━━━━━\u001b[0m\u001b[37m\u001b[0m \u001b[1m1s\u001b[0m 35ms/step - categorical_accuracy: 0.7532 - loss: 0.6755 - val_categorical_accuracy: 0.7081 - val_loss: 0.7853\n",
      "Epoch 103/300\n",
      "\u001b[1m34/34\u001b[0m \u001b[32m━━━━━━━━━━━━━━━━━━━━\u001b[0m\u001b[37m\u001b[0m \u001b[1m1s\u001b[0m 34ms/step - categorical_accuracy: 0.7654 - loss: 0.6722 - val_categorical_accuracy: 0.7081 - val_loss: 0.7881\n",
      "Epoch 104/300\n",
      "\u001b[1m34/34\u001b[0m \u001b[32m━━━━━━━━━━━━━━━━━━━━\u001b[0m\u001b[37m\u001b[0m \u001b[1m1s\u001b[0m 35ms/step - categorical_accuracy: 0.7599 - loss: 0.6682 - val_categorical_accuracy: 0.7200 - val_loss: 0.7794\n",
      "Epoch 105/300\n",
      "\u001b[1m34/34\u001b[0m \u001b[32m━━━━━━━━━━━━━━━━━━━━\u001b[0m\u001b[37m\u001b[0m \u001b[1m1s\u001b[0m 34ms/step - categorical_accuracy: 0.7623 - loss: 0.6514 - val_categorical_accuracy: 0.7038 - val_loss: 0.7785\n",
      "Epoch 106/300\n",
      "\u001b[1m34/34\u001b[0m \u001b[32m━━━━━━━━━━━━━━━━━━━━\u001b[0m\u001b[37m\u001b[0m \u001b[1m1s\u001b[0m 34ms/step - categorical_accuracy: 0.7608 - loss: 0.6674 - val_categorical_accuracy: 0.6951 - val_loss: 0.8022\n",
      "Epoch 107/300\n",
      "\u001b[1m34/34\u001b[0m \u001b[32m━━━━━━━━━━━━━━━━━━━━\u001b[0m\u001b[37m\u001b[0m \u001b[1m1s\u001b[0m 33ms/step - categorical_accuracy: 0.7589 - loss: 0.6648 - val_categorical_accuracy: 0.7146 - val_loss: 0.7914\n",
      "Epoch 108/300\n",
      "\u001b[1m34/34\u001b[0m \u001b[32m━━━━━━━━━━━━━━━━━━━━\u001b[0m\u001b[37m\u001b[0m \u001b[1m1s\u001b[0m 35ms/step - categorical_accuracy: 0.7610 - loss: 0.6626 - val_categorical_accuracy: 0.7146 - val_loss: 0.7738\n",
      "Epoch 109/300\n",
      "\u001b[1m34/34\u001b[0m \u001b[32m━━━━━━━━━━━━━━━━━━━━\u001b[0m\u001b[37m\u001b[0m \u001b[1m1s\u001b[0m 34ms/step - categorical_accuracy: 0.7663 - loss: 0.6554 - val_categorical_accuracy: 0.7114 - val_loss: 0.7755\n",
      "Epoch 110/300\n",
      "\u001b[1m34/34\u001b[0m \u001b[32m━━━━━━━━━━━━━━━━━━━━\u001b[0m\u001b[37m\u001b[0m \u001b[1m1s\u001b[0m 36ms/step - categorical_accuracy: 0.7744 - loss: 0.6555 - val_categorical_accuracy: 0.7049 - val_loss: 0.7814\n",
      "Epoch 111/300\n",
      "\u001b[1m34/34\u001b[0m \u001b[32m━━━━━━━━━━━━━━━━━━━━\u001b[0m\u001b[37m\u001b[0m \u001b[1m1s\u001b[0m 36ms/step - categorical_accuracy: 0.7650 - loss: 0.6508 - val_categorical_accuracy: 0.7189 - val_loss: 0.7797\n",
      "Epoch 112/300\n",
      "\u001b[1m34/34\u001b[0m \u001b[32m━━━━━━━━━━━━━━━━━━━━\u001b[0m\u001b[37m\u001b[0m \u001b[1m1s\u001b[0m 37ms/step - categorical_accuracy: 0.7487 - loss: 0.6841 - val_categorical_accuracy: 0.7081 - val_loss: 0.7873\n",
      "Epoch 113/300\n",
      "\u001b[1m34/34\u001b[0m \u001b[32m━━━━━━━━━━━━━━━━━━━━\u001b[0m\u001b[37m\u001b[0m \u001b[1m1s\u001b[0m 39ms/step - categorical_accuracy: 0.7644 - loss: 0.6628 - val_categorical_accuracy: 0.7027 - val_loss: 0.7881\n",
      "Epoch 114/300\n",
      "\u001b[1m34/34\u001b[0m \u001b[32m━━━━━━━━━━━━━━━━━━━━\u001b[0m\u001b[37m\u001b[0m \u001b[1m2s\u001b[0m 42ms/step - categorical_accuracy: 0.7613 - loss: 0.6590 - val_categorical_accuracy: 0.7038 - val_loss: 0.7845\n",
      "Epoch 115/300\n",
      "\u001b[1m34/34\u001b[0m \u001b[32m━━━━━━━━━━━━━━━━━━━━\u001b[0m\u001b[37m\u001b[0m \u001b[1m1s\u001b[0m 41ms/step - categorical_accuracy: 0.7658 - loss: 0.6556 - val_categorical_accuracy: 0.7038 - val_loss: 0.7875\n",
      "Epoch 116/300\n",
      "\u001b[1m34/34\u001b[0m \u001b[32m━━━━━━━━━━━━━━━━━━━━\u001b[0m\u001b[37m\u001b[0m \u001b[1m1s\u001b[0m 37ms/step - categorical_accuracy: 0.7571 - loss: 0.6610 - val_categorical_accuracy: 0.7049 - val_loss: 0.7861\n",
      "Epoch 117/300\n",
      "\u001b[1m34/34\u001b[0m \u001b[32m━━━━━━━━━━━━━━━━━━━━\u001b[0m\u001b[37m\u001b[0m \u001b[1m1s\u001b[0m 38ms/step - categorical_accuracy: 0.7588 - loss: 0.6832 - val_categorical_accuracy: 0.7103 - val_loss: 0.7821\n",
      "Epoch 118/300\n",
      "\u001b[1m34/34\u001b[0m \u001b[32m━━━━━━━━━━━━━━━━━━━━\u001b[0m\u001b[37m\u001b[0m \u001b[1m2s\u001b[0m 44ms/step - categorical_accuracy: 0.7682 - loss: 0.6620 - val_categorical_accuracy: 0.6919 - val_loss: 0.8024\n",
      "Epoch 119/300\n",
      "\u001b[1m34/34\u001b[0m \u001b[32m━━━━━━━━━━━━━━━━━━━━\u001b[0m\u001b[37m\u001b[0m \u001b[1m1s\u001b[0m 37ms/step - categorical_accuracy: 0.7560 - loss: 0.6689 - val_categorical_accuracy: 0.7070 - val_loss: 0.7853\n",
      "Epoch 120/300\n",
      "\u001b[1m34/34\u001b[0m \u001b[32m━━━━━━━━━━━━━━━━━━━━\u001b[0m\u001b[37m\u001b[0m \u001b[1m1s\u001b[0m 37ms/step - categorical_accuracy: 0.7683 - loss: 0.6643 - val_categorical_accuracy: 0.7124 - val_loss: 0.7805\n",
      "Epoch 121/300\n",
      "\u001b[1m34/34\u001b[0m \u001b[32m━━━━━━━━━━━━━━━━━━━━\u001b[0m\u001b[37m\u001b[0m \u001b[1m1s\u001b[0m 39ms/step - categorical_accuracy: 0.7703 - loss: 0.6455 - val_categorical_accuracy: 0.7081 - val_loss: 0.7964\n",
      "Epoch 122/300\n",
      "\u001b[1m34/34\u001b[0m \u001b[32m━━━━━━━━━━━━━━━━━━━━\u001b[0m\u001b[37m\u001b[0m \u001b[1m1s\u001b[0m 36ms/step - categorical_accuracy: 0.7688 - loss: 0.6613 - val_categorical_accuracy: 0.7168 - val_loss: 0.7786\n",
      "Epoch 123/300\n",
      "\u001b[1m34/34\u001b[0m \u001b[32m━━━━━━━━━━━━━━━━━━━━\u001b[0m\u001b[37m\u001b[0m \u001b[1m1s\u001b[0m 34ms/step - categorical_accuracy: 0.7580 - loss: 0.6769 - val_categorical_accuracy: 0.7016 - val_loss: 0.7915\n",
      "Epoch 124/300\n",
      "\u001b[1m34/34\u001b[0m \u001b[32m━━━━━━━━━━━━━━━━━━━━\u001b[0m\u001b[37m\u001b[0m \u001b[1m1s\u001b[0m 35ms/step - categorical_accuracy: 0.7549 - loss: 0.6675 - val_categorical_accuracy: 0.7146 - val_loss: 0.7891\n",
      "Epoch 125/300\n",
      "\u001b[1m34/34\u001b[0m \u001b[32m━━━━━━━━━━━━━━━━━━━━\u001b[0m\u001b[37m\u001b[0m \u001b[1m1s\u001b[0m 34ms/step - categorical_accuracy: 0.7635 - loss: 0.6518 - val_categorical_accuracy: 0.6789 - val_loss: 0.8262\n",
      "Epoch 126/300\n",
      "\u001b[1m34/34\u001b[0m \u001b[32m━━━━━━━━━━━━━━━━━━━━\u001b[0m\u001b[37m\u001b[0m \u001b[1m1s\u001b[0m 36ms/step - categorical_accuracy: 0.7715 - loss: 0.6444 - val_categorical_accuracy: 0.7038 - val_loss: 0.7904\n",
      "Epoch 127/300\n",
      "\u001b[1m34/34\u001b[0m \u001b[32m━━━━━━━━━━━━━━━━━━━━\u001b[0m\u001b[37m\u001b[0m \u001b[1m1s\u001b[0m 35ms/step - categorical_accuracy: 0.7607 - loss: 0.6663 - val_categorical_accuracy: 0.6930 - val_loss: 0.8150\n",
      "Epoch 128/300\n",
      "\u001b[1m34/34\u001b[0m \u001b[32m━━━━━━━━━━━━━━━━━━━━\u001b[0m\u001b[37m\u001b[0m \u001b[1m1s\u001b[0m 34ms/step - categorical_accuracy: 0.7488 - loss: 0.6748 - val_categorical_accuracy: 0.7103 - val_loss: 0.8025\n",
      "Epoch 129/300\n",
      "\u001b[1m34/34\u001b[0m \u001b[32m━━━━━━━━━━━━━━━━━━━━\u001b[0m\u001b[37m\u001b[0m \u001b[1m1s\u001b[0m 36ms/step - categorical_accuracy: 0.7575 - loss: 0.6587 - val_categorical_accuracy: 0.7092 - val_loss: 0.8008\n",
      "Epoch 130/300\n",
      "\u001b[1m34/34\u001b[0m \u001b[32m━━━━━━━━━━━━━━━━━━━━\u001b[0m\u001b[37m\u001b[0m \u001b[1m1s\u001b[0m 33ms/step - categorical_accuracy: 0.7635 - loss: 0.6559 - val_categorical_accuracy: 0.7124 - val_loss: 0.8000\n",
      "Epoch 131/300\n",
      "\u001b[1m34/34\u001b[0m \u001b[32m━━━━━━━━━━━━━━━━━━━━\u001b[0m\u001b[37m\u001b[0m \u001b[1m1s\u001b[0m 35ms/step - categorical_accuracy: 0.7660 - loss: 0.6523 - val_categorical_accuracy: 0.7124 - val_loss: 0.7773\n",
      "Epoch 132/300\n",
      "\u001b[1m34/34\u001b[0m \u001b[32m━━━━━━━━━━━━━━━━━━━━\u001b[0m\u001b[37m\u001b[0m \u001b[1m1s\u001b[0m 34ms/step - categorical_accuracy: 0.7656 - loss: 0.6531 - val_categorical_accuracy: 0.7168 - val_loss: 0.7851\n",
      "Epoch 133/300\n",
      "\u001b[1m34/34\u001b[0m \u001b[32m━━━━━━━━━━━━━━━━━━━━\u001b[0m\u001b[37m\u001b[0m \u001b[1m1s\u001b[0m 34ms/step - categorical_accuracy: 0.7708 - loss: 0.6568 - val_categorical_accuracy: 0.7081 - val_loss: 0.7964\n",
      "Epoch 134/300\n",
      "\u001b[1m34/34\u001b[0m \u001b[32m━━━━━━━━━━━━━━━━━━━━\u001b[0m\u001b[37m\u001b[0m \u001b[1m1s\u001b[0m 35ms/step - categorical_accuracy: 0.7702 - loss: 0.6417 - val_categorical_accuracy: 0.7081 - val_loss: 0.7943\n",
      "Epoch 135/300\n",
      "\u001b[1m34/34\u001b[0m \u001b[32m━━━━━━━━━━━━━━━━━━━━\u001b[0m\u001b[37m\u001b[0m \u001b[1m1s\u001b[0m 34ms/step - categorical_accuracy: 0.7711 - loss: 0.6334 - val_categorical_accuracy: 0.7016 - val_loss: 0.7995\n",
      "Epoch 136/300\n",
      "\u001b[1m34/34\u001b[0m \u001b[32m━━━━━━━━━━━━━━━━━━━━\u001b[0m\u001b[37m\u001b[0m \u001b[1m1s\u001b[0m 35ms/step - categorical_accuracy: 0.7700 - loss: 0.6545 - val_categorical_accuracy: 0.7146 - val_loss: 0.7877\n",
      "Epoch 137/300\n",
      "\u001b[1m34/34\u001b[0m \u001b[32m━━━━━━━━━━━━━━━━━━━━\u001b[0m\u001b[37m\u001b[0m \u001b[1m1s\u001b[0m 33ms/step - categorical_accuracy: 0.7620 - loss: 0.6495 - val_categorical_accuracy: 0.6973 - val_loss: 0.7947\n",
      "Epoch 138/300\n",
      "\u001b[1m34/34\u001b[0m \u001b[32m━━━━━━━━━━━━━━━━━━━━\u001b[0m\u001b[37m\u001b[0m \u001b[1m1s\u001b[0m 34ms/step - categorical_accuracy: 0.7633 - loss: 0.6534 - val_categorical_accuracy: 0.7146 - val_loss: 0.7888\n",
      "Epoch 139/300\n",
      "\u001b[1m34/34\u001b[0m \u001b[32m━━━━━━━━━━━━━━━━━━━━\u001b[0m\u001b[37m\u001b[0m \u001b[1m1s\u001b[0m 35ms/step - categorical_accuracy: 0.7813 - loss: 0.6324 - val_categorical_accuracy: 0.7027 - val_loss: 0.8076\n",
      "Epoch 140/300\n",
      "\u001b[1m34/34\u001b[0m \u001b[32m━━━━━━━━━━━━━━━━━━━━\u001b[0m\u001b[37m\u001b[0m \u001b[1m1s\u001b[0m 33ms/step - categorical_accuracy: 0.7612 - loss: 0.6559 - val_categorical_accuracy: 0.6984 - val_loss: 0.8151\n",
      "Epoch 141/300\n",
      "\u001b[1m34/34\u001b[0m \u001b[32m━━━━━━━━━━━━━━━━━━━━\u001b[0m\u001b[37m\u001b[0m \u001b[1m1s\u001b[0m 34ms/step - categorical_accuracy: 0.7715 - loss: 0.6519 - val_categorical_accuracy: 0.7157 - val_loss: 0.8068\n",
      "Epoch 142/300\n",
      "\u001b[1m34/34\u001b[0m \u001b[32m━━━━━━━━━━━━━━━━━━━━\u001b[0m\u001b[37m\u001b[0m \u001b[1m1s\u001b[0m 35ms/step - categorical_accuracy: 0.7781 - loss: 0.6435 - val_categorical_accuracy: 0.6843 - val_loss: 0.8239\n",
      "Epoch 143/300\n",
      "\u001b[1m34/34\u001b[0m \u001b[32m━━━━━━━━━━━━━━━━━━━━\u001b[0m\u001b[37m\u001b[0m \u001b[1m1s\u001b[0m 36ms/step - categorical_accuracy: 0.7841 - loss: 0.6302 - val_categorical_accuracy: 0.7092 - val_loss: 0.7924\n",
      "Epoch 144/300\n",
      "\u001b[1m34/34\u001b[0m \u001b[32m━━━━━━━━━━━━━━━━━━━━\u001b[0m\u001b[37m\u001b[0m \u001b[1m1s\u001b[0m 34ms/step - categorical_accuracy: 0.7793 - loss: 0.6353 - val_categorical_accuracy: 0.7049 - val_loss: 0.8047\n",
      "Epoch 145/300\n",
      "\u001b[1m34/34\u001b[0m \u001b[32m━━━━━━━━━━━━━━━━━━━━\u001b[0m\u001b[37m\u001b[0m \u001b[1m1s\u001b[0m 33ms/step - categorical_accuracy: 0.7699 - loss: 0.6345 - val_categorical_accuracy: 0.6886 - val_loss: 0.8091\n",
      "Epoch 146/300\n",
      "\u001b[1m34/34\u001b[0m \u001b[32m━━━━━━━━━━━━━━━━━━━━\u001b[0m\u001b[37m\u001b[0m \u001b[1m1s\u001b[0m 35ms/step - categorical_accuracy: 0.7736 - loss: 0.6483 - val_categorical_accuracy: 0.6962 - val_loss: 0.8059\n",
      "Epoch 147/300\n",
      "\u001b[1m34/34\u001b[0m \u001b[32m━━━━━━━━━━━━━━━━━━━━\u001b[0m\u001b[37m\u001b[0m \u001b[1m1s\u001b[0m 33ms/step - categorical_accuracy: 0.7898 - loss: 0.6308 - val_categorical_accuracy: 0.7016 - val_loss: 0.7984\n",
      "Epoch 148/300\n",
      "\u001b[1m34/34\u001b[0m \u001b[32m━━━━━━━━━━━━━━━━━━━━\u001b[0m\u001b[37m\u001b[0m \u001b[1m1s\u001b[0m 35ms/step - categorical_accuracy: 0.7756 - loss: 0.6339 - val_categorical_accuracy: 0.7135 - val_loss: 0.7903\n",
      "Epoch 149/300\n",
      "\u001b[1m34/34\u001b[0m \u001b[32m━━━━━━━━━━━━━━━━━━━━\u001b[0m\u001b[37m\u001b[0m \u001b[1m1s\u001b[0m 33ms/step - categorical_accuracy: 0.7630 - loss: 0.6410 - val_categorical_accuracy: 0.7157 - val_loss: 0.7901\n",
      "Epoch 150/300\n",
      "\u001b[1m34/34\u001b[0m \u001b[32m━━━━━━━━━━━━━━━━━━━━\u001b[0m\u001b[37m\u001b[0m \u001b[1m1s\u001b[0m 34ms/step - categorical_accuracy: 0.7781 - loss: 0.6361 - val_categorical_accuracy: 0.7157 - val_loss: 0.7995\n",
      "Epoch 151/300\n",
      "\u001b[1m34/34\u001b[0m \u001b[32m━━━━━━━━━━━━━━━━━━━━\u001b[0m\u001b[37m\u001b[0m \u001b[1m1s\u001b[0m 34ms/step - categorical_accuracy: 0.7749 - loss: 0.6539 - val_categorical_accuracy: 0.7049 - val_loss: 0.8088\n",
      "Epoch 152/300\n",
      "\u001b[1m34/34\u001b[0m \u001b[32m━━━━━━━━━━━━━━━━━━━━\u001b[0m\u001b[37m\u001b[0m \u001b[1m1s\u001b[0m 33ms/step - categorical_accuracy: 0.7815 - loss: 0.6468 - val_categorical_accuracy: 0.6984 - val_loss: 0.8097\n",
      "Epoch 153/300\n",
      "\u001b[1m34/34\u001b[0m \u001b[32m━━━━━━━━━━━━━━━━━━━━\u001b[0m\u001b[37m\u001b[0m \u001b[1m1s\u001b[0m 35ms/step - categorical_accuracy: 0.7804 - loss: 0.6371 - val_categorical_accuracy: 0.7092 - val_loss: 0.7981\n",
      "Epoch 154/300\n",
      "\u001b[1m34/34\u001b[0m \u001b[32m━━━━━━━━━━━━━━━━━━━━\u001b[0m\u001b[37m\u001b[0m \u001b[1m1s\u001b[0m 34ms/step - categorical_accuracy: 0.7705 - loss: 0.6462 - val_categorical_accuracy: 0.7027 - val_loss: 0.8033\n",
      "Epoch 155/300\n",
      "\u001b[1m34/34\u001b[0m \u001b[32m━━━━━━━━━━━━━━━━━━━━\u001b[0m\u001b[37m\u001b[0m \u001b[1m1s\u001b[0m 35ms/step - categorical_accuracy: 0.7659 - loss: 0.6587 - val_categorical_accuracy: 0.6984 - val_loss: 0.8035\n",
      "Epoch 156/300\n",
      "\u001b[1m34/34\u001b[0m \u001b[32m━━━━━━━━━━━━━━━━━━━━\u001b[0m\u001b[37m\u001b[0m \u001b[1m1s\u001b[0m 33ms/step - categorical_accuracy: 0.7748 - loss: 0.6362 - val_categorical_accuracy: 0.7059 - val_loss: 0.8050\n",
      "Epoch 157/300\n",
      "\u001b[1m34/34\u001b[0m \u001b[32m━━━━━━━━━━━━━━━━━━━━\u001b[0m\u001b[37m\u001b[0m \u001b[1m1s\u001b[0m 35ms/step - categorical_accuracy: 0.7789 - loss: 0.6437 - val_categorical_accuracy: 0.6886 - val_loss: 0.8321\n",
      "Epoch 158/300\n",
      "\u001b[1m34/34\u001b[0m \u001b[32m━━━━━━━━━━━━━━━━━━━━\u001b[0m\u001b[37m\u001b[0m \u001b[1m1s\u001b[0m 34ms/step - categorical_accuracy: 0.7790 - loss: 0.6428 - val_categorical_accuracy: 0.7092 - val_loss: 0.8020\n",
      "Epoch 159/300\n",
      "\u001b[1m34/34\u001b[0m \u001b[32m━━━━━━━━━━━━━━━━━━━━\u001b[0m\u001b[37m\u001b[0m \u001b[1m1s\u001b[0m 35ms/step - categorical_accuracy: 0.7612 - loss: 0.6584 - val_categorical_accuracy: 0.6962 - val_loss: 0.8095\n",
      "Epoch 160/300\n",
      "\u001b[1m34/34\u001b[0m \u001b[32m━━━━━━━━━━━━━━━━━━━━\u001b[0m\u001b[37m\u001b[0m \u001b[1m1s\u001b[0m 33ms/step - categorical_accuracy: 0.7664 - loss: 0.6401 - val_categorical_accuracy: 0.7016 - val_loss: 0.7955\n",
      "Epoch 161/300\n",
      "\u001b[1m34/34\u001b[0m \u001b[32m━━━━━━━━━━━━━━━━━━━━\u001b[0m\u001b[37m\u001b[0m \u001b[1m1s\u001b[0m 36ms/step - categorical_accuracy: 0.7798 - loss: 0.6410 - val_categorical_accuracy: 0.7168 - val_loss: 0.7927\n",
      "Epoch 162/300\n",
      "\u001b[1m34/34\u001b[0m \u001b[32m━━━━━━━━━━━━━━━━━━━━\u001b[0m\u001b[37m\u001b[0m \u001b[1m1s\u001b[0m 34ms/step - categorical_accuracy: 0.7788 - loss: 0.6309 - val_categorical_accuracy: 0.7114 - val_loss: 0.7921\n",
      "Epoch 163/300\n",
      "\u001b[1m34/34\u001b[0m \u001b[32m━━━━━━━━━━━━━━━━━━━━\u001b[0m\u001b[37m\u001b[0m \u001b[1m1s\u001b[0m 36ms/step - categorical_accuracy: 0.7841 - loss: 0.6426 - val_categorical_accuracy: 0.6995 - val_loss: 0.8076\n",
      "Epoch 164/300\n",
      "\u001b[1m34/34\u001b[0m \u001b[32m━━━━━━━━━━━━━━━━━━━━\u001b[0m\u001b[37m\u001b[0m \u001b[1m1s\u001b[0m 34ms/step - categorical_accuracy: 0.7850 - loss: 0.6316 - val_categorical_accuracy: 0.7049 - val_loss: 0.7998\n",
      "Epoch 165/300\n",
      "\u001b[1m34/34\u001b[0m \u001b[32m━━━━━━━━━━━━━━━━━━━━\u001b[0m\u001b[37m\u001b[0m \u001b[1m1s\u001b[0m 34ms/step - categorical_accuracy: 0.7820 - loss: 0.6351 - val_categorical_accuracy: 0.7135 - val_loss: 0.7912\n",
      "Epoch 166/300\n",
      "\u001b[1m34/34\u001b[0m \u001b[32m━━━━━━━━━━━━━━━━━━━━\u001b[0m\u001b[37m\u001b[0m \u001b[1m1s\u001b[0m 35ms/step - categorical_accuracy: 0.7760 - loss: 0.6387 - val_categorical_accuracy: 0.6951 - val_loss: 0.8243\n",
      "Epoch 167/300\n",
      "\u001b[1m34/34\u001b[0m \u001b[32m━━━━━━━━━━━━━━━━━━━━\u001b[0m\u001b[37m\u001b[0m \u001b[1m1s\u001b[0m 33ms/step - categorical_accuracy: 0.7887 - loss: 0.6221 - val_categorical_accuracy: 0.7114 - val_loss: 0.7871\n",
      "Epoch 168/300\n",
      "\u001b[1m34/34\u001b[0m \u001b[32m━━━━━━━━━━━━━━━━━━━━\u001b[0m\u001b[37m\u001b[0m \u001b[1m1s\u001b[0m 34ms/step - categorical_accuracy: 0.7896 - loss: 0.6173 - val_categorical_accuracy: 0.7124 - val_loss: 0.8012\n",
      "Epoch 169/300\n",
      "\u001b[1m34/34\u001b[0m \u001b[32m━━━━━━━━━━━━━━━━━━━━\u001b[0m\u001b[37m\u001b[0m \u001b[1m1s\u001b[0m 34ms/step - categorical_accuracy: 0.7871 - loss: 0.6280 - val_categorical_accuracy: 0.7103 - val_loss: 0.7993\n",
      "Epoch 170/300\n",
      "\u001b[1m34/34\u001b[0m \u001b[32m━━━━━━━━━━━━━━━━━━━━\u001b[0m\u001b[37m\u001b[0m \u001b[1m1s\u001b[0m 35ms/step - categorical_accuracy: 0.7765 - loss: 0.6412 - val_categorical_accuracy: 0.7276 - val_loss: 0.7858\n",
      "Epoch 171/300\n",
      "\u001b[1m34/34\u001b[0m \u001b[32m━━━━━━━━━━━━━━━━━━━━\u001b[0m\u001b[37m\u001b[0m \u001b[1m1s\u001b[0m 33ms/step - categorical_accuracy: 0.7885 - loss: 0.6257 - val_categorical_accuracy: 0.7189 - val_loss: 0.7899\n",
      "Epoch 172/300\n",
      "\u001b[1m34/34\u001b[0m \u001b[32m━━━━━━━━━━━━━━━━━━━━\u001b[0m\u001b[37m\u001b[0m \u001b[1m1s\u001b[0m 39ms/step - categorical_accuracy: 0.7810 - loss: 0.6320 - val_categorical_accuracy: 0.7146 - val_loss: 0.7956\n",
      "Epoch 173/300\n",
      "\u001b[1m34/34\u001b[0m \u001b[32m━━━━━━━━━━━━━━━━━━━━\u001b[0m\u001b[37m\u001b[0m \u001b[1m1s\u001b[0m 36ms/step - categorical_accuracy: 0.7814 - loss: 0.6384 - val_categorical_accuracy: 0.7157 - val_loss: 0.8053\n",
      "Epoch 174/300\n",
      "\u001b[1m34/34\u001b[0m \u001b[32m━━━━━━━━━━━━━━━━━━━━\u001b[0m\u001b[37m\u001b[0m \u001b[1m1s\u001b[0m 35ms/step - categorical_accuracy: 0.7834 - loss: 0.6316 - val_categorical_accuracy: 0.7092 - val_loss: 0.8057\n",
      "Epoch 175/300\n",
      "\u001b[1m34/34\u001b[0m \u001b[32m━━━━━━━━━━━━━━━━━━━━\u001b[0m\u001b[37m\u001b[0m \u001b[1m1s\u001b[0m 34ms/step - categorical_accuracy: 0.7830 - loss: 0.6208 - val_categorical_accuracy: 0.7178 - val_loss: 0.7911\n",
      "Epoch 176/300\n",
      "\u001b[1m34/34\u001b[0m \u001b[32m━━━━━━━━━━━━━━━━━━━━\u001b[0m\u001b[37m\u001b[0m \u001b[1m1s\u001b[0m 37ms/step - categorical_accuracy: 0.7719 - loss: 0.6515 - val_categorical_accuracy: 0.6757 - val_loss: 0.8443\n",
      "Epoch 177/300\n",
      "\u001b[1m34/34\u001b[0m \u001b[32m━━━━━━━━━━━━━━━━━━━━\u001b[0m\u001b[37m\u001b[0m \u001b[1m1s\u001b[0m 35ms/step - categorical_accuracy: 0.7756 - loss: 0.6348 - val_categorical_accuracy: 0.6897 - val_loss: 0.8301\n",
      "Epoch 178/300\n",
      "\u001b[1m34/34\u001b[0m \u001b[32m━━━━━━━━━━━━━━━━━━━━\u001b[0m\u001b[37m\u001b[0m \u001b[1m1s\u001b[0m 34ms/step - categorical_accuracy: 0.7787 - loss: 0.6377 - val_categorical_accuracy: 0.7265 - val_loss: 0.7895\n",
      "Epoch 179/300\n",
      "\u001b[1m34/34\u001b[0m \u001b[32m━━━━━━━━━━━━━━━━━━━━\u001b[0m\u001b[37m\u001b[0m \u001b[1m1s\u001b[0m 37ms/step - categorical_accuracy: 0.7836 - loss: 0.6323 - val_categorical_accuracy: 0.7016 - val_loss: 0.8030\n",
      "Epoch 180/300\n",
      "\u001b[1m34/34\u001b[0m \u001b[32m━━━━━━━━━━━━━━━━━━━━\u001b[0m\u001b[37m\u001b[0m \u001b[1m1s\u001b[0m 34ms/step - categorical_accuracy: 0.7953 - loss: 0.6177 - val_categorical_accuracy: 0.7049 - val_loss: 0.8021\n",
      "Epoch 181/300\n",
      "\u001b[1m34/34\u001b[0m \u001b[32m━━━━━━━━━━━━━━━━━━━━\u001b[0m\u001b[37m\u001b[0m \u001b[1m1s\u001b[0m 34ms/step - categorical_accuracy: 0.7842 - loss: 0.6265 - val_categorical_accuracy: 0.7081 - val_loss: 0.8248\n",
      "Epoch 182/300\n",
      "\u001b[1m34/34\u001b[0m \u001b[32m━━━━━━━━━━━━━━━━━━━━\u001b[0m\u001b[37m\u001b[0m \u001b[1m1s\u001b[0m 34ms/step - categorical_accuracy: 0.7778 - loss: 0.6311 - val_categorical_accuracy: 0.7135 - val_loss: 0.7907\n",
      "Epoch 183/300\n",
      "\u001b[1m34/34\u001b[0m \u001b[32m━━━━━━━━━━━━━━━━━━━━\u001b[0m\u001b[37m\u001b[0m \u001b[1m1s\u001b[0m 35ms/step - categorical_accuracy: 0.7777 - loss: 0.6264 - val_categorical_accuracy: 0.7222 - val_loss: 0.7930\n",
      "Epoch 184/300\n",
      "\u001b[1m34/34\u001b[0m \u001b[32m━━━━━━━━━━━━━━━━━━━━\u001b[0m\u001b[37m\u001b[0m \u001b[1m1s\u001b[0m 33ms/step - categorical_accuracy: 0.7935 - loss: 0.6086 - val_categorical_accuracy: 0.7124 - val_loss: 0.7968\n",
      "Epoch 185/300\n",
      "\u001b[1m34/34\u001b[0m \u001b[32m━━━━━━━━━━━━━━━━━━━━\u001b[0m\u001b[37m\u001b[0m \u001b[1m1s\u001b[0m 32ms/step - categorical_accuracy: 0.8012 - loss: 0.6022 - val_categorical_accuracy: 0.7092 - val_loss: 0.8088\n",
      "Epoch 186/300\n",
      "\u001b[1m34/34\u001b[0m \u001b[32m━━━━━━━━━━━━━━━━━━━━\u001b[0m\u001b[37m\u001b[0m \u001b[1m1s\u001b[0m 33ms/step - categorical_accuracy: 0.7902 - loss: 0.6186 - val_categorical_accuracy: 0.7027 - val_loss: 0.8159\n",
      "Epoch 187/300\n",
      "\u001b[1m34/34\u001b[0m \u001b[32m━━━━━━━━━━━━━━━━━━━━\u001b[0m\u001b[37m\u001b[0m \u001b[1m1s\u001b[0m 34ms/step - categorical_accuracy: 0.7882 - loss: 0.6217 - val_categorical_accuracy: 0.7059 - val_loss: 0.8295\n",
      "Epoch 188/300\n",
      "\u001b[1m34/34\u001b[0m \u001b[32m━━━━━━━━━━━━━━━━━━━━\u001b[0m\u001b[37m\u001b[0m \u001b[1m1s\u001b[0m 33ms/step - categorical_accuracy: 0.7984 - loss: 0.6214 - val_categorical_accuracy: 0.7081 - val_loss: 0.8061\n",
      "Epoch 189/300\n",
      "\u001b[1m34/34\u001b[0m \u001b[32m━━━━━━━━━━━━━━━━━━━━\u001b[0m\u001b[37m\u001b[0m \u001b[1m1s\u001b[0m 32ms/step - categorical_accuracy: 0.7789 - loss: 0.6241 - val_categorical_accuracy: 0.7168 - val_loss: 0.8019\n",
      "Epoch 190/300\n",
      "\u001b[1m34/34\u001b[0m \u001b[32m━━━━━━━━━━━━━━━━━━━━\u001b[0m\u001b[37m\u001b[0m \u001b[1m1s\u001b[0m 32ms/step - categorical_accuracy: 0.7936 - loss: 0.6160 - val_categorical_accuracy: 0.7016 - val_loss: 0.8043\n",
      "Epoch 191/300\n",
      "\u001b[1m34/34\u001b[0m \u001b[32m━━━━━━━━━━━━━━━━━━━━\u001b[0m\u001b[37m\u001b[0m \u001b[1m1s\u001b[0m 32ms/step - categorical_accuracy: 0.7822 - loss: 0.6232 - val_categorical_accuracy: 0.7114 - val_loss: 0.8009\n",
      "Epoch 192/300\n",
      "\u001b[1m34/34\u001b[0m \u001b[32m━━━━━━━━━━━━━━━━━━━━\u001b[0m\u001b[37m\u001b[0m \u001b[1m1s\u001b[0m 35ms/step - categorical_accuracy: 0.7935 - loss: 0.6166 - val_categorical_accuracy: 0.7103 - val_loss: 0.8049\n",
      "Epoch 193/300\n",
      "\u001b[1m34/34\u001b[0m \u001b[32m━━━━━━━━━━━━━━━━━━━━\u001b[0m\u001b[37m\u001b[0m \u001b[1m1s\u001b[0m 35ms/step - categorical_accuracy: 0.7901 - loss: 0.6166 - val_categorical_accuracy: 0.7059 - val_loss: 0.8137\n",
      "Epoch 194/300\n",
      "\u001b[1m34/34\u001b[0m \u001b[32m━━━━━━━━━━━━━━━━━━━━\u001b[0m\u001b[37m\u001b[0m \u001b[1m1s\u001b[0m 33ms/step - categorical_accuracy: 0.7900 - loss: 0.6149 - val_categorical_accuracy: 0.7038 - val_loss: 0.8170\n",
      "Epoch 195/300\n",
      "\u001b[1m34/34\u001b[0m \u001b[32m━━━━━━━━━━━━━━━━━━━━\u001b[0m\u001b[37m\u001b[0m \u001b[1m1s\u001b[0m 34ms/step - categorical_accuracy: 0.7804 - loss: 0.6399 - val_categorical_accuracy: 0.7232 - val_loss: 0.7956\n",
      "Epoch 196/300\n",
      "\u001b[1m34/34\u001b[0m \u001b[32m━━━━━━━━━━━━━━━━━━━━\u001b[0m\u001b[37m\u001b[0m \u001b[1m1s\u001b[0m 37ms/step - categorical_accuracy: 0.7950 - loss: 0.6079 - val_categorical_accuracy: 0.7081 - val_loss: 0.8207\n",
      "Epoch 197/300\n",
      "\u001b[1m34/34\u001b[0m \u001b[32m━━━━━━━━━━━━━━━━━━━━\u001b[0m\u001b[37m\u001b[0m \u001b[1m1s\u001b[0m 34ms/step - categorical_accuracy: 0.7828 - loss: 0.6198 - val_categorical_accuracy: 0.7124 - val_loss: 0.7993\n",
      "Epoch 198/300\n",
      "\u001b[1m34/34\u001b[0m \u001b[32m━━━━━━━━━━━━━━━━━━━━\u001b[0m\u001b[37m\u001b[0m \u001b[1m1s\u001b[0m 35ms/step - categorical_accuracy: 0.7870 - loss: 0.6139 - val_categorical_accuracy: 0.7178 - val_loss: 0.7970\n",
      "Epoch 199/300\n",
      "\u001b[1m34/34\u001b[0m \u001b[32m━━━━━━━━━━━━━━━━━━━━\u001b[0m\u001b[37m\u001b[0m \u001b[1m1s\u001b[0m 34ms/step - categorical_accuracy: 0.7906 - loss: 0.6205 - val_categorical_accuracy: 0.7005 - val_loss: 0.8080\n",
      "Epoch 200/300\n",
      "\u001b[1m34/34\u001b[0m \u001b[32m━━━━━━━━━━━━━━━━━━━━\u001b[0m\u001b[37m\u001b[0m \u001b[1m1s\u001b[0m 35ms/step - categorical_accuracy: 0.7854 - loss: 0.6272 - val_categorical_accuracy: 0.7103 - val_loss: 0.8109\n",
      "Epoch 201/300\n",
      "\u001b[1m34/34\u001b[0m \u001b[32m━━━━━━━━━━━━━━━━━━━━\u001b[0m\u001b[37m\u001b[0m \u001b[1m1s\u001b[0m 34ms/step - categorical_accuracy: 0.7911 - loss: 0.6203 - val_categorical_accuracy: 0.6951 - val_loss: 0.8360\n",
      "Epoch 202/300\n",
      "\u001b[1m34/34\u001b[0m \u001b[32m━━━━━━━━━━━━━━━━━━━━\u001b[0m\u001b[37m\u001b[0m \u001b[1m1s\u001b[0m 36ms/step - categorical_accuracy: 0.8022 - loss: 0.6139 - val_categorical_accuracy: 0.6951 - val_loss: 0.8300\n",
      "Epoch 203/300\n",
      "\u001b[1m34/34\u001b[0m \u001b[32m━━━━━━━━━━━━━━━━━━━━\u001b[0m\u001b[37m\u001b[0m \u001b[1m1s\u001b[0m 35ms/step - categorical_accuracy: 0.7935 - loss: 0.6183 - val_categorical_accuracy: 0.6919 - val_loss: 0.8303\n",
      "Epoch 204/300\n",
      "\u001b[1m34/34\u001b[0m \u001b[32m━━━━━━━━━━━━━━━━━━━━\u001b[0m\u001b[37m\u001b[0m \u001b[1m1s\u001b[0m 35ms/step - categorical_accuracy: 0.8014 - loss: 0.6060 - val_categorical_accuracy: 0.7092 - val_loss: 0.8057\n",
      "Epoch 205/300\n",
      "\u001b[1m34/34\u001b[0m \u001b[32m━━━━━━━━━━━━━━━━━━━━\u001b[0m\u001b[37m\u001b[0m \u001b[1m1s\u001b[0m 35ms/step - categorical_accuracy: 0.8060 - loss: 0.6074 - val_categorical_accuracy: 0.7092 - val_loss: 0.8333\n",
      "Epoch 206/300\n",
      "\u001b[1m34/34\u001b[0m \u001b[32m━━━━━━━━━━━━━━━━━━━━\u001b[0m\u001b[37m\u001b[0m \u001b[1m1s\u001b[0m 35ms/step - categorical_accuracy: 0.7834 - loss: 0.6198 - val_categorical_accuracy: 0.7146 - val_loss: 0.8003\n",
      "Epoch 207/300\n",
      "\u001b[1m34/34\u001b[0m \u001b[32m━━━━━━━━━━━━━━━━━━━━\u001b[0m\u001b[37m\u001b[0m \u001b[1m1s\u001b[0m 35ms/step - categorical_accuracy: 0.7910 - loss: 0.6165 - val_categorical_accuracy: 0.7038 - val_loss: 0.8321\n",
      "Epoch 208/300\n",
      "\u001b[1m34/34\u001b[0m \u001b[32m━━━━━━━━━━━━━━━━━━━━\u001b[0m\u001b[37m\u001b[0m \u001b[1m1s\u001b[0m 38ms/step - categorical_accuracy: 0.8008 - loss: 0.6126 - val_categorical_accuracy: 0.7178 - val_loss: 0.8051\n",
      "Epoch 209/300\n",
      "\u001b[1m34/34\u001b[0m \u001b[32m━━━━━━━━━━━━━━━━━━━━\u001b[0m\u001b[37m\u001b[0m \u001b[1m1s\u001b[0m 36ms/step - categorical_accuracy: 0.8004 - loss: 0.6237 - val_categorical_accuracy: 0.7124 - val_loss: 0.8022\n",
      "Epoch 210/300\n",
      "\u001b[1m34/34\u001b[0m \u001b[32m━━━━━━━━━━━━━━━━━━━━\u001b[0m\u001b[37m\u001b[0m \u001b[1m1s\u001b[0m 36ms/step - categorical_accuracy: 0.7908 - loss: 0.6209 - val_categorical_accuracy: 0.7049 - val_loss: 0.8094\n",
      "Epoch 211/300\n",
      "\u001b[1m34/34\u001b[0m \u001b[32m━━━━━━━━━━━━━━━━━━━━\u001b[0m\u001b[37m\u001b[0m \u001b[1m1s\u001b[0m 36ms/step - categorical_accuracy: 0.8060 - loss: 0.6096 - val_categorical_accuracy: 0.7092 - val_loss: 0.8032\n",
      "Epoch 212/300\n",
      "\u001b[1m34/34\u001b[0m \u001b[32m━━━━━━━━━━━━━━━━━━━━\u001b[0m\u001b[37m\u001b[0m \u001b[1m1s\u001b[0m 35ms/step - categorical_accuracy: 0.8052 - loss: 0.6087 - val_categorical_accuracy: 0.7081 - val_loss: 0.8129\n",
      "Epoch 213/300\n",
      "\u001b[1m34/34\u001b[0m \u001b[32m━━━━━━━━━━━━━━━━━━━━\u001b[0m\u001b[37m\u001b[0m \u001b[1m1s\u001b[0m 35ms/step - categorical_accuracy: 0.8061 - loss: 0.6026 - val_categorical_accuracy: 0.7027 - val_loss: 0.8228\n",
      "Epoch 214/300\n",
      "\u001b[1m34/34\u001b[0m \u001b[32m━━━━━━━━━━━━━━━━━━━━\u001b[0m\u001b[37m\u001b[0m \u001b[1m1s\u001b[0m 34ms/step - categorical_accuracy: 0.7986 - loss: 0.6018 - val_categorical_accuracy: 0.7135 - val_loss: 0.8030\n",
      "Epoch 215/300\n",
      "\u001b[1m34/34\u001b[0m \u001b[32m━━━━━━━━━━━━━━━━━━━━\u001b[0m\u001b[37m\u001b[0m \u001b[1m1s\u001b[0m 34ms/step - categorical_accuracy: 0.8015 - loss: 0.6150 - val_categorical_accuracy: 0.6995 - val_loss: 0.8275\n",
      "Epoch 216/300\n",
      "\u001b[1m34/34\u001b[0m \u001b[32m━━━━━━━━━━━━━━━━━━━━\u001b[0m\u001b[37m\u001b[0m \u001b[1m1s\u001b[0m 36ms/step - categorical_accuracy: 0.8094 - loss: 0.6036 - val_categorical_accuracy: 0.7222 - val_loss: 0.8085\n",
      "Epoch 217/300\n",
      "\u001b[1m34/34\u001b[0m \u001b[32m━━━━━━━━━━━━━━━━━━━━\u001b[0m\u001b[37m\u001b[0m \u001b[1m1s\u001b[0m 33ms/step - categorical_accuracy: 0.8055 - loss: 0.5931 - val_categorical_accuracy: 0.6995 - val_loss: 0.8131\n",
      "Epoch 218/300\n",
      "\u001b[1m34/34\u001b[0m \u001b[32m━━━━━━━━━━━━━━━━━━━━\u001b[0m\u001b[37m\u001b[0m \u001b[1m1s\u001b[0m 34ms/step - categorical_accuracy: 0.7903 - loss: 0.6094 - val_categorical_accuracy: 0.6984 - val_loss: 0.8304\n",
      "Epoch 219/300\n",
      "\u001b[1m34/34\u001b[0m \u001b[32m━━━━━━━━━━━━━━━━━━━━\u001b[0m\u001b[37m\u001b[0m \u001b[1m1s\u001b[0m 34ms/step - categorical_accuracy: 0.8104 - loss: 0.5948 - val_categorical_accuracy: 0.7038 - val_loss: 0.8246\n",
      "Epoch 220/300\n",
      "\u001b[1m34/34\u001b[0m \u001b[32m━━━━━━━━━━━━━━━━━━━━\u001b[0m\u001b[37m\u001b[0m \u001b[1m1s\u001b[0m 33ms/step - categorical_accuracy: 0.7986 - loss: 0.6087 - val_categorical_accuracy: 0.7157 - val_loss: 0.8123\n",
      "Epoch 221/300\n",
      "\u001b[1m34/34\u001b[0m \u001b[32m━━━━━━━━━━━━━━━━━━━━\u001b[0m\u001b[37m\u001b[0m \u001b[1m1s\u001b[0m 34ms/step - categorical_accuracy: 0.7948 - loss: 0.6012 - val_categorical_accuracy: 0.7146 - val_loss: 0.8243\n",
      "Epoch 222/300\n",
      "\u001b[1m34/34\u001b[0m \u001b[32m━━━━━━━━━━━━━━━━━━━━\u001b[0m\u001b[37m\u001b[0m \u001b[1m1s\u001b[0m 34ms/step - categorical_accuracy: 0.7981 - loss: 0.6084 - val_categorical_accuracy: 0.7157 - val_loss: 0.8126\n",
      "Epoch 223/300\n",
      "\u001b[1m34/34\u001b[0m \u001b[32m━━━━━━━━━━━━━━━━━━━━\u001b[0m\u001b[37m\u001b[0m \u001b[1m1s\u001b[0m 33ms/step - categorical_accuracy: 0.8149 - loss: 0.5876 - val_categorical_accuracy: 0.6951 - val_loss: 0.8280\n",
      "Epoch 224/300\n",
      "\u001b[1m34/34\u001b[0m \u001b[32m━━━━━━━━━━━━━━━━━━━━\u001b[0m\u001b[37m\u001b[0m \u001b[1m1s\u001b[0m 33ms/step - categorical_accuracy: 0.8102 - loss: 0.5874 - val_categorical_accuracy: 0.7070 - val_loss: 0.8104\n",
      "Epoch 225/300\n",
      "\u001b[1m34/34\u001b[0m \u001b[32m━━━━━━━━━━━━━━━━━━━━\u001b[0m\u001b[37m\u001b[0m \u001b[1m1s\u001b[0m 33ms/step - categorical_accuracy: 0.8196 - loss: 0.5909 - val_categorical_accuracy: 0.7124 - val_loss: 0.8124\n",
      "Epoch 226/300\n",
      "\u001b[1m34/34\u001b[0m \u001b[32m━━━━━━━━━━━━━━━━━━━━\u001b[0m\u001b[37m\u001b[0m \u001b[1m1s\u001b[0m 34ms/step - categorical_accuracy: 0.7965 - loss: 0.6138 - val_categorical_accuracy: 0.7038 - val_loss: 0.8368\n",
      "Epoch 227/300\n",
      "\u001b[1m34/34\u001b[0m \u001b[32m━━━━━━━━━━━━━━━━━━━━\u001b[0m\u001b[37m\u001b[0m \u001b[1m1s\u001b[0m 34ms/step - categorical_accuracy: 0.8056 - loss: 0.6036 - val_categorical_accuracy: 0.7222 - val_loss: 0.8081\n",
      "Epoch 228/300\n",
      "\u001b[1m34/34\u001b[0m \u001b[32m━━━━━━━━━━━━━━━━━━━━\u001b[0m\u001b[37m\u001b[0m \u001b[1m1s\u001b[0m 36ms/step - categorical_accuracy: 0.8131 - loss: 0.5925 - val_categorical_accuracy: 0.7135 - val_loss: 0.8259\n",
      "Epoch 229/300\n",
      "\u001b[1m34/34\u001b[0m \u001b[32m━━━━━━━━━━━━━━━━━━━━\u001b[0m\u001b[37m\u001b[0m \u001b[1m1s\u001b[0m 33ms/step - categorical_accuracy: 0.8062 - loss: 0.5955 - val_categorical_accuracy: 0.6886 - val_loss: 0.8543\n",
      "Epoch 230/300\n",
      "\u001b[1m34/34\u001b[0m \u001b[32m━━━━━━━━━━━━━━━━━━━━\u001b[0m\u001b[37m\u001b[0m \u001b[1m1s\u001b[0m 33ms/step - categorical_accuracy: 0.8056 - loss: 0.5935 - val_categorical_accuracy: 0.6865 - val_loss: 0.8423\n",
      "Epoch 231/300\n",
      "\u001b[1m34/34\u001b[0m \u001b[32m━━━━━━━━━━━━━━━━━━━━\u001b[0m\u001b[37m\u001b[0m \u001b[1m1s\u001b[0m 32ms/step - categorical_accuracy: 0.8140 - loss: 0.5914 - val_categorical_accuracy: 0.6865 - val_loss: 0.8319\n",
      "Epoch 232/300\n",
      "\u001b[1m34/34\u001b[0m \u001b[32m━━━━━━━━━━━━━━━━━━━━\u001b[0m\u001b[37m\u001b[0m \u001b[1m1s\u001b[0m 32ms/step - categorical_accuracy: 0.8067 - loss: 0.5877 - val_categorical_accuracy: 0.6930 - val_loss: 0.8289\n",
      "Epoch 233/300\n",
      "\u001b[1m34/34\u001b[0m \u001b[32m━━━━━━━━━━━━━━━━━━━━\u001b[0m\u001b[37m\u001b[0m \u001b[1m1s\u001b[0m 33ms/step - categorical_accuracy: 0.8093 - loss: 0.5960 - val_categorical_accuracy: 0.7189 - val_loss: 0.8135\n",
      "Epoch 234/300\n",
      "\u001b[1m34/34\u001b[0m \u001b[32m━━━━━━━━━━━━━━━━━━━━\u001b[0m\u001b[37m\u001b[0m \u001b[1m1s\u001b[0m 33ms/step - categorical_accuracy: 0.8037 - loss: 0.5946 - val_categorical_accuracy: 0.6930 - val_loss: 0.8349\n",
      "Epoch 235/300\n",
      "\u001b[1m34/34\u001b[0m \u001b[32m━━━━━━━━━━━━━━━━━━━━\u001b[0m\u001b[37m\u001b[0m \u001b[1m1s\u001b[0m 33ms/step - categorical_accuracy: 0.8153 - loss: 0.5896 - val_categorical_accuracy: 0.7135 - val_loss: 0.8261\n",
      "Epoch 236/300\n",
      "\u001b[1m34/34\u001b[0m \u001b[32m━━━━━━━━━━━━━━━━━━━━\u001b[0m\u001b[37m\u001b[0m \u001b[1m1s\u001b[0m 31ms/step - categorical_accuracy: 0.8110 - loss: 0.6005 - val_categorical_accuracy: 0.6811 - val_loss: 0.8537\n",
      "Epoch 237/300\n",
      "\u001b[1m34/34\u001b[0m \u001b[32m━━━━━━━━━━━━━━━━━━━━\u001b[0m\u001b[37m\u001b[0m \u001b[1m1s\u001b[0m 31ms/step - categorical_accuracy: 0.8059 - loss: 0.5916 - val_categorical_accuracy: 0.7092 - val_loss: 0.8185\n",
      "Epoch 238/300\n",
      "\u001b[1m34/34\u001b[0m \u001b[32m━━━━━━━━━━━━━━━━━━━━\u001b[0m\u001b[37m\u001b[0m \u001b[1m1s\u001b[0m 30ms/step - categorical_accuracy: 0.8272 - loss: 0.5787 - val_categorical_accuracy: 0.7016 - val_loss: 0.8472\n",
      "Epoch 239/300\n",
      "\u001b[1m34/34\u001b[0m \u001b[32m━━━━━━━━━━━━━━━━━━━━\u001b[0m\u001b[37m\u001b[0m \u001b[1m1s\u001b[0m 31ms/step - categorical_accuracy: 0.8122 - loss: 0.5973 - val_categorical_accuracy: 0.7135 - val_loss: 0.8252\n",
      "Epoch 240/300\n",
      "\u001b[1m34/34\u001b[0m \u001b[32m━━━━━━━━━━━━━━━━━━━━\u001b[0m\u001b[37m\u001b[0m \u001b[1m1s\u001b[0m 35ms/step - categorical_accuracy: 0.8055 - loss: 0.6064 - val_categorical_accuracy: 0.6951 - val_loss: 0.8406\n",
      "Epoch 241/300\n",
      "\u001b[1m34/34\u001b[0m \u001b[32m━━━━━━━━━━━━━━━━━━━━\u001b[0m\u001b[37m\u001b[0m \u001b[1m1s\u001b[0m 36ms/step - categorical_accuracy: 0.8090 - loss: 0.5923 - val_categorical_accuracy: 0.7200 - val_loss: 0.8229\n",
      "Epoch 242/300\n",
      "\u001b[1m34/34\u001b[0m \u001b[32m━━━━━━━━━━━━━━━━━━━━\u001b[0m\u001b[37m\u001b[0m \u001b[1m1s\u001b[0m 32ms/step - categorical_accuracy: 0.8116 - loss: 0.5911 - val_categorical_accuracy: 0.6930 - val_loss: 0.8408\n",
      "Epoch 243/300\n",
      "\u001b[1m34/34\u001b[0m \u001b[32m━━━━━━━━━━━━━━━━━━━━\u001b[0m\u001b[37m\u001b[0m \u001b[1m1s\u001b[0m 33ms/step - categorical_accuracy: 0.8065 - loss: 0.5885 - val_categorical_accuracy: 0.7081 - val_loss: 0.8447\n",
      "Epoch 244/300\n",
      "\u001b[1m34/34\u001b[0m \u001b[32m━━━━━━━━━━━━━━━━━━━━\u001b[0m\u001b[37m\u001b[0m \u001b[1m1s\u001b[0m 39ms/step - categorical_accuracy: 0.8189 - loss: 0.5767 - val_categorical_accuracy: 0.6973 - val_loss: 0.8373\n",
      "Epoch 245/300\n",
      "\u001b[1m34/34\u001b[0m \u001b[32m━━━━━━━━━━━━━━━━━━━━\u001b[0m\u001b[37m\u001b[0m \u001b[1m1s\u001b[0m 37ms/step - categorical_accuracy: 0.8129 - loss: 0.5889 - val_categorical_accuracy: 0.7070 - val_loss: 0.8359\n",
      "Epoch 246/300\n",
      "\u001b[1m34/34\u001b[0m \u001b[32m━━━━━━━━━━━━━━━━━━━━\u001b[0m\u001b[37m\u001b[0m \u001b[1m1s\u001b[0m 34ms/step - categorical_accuracy: 0.8139 - loss: 0.5909 - val_categorical_accuracy: 0.7081 - val_loss: 0.8274\n",
      "Epoch 247/300\n",
      "\u001b[1m34/34\u001b[0m \u001b[32m━━━━━━━━━━━━━━━━━━━━\u001b[0m\u001b[37m\u001b[0m \u001b[1m1s\u001b[0m 32ms/step - categorical_accuracy: 0.8164 - loss: 0.5878 - val_categorical_accuracy: 0.7081 - val_loss: 0.8415\n",
      "Epoch 248/300\n",
      "\u001b[1m34/34\u001b[0m \u001b[32m━━━━━━━━━━━━━━━━━━━━\u001b[0m\u001b[37m\u001b[0m \u001b[1m1s\u001b[0m 32ms/step - categorical_accuracy: 0.8145 - loss: 0.5907 - val_categorical_accuracy: 0.7005 - val_loss: 0.8469\n",
      "Epoch 249/300\n",
      "\u001b[1m34/34\u001b[0m \u001b[32m━━━━━━━━━━━━━━━━━━━━\u001b[0m\u001b[37m\u001b[0m \u001b[1m1s\u001b[0m 31ms/step - categorical_accuracy: 0.8113 - loss: 0.5879 - val_categorical_accuracy: 0.7070 - val_loss: 0.8319\n",
      "Epoch 250/300\n",
      "\u001b[1m34/34\u001b[0m \u001b[32m━━━━━━━━━━━━━━━━━━━━\u001b[0m\u001b[37m\u001b[0m \u001b[1m1s\u001b[0m 33ms/step - categorical_accuracy: 0.8109 - loss: 0.5860 - val_categorical_accuracy: 0.7049 - val_loss: 0.8819\n",
      "Epoch 251/300\n",
      "\u001b[1m34/34\u001b[0m \u001b[32m━━━━━━━━━━━━━━━━━━━━\u001b[0m\u001b[37m\u001b[0m \u001b[1m1s\u001b[0m 37ms/step - categorical_accuracy: 0.8028 - loss: 0.6012 - val_categorical_accuracy: 0.7016 - val_loss: 0.8548\n",
      "Epoch 252/300\n",
      "\u001b[1m34/34\u001b[0m \u001b[32m━━━━━━━━━━━━━━━━━━━━\u001b[0m\u001b[37m\u001b[0m \u001b[1m1s\u001b[0m 33ms/step - categorical_accuracy: 0.8180 - loss: 0.5843 - val_categorical_accuracy: 0.7157 - val_loss: 0.8278\n",
      "Epoch 253/300\n",
      "\u001b[1m34/34\u001b[0m \u001b[32m━━━━━━━━━━━━━━━━━━━━\u001b[0m\u001b[37m\u001b[0m \u001b[1m1s\u001b[0m 33ms/step - categorical_accuracy: 0.8207 - loss: 0.5917 - val_categorical_accuracy: 0.7027 - val_loss: 0.8375\n",
      "Epoch 254/300\n",
      "\u001b[1m34/34\u001b[0m \u001b[32m━━━━━━━━━━━━━━━━━━━━\u001b[0m\u001b[37m\u001b[0m \u001b[1m1s\u001b[0m 36ms/step - categorical_accuracy: 0.8220 - loss: 0.5814 - val_categorical_accuracy: 0.6800 - val_loss: 0.8784\n",
      "Epoch 255/300\n",
      "\u001b[1m34/34\u001b[0m \u001b[32m━━━━━━━━━━━━━━━━━━━━\u001b[0m\u001b[37m\u001b[0m \u001b[1m1s\u001b[0m 30ms/step - categorical_accuracy: 0.8078 - loss: 0.5947 - val_categorical_accuracy: 0.7124 - val_loss: 0.8354\n",
      "Epoch 256/300\n",
      "\u001b[1m34/34\u001b[0m \u001b[32m━━━━━━━━━━━━━━━━━━━━\u001b[0m\u001b[37m\u001b[0m \u001b[1m1s\u001b[0m 32ms/step - categorical_accuracy: 0.8166 - loss: 0.5949 - val_categorical_accuracy: 0.6962 - val_loss: 0.8485\n",
      "Epoch 257/300\n",
      "\u001b[1m34/34\u001b[0m \u001b[32m━━━━━━━━━━━━━━━━━━━━\u001b[0m\u001b[37m\u001b[0m \u001b[1m1s\u001b[0m 36ms/step - categorical_accuracy: 0.8142 - loss: 0.5719 - val_categorical_accuracy: 0.7038 - val_loss: 0.8474\n",
      "Epoch 258/300\n",
      "\u001b[1m34/34\u001b[0m \u001b[32m━━━━━━━━━━━━━━━━━━━━\u001b[0m\u001b[37m\u001b[0m \u001b[1m1s\u001b[0m 35ms/step - categorical_accuracy: 0.8232 - loss: 0.5753 - val_categorical_accuracy: 0.7114 - val_loss: 0.8269\n",
      "Epoch 259/300\n",
      "\u001b[1m34/34\u001b[0m \u001b[32m━━━━━━━━━━━━━━━━━━━━\u001b[0m\u001b[37m\u001b[0m \u001b[1m1s\u001b[0m 32ms/step - categorical_accuracy: 0.8370 - loss: 0.5561 - val_categorical_accuracy: 0.7081 - val_loss: 0.8335\n",
      "Epoch 260/300\n",
      "\u001b[1m34/34\u001b[0m \u001b[32m━━━━━━━━━━━━━━━━━━━━\u001b[0m\u001b[37m\u001b[0m \u001b[1m1s\u001b[0m 30ms/step - categorical_accuracy: 0.8252 - loss: 0.5761 - val_categorical_accuracy: 0.6951 - val_loss: 0.8555\n",
      "Epoch 261/300\n",
      "\u001b[1m34/34\u001b[0m \u001b[32m━━━━━━━━━━━━━━━━━━━━\u001b[0m\u001b[37m\u001b[0m \u001b[1m1s\u001b[0m 31ms/step - categorical_accuracy: 0.8248 - loss: 0.5886 - val_categorical_accuracy: 0.6973 - val_loss: 0.8559\n",
      "Epoch 262/300\n",
      "\u001b[1m34/34\u001b[0m \u001b[32m━━━━━━━━━━━━━━━━━━━━\u001b[0m\u001b[37m\u001b[0m \u001b[1m1s\u001b[0m 33ms/step - categorical_accuracy: 0.8259 - loss: 0.5840 - val_categorical_accuracy: 0.6962 - val_loss: 0.8400\n",
      "Epoch 263/300\n",
      "\u001b[1m34/34\u001b[0m \u001b[32m━━━━━━━━━━━━━━━━━━━━\u001b[0m\u001b[37m\u001b[0m \u001b[1m1s\u001b[0m 31ms/step - categorical_accuracy: 0.8229 - loss: 0.5742 - val_categorical_accuracy: 0.7027 - val_loss: 0.8366\n",
      "Epoch 264/300\n",
      "\u001b[1m34/34\u001b[0m \u001b[32m━━━━━━━━━━━━━━━━━━━━\u001b[0m\u001b[37m\u001b[0m \u001b[1m1s\u001b[0m 31ms/step - categorical_accuracy: 0.8216 - loss: 0.5804 - val_categorical_accuracy: 0.7081 - val_loss: 0.8434\n",
      "Epoch 265/300\n",
      "\u001b[1m34/34\u001b[0m \u001b[32m━━━━━━━━━━━━━━━━━━━━\u001b[0m\u001b[37m\u001b[0m \u001b[1m1s\u001b[0m 30ms/step - categorical_accuracy: 0.8268 - loss: 0.5783 - val_categorical_accuracy: 0.7081 - val_loss: 0.8518\n",
      "Epoch 266/300\n",
      "\u001b[1m34/34\u001b[0m \u001b[32m━━━━━━━━━━━━━━━━━━━━\u001b[0m\u001b[37m\u001b[0m \u001b[1m1s\u001b[0m 31ms/step - categorical_accuracy: 0.8185 - loss: 0.5882 - val_categorical_accuracy: 0.7114 - val_loss: 0.8501\n",
      "Epoch 267/300\n",
      "\u001b[1m34/34\u001b[0m \u001b[32m━━━━━━━━━━━━━━━━━━━━\u001b[0m\u001b[37m\u001b[0m \u001b[1m1s\u001b[0m 30ms/step - categorical_accuracy: 0.8289 - loss: 0.5698 - val_categorical_accuracy: 0.7178 - val_loss: 0.8414\n",
      "Epoch 268/300\n",
      "\u001b[1m34/34\u001b[0m \u001b[32m━━━━━━━━━━━━━━━━━━━━\u001b[0m\u001b[37m\u001b[0m \u001b[1m1s\u001b[0m 31ms/step - categorical_accuracy: 0.8318 - loss: 0.5704 - val_categorical_accuracy: 0.7081 - val_loss: 0.8480\n",
      "Epoch 269/300\n",
      "\u001b[1m34/34\u001b[0m \u001b[32m━━━━━━━━━━━━━━━━━━━━\u001b[0m\u001b[37m\u001b[0m \u001b[1m1s\u001b[0m 30ms/step - categorical_accuracy: 0.8342 - loss: 0.5617 - val_categorical_accuracy: 0.7081 - val_loss: 0.8357\n",
      "Epoch 270/300\n",
      "\u001b[1m34/34\u001b[0m \u001b[32m━━━━━━━━━━━━━━━━━━━━\u001b[0m\u001b[37m\u001b[0m \u001b[1m1s\u001b[0m 34ms/step - categorical_accuracy: 0.8293 - loss: 0.5831 - val_categorical_accuracy: 0.7016 - val_loss: 0.8461\n",
      "Epoch 271/300\n",
      "\u001b[1m34/34\u001b[0m \u001b[32m━━━━━━━━━━━━━━━━━━━━\u001b[0m\u001b[37m\u001b[0m \u001b[1m1s\u001b[0m 33ms/step - categorical_accuracy: 0.8371 - loss: 0.5703 - val_categorical_accuracy: 0.6886 - val_loss: 0.8690\n",
      "Epoch 272/300\n",
      "\u001b[1m34/34\u001b[0m \u001b[32m━━━━━━━━━━━━━━━━━━━━\u001b[0m\u001b[37m\u001b[0m \u001b[1m1s\u001b[0m 31ms/step - categorical_accuracy: 0.8381 - loss: 0.5579 - val_categorical_accuracy: 0.7135 - val_loss: 0.8406\n",
      "Epoch 273/300\n",
      "\u001b[1m34/34\u001b[0m \u001b[32m━━━━━━━━━━━━━━━━━━━━\u001b[0m\u001b[37m\u001b[0m \u001b[1m1s\u001b[0m 36ms/step - categorical_accuracy: 0.8363 - loss: 0.5614 - val_categorical_accuracy: 0.7081 - val_loss: 0.8481\n",
      "Epoch 274/300\n",
      "\u001b[1m34/34\u001b[0m \u001b[32m━━━━━━━━━━━━━━━━━━━━\u001b[0m\u001b[37m\u001b[0m \u001b[1m1s\u001b[0m 34ms/step - categorical_accuracy: 0.8358 - loss: 0.5704 - val_categorical_accuracy: 0.7059 - val_loss: 0.8404\n",
      "Epoch 275/300\n",
      "\u001b[1m34/34\u001b[0m \u001b[32m━━━━━━━━━━━━━━━━━━━━\u001b[0m\u001b[37m\u001b[0m \u001b[1m1s\u001b[0m 31ms/step - categorical_accuracy: 0.8284 - loss: 0.5699 - val_categorical_accuracy: 0.7178 - val_loss: 0.8515\n",
      "Epoch 276/300\n",
      "\u001b[1m34/34\u001b[0m \u001b[32m━━━━━━━━━━━━━━━━━━━━\u001b[0m\u001b[37m\u001b[0m \u001b[1m1s\u001b[0m 37ms/step - categorical_accuracy: 0.8393 - loss: 0.5565 - val_categorical_accuracy: 0.7027 - val_loss: 0.8470\n",
      "Epoch 277/300\n",
      "\u001b[1m34/34\u001b[0m \u001b[32m━━━━━━━━━━━━━━━━━━━━\u001b[0m\u001b[37m\u001b[0m \u001b[1m1s\u001b[0m 31ms/step - categorical_accuracy: 0.8276 - loss: 0.5783 - val_categorical_accuracy: 0.6995 - val_loss: 0.8616\n",
      "Epoch 278/300\n",
      "\u001b[1m34/34\u001b[0m \u001b[32m━━━━━━━━━━━━━━━━━━━━\u001b[0m\u001b[37m\u001b[0m \u001b[1m1s\u001b[0m 36ms/step - categorical_accuracy: 0.8379 - loss: 0.5561 - val_categorical_accuracy: 0.6843 - val_loss: 0.8751\n",
      "Epoch 279/300\n",
      "\u001b[1m34/34\u001b[0m \u001b[32m━━━━━━━━━━━━━━━━━━━━\u001b[0m\u001b[37m\u001b[0m \u001b[1m1s\u001b[0m 31ms/step - categorical_accuracy: 0.8185 - loss: 0.5874 - val_categorical_accuracy: 0.7168 - val_loss: 0.8472\n",
      "Epoch 280/300\n",
      "\u001b[1m34/34\u001b[0m \u001b[32m━━━━━━━━━━━━━━━━━━━━\u001b[0m\u001b[37m\u001b[0m \u001b[1m1s\u001b[0m 31ms/step - categorical_accuracy: 0.8317 - loss: 0.5645 - val_categorical_accuracy: 0.6930 - val_loss: 0.8699\n",
      "Epoch 281/300\n",
      "\u001b[1m34/34\u001b[0m \u001b[32m━━━━━━━━━━━━━━━━━━━━\u001b[0m\u001b[37m\u001b[0m \u001b[1m1s\u001b[0m 33ms/step - categorical_accuracy: 0.8194 - loss: 0.5859 - val_categorical_accuracy: 0.6681 - val_loss: 0.9070\n",
      "Epoch 282/300\n",
      "\u001b[1m34/34\u001b[0m \u001b[32m━━━━━━━━━━━━━━━━━━━━\u001b[0m\u001b[37m\u001b[0m \u001b[1m1s\u001b[0m 31ms/step - categorical_accuracy: 0.8350 - loss: 0.5605 - val_categorical_accuracy: 0.7038 - val_loss: 0.8571\n",
      "Epoch 283/300\n",
      "\u001b[1m34/34\u001b[0m \u001b[32m━━━━━━━━━━━━━━━━━━━━\u001b[0m\u001b[37m\u001b[0m \u001b[1m1s\u001b[0m 30ms/step - categorical_accuracy: 0.8429 - loss: 0.5548 - val_categorical_accuracy: 0.7092 - val_loss: 0.8726\n",
      "Epoch 284/300\n",
      "\u001b[1m34/34\u001b[0m \u001b[32m━━━━━━━━━━━━━━━━━━━━\u001b[0m\u001b[37m\u001b[0m \u001b[1m1s\u001b[0m 31ms/step - categorical_accuracy: 0.8399 - loss: 0.5542 - val_categorical_accuracy: 0.6735 - val_loss: 0.9238\n",
      "Epoch 285/300\n",
      "\u001b[1m34/34\u001b[0m \u001b[32m━━━━━━━━━━━━━━━━━━━━\u001b[0m\u001b[37m\u001b[0m \u001b[1m1s\u001b[0m 31ms/step - categorical_accuracy: 0.8384 - loss: 0.5662 - val_categorical_accuracy: 0.7157 - val_loss: 0.8512\n",
      "Epoch 286/300\n",
      "\u001b[1m34/34\u001b[0m \u001b[32m━━━━━━━━━━━━━━━━━━━━\u001b[0m\u001b[37m\u001b[0m \u001b[1m1s\u001b[0m 30ms/step - categorical_accuracy: 0.8233 - loss: 0.5801 - val_categorical_accuracy: 0.7146 - val_loss: 0.8517\n",
      "Epoch 287/300\n",
      "\u001b[1m34/34\u001b[0m \u001b[32m━━━━━━━━━━━━━━━━━━━━\u001b[0m\u001b[37m\u001b[0m \u001b[1m1s\u001b[0m 31ms/step - categorical_accuracy: 0.8252 - loss: 0.5771 - val_categorical_accuracy: 0.7146 - val_loss: 0.8438\n",
      "Epoch 288/300\n",
      "\u001b[1m34/34\u001b[0m \u001b[32m━━━━━━━━━━━━━━━━━━━━\u001b[0m\u001b[37m\u001b[0m \u001b[1m1s\u001b[0m 30ms/step - categorical_accuracy: 0.8415 - loss: 0.5641 - val_categorical_accuracy: 0.6886 - val_loss: 0.8791\n",
      "Epoch 289/300\n",
      "\u001b[1m34/34\u001b[0m \u001b[32m━━━━━━━━━━━━━━━━━━━━\u001b[0m\u001b[37m\u001b[0m \u001b[1m1s\u001b[0m 31ms/step - categorical_accuracy: 0.8385 - loss: 0.5531 - val_categorical_accuracy: 0.7178 - val_loss: 0.8647\n",
      "Epoch 290/300\n",
      "\u001b[1m34/34\u001b[0m \u001b[32m━━━━━━━━━━━━━━━━━━━━\u001b[0m\u001b[37m\u001b[0m \u001b[1m1s\u001b[0m 32ms/step - categorical_accuracy: 0.8356 - loss: 0.5627 - val_categorical_accuracy: 0.7124 - val_loss: 0.8615\n",
      "Epoch 291/300\n",
      "\u001b[1m34/34\u001b[0m \u001b[32m━━━━━━━━━━━━━━━━━━━━\u001b[0m\u001b[37m\u001b[0m \u001b[1m1s\u001b[0m 31ms/step - categorical_accuracy: 0.8262 - loss: 0.5690 - val_categorical_accuracy: 0.7103 - val_loss: 0.8644\n",
      "Epoch 292/300\n",
      "\u001b[1m34/34\u001b[0m \u001b[32m━━━━━━━━━━━━━━━━━━━━\u001b[0m\u001b[37m\u001b[0m \u001b[1m1s\u001b[0m 31ms/step - categorical_accuracy: 0.8321 - loss: 0.5640 - val_categorical_accuracy: 0.6886 - val_loss: 0.9088\n",
      "Epoch 293/300\n",
      "\u001b[1m34/34\u001b[0m \u001b[32m━━━━━━━━━━━━━━━━━━━━\u001b[0m\u001b[37m\u001b[0m \u001b[1m1s\u001b[0m 30ms/step - categorical_accuracy: 0.8357 - loss: 0.5624 - val_categorical_accuracy: 0.6930 - val_loss: 0.8671\n",
      "Epoch 294/300\n",
      "\u001b[1m34/34\u001b[0m \u001b[32m━━━━━━━━━━━━━━━━━━━━\u001b[0m\u001b[37m\u001b[0m \u001b[1m1s\u001b[0m 32ms/step - categorical_accuracy: 0.8376 - loss: 0.5686 - val_categorical_accuracy: 0.7092 - val_loss: 0.8581\n",
      "Epoch 295/300\n",
      "\u001b[1m34/34\u001b[0m \u001b[32m━━━━━━━━━━━━━━━━━━━━\u001b[0m\u001b[37m\u001b[0m \u001b[1m1s\u001b[0m 30ms/step - categorical_accuracy: 0.8527 - loss: 0.5352 - val_categorical_accuracy: 0.6930 - val_loss: 0.8821\n",
      "Epoch 296/300\n",
      "\u001b[1m34/34\u001b[0m \u001b[32m━━━━━━━━━━━━━━━━━━━━\u001b[0m\u001b[37m\u001b[0m \u001b[1m1s\u001b[0m 31ms/step - categorical_accuracy: 0.8340 - loss: 0.5586 - val_categorical_accuracy: 0.7027 - val_loss: 0.8771\n",
      "Epoch 297/300\n",
      "\u001b[1m34/34\u001b[0m \u001b[32m━━━━━━━━━━━━━━━━━━━━\u001b[0m\u001b[37m\u001b[0m \u001b[1m1s\u001b[0m 31ms/step - categorical_accuracy: 0.8565 - loss: 0.5485 - val_categorical_accuracy: 0.6919 - val_loss: 0.8768\n",
      "Epoch 298/300\n",
      "\u001b[1m34/34\u001b[0m \u001b[32m━━━━━━━━━━━━━━━━━━━━\u001b[0m\u001b[37m\u001b[0m \u001b[1m1s\u001b[0m 31ms/step - categorical_accuracy: 0.8501 - loss: 0.5310 - val_categorical_accuracy: 0.7114 - val_loss: 0.8759\n",
      "Epoch 299/300\n",
      "\u001b[1m34/34\u001b[0m \u001b[32m━━━━━━━━━━━━━━━━━━━━\u001b[0m\u001b[37m\u001b[0m \u001b[1m1s\u001b[0m 32ms/step - categorical_accuracy: 0.8427 - loss: 0.5492 - val_categorical_accuracy: 0.6843 - val_loss: 0.8879\n",
      "Epoch 300/300\n",
      "\u001b[1m34/34\u001b[0m \u001b[32m━━━━━━━━━━━━━━━━━━━━\u001b[0m\u001b[37m\u001b[0m \u001b[1m1s\u001b[0m 31ms/step - categorical_accuracy: 0.8455 - loss: 0.5543 - val_categorical_accuracy: 0.6930 - val_loss: 0.8988\n"
     ]
    },
    {
     "data": {
      "image/png": "[encoded data removed]",
      "text/plain": [
       "<Figure size 640x480 with 1 Axes>"
      ]
     },
     "metadata": {},
     "output_type": "display_data"
    },
    {
     "data": {
      "image/png": "[encoded data removed]",
      "text/plain": [
       "<Figure size 640x480 with 1 Axes>"
      ]
     },
     "metadata": {},
     "output_type": "display_data"
    }
   ],
   "source": [
    "from tensorflow.keras.optimizers import Adam\n",
    "num_classes = y_train_onehot.shape[1]  # Número de clases\n",
    "\n",
    "model = tf.keras.models.Sequential([\n",
    "    tf.keras.layers.InputLayer(shape=(16,)),\n",
    "    tf.keras.layers.Dense(1056, activation='relu', kernel_regularizer=tf.keras.regularizers.l2(0.01)),\n",
    "    # tf.keras.layers.Dropout(0.5),  # Dropout con 50% de probabilidad\n",
    "    tf.keras.layers.Dense(1056, activation='relu', kernel_regularizer=tf.keras.regularizers.l2(0.01)),  # Regularización L2\n",
    "    # tf.keras.layers.Dropout(0.5),  # Otro Dropout con 50% de probabilidad\n",
    "    # tf.keras.layers.Dense(32, activation='relu', kernel_regularizer=tf.keras.regularizers.l2(0.01)),  # Regularización L2\n",
    "    # tf.keras.layers.Dropout(0.5),  # Otro Dropout con 50% de probabilidad\n",
    "    # tf.keras.layers.Dense(528, activation='relu', kernel_regularizer=tf.keras.regularizers.l2(0.01)),  # Regularización L2\n",
    "    # tf.keras.layers.Dropout(0.5),  # Otro Dropout con 50% de probabilidad\n",
    "    tf.keras.layers.Dense(528, activation='relu', kernel_regularizer=tf.keras.regularizers.l2(0.01)),  # Regularización L2\n",
    "\n",
    "    \n",
    " \n",
    "    \n",
    "    # tf.keras.layers.Dense(264, activation='relu', kernel_regularizer=tf.keras.regularizers.l2(0.01)),  # Regularización L2\n",
    "    # tf.keras.layers.Dense(264, activation='relu', kernel_regularizer=tf.keras.regularizers.l2(0.01)),  # Regularización L2\n",
    "    # tf.keras.layers.Dense(128, activation='relu', kernel_regularizer=tf.keras.regularizers.l2(0.01)),  # Regularización L2\n",
    "    # tf.keras.layers.Dense(128, activation='relu', kernel_regularizer=tf.keras.regularizers.l2(0.01)),  # Regularización L2\n",
    "    tf.keras.layers.Dense(num_classes, activation='softmax')\n",
    "])\n",
    "# Compilar el modelo\n",
    "optimizer = Adam(learning_rate=0.001)\n",
    "model.compile(optimizer=optimizer,\n",
    "              loss='categorical_crossentropy',\n",
    "              metrics=['categorical_accuracy'])\n",
    "\n",
    "early_stopping = tf.keras.callbacks.EarlyStopping(monitor='val_loss', patience=10, restore_best_weights=True)\n",
    "# Entrenar el modelo\n",
    "history = model.fit(X_train, y_train_onehot,\n",
    "                    epochs=300,\n",
    "                    batch_size=128,\n",
    "                    validation_data=(X_dev, y_dev_onehot))\n",
    "                    # callbacks=[early_stopping]\n",
    "\n",
    "# Opcional: Graficar la pérdida y la precisión durante el entrenamiento\n",
    "plt.plot(history.history['loss'], label='loss')\n",
    "plt.plot(history.history['val_loss'], label='validation loss')\n",
    "plt.xlabel('Épocas')\n",
    "plt.ylabel('Pérdida')\n",
    "plt.legend()\n",
    "plt.show()\n",
    "\n",
    "\n",
    "plt.plot(history.history['categorical_accuracy'], label='accuracy') \n",
    "plt.plot(history.history['val_categorical_accuracy'], label='validation accuracy')\n",
    "plt.xlabel('Épocas')\n",
    "plt.ylabel('Precisión')\n",
    "plt.legend()\n",
    "plt.show()"
   ]
  },
  {
   "cell_type": "code",
   "execution_count": 147,
   "metadata": {},
   "outputs": [],
   "source": [
    "c_acuracy = history.history['categorical_accuracy'][0::30]\n",
    "v_acuracy = history.history['val_categorical_accuracy'][0::30]\n",
    "epocas = np.arange(1, len(history.history['categorical_accuracy']) + 1, 30)\n"
   ]
  },
  {
   "cell_type": "code",
   "execution_count": 148,
   "metadata": {},
   "outputs": [
    {
     "data": {
      "text/plain": [
       "Text(0, 0.5, 'Precisión')"
      ]
     },
     "execution_count": 148,
     "metadata": {},
     "output_type": "execute_result"
    },
    {
     "data": {
      "image/png": "[encoded data removed]",
      "text/plain": [
       "<Figure size 640x480 with 1 Axes>"
      ]
     },
     "metadata": {},
     "output_type": "display_data"
    }
   ],
   "source": [
    "plt.plot(epocas,c_acuracy, label='entrenamiento', color='black', linewidth=2.5, linestyle='-', marker='o')\n",
    "plt.plot(epocas,v_acuracy, label='validacion', color='red', linewidth=2.5, linestyle='-', marker='o')\n",
    "plt.legend()\n",
    "\n",
    "plt.xlabel('Épocas')\n",
    "plt.ylabel('Precisión')\n",
    "# plt.savefig('C:\\\\Users\\\\hgera\\\\OneDrive\\\\Escritorio\\\\PY4E\\\\figuras\\\\accuracy_faces.pdf')\n"
   ]
  },
  {
   "cell_type": "code",
   "execution_count": 149,
   "metadata": {},
   "outputs": [
    {
     "data": {
      "text/plain": [
       "(-0.5, 699.5, 699.5, -0.5)"
      ]
     },
     "execution_count": 149,
     "metadata": {},
     "output_type": "execute_result"
    },
    {
     "data": {
      "image/png": "[encoded data removed]",
      "text/plain": [
       "<Figure size 640x480 with 1 Axes>"
      ]
     },
     "metadata": {},
     "output_type": "display_data"
    }
   ],
   "source": [
    "import cv2\n",
    "import numpy as np\n",
    "import matplotlib.pyplot as plt\n",
    "\n",
    "# Parámetros para la red neuronal\n",
    "input_shape = 936  # Número de neuronas de entrada\n",
    "num_classes = 5 # Número de neuronas de salida (clases)\n",
    "hidden_layers = [(1028, 'ReLU', 'L2'), (1028, 'ReLU', 'L2'),(564, 'ReLU', 'L2')]  # Capas ocultas con número de neuronas, activación y regularización\n",
    "\n",
    "# Crear una imagen en blanco\n",
    "height, width = 700, 700  # Dimensiones de la imagen\n",
    "image = np.ones((height, width, 3), dtype=np.uint8) * 255  # Fondo blanco\n",
    "\n",
    "# Coordenadas iniciales y finales para dibujar las capas\n",
    "start_x = 50\n",
    "end_x = width - 50\n",
    "layer_height = 100  # Altura de cada capa\n",
    "\n",
    "# Dibujar la capa de entrada\n",
    "cv2.putText(image, f'    Capa de Entrada ({input_shape})', (start_x, layer_height), cv2.FONT_HERSHEY_SIMPLEX, 1, (0, 0, 0), 2)\n",
    "cv2.rectangle(image, (start_x, layer_height - 40), (end_x, layer_height + 40), (0, 0, 0), 2)\n",
    "\n",
    "# Dibujar capas ocultas\n",
    "for i, (neurons, activation, regularization) in enumerate(hidden_layers, start=2):\n",
    "    cv2.putText(image, f'    Capa Oculta ({neurons}, {activation}, {regularization})', \n",
    "                (start_x, i * layer_height), cv2.FONT_HERSHEY_SIMPLEX, 1, (0, 0, 0), 2)\n",
    "    cv2.rectangle(image, (start_x, i * layer_height - 40), (end_x, i * layer_height + 40), (0, 0, 0), 2)\n",
    "\n",
    "# Dibujar la capa de salida\n",
    "cv2.putText(image, f'    Capa de Salida ({num_classes}, Softmax)', (start_x, (len(hidden_layers) + 2) * layer_height), \n",
    "            cv2.FONT_HERSHEY_SIMPLEX, 1, (0, 0, 0), 2)\n",
    "cv2.rectangle(image, (start_x, (len(hidden_layers) + 2) * layer_height - 40), \n",
    "              (end_x, (len(hidden_layers) + 2) * layer_height + 40), (0, 0, 0), 2)\n",
    "\n",
    "# Mostrar la imagen\n",
    "# cv2.imshow('Red Neuronal', image)\n",
    "plt.imshow(image)\n",
    "plt.axis('off')\n",
    "\n"
   ]
  },
  {
   "cell_type": "code",
   "execution_count": 150,
   "metadata": {},
   "outputs": [
    {
     "name": "stdout",
     "output_type": "stream",
     "text": [
      "******************************************************************************************************************************************************\n",
      "\u001b[1m29/29\u001b[0m \u001b[32m━━━━━━━━━━━━━━━━━━━━\u001b[0m\u001b[37m\u001b[0m \u001b[1m0s\u001b[0m 5ms/step - categorical_accuracy: 0.7256 - loss: 0.8432\n",
      "Acuraccy on test data: 0.70\n",
      "Loss on test data: 0.89\n"
     ]
    }
   ],
   "source": [
    "# Evaluar el modelo\n",
    "print('***'*50)\n",
    "\n",
    "test_loss, test_acc = model.evaluate(X_test, y_test_onehot)\n",
    "print(f'Acuraccy on test data: {test_acc:.2f}')\n",
    "print(f'Loss on test data: {test_loss:.2f}')\n"
   ]
  },
  {
   "cell_type": "code",
   "execution_count": 151,
   "metadata": {},
   "outputs": [],
   "source": [
    "#* Save the model\n",
    "# path_save = '..\\\\..\\\\models\\\\Trained\\\\face\\\\face_model.h5'\n",
    "# model.save(path_save)"
   ]
  },
  {
   "cell_type": "markdown",
   "metadata": {},
   "source": [
    "### REVISION\n"
   ]
  },
  {
   "cell_type": "code",
   "execution_count": 152,
   "metadata": {},
   "outputs": [
    {
     "ename": "NameError",
     "evalue": "name 'path_save' is not defined",
     "output_type": "error",
     "traceback": [
      "\u001b[1;31m---------------------------------------------------------------------------\u001b[0m",
      "\u001b[1;31mNameError\u001b[0m                                 Traceback (most recent call last)",
      "Cell \u001b[1;32mIn[152], line 1\u001b[0m\n\u001b[1;32m----> 1\u001b[0m model \u001b[38;5;241m=\u001b[39m tf\u001b[38;5;241m.\u001b[39mkeras\u001b[38;5;241m.\u001b[39mmodels\u001b[38;5;241m.\u001b[39mload_model(\u001b[43mpath_save\u001b[49m)\n\u001b[0;32m      2\u001b[0m model\u001b[38;5;241m.\u001b[39msummary()\n",
      "\u001b[1;31mNameError\u001b[0m: name 'path_save' is not defined"
     ]
    }
   ],
   "source": [
    "model = tf.keras.models.load_model(path_save)\n",
    "model.summary()"
   ]
  },
  {
   "cell_type": "code",
   "execution_count": null,
   "metadata": {},
   "outputs": [
    {
     "name": "stdout",
     "output_type": "stream",
     "text": [
      "(1, 936)\n",
      "\u001b[1m1/1\u001b[0m \u001b[32m━━━━━━━━━━━━━━━━━━━━\u001b[0m\u001b[37m\u001b[0m \u001b[1m0s\u001b[0m 32ms/step\n",
      "Predicción: Neutral\n"
     ]
    }
   ],
   "source": [
    "# Supongamos que tienes datos nuevos para predecir\n",
    "dict_labels = {i: letter for i, letter in enumerate(label_encoder.classes_)}\n",
    "new_data = data_h5[4][:, 1003 ]  # Supongamos que solo tenemos un dato nuevo\n",
    "new_data = new_data.reshape(1, -1)  # Convertirlo a un arreglo 2D\n",
    "print(new_data.shape)\n",
    "# Preprocesar los datos nuevos (normalización, etc.)\n",
    "new_data_normalized = scaler.transform(new_data)  # Normalización Z-score\n",
    "\n",
    "# Hacer predicciones\n",
    "predictions = model.predict(new_data_normalized)\n",
    "\n",
    "# Convertir las predicciones a etiquetas\n",
    "predicted_class = np.argmax(predictions, axis=1)\n",
    "\n",
    "print(f'Predicción: {dict_labels[predicted_class[0]]}')"
   ]
  },
  {
   "cell_type": "markdown",
   "metadata": {},
   "source": [
    "#### SAVE the values of the normalization"
   ]
  },
  {
   "cell_type": "code",
   "execution_count": null,
   "metadata": {},
   "outputs": [
    {
     "name": "stdout",
     "output_type": "stream",
     "text": [
      "Escalador ajustado y guardado en 'scaler.pkl'\n"
     ]
    }
   ],
   "source": [
    "from sklearn.preprocessing import StandardScaler\n",
    "import joblib\n",
    "import numpy as np\n",
    "\n",
    "\n",
    "# Guardar el escalador ajustado en un archivo\n",
    "joblib.dump(scaler, '..\\\\..\\\\models\\\\Trained\\\\signs\\\\scaler_faces.pkl')\n"
   ]
  }
 ],
 "metadata": {
  "kernelspec": {
   "display_name": "env",
   "language": "python",
   "name": "python3"
  },
  "language_info": {
   "codemirror_mode": {
    "name": "ipython",
    "version": 3
   },
   "file_extension": ".py",
   "mimetype": "text/x-python",
   "name": "python",
   "nbconvert_exporter": "python",
   "pygments_lexer": "ipython3",
   "version": "3.11.5"
  }
 },
 "nbformat": 4,
 "nbformat_minor": 2
}
