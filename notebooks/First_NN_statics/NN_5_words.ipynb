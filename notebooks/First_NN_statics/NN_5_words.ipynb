{
 "cells": [
  {
   "cell_type": "code",
   "execution_count": null,
   "metadata": {},
   "outputs": [],
   "source": [
    "import h5py as h5\n",
    "import numpy as np\n",
    "import tensorflow as tf\n",
    "import matplotlib.pyplot as plt\n",
    "from tensorflow.python.framework.ops import EagerTensor\n",
    "from tensorflow.python.ops.resource_variable_ops import ResourceVariable\n",
    "from tensorflow import keras\n",
    "import time\n",
    "from sklearn.preprocessing import LabelEncoder\n",
    "from sklearn.model_selection import train_test_split"
   ]
  },
  {
   "cell_type": "code",
   "execution_count": 33,
   "metadata": {},
   "outputs": [
    {
     "data": {
      "text/plain": [
       "h5py._hl.files.File"
      ]
     },
     "execution_count": 33,
     "metadata": {},
     "output_type": "execute_result"
    }
   ],
   "source": [
    "###* Load the dataset\n",
    "dataset = h5.File('..\\\\..\\\\data\\\\features\\\\positions_GERADO.h5', 'r')\n",
    "type(dataset)"
   ]
  },
  {
   "cell_type": "code",
   "execution_count": 34,
   "metadata": {},
   "outputs": [
    {
     "data": {
      "text/plain": [
       "(1194,)"
      ]
     },
     "execution_count": 34,
     "metadata": {},
     "output_type": "execute_result"
    }
   ],
   "source": [
    "with dataset as h5file:\n",
    "    data_h5 = []\n",
    "    labels = []\n",
    "    for letter in h5file.keys():\n",
    "        positions = h5file[letter]['positions'][:]\n",
    "        data_h5.append(positions)\n",
    "        # print(positions.shape)\n",
    "        labels.extend([letter]*positions.shape[1]) # extend is used to add the elements of the list, not the list itself  \n",
    "\n",
    "labels = np.array(labels)\n",
    "labels_letter = np.reshape(labels, (labels.shape[0], ))\n",
    "labels_letter.shape\n"
   ]
  },
  {
   "cell_type": "code",
   "execution_count": 35,
   "metadata": {},
   "outputs": [
    {
     "name": "stdout",
     "output_type": "stream",
     "text": [
      "Data shape 0 (84, 192)\n",
      "Data shape 1 (84, 200)\n",
      "Data shape 2 (84, 200)\n",
      "Data shape 3 (84, 200)\n",
      "Data shape 4 (84, 202)\n",
      "Data shape 5 (84, 200)\n"
     ]
    }
   ],
   "source": [
    "for i, id in enumerate(data_h5):\n",
    "    print('Data shape',i, id.shape)"
   ]
  },
  {
   "cell_type": "markdown",
   "metadata": {},
   "source": [
    "#### Remember nx -> 21*4 (positions in x and y)     m -> number of samples"
   ]
  },
  {
   "cell_type": "code",
   "execution_count": 36,
   "metadata": {},
   "outputs": [
    {
     "name": "stdout",
     "output_type": "stream",
     "text": [
      "The number of classes is: 6\n"
     ]
    },
    {
     "data": {
      "text/plain": [
       "(1194,)"
      ]
     },
     "execution_count": 36,
     "metadata": {},
     "output_type": "execute_result"
    }
   ],
   "source": [
    "label_encoder = LabelEncoder() ###* LETTERS TO NUMBERS \n",
    "labels = label_encoder.fit_transform(labels_letter)\n",
    "print('The number of classes is:', len(label_encoder.classes_))\n",
    "labels.shape"
   ]
  },
  {
   "cell_type": "code",
   "execution_count": 37,
   "metadata": {},
   "outputs": [
    {
     "data": {
      "text/plain": [
       "array(['A', 'D', 'E', 'G', 'O', 'R'], dtype='<U1')"
      ]
     },
     "execution_count": 37,
     "metadata": {},
     "output_type": "execute_result"
    }
   ],
   "source": [
    "label_encoder.classes_"
   ]
  },
  {
   "cell_type": "markdown",
   "metadata": {},
   "source": [
    "### For every sample m we have one label"
   ]
  },
  {
   "cell_type": "code",
   "execution_count": 38,
   "metadata": {},
   "outputs": [
    {
     "data": {
      "text/plain": [
       "(84, 1194)"
      ]
     },
     "execution_count": 38,
     "metadata": {},
     "output_type": "execute_result"
    }
   ],
   "source": [
    "data = np.concatenate(data_h5,axis=1)\n",
    "data.shape"
   ]
  },
  {
   "cell_type": "markdown",
   "metadata": {},
   "source": [
    "#### sklearn needs data.shape = (m, nx), where:\n",
    "#### m is the number of samples\n",
    "#### nx number of featues (positions in this case)"
   ]
  },
  {
   "cell_type": "code",
   "execution_count": 39,
   "metadata": {},
   "outputs": [
    {
     "data": {
      "text/plain": [
       "(1194, 84)"
      ]
     },
     "execution_count": 39,
     "metadata": {},
     "output_type": "execute_result"
    }
   ],
   "source": [
    "data = data.T\n",
    "data.shape\n"
   ]
  },
  {
   "cell_type": "code",
   "execution_count": 40,
   "metadata": {},
   "outputs": [
    {
     "data": {
      "text/plain": [
       "array([383,  58, 349, 107, 410,  62, 333, 102, 434,  65, 301,  92, 456,\n",
       "        69, 279,  86, 476,  72, 268,  82, 412,  62, 271,  83, 418,  63,\n",
       "       251,  77, 418,  63, 277,  85, 414,  62, 283,  87, 393,  59, 273,\n",
       "        84, 400,  60, 258,  79, 403,  61, 290,  89, 398,  60, 288,  88,\n",
       "       374,  56, 278,  85, 380,  57, 267,  82, 385,  58, 294,  90, 381,\n",
       "        57, 292,  90, 355,  53, 286,  88, 361,  54, 276,  85, 369,  55,\n",
       "       293,  90, 367,  55, 295,  90])"
      ]
     },
     "execution_count": 40,
     "metadata": {},
     "output_type": "execute_result"
    }
   ],
   "source": [
    "data[0,:]"
   ]
  },
  {
   "cell_type": "code",
   "execution_count": 41,
   "metadata": {},
   "outputs": [],
   "source": [
    "X_train, X, y_train, Y = train_test_split(data, labels, test_size=0.4)"
   ]
  },
  {
   "cell_type": "code",
   "execution_count": 42,
   "metadata": {},
   "outputs": [
    {
     "data": {
      "text/plain": [
       "((716, 84), (716,), (478, 84), (478,))"
      ]
     },
     "execution_count": 42,
     "metadata": {},
     "output_type": "execute_result"
    }
   ],
   "source": [
    "X_train.shape, y_train.shape, X.shape, Y.shape"
   ]
  },
  {
   "cell_type": "markdown",
   "metadata": {},
   "source": [
    "#### Now we have our train dataset but we need a dev and test dataset"
   ]
  },
  {
   "cell_type": "code",
   "execution_count": 43,
   "metadata": {},
   "outputs": [],
   "source": [
    "X_dev, X_test, y_dev, y_test = train_test_split(X, Y, test_size=0.5, )"
   ]
  },
  {
   "cell_type": "code",
   "execution_count": 44,
   "metadata": {},
   "outputs": [
    {
     "name": "stdout",
     "output_type": "stream",
     "text": [
      "Traininig set: 716 samples\n",
      "Dev set: 239 samples\n",
      "Test set: 239 samples\n"
     ]
    }
   ],
   "source": [
    "m = X_train.shape[0] # number of samples\n",
    "print(f'Traininig set: {X_train.shape[0]} samples')\n",
    "print(f'Dev set: {X_dev.shape[0]} samples')\n",
    "print(f'Test set: {X_test.shape[0]} samples')"
   ]
  },
  {
   "cell_type": "markdown",
   "metadata": {},
   "source": [
    "##### We have 60% for training and 20% for dev,test data\n",
    "##### Now we need to normalize the data, let's to use the z-score method"
   ]
  },
  {
   "cell_type": "code",
   "execution_count": 45,
   "metadata": {},
   "outputs": [],
   "source": [
    "from sklearn.preprocessing import StandardScaler\n",
    "scaler = StandardScaler()\n",
    "X_train = scaler.fit_transform(X_train) #* Normalize X_train using the mean and standard deviation of the training set\n",
    "X_dev = scaler.transform(X_dev)  #* Normalize X_test using the mean and standard deviation of the training set\n",
    "X_test = scaler.transform(X_test)  #* Normalize X_test using the mean and standard deviation of the training set"
   ]
  },
  {
   "cell_type": "markdown",
   "metadata": {},
   "source": [
    "### ONE HOT to create our matrix with labels"
   ]
  },
  {
   "cell_type": "code",
   "execution_count": 46,
   "metadata": {},
   "outputs": [
    {
     "data": {
      "text/plain": [
       "((716, 6), (239, 6), (239, 6))"
      ]
     },
     "execution_count": 46,
     "metadata": {},
     "output_type": "execute_result"
    }
   ],
   "source": [
    "from sklearn.preprocessing import OneHotEncoder\n",
    "encoder = OneHotEncoder(sparse_output=False)\n",
    "y_train_onehot = encoder.fit_transform(y_train.reshape(-1, 1))\n",
    "y_dev_onehot = encoder.transform(y_dev.reshape(-1, 1))\n",
    "y_test_onehot = encoder.transform(y_test.reshape(-1, 1))\n",
    "y_train_onehot.shape, y_dev_onehot.shape, y_test_onehot.shape"
   ]
  },
  {
   "cell_type": "code",
   "execution_count": 47,
   "metadata": {},
   "outputs": [
    {
     "name": "stdout",
     "output_type": "stream",
     "text": [
      "3    47\n",
      "0    43\n",
      "4    41\n",
      "5    40\n",
      "2    37\n",
      "1    31\n",
      "Name: count, dtype: int64\n"
     ]
    }
   ],
   "source": [
    "# Convertir el array a una serie de pandas\n",
    "import pandas as pd\n",
    "y_dev_series = pd.Series(y_dev)\n",
    "\n",
    "# Contar la frecuencia de cada elemento\n",
    "element_counts = y_dev_series.value_counts()\n",
    "print(element_counts)"
   ]
  },
  {
   "cell_type": "markdown",
   "metadata": {},
   "source": [
    "#### Let's to build our first NEURAL NETWORK"
   ]
  },
  {
   "cell_type": "code",
   "execution_count": 48,
   "metadata": {},
   "outputs": [
    {
     "name": "stderr",
     "output_type": "stream",
     "text": [
      "c:\\Users\\hgera\\OneDrive\\Escritorio\\Computer-vision-LSM\\env\\Lib\\site-packages\\keras\\src\\layers\\core\\input_layer.py:27: UserWarning: Argument `input_shape` is deprecated. Use `shape` instead.\n",
      "  warnings.warn(\n"
     ]
    },
    {
     "name": "stdout",
     "output_type": "stream",
     "text": [
      "Epoch 1/100\n",
      "\u001b[1m179/179\u001b[0m \u001b[32m━━━━━━━━━━━━━━━━━━━━\u001b[0m\u001b[37m\u001b[0m \u001b[1m2s\u001b[0m 4ms/step - categorical_accuracy: 0.3647 - loss: 2.0941 - val_categorical_accuracy: 0.5983 - val_loss: 1.5650\n",
      "Epoch 2/100\n",
      "\u001b[1m179/179\u001b[0m \u001b[32m━━━━━━━━━━━━━━━━━━━━\u001b[0m\u001b[37m\u001b[0m \u001b[1m1s\u001b[0m 3ms/step - categorical_accuracy: 0.6636 - loss: 1.4674 - val_categorical_accuracy: 0.7573 - val_loss: 1.2310\n",
      "Epoch 3/100\n",
      "\u001b[1m179/179\u001b[0m \u001b[32m━━━━━━━━━━━━━━━━━━━━\u001b[0m\u001b[37m\u001b[0m \u001b[1m1s\u001b[0m 3ms/step - categorical_accuracy: 0.7447 - loss: 1.1930 - val_categorical_accuracy: 0.8075 - val_loss: 0.9677\n",
      "Epoch 4/100\n",
      "\u001b[1m179/179\u001b[0m \u001b[32m━━━━━━━━━━━━━━━━━━━━\u001b[0m\u001b[37m\u001b[0m \u001b[1m1s\u001b[0m 3ms/step - categorical_accuracy: 0.8372 - loss: 0.9419 - val_categorical_accuracy: 0.8494 - val_loss: 0.8176\n",
      "Epoch 5/100\n",
      "\u001b[1m179/179\u001b[0m \u001b[32m━━━━━━━━━━━━━━━━━━━━\u001b[0m\u001b[37m\u001b[0m \u001b[1m1s\u001b[0m 3ms/step - categorical_accuracy: 0.9121 - loss: 0.7279 - val_categorical_accuracy: 0.9247 - val_loss: 0.6600\n",
      "Epoch 6/100\n",
      "\u001b[1m179/179\u001b[0m \u001b[32m━━━━━━━━━━━━━━━━━━━━\u001b[0m\u001b[37m\u001b[0m \u001b[1m1s\u001b[0m 3ms/step - categorical_accuracy: 0.9332 - loss: 0.6165 - val_categorical_accuracy: 0.9498 - val_loss: 0.5735\n",
      "Epoch 7/100\n",
      "\u001b[1m179/179\u001b[0m \u001b[32m━━━━━━━━━━━━━━━━━━━━\u001b[0m\u001b[37m\u001b[0m \u001b[1m1s\u001b[0m 4ms/step - categorical_accuracy: 0.9493 - loss: 0.5305 - val_categorical_accuracy: 0.9665 - val_loss: 0.5138\n",
      "Epoch 8/100\n",
      "\u001b[1m179/179\u001b[0m \u001b[32m━━━━━━━━━━━━━━━━━━━━\u001b[0m\u001b[37m\u001b[0m \u001b[1m1s\u001b[0m 4ms/step - categorical_accuracy: 0.9718 - loss: 0.4762 - val_categorical_accuracy: 0.9749 - val_loss: 0.4407\n",
      "Epoch 9/100\n",
      "\u001b[1m179/179\u001b[0m \u001b[32m━━━━━━━━━━━━━━━━━━━━\u001b[0m\u001b[37m\u001b[0m \u001b[1m1s\u001b[0m 3ms/step - categorical_accuracy: 0.9836 - loss: 0.4216 - val_categorical_accuracy: 0.9791 - val_loss: 0.4154\n",
      "Epoch 10/100\n",
      "\u001b[1m179/179\u001b[0m \u001b[32m━━━━━━━━━━━━━━━━━━━━\u001b[0m\u001b[37m\u001b[0m \u001b[1m1s\u001b[0m 3ms/step - categorical_accuracy: 0.9849 - loss: 0.4021 - val_categorical_accuracy: 0.9833 - val_loss: 0.3798\n",
      "Epoch 11/100\n",
      "\u001b[1m179/179\u001b[0m \u001b[32m━━━━━━━━━━━━━━━━━━━━\u001b[0m\u001b[37m\u001b[0m \u001b[1m1s\u001b[0m 3ms/step - categorical_accuracy: 0.9851 - loss: 0.3810 - val_categorical_accuracy: 0.9791 - val_loss: 0.3609\n",
      "Epoch 12/100\n",
      "\u001b[1m179/179\u001b[0m \u001b[32m━━━━━━━━━━━━━━━━━━━━\u001b[0m\u001b[37m\u001b[0m \u001b[1m1s\u001b[0m 3ms/step - categorical_accuracy: 0.9920 - loss: 0.3576 - val_categorical_accuracy: 0.9958 - val_loss: 0.3289\n",
      "Epoch 13/100\n",
      "\u001b[1m179/179\u001b[0m \u001b[32m━━━━━━━━━━━━━━━━━━━━\u001b[0m\u001b[37m\u001b[0m \u001b[1m1s\u001b[0m 3ms/step - categorical_accuracy: 0.9952 - loss: 0.3189 - val_categorical_accuracy: 0.9874 - val_loss: 0.3402\n",
      "Epoch 14/100\n",
      "\u001b[1m179/179\u001b[0m \u001b[32m━━━━━━━━━━━━━━━━━━━━\u001b[0m\u001b[37m\u001b[0m \u001b[1m1s\u001b[0m 3ms/step - categorical_accuracy: 0.9797 - loss: 0.3332 - val_categorical_accuracy: 1.0000 - val_loss: 0.3044\n",
      "Epoch 15/100\n",
      "\u001b[1m179/179\u001b[0m \u001b[32m━━━━━━━━━━━━━━━━━━━━\u001b[0m\u001b[37m\u001b[0m \u001b[1m1s\u001b[0m 3ms/step - categorical_accuracy: 0.9943 - loss: 0.2899 - val_categorical_accuracy: 0.9874 - val_loss: 0.2942\n",
      "Epoch 16/100\n",
      "\u001b[1m179/179\u001b[0m \u001b[32m━━━━━━━━━━━━━━━━━━━━\u001b[0m\u001b[37m\u001b[0m \u001b[1m1s\u001b[0m 3ms/step - categorical_accuracy: 0.9860 - loss: 0.2857 - val_categorical_accuracy: 0.9874 - val_loss: 0.2661\n",
      "Epoch 17/100\n",
      "\u001b[1m179/179\u001b[0m \u001b[32m━━━━━━━━━━━━━━━━━━━━\u001b[0m\u001b[37m\u001b[0m \u001b[1m1s\u001b[0m 3ms/step - categorical_accuracy: 0.9937 - loss: 0.2734 - val_categorical_accuracy: 1.0000 - val_loss: 0.2547\n",
      "Epoch 18/100\n",
      "\u001b[1m179/179\u001b[0m \u001b[32m━━━━━━━━━━━━━━━━━━━━\u001b[0m\u001b[37m\u001b[0m \u001b[1m1s\u001b[0m 3ms/step - categorical_accuracy: 0.9920 - loss: 0.2653 - val_categorical_accuracy: 0.9916 - val_loss: 0.2569\n",
      "Epoch 19/100\n",
      "\u001b[1m179/179\u001b[0m \u001b[32m━━━━━━━━━━━━━━━━━━━━\u001b[0m\u001b[37m\u001b[0m \u001b[1m1s\u001b[0m 3ms/step - categorical_accuracy: 0.9870 - loss: 0.2489 - val_categorical_accuracy: 0.9916 - val_loss: 0.2416\n",
      "Epoch 20/100\n",
      "\u001b[1m179/179\u001b[0m \u001b[32m━━━━━━━━━━━━━━━━━━━━\u001b[0m\u001b[37m\u001b[0m \u001b[1m1s\u001b[0m 3ms/step - categorical_accuracy: 0.9940 - loss: 0.2332 - val_categorical_accuracy: 1.0000 - val_loss: 0.2284\n",
      "Epoch 21/100\n",
      "\u001b[1m179/179\u001b[0m \u001b[32m━━━━━━━━━━━━━━━━━━━━\u001b[0m\u001b[37m\u001b[0m \u001b[1m1s\u001b[0m 3ms/step - categorical_accuracy: 0.9921 - loss: 0.2307 - val_categorical_accuracy: 1.0000 - val_loss: 0.2211\n",
      "Epoch 22/100\n",
      "\u001b[1m179/179\u001b[0m \u001b[32m━━━━━━━━━━━━━━━━━━━━\u001b[0m\u001b[37m\u001b[0m \u001b[1m1s\u001b[0m 3ms/step - categorical_accuracy: 0.9826 - loss: 0.2442 - val_categorical_accuracy: 1.0000 - val_loss: 0.2158\n",
      "Epoch 23/100\n",
      "\u001b[1m179/179\u001b[0m \u001b[32m━━━━━━━━━━━━━━━━━━━━\u001b[0m\u001b[37m\u001b[0m \u001b[1m1s\u001b[0m 3ms/step - categorical_accuracy: 0.9805 - loss: 0.2383 - val_categorical_accuracy: 0.9958 - val_loss: 0.2099\n",
      "Epoch 24/100\n",
      "\u001b[1m179/179\u001b[0m \u001b[32m━━━━━━━━━━━━━━━━━━━━\u001b[0m\u001b[37m\u001b[0m \u001b[1m1s\u001b[0m 3ms/step - categorical_accuracy: 0.9934 - loss: 0.2168 - val_categorical_accuracy: 0.9916 - val_loss: 0.2130\n",
      "Epoch 25/100\n",
      "\u001b[1m179/179\u001b[0m \u001b[32m━━━━━━━━━━━━━━━━━━━━\u001b[0m\u001b[37m\u001b[0m \u001b[1m1s\u001b[0m 3ms/step - categorical_accuracy: 0.9843 - loss: 0.2257 - val_categorical_accuracy: 1.0000 - val_loss: 0.1904\n",
      "Epoch 26/100\n",
      "\u001b[1m179/179\u001b[0m \u001b[32m━━━━━━━━━━━━━━━━━━━━\u001b[0m\u001b[37m\u001b[0m \u001b[1m1s\u001b[0m 3ms/step - categorical_accuracy: 0.9935 - loss: 0.1917 - val_categorical_accuracy: 0.9958 - val_loss: 0.2077\n",
      "Epoch 27/100\n",
      "\u001b[1m179/179\u001b[0m \u001b[32m━━━━━━━━━━━━━━━━━━━━\u001b[0m\u001b[37m\u001b[0m \u001b[1m1s\u001b[0m 3ms/step - categorical_accuracy: 0.9899 - loss: 0.2009 - val_categorical_accuracy: 1.0000 - val_loss: 0.1827\n",
      "Epoch 28/100\n",
      "\u001b[1m179/179\u001b[0m \u001b[32m━━━━━━━━━━━━━━━━━━━━\u001b[0m\u001b[37m\u001b[0m \u001b[1m1s\u001b[0m 3ms/step - categorical_accuracy: 0.9964 - loss: 0.1857 - val_categorical_accuracy: 0.9958 - val_loss: 0.1816\n",
      "Epoch 29/100\n",
      "\u001b[1m179/179\u001b[0m \u001b[32m━━━━━━━━━━━━━━━━━━━━\u001b[0m\u001b[37m\u001b[0m \u001b[1m1s\u001b[0m 3ms/step - categorical_accuracy: 0.9902 - loss: 0.1989 - val_categorical_accuracy: 0.9916 - val_loss: 0.2006\n",
      "Epoch 30/100\n",
      "\u001b[1m179/179\u001b[0m \u001b[32m━━━━━━━━━━━━━━━━━━━━\u001b[0m\u001b[37m\u001b[0m \u001b[1m1s\u001b[0m 3ms/step - categorical_accuracy: 0.9775 - loss: 0.2023 - val_categorical_accuracy: 0.9916 - val_loss: 0.1714\n",
      "Epoch 31/100\n",
      "\u001b[1m179/179\u001b[0m \u001b[32m━━━━━━━━━━━━━━━━━━━━\u001b[0m\u001b[37m\u001b[0m \u001b[1m1s\u001b[0m 3ms/step - categorical_accuracy: 0.9920 - loss: 0.1774 - val_categorical_accuracy: 0.9958 - val_loss: 0.1703\n",
      "Epoch 32/100\n",
      "\u001b[1m179/179\u001b[0m \u001b[32m━━━━━━━━━━━━━━━━━━━━\u001b[0m\u001b[37m\u001b[0m \u001b[1m1s\u001b[0m 3ms/step - categorical_accuracy: 0.9921 - loss: 0.1862 - val_categorical_accuracy: 1.0000 - val_loss: 0.1645\n",
      "Epoch 33/100\n",
      "\u001b[1m179/179\u001b[0m \u001b[32m━━━━━━━━━━━━━━━━━━━━\u001b[0m\u001b[37m\u001b[0m \u001b[1m1s\u001b[0m 3ms/step - categorical_accuracy: 0.9843 - loss: 0.1751 - val_categorical_accuracy: 0.9958 - val_loss: 0.1738\n",
      "Epoch 34/100\n",
      "\u001b[1m179/179\u001b[0m \u001b[32m━━━━━━━━━━━━━━━━━━━━\u001b[0m\u001b[37m\u001b[0m \u001b[1m1s\u001b[0m 3ms/step - categorical_accuracy: 0.9794 - loss: 0.1863 - val_categorical_accuracy: 1.0000 - val_loss: 0.1638\n",
      "Epoch 35/100\n",
      "\u001b[1m179/179\u001b[0m \u001b[32m━━━━━━━━━━━━━━━━━━━━\u001b[0m\u001b[37m\u001b[0m \u001b[1m1s\u001b[0m 3ms/step - categorical_accuracy: 0.9807 - loss: 0.1896 - val_categorical_accuracy: 1.0000 - val_loss: 0.1547\n",
      "Epoch 36/100\n",
      "\u001b[1m179/179\u001b[0m \u001b[32m━━━━━━━━━━━━━━━━━━━━\u001b[0m\u001b[37m\u001b[0m \u001b[1m1s\u001b[0m 3ms/step - categorical_accuracy: 0.9982 - loss: 0.1542 - val_categorical_accuracy: 1.0000 - val_loss: 0.1586\n",
      "Epoch 37/100\n",
      "\u001b[1m179/179\u001b[0m \u001b[32m━━━━━━━━━━━━━━━━━━━━\u001b[0m\u001b[37m\u001b[0m \u001b[1m1s\u001b[0m 3ms/step - categorical_accuracy: 0.9929 - loss: 0.1702 - val_categorical_accuracy: 1.0000 - val_loss: 0.1488\n",
      "Epoch 38/100\n",
      "\u001b[1m179/179\u001b[0m \u001b[32m━━━━━━━━━━━━━━━━━━━━\u001b[0m\u001b[37m\u001b[0m \u001b[1m1s\u001b[0m 3ms/step - categorical_accuracy: 0.9849 - loss: 0.1752 - val_categorical_accuracy: 0.9958 - val_loss: 0.1474\n",
      "Epoch 39/100\n",
      "\u001b[1m179/179\u001b[0m \u001b[32m━━━━━━━━━━━━━━━━━━━━\u001b[0m\u001b[37m\u001b[0m \u001b[1m1s\u001b[0m 3ms/step - categorical_accuracy: 0.9912 - loss: 0.1579 - val_categorical_accuracy: 0.9833 - val_loss: 0.1808\n",
      "Epoch 40/100\n",
      "\u001b[1m179/179\u001b[0m \u001b[32m━━━━━━━━━━━━━━━━━━━━\u001b[0m\u001b[37m\u001b[0m \u001b[1m1s\u001b[0m 3ms/step - categorical_accuracy: 0.9901 - loss: 0.1654 - val_categorical_accuracy: 0.9958 - val_loss: 0.1674\n",
      "Epoch 41/100\n",
      "\u001b[1m179/179\u001b[0m \u001b[32m━━━━━━━━━━━━━━━━━━━━\u001b[0m\u001b[37m\u001b[0m \u001b[1m1s\u001b[0m 3ms/step - categorical_accuracy: 0.9978 - loss: 0.1413 - val_categorical_accuracy: 0.9958 - val_loss: 0.1400\n",
      "Epoch 42/100\n",
      "\u001b[1m179/179\u001b[0m \u001b[32m━━━━━━━━━━━━━━━━━━━━\u001b[0m\u001b[37m\u001b[0m \u001b[1m1s\u001b[0m 3ms/step - categorical_accuracy: 0.9904 - loss: 0.1601 - val_categorical_accuracy: 0.9958 - val_loss: 0.1471\n",
      "Epoch 43/100\n",
      "\u001b[1m179/179\u001b[0m \u001b[32m━━━━━━━━━━━━━━━━━━━━\u001b[0m\u001b[37m\u001b[0m \u001b[1m1s\u001b[0m 3ms/step - categorical_accuracy: 0.9894 - loss: 0.1542 - val_categorical_accuracy: 1.0000 - val_loss: 0.1382\n",
      "Epoch 44/100\n",
      "\u001b[1m179/179\u001b[0m \u001b[32m━━━━━━━━━━━━━━━━━━━━\u001b[0m\u001b[37m\u001b[0m \u001b[1m1s\u001b[0m 3ms/step - categorical_accuracy: 0.9965 - loss: 0.1351 - val_categorical_accuracy: 0.9874 - val_loss: 0.1542\n",
      "Epoch 45/100\n",
      "\u001b[1m179/179\u001b[0m \u001b[32m━━━━━━━━━━━━━━━━━━━━\u001b[0m\u001b[37m\u001b[0m \u001b[1m1s\u001b[0m 3ms/step - categorical_accuracy: 0.9876 - loss: 0.1627 - val_categorical_accuracy: 0.9916 - val_loss: 0.1392\n",
      "Epoch 46/100\n",
      "\u001b[1m179/179\u001b[0m \u001b[32m━━━━━━━━━━━━━━━━━━━━\u001b[0m\u001b[37m\u001b[0m \u001b[1m1s\u001b[0m 3ms/step - categorical_accuracy: 0.9891 - loss: 0.1552 - val_categorical_accuracy: 0.9916 - val_loss: 0.1510\n",
      "Epoch 47/100\n",
      "\u001b[1m179/179\u001b[0m \u001b[32m━━━━━━━━━━━━━━━━━━━━\u001b[0m\u001b[37m\u001b[0m \u001b[1m1s\u001b[0m 3ms/step - categorical_accuracy: 0.9920 - loss: 0.1430 - val_categorical_accuracy: 0.9833 - val_loss: 0.1692\n",
      "Epoch 48/100\n",
      "\u001b[1m179/179\u001b[0m \u001b[32m━━━━━━━━━━━━━━━━━━━━\u001b[0m\u001b[37m\u001b[0m \u001b[1m1s\u001b[0m 3ms/step - categorical_accuracy: 0.9964 - loss: 0.1405 - val_categorical_accuracy: 0.9916 - val_loss: 0.1526\n",
      "Epoch 49/100\n",
      "\u001b[1m179/179\u001b[0m \u001b[32m━━━━━━━━━━━━━━━━━━━━\u001b[0m\u001b[37m\u001b[0m \u001b[1m1s\u001b[0m 3ms/step - categorical_accuracy: 0.9967 - loss: 0.1283 - val_categorical_accuracy: 1.0000 - val_loss: 0.1248\n",
      "Epoch 50/100\n",
      "\u001b[1m179/179\u001b[0m \u001b[32m━━━━━━━━━━━━━━━━━━━━\u001b[0m\u001b[37m\u001b[0m \u001b[1m1s\u001b[0m 3ms/step - categorical_accuracy: 0.9958 - loss: 0.1274 - val_categorical_accuracy: 0.9916 - val_loss: 0.1490\n",
      "Epoch 51/100\n",
      "\u001b[1m179/179\u001b[0m \u001b[32m━━━━━━━━━━━━━━━━━━━━\u001b[0m\u001b[37m\u001b[0m \u001b[1m1s\u001b[0m 3ms/step - categorical_accuracy: 0.9894 - loss: 0.1451 - val_categorical_accuracy: 0.9874 - val_loss: 0.1452\n",
      "Epoch 52/100\n",
      "\u001b[1m179/179\u001b[0m \u001b[32m━━━━━━━━━━━━━━━━━━━━\u001b[0m\u001b[37m\u001b[0m \u001b[1m1s\u001b[0m 3ms/step - categorical_accuracy: 0.9988 - loss: 0.1293 - val_categorical_accuracy: 0.9749 - val_loss: 0.1905\n",
      "Epoch 53/100\n",
      "\u001b[1m179/179\u001b[0m \u001b[32m━━━━━━━━━━━━━━━━━━━━\u001b[0m\u001b[37m\u001b[0m \u001b[1m1s\u001b[0m 3ms/step - categorical_accuracy: 0.9845 - loss: 0.1636 - val_categorical_accuracy: 0.9916 - val_loss: 0.1341\n",
      "Epoch 54/100\n",
      "\u001b[1m179/179\u001b[0m \u001b[32m━━━━━━━━━━━━━━━━━━━━\u001b[0m\u001b[37m\u001b[0m \u001b[1m1s\u001b[0m 3ms/step - categorical_accuracy: 0.9888 - loss: 0.1331 - val_categorical_accuracy: 0.9958 - val_loss: 0.1228\n",
      "Epoch 55/100\n",
      "\u001b[1m179/179\u001b[0m \u001b[32m━━━━━━━━━━━━━━━━━━━━\u001b[0m\u001b[37m\u001b[0m \u001b[1m1s\u001b[0m 3ms/step - categorical_accuracy: 0.9979 - loss: 0.1255 - val_categorical_accuracy: 0.9833 - val_loss: 0.1632\n",
      "Epoch 56/100\n",
      "\u001b[1m179/179\u001b[0m \u001b[32m━━━━━━━━━━━━━━━━━━━━\u001b[0m\u001b[37m\u001b[0m \u001b[1m1s\u001b[0m 3ms/step - categorical_accuracy: 0.9779 - loss: 0.1598 - val_categorical_accuracy: 0.9916 - val_loss: 0.1327\n",
      "Epoch 57/100\n",
      "\u001b[1m179/179\u001b[0m \u001b[32m━━━━━━━━━━━━━━━━━━━━\u001b[0m\u001b[37m\u001b[0m \u001b[1m1s\u001b[0m 3ms/step - categorical_accuracy: 0.9832 - loss: 0.1479 - val_categorical_accuracy: 1.0000 - val_loss: 0.1265\n",
      "Epoch 58/100\n",
      "\u001b[1m179/179\u001b[0m \u001b[32m━━━━━━━━━━━━━━━━━━━━\u001b[0m\u001b[37m\u001b[0m \u001b[1m1s\u001b[0m 3ms/step - categorical_accuracy: 0.9876 - loss: 0.1367 - val_categorical_accuracy: 0.9958 - val_loss: 0.1213\n",
      "Epoch 59/100\n",
      "\u001b[1m179/179\u001b[0m \u001b[32m━━━━━━━━━━━━━━━━━━━━\u001b[0m\u001b[37m\u001b[0m \u001b[1m1s\u001b[0m 3ms/step - categorical_accuracy: 0.9927 - loss: 0.1211 - val_categorical_accuracy: 1.0000 - val_loss: 0.1198\n",
      "Epoch 60/100\n",
      "\u001b[1m179/179\u001b[0m \u001b[32m━━━━━━━━━━━━━━━━━━━━\u001b[0m\u001b[37m\u001b[0m \u001b[1m1s\u001b[0m 3ms/step - categorical_accuracy: 0.9977 - loss: 0.1195 - val_categorical_accuracy: 0.9916 - val_loss: 0.1321\n",
      "Epoch 61/100\n",
      "\u001b[1m179/179\u001b[0m \u001b[32m━━━━━━━━━━━━━━━━━━━━\u001b[0m\u001b[37m\u001b[0m \u001b[1m1s\u001b[0m 3ms/step - categorical_accuracy: 0.9803 - loss: 0.1385 - val_categorical_accuracy: 0.9958 - val_loss: 0.1293\n",
      "Epoch 62/100\n",
      "\u001b[1m179/179\u001b[0m \u001b[32m━━━━━━━━━━━━━━━━━━━━\u001b[0m\u001b[37m\u001b[0m \u001b[1m1s\u001b[0m 3ms/step - categorical_accuracy: 0.9844 - loss: 0.1505 - val_categorical_accuracy: 0.9958 - val_loss: 0.1182\n",
      "Epoch 63/100\n",
      "\u001b[1m179/179\u001b[0m \u001b[32m━━━━━━━━━━━━━━━━━━━━\u001b[0m\u001b[37m\u001b[0m \u001b[1m1s\u001b[0m 3ms/step - categorical_accuracy: 0.9971 - loss: 0.1198 - val_categorical_accuracy: 0.9958 - val_loss: 0.1306\n",
      "Epoch 64/100\n",
      "\u001b[1m179/179\u001b[0m \u001b[32m━━━━━━━━━━━━━━━━━━━━\u001b[0m\u001b[37m\u001b[0m \u001b[1m1s\u001b[0m 3ms/step - categorical_accuracy: 0.9952 - loss: 0.1147 - val_categorical_accuracy: 0.9958 - val_loss: 0.1348\n",
      "Epoch 65/100\n",
      "\u001b[1m179/179\u001b[0m \u001b[32m━━━━━━━━━━━━━━━━━━━━\u001b[0m\u001b[37m\u001b[0m \u001b[1m1s\u001b[0m 3ms/step - categorical_accuracy: 0.9949 - loss: 0.1312 - val_categorical_accuracy: 1.0000 - val_loss: 0.1109\n",
      "Epoch 66/100\n",
      "\u001b[1m179/179\u001b[0m \u001b[32m━━━━━━━━━━━━━━━━━━━━\u001b[0m\u001b[37m\u001b[0m \u001b[1m1s\u001b[0m 3ms/step - categorical_accuracy: 0.9912 - loss: 0.1203 - val_categorical_accuracy: 0.9958 - val_loss: 0.1299\n",
      "Epoch 67/100\n",
      "\u001b[1m179/179\u001b[0m \u001b[32m━━━━━━━━━━━━━━━━━━━━\u001b[0m\u001b[37m\u001b[0m \u001b[1m1s\u001b[0m 3ms/step - categorical_accuracy: 0.9979 - loss: 0.1155 - val_categorical_accuracy: 0.9874 - val_loss: 0.1493\n",
      "Epoch 68/100\n",
      "\u001b[1m179/179\u001b[0m \u001b[32m━━━━━━━━━━━━━━━━━━━━\u001b[0m\u001b[37m\u001b[0m \u001b[1m1s\u001b[0m 3ms/step - categorical_accuracy: 0.9900 - loss: 0.1390 - val_categorical_accuracy: 0.9916 - val_loss: 0.1175\n",
      "Epoch 69/100\n",
      "\u001b[1m179/179\u001b[0m \u001b[32m━━━━━━━━━━━━━━━━━━━━\u001b[0m\u001b[37m\u001b[0m \u001b[1m1s\u001b[0m 3ms/step - categorical_accuracy: 0.9904 - loss: 0.1234 - val_categorical_accuracy: 0.9958 - val_loss: 0.1105\n",
      "Epoch 70/100\n",
      "\u001b[1m179/179\u001b[0m \u001b[32m━━━━━━━━━━━━━━━━━━━━\u001b[0m\u001b[37m\u001b[0m \u001b[1m1s\u001b[0m 3ms/step - categorical_accuracy: 0.9946 - loss: 0.1245 - val_categorical_accuracy: 0.9958 - val_loss: 0.1177\n",
      "Epoch 71/100\n",
      "\u001b[1m179/179\u001b[0m \u001b[32m━━━━━━━━━━━━━━━━━━━━\u001b[0m\u001b[37m\u001b[0m \u001b[1m1s\u001b[0m 3ms/step - categorical_accuracy: 0.9964 - loss: 0.1133 - val_categorical_accuracy: 0.9958 - val_loss: 0.1149\n",
      "Epoch 72/100\n",
      "\u001b[1m179/179\u001b[0m \u001b[32m━━━━━━━━━━━━━━━━━━━━\u001b[0m\u001b[37m\u001b[0m \u001b[1m1s\u001b[0m 3ms/step - categorical_accuracy: 0.9932 - loss: 0.1160 - val_categorical_accuracy: 0.9958 - val_loss: 0.1155\n",
      "Epoch 73/100\n",
      "\u001b[1m179/179\u001b[0m \u001b[32m━━━━━━━━━━━━━━━━━━━━\u001b[0m\u001b[37m\u001b[0m \u001b[1m1s\u001b[0m 3ms/step - categorical_accuracy: 0.9889 - loss: 0.1230 - val_categorical_accuracy: 1.0000 - val_loss: 0.1127\n",
      "Epoch 74/100\n",
      "\u001b[1m179/179\u001b[0m \u001b[32m━━━━━━━━━━━━━━━━━━━━\u001b[0m\u001b[37m\u001b[0m \u001b[1m1s\u001b[0m 3ms/step - categorical_accuracy: 0.9912 - loss: 0.1159 - val_categorical_accuracy: 0.9958 - val_loss: 0.1080\n",
      "Epoch 75/100\n",
      "\u001b[1m179/179\u001b[0m \u001b[32m━━━━━━━━━━━━━━━━━━━━\u001b[0m\u001b[37m\u001b[0m \u001b[1m1s\u001b[0m 3ms/step - categorical_accuracy: 0.9955 - loss: 0.1147 - val_categorical_accuracy: 0.9958 - val_loss: 0.1111\n",
      "Epoch 76/100\n",
      "\u001b[1m179/179\u001b[0m \u001b[32m━━━━━━━━━━━━━━━━━━━━\u001b[0m\u001b[37m\u001b[0m \u001b[1m1s\u001b[0m 3ms/step - categorical_accuracy: 0.9932 - loss: 0.1217 - val_categorical_accuracy: 0.9958 - val_loss: 0.1119\n",
      "Epoch 77/100\n",
      "\u001b[1m179/179\u001b[0m \u001b[32m━━━━━━━━━━━━━━━━━━━━\u001b[0m\u001b[37m\u001b[0m \u001b[1m1s\u001b[0m 3ms/step - categorical_accuracy: 0.9912 - loss: 0.1290 - val_categorical_accuracy: 1.0000 - val_loss: 0.1004\n",
      "Epoch 78/100\n",
      "\u001b[1m179/179\u001b[0m \u001b[32m━━━━━━━━━━━━━━━━━━━━\u001b[0m\u001b[37m\u001b[0m \u001b[1m1s\u001b[0m 3ms/step - categorical_accuracy: 0.9953 - loss: 0.1140 - val_categorical_accuracy: 0.9958 - val_loss: 0.1088\n",
      "Epoch 79/100\n",
      "\u001b[1m179/179\u001b[0m \u001b[32m━━━━━━━━━━━━━━━━━━━━\u001b[0m\u001b[37m\u001b[0m \u001b[1m1s\u001b[0m 3ms/step - categorical_accuracy: 0.9864 - loss: 0.1171 - val_categorical_accuracy: 1.0000 - val_loss: 0.1087\n",
      "Epoch 80/100\n",
      "\u001b[1m179/179\u001b[0m \u001b[32m━━━━━━━━━━━━━━━━━━━━\u001b[0m\u001b[37m\u001b[0m \u001b[1m0s\u001b[0m 3ms/step - categorical_accuracy: 0.9972 - loss: 0.1030 - val_categorical_accuracy: 1.0000 - val_loss: 0.0984\n",
      "Epoch 81/100\n",
      "\u001b[1m179/179\u001b[0m \u001b[32m━━━━━━━━━━━━━━━━━━━━\u001b[0m\u001b[37m\u001b[0m \u001b[1m1s\u001b[0m 3ms/step - categorical_accuracy: 0.9982 - loss: 0.1052 - val_categorical_accuracy: 0.9958 - val_loss: 0.1076\n",
      "Epoch 82/100\n",
      "\u001b[1m179/179\u001b[0m \u001b[32m━━━━━━━━━━━━━━━━━━━━\u001b[0m\u001b[37m\u001b[0m \u001b[1m1s\u001b[0m 3ms/step - categorical_accuracy: 0.9893 - loss: 0.1198 - val_categorical_accuracy: 0.9958 - val_loss: 0.1208\n",
      "Epoch 83/100\n",
      "\u001b[1m179/179\u001b[0m \u001b[32m━━━━━━━━━━━━━━━━━━━━\u001b[0m\u001b[37m\u001b[0m \u001b[1m1s\u001b[0m 3ms/step - categorical_accuracy: 0.9964 - loss: 0.1089 - val_categorical_accuracy: 1.0000 - val_loss: 0.1049\n",
      "Epoch 84/100\n",
      "\u001b[1m179/179\u001b[0m \u001b[32m━━━━━━━━━━━━━━━━━━━━\u001b[0m\u001b[37m\u001b[0m \u001b[1m0s\u001b[0m 3ms/step - categorical_accuracy: 0.9960 - loss: 0.1044 - val_categorical_accuracy: 0.9874 - val_loss: 0.1207\n",
      "Epoch 85/100\n",
      "\u001b[1m179/179\u001b[0m \u001b[32m━━━━━━━━━━━━━━━━━━━━\u001b[0m\u001b[37m\u001b[0m \u001b[1m1s\u001b[0m 3ms/step - categorical_accuracy: 0.9935 - loss: 0.0994 - val_categorical_accuracy: 0.9958 - val_loss: 0.1042\n",
      "Epoch 86/100\n",
      "\u001b[1m179/179\u001b[0m \u001b[32m━━━━━━━━━━━━━━━━━━━━\u001b[0m\u001b[37m\u001b[0m \u001b[1m1s\u001b[0m 3ms/step - categorical_accuracy: 0.9831 - loss: 0.1236 - val_categorical_accuracy: 1.0000 - val_loss: 0.0951\n",
      "Epoch 87/100\n",
      "\u001b[1m179/179\u001b[0m \u001b[32m━━━━━━━━━━━━━━━━━━━━\u001b[0m\u001b[37m\u001b[0m \u001b[1m1s\u001b[0m 3ms/step - categorical_accuracy: 0.9924 - loss: 0.1117 - val_categorical_accuracy: 1.0000 - val_loss: 0.0951\n",
      "Epoch 88/100\n",
      "\u001b[1m179/179\u001b[0m \u001b[32m━━━━━━━━━━━━━━━━━━━━\u001b[0m\u001b[37m\u001b[0m \u001b[1m1s\u001b[0m 3ms/step - categorical_accuracy: 0.9959 - loss: 0.1001 - val_categorical_accuracy: 0.9958 - val_loss: 0.1036\n",
      "Epoch 89/100\n",
      "\u001b[1m179/179\u001b[0m \u001b[32m━━━━━━━━━━━━━━━━━━━━\u001b[0m\u001b[37m\u001b[0m \u001b[1m1s\u001b[0m 3ms/step - categorical_accuracy: 0.9995 - loss: 0.0936 - val_categorical_accuracy: 0.9582 - val_loss: 0.1737\n",
      "Epoch 90/100\n",
      "\u001b[1m179/179\u001b[0m \u001b[32m━━━━━━━━━━━━━━━━━━━━\u001b[0m\u001b[37m\u001b[0m \u001b[1m1s\u001b[0m 3ms/step - categorical_accuracy: 0.9870 - loss: 0.1201 - val_categorical_accuracy: 0.9874 - val_loss: 0.1372\n",
      "Epoch 91/100\n",
      "\u001b[1m179/179\u001b[0m \u001b[32m━━━━━━━━━━━━━━━━━━━━\u001b[0m\u001b[37m\u001b[0m \u001b[1m1s\u001b[0m 3ms/step - categorical_accuracy: 0.9910 - loss: 0.1166 - val_categorical_accuracy: 0.9707 - val_loss: 0.1493\n",
      "Epoch 92/100\n",
      "\u001b[1m179/179\u001b[0m \u001b[32m━━━━━━━━━━━━━━━━━━━━\u001b[0m\u001b[37m\u001b[0m \u001b[1m1s\u001b[0m 3ms/step - categorical_accuracy: 0.9957 - loss: 0.1037 - val_categorical_accuracy: 1.0000 - val_loss: 0.0918\n",
      "Epoch 93/100\n",
      "\u001b[1m179/179\u001b[0m \u001b[32m━━━━━━━━━━━━━━━━━━━━\u001b[0m\u001b[37m\u001b[0m \u001b[1m1s\u001b[0m 3ms/step - categorical_accuracy: 0.9952 - loss: 0.0973 - val_categorical_accuracy: 1.0000 - val_loss: 0.0925\n",
      "Epoch 94/100\n",
      "\u001b[1m179/179\u001b[0m \u001b[32m━━━━━━━━━━━━━━━━━━━━\u001b[0m\u001b[37m\u001b[0m \u001b[1m1s\u001b[0m 3ms/step - categorical_accuracy: 0.9879 - loss: 0.1077 - val_categorical_accuracy: 0.9791 - val_loss: 0.1286\n",
      "Epoch 95/100\n",
      "\u001b[1m179/179\u001b[0m \u001b[32m━━━━━━━━━━━━━━━━━━━━\u001b[0m\u001b[37m\u001b[0m \u001b[1m1s\u001b[0m 3ms/step - categorical_accuracy: 0.9730 - loss: 0.1547 - val_categorical_accuracy: 1.0000 - val_loss: 0.0941\n",
      "Epoch 96/100\n",
      "\u001b[1m179/179\u001b[0m \u001b[32m━━━━━━━━━━━━━━━━━━━━\u001b[0m\u001b[37m\u001b[0m \u001b[1m1s\u001b[0m 3ms/step - categorical_accuracy: 0.9971 - loss: 0.0899 - val_categorical_accuracy: 1.0000 - val_loss: 0.0891\n",
      "Epoch 97/100\n",
      "\u001b[1m179/179\u001b[0m \u001b[32m━━━━━━━━━━━━━━━━━━━━\u001b[0m\u001b[37m\u001b[0m \u001b[1m1s\u001b[0m 3ms/step - categorical_accuracy: 0.9932 - loss: 0.0941 - val_categorical_accuracy: 0.9958 - val_loss: 0.1074\n",
      "Epoch 98/100\n",
      "\u001b[1m179/179\u001b[0m \u001b[32m━━━━━━━━━━━━━━━━━━━━\u001b[0m\u001b[37m\u001b[0m \u001b[1m1s\u001b[0m 3ms/step - categorical_accuracy: 0.9942 - loss: 0.1014 - val_categorical_accuracy: 0.9958 - val_loss: 0.1057\n",
      "Epoch 99/100\n",
      "\u001b[1m179/179\u001b[0m \u001b[32m━━━━━━━━━━━━━━━━━━━━\u001b[0m\u001b[37m\u001b[0m \u001b[1m1s\u001b[0m 3ms/step - categorical_accuracy: 0.9951 - loss: 0.1095 - val_categorical_accuracy: 0.9707 - val_loss: 0.1654\n",
      "Epoch 100/100\n",
      "\u001b[1m179/179\u001b[0m \u001b[32m━━━━━━━━━━━━━━━━━━━━\u001b[0m\u001b[37m\u001b[0m \u001b[1m1s\u001b[0m 3ms/step - categorical_accuracy: 0.9941 - loss: 0.1151 - val_categorical_accuracy: 1.0000 - val_loss: 0.0907\n"
     ]
    },
    {
     "data": {
      "image/png": "[encoded data removed]",
      "text/plain": [
       "<Figure size 640x480 with 1 Axes>"
      ]
     },
     "metadata": {},
     "output_type": "display_data"
    },
    {
     "data": {
      "image/png": "[encoded data removed]",
      "text/plain": [
       "<Figure size 640x480 with 1 Axes>"
      ]
     },
     "metadata": {},
     "output_type": "display_data"
    }
   ],
   "source": [
    "from tensorflow.keras.optimizers import Adam\n",
    "num_classes = y_train_onehot.shape[1]  # Número de clases\n",
    "\n",
    "model = tf.keras.models.Sequential([\n",
    "    tf.keras.layers.InputLayer(input_shape=(84,)),\n",
    "    tf.keras.layers.Dense(16, activation='relu', kernel_regularizer=tf.keras.regularizers.l2(0.01)),\n",
    "    # tf.keras.layers.Dropout(0.5),  # Dropout con 50% de probabilidad\n",
    "    tf.keras.layers.Dense(32, activation='relu', kernel_regularizer=tf.keras.regularizers.l2(0.01)),  # Regularización L2\n",
    "    # tf.keras.layers.Dropout(0.5),  # Otro Dropout con 50% de probabilidad\n",
    "    # tf.keras.layers.Dense(32, activation='relu', kernel_regularizer=tf.keras.regularizers.l2(0.01)),  # Regularización L2\n",
    "    # tf.keras.layers.Dropout(0.5),  # Otro Dropout con 50% de probabilidad\n",
    "    # tf.keras.layers.Dense(16, activation='relu', kernel_regularizer=tf.keras.regularizers.l2(0.01)),  # Regularización L2\n",
    "    # tf.keras.layers.Dropout(0.5),  # Otro Dropout con 50% de probabilidad\n",
    "    tf.keras.layers.Dense(num_classes, activation='softmax')\n",
    "])\n",
    "# Compilar el modelo\n",
    "optimizer = Adam(learning_rate=0.001)\n",
    "model.compile(optimizer=optimizer,\n",
    "              loss='categorical_crossentropy',\n",
    "              metrics=['categorical_accuracy'])\n",
    "\n",
    "early_stopping = tf.keras.callbacks.EarlyStopping(monitor='val_loss', patience=10, restore_best_weights=True)\n",
    "# Entrenar el modelo\n",
    "history = model.fit(X_train, y_train_onehot,\n",
    "                    epochs=100,\n",
    "                    batch_size=4,\n",
    "                    validation_data=(X_dev, y_dev_onehot),\n",
    "                    callbacks=[early_stopping])\n",
    "\n",
    "# Opcional: Graficar la pérdida y la precisión durante el entrenamiento\n",
    "plt.plot(history.history['loss'], label='loss')\n",
    "plt.plot(history.history['val_loss'], label='validation loss')\n",
    "plt.xlabel('Épocas')\n",
    "plt.ylabel('Pérdida')\n",
    "plt.legend()\n",
    "plt.show()\n",
    "\n",
    "plt.plot(history.history['categorical_accuracy'], label='accuracy') \n",
    "plt.plot(history.history['val_categorical_accuracy'], label='validation accuracy')\n",
    "plt.xlabel('Épocas')\n",
    "plt.ylabel('Precisión')\n",
    "plt.legend()\n",
    "plt.show()"
   ]
  },
  {
   "cell_type": "code",
   "execution_count": 49,
   "metadata": {},
   "outputs": [
    {
     "name": "stdout",
     "output_type": "stream",
     "text": [
      "******************************************************************************************************************************************************\n",
      "\u001b[1m8/8\u001b[0m \u001b[32m━━━━━━━━━━━━━━━━━━━━\u001b[0m\u001b[37m\u001b[0m \u001b[1m0s\u001b[0m 5ms/step - categorical_accuracy: 0.9908 - loss: 0.1036 \n",
      "Acuraccy on training data: 0.99\n",
      "Loss on training data: 0.10\n"
     ]
    }
   ],
   "source": [
    "## Evaluate the model\n",
    "print('***'*50)\n",
    "\n",
    "test_loss, test_acc = model.evaluate(X_test, y_test_onehot)\n",
    "print(f'Acuraccy on training data: {test_acc:.2f}')\n",
    "print(f'Loss on training data: {test_loss:.2f}')\n"
   ]
  },
  {
   "cell_type": "code",
   "execution_count": null,
   "metadata": {},
   "outputs": [
    {
     "name": "stderr",
     "output_type": "stream",
     "text": [
      "WARNING:absl:You are saving your model as an HDF5 file via `model.save()` or `keras.saving.save_model(model)`. This file format is considered legacy. We recommend using instead the native Keras format, e.g. `model.save('my_model.keras')` or `keras.saving.save_model(model, 'my_model.keras')`. \n"
     ]
    }
   ],
   "source": [
    "#* Save the model\n",
    "path_save = '..\\\\..\\\\models\\\\Trained\\\\signs\\\\GERARDO_MODEL.h5'\n",
    "model.save(path_save)"
   ]
  },
  {
   "cell_type": "markdown",
   "metadata": {},
   "source": [
    "### Summary\n"
   ]
  },
  {
   "cell_type": "code",
   "execution_count": 51,
   "metadata": {},
   "outputs": [
    {
     "name": "stderr",
     "output_type": "stream",
     "text": [
      "WARNING:absl:Compiled the loaded model, but the compiled metrics have yet to be built. `model.compile_metrics` will be empty until you train or evaluate the model.\n"
     ]
    },
    {
     "data": {
      "text/html": [
       "<pre style=\"white-space:pre;overflow-x:auto;line-height:normal;font-family:Menlo,'DejaVu Sans Mono',consolas,'Courier New',monospace\"><span style=\"font-weight: bold\">Model: \"sequential\"</span>\n",
       "</pre>\n"
      ],
      "text/plain": [
       "\u001b[1mModel: \"sequential\"\u001b[0m\n"
      ]
     },
     "metadata": {},
     "output_type": "display_data"
    },
    {
     "data": {
      "text/html": [
       "<pre style=\"white-space:pre;overflow-x:auto;line-height:normal;font-family:Menlo,'DejaVu Sans Mono',consolas,'Courier New',monospace\">┏━━━━━━━━━━━━━━━━━━━━━━━━━━━━━━━━━┳━━━━━━━━━━━━━━━━━━━━━━━━┳━━━━━━━━━━━━━━━┓\n",
       "┃<span style=\"font-weight: bold\"> Layer (type)                    </span>┃<span style=\"font-weight: bold\"> Output Shape           </span>┃<span style=\"font-weight: bold\">       Param # </span>┃\n",
       "┡━━━━━━━━━━━━━━━━━━━━━━━━━━━━━━━━━╇━━━━━━━━━━━━━━━━━━━━━━━━╇━━━━━━━━━━━━━━━┩\n",
       "│ dense (<span style=\"color: #0087ff; text-decoration-color: #0087ff\">Dense</span>)                   │ (<span style=\"color: #00d7ff; text-decoration-color: #00d7ff\">None</span>, <span style=\"color: #00af00; text-decoration-color: #00af00\">16</span>)             │         <span style=\"color: #00af00; text-decoration-color: #00af00\">1,360</span> │\n",
       "├─────────────────────────────────┼────────────────────────┼───────────────┤\n",
       "│ dense_1 (<span style=\"color: #0087ff; text-decoration-color: #0087ff\">Dense</span>)                 │ (<span style=\"color: #00d7ff; text-decoration-color: #00d7ff\">None</span>, <span style=\"color: #00af00; text-decoration-color: #00af00\">32</span>)             │           <span style=\"color: #00af00; text-decoration-color: #00af00\">544</span> │\n",
       "├─────────────────────────────────┼────────────────────────┼───────────────┤\n",
       "│ dense_2 (<span style=\"color: #0087ff; text-decoration-color: #0087ff\">Dense</span>)                 │ (<span style=\"color: #00d7ff; text-decoration-color: #00d7ff\">None</span>, <span style=\"color: #00af00; text-decoration-color: #00af00\">6</span>)              │           <span style=\"color: #00af00; text-decoration-color: #00af00\">198</span> │\n",
       "└─────────────────────────────────┴────────────────────────┴───────────────┘\n",
       "</pre>\n"
      ],
      "text/plain": [
       "┏━━━━━━━━━━━━━━━━━━━━━━━━━━━━━━━━━┳━━━━━━━━━━━━━━━━━━━━━━━━┳━━━━━━━━━━━━━━━┓\n",
       "┃\u001b[1m \u001b[0m\u001b[1mLayer (type)                   \u001b[0m\u001b[1m \u001b[0m┃\u001b[1m \u001b[0m\u001b[1mOutput Shape          \u001b[0m\u001b[1m \u001b[0m┃\u001b[1m \u001b[0m\u001b[1m      Param #\u001b[0m\u001b[1m \u001b[0m┃\n",
       "┡━━━━━━━━━━━━━━━━━━━━━━━━━━━━━━━━━╇━━━━━━━━━━━━━━━━━━━━━━━━╇━━━━━━━━━━━━━━━┩\n",
       "│ dense (\u001b[38;5;33mDense\u001b[0m)                   │ (\u001b[38;5;45mNone\u001b[0m, \u001b[38;5;34m16\u001b[0m)             │         \u001b[38;5;34m1,360\u001b[0m │\n",
       "├─────────────────────────────────┼────────────────────────┼───────────────┤\n",
       "│ dense_1 (\u001b[38;5;33mDense\u001b[0m)                 │ (\u001b[38;5;45mNone\u001b[0m, \u001b[38;5;34m32\u001b[0m)             │           \u001b[38;5;34m544\u001b[0m │\n",
       "├─────────────────────────────────┼────────────────────────┼───────────────┤\n",
       "│ dense_2 (\u001b[38;5;33mDense\u001b[0m)                 │ (\u001b[38;5;45mNone\u001b[0m, \u001b[38;5;34m6\u001b[0m)              │           \u001b[38;5;34m198\u001b[0m │\n",
       "└─────────────────────────────────┴────────────────────────┴───────────────┘\n"
      ]
     },
     "metadata": {},
     "output_type": "display_data"
    },
    {
     "data": {
      "text/html": [
       "<pre style=\"white-space:pre;overflow-x:auto;line-height:normal;font-family:Menlo,'DejaVu Sans Mono',consolas,'Courier New',monospace\"><span style=\"font-weight: bold\"> Total params: </span><span style=\"color: #00af00; text-decoration-color: #00af00\">2,104</span> (8.22 KB)\n",
       "</pre>\n"
      ],
      "text/plain": [
       "\u001b[1m Total params: \u001b[0m\u001b[38;5;34m2,104\u001b[0m (8.22 KB)\n"
      ]
     },
     "metadata": {},
     "output_type": "display_data"
    },
    {
     "data": {
      "text/html": [
       "<pre style=\"white-space:pre;overflow-x:auto;line-height:normal;font-family:Menlo,'DejaVu Sans Mono',consolas,'Courier New',monospace\"><span style=\"font-weight: bold\"> Trainable params: </span><span style=\"color: #00af00; text-decoration-color: #00af00\">2,102</span> (8.21 KB)\n",
       "</pre>\n"
      ],
      "text/plain": [
       "\u001b[1m Trainable params: \u001b[0m\u001b[38;5;34m2,102\u001b[0m (8.21 KB)\n"
      ]
     },
     "metadata": {},
     "output_type": "display_data"
    },
    {
     "data": {
      "text/html": [
       "<pre style=\"white-space:pre;overflow-x:auto;line-height:normal;font-family:Menlo,'DejaVu Sans Mono',consolas,'Courier New',monospace\"><span style=\"font-weight: bold\"> Non-trainable params: </span><span style=\"color: #00af00; text-decoration-color: #00af00\">0</span> (0.00 B)\n",
       "</pre>\n"
      ],
      "text/plain": [
       "\u001b[1m Non-trainable params: \u001b[0m\u001b[38;5;34m0\u001b[0m (0.00 B)\n"
      ]
     },
     "metadata": {},
     "output_type": "display_data"
    },
    {
     "data": {
      "text/html": [
       "<pre style=\"white-space:pre;overflow-x:auto;line-height:normal;font-family:Menlo,'DejaVu Sans Mono',consolas,'Courier New',monospace\"><span style=\"font-weight: bold\"> Optimizer params: </span><span style=\"color: #00af00; text-decoration-color: #00af00\">2</span> (12.00 B)\n",
       "</pre>\n"
      ],
      "text/plain": [
       "\u001b[1m Optimizer params: \u001b[0m\u001b[38;5;34m2\u001b[0m (12.00 B)\n"
      ]
     },
     "metadata": {},
     "output_type": "display_data"
    }
   ],
   "source": [
    "model = tf.keras.models.load_model(path_save)\n",
    "model.summary()"
   ]
  },
  {
   "cell_type": "code",
   "execution_count": null,
   "metadata": {},
   "outputs": [
    {
     "name": "stdout",
     "output_type": "stream",
     "text": [
      "(1, 84)\n"
     ]
    },
    {
     "name": "stdout",
     "output_type": "stream",
     "text": [
      "\u001b[1m1/1\u001b[0m \u001b[32m━━━━━━━━━━━━━━━━━━━━\u001b[0m\u001b[37m\u001b[0m \u001b[1m0s\u001b[0m 83ms/step\n",
      "Predicción: D\n"
     ]
    }
   ],
   "source": [
    "# Supose we have a new data\n",
    "dict_labels = {i: letter for i, letter in enumerate(label_encoder.classes_)}\n",
    "new_data = data_h5[1][:, 119 ]  # Supongamos que solo tenemos un dato nuevo\n",
    "new_data = new_data.reshape(1, -1)  # Convertirlo a un arreglo 2D\n",
    "print(new_data.shape)\n",
    "# normalize the new data\n",
    "new_data_normalized = scaler.transform(new_data)  # Normalización Z-score\n",
    "\n",
    "# Make predictions\n",
    "predictions = model.predict(new_data_normalized)\n",
    "\n",
    "# Get the predicted class\n",
    "predicted_class = np.argmax(predictions, axis=1)\n",
    "\n",
    "print(f'Predicción: {dict_labels[predicted_class[0]]}')"
   ]
  },
  {
   "cell_type": "markdown",
   "metadata": {},
   "source": [
    "#### SAVE the values of the normalization"
   ]
  },
  {
   "cell_type": "code",
   "execution_count": null,
   "metadata": {},
   "outputs": [
    {
     "name": "stdout",
     "output_type": "stream",
     "text": [
      "Escalador ajustado y guardado en 'scaler.pkl'\n"
     ]
    }
   ],
   "source": [
    "from sklearn.preprocessing import StandardScaler\n",
    "import joblib\n",
    "import numpy as np\n",
    "\n",
    "\n",
    "# Save the scaler\n",
    "joblib.dump(scaler, '..\\\\..\\\\models\\\\Trained\\\\signs\\\\GERARDO_scaler.pkl')\n"
   ]
  }
 ],
 "metadata": {
  "kernelspec": {
   "display_name": "env",
   "language": "python",
   "name": "python3"
  },
  "language_info": {
   "codemirror_mode": {
    "name": "ipython",
    "version": 3
   },
   "file_extension": ".py",
   "mimetype": "text/x-python",
   "name": "python",
   "nbconvert_exporter": "python",
   "pygments_lexer": "ipython3",
   "version": "3.11.5"
  }
 },
 "nbformat": 4,
 "nbformat_minor": 2
}
