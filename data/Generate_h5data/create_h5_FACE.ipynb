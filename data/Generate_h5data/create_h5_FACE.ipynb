{
 "cells": [
  {
   "cell_type": "markdown",
   "metadata": {},
   "source": [
    "### CREATE .h5 data"
   ]
  },
  {
   "cell_type": "code",
   "execution_count": 1,
   "metadata": {},
   "outputs": [],
   "source": [
    "import h5py as h5 ###* A library to read and write hdf5 files\n",
    "import numpy as np\n",
    "import pandas as pd\n",
    "import matplotlib.pyplot as plt\n",
    "import os"
   ]
  },
  {
   "cell_type": "code",
   "execution_count": 2,
   "metadata": {},
   "outputs": [
    {
     "data": {
      "text/plain": [
       "['Enojo', 'Feliz', 'Neutral', 'Sorpresa', 'Triste']"
      ]
     },
     "execution_count": 2,
     "metadata": {},
     "output_type": "execute_result"
    }
   ],
   "source": [
    "base_path = 'C:\\\\Users\\\\hgera\\\\OneDrive\\\\Escritorio\\\\PY4E\\\\Keet\\\\Datasets\\\\Caras_2'\n",
    "faces = os.listdir(base_path) ###* List of the letters to write in hdf5\n",
    "faces"
   ]
  },
  {
   "cell_type": "code",
   "execution_count": 3,
   "metadata": {},
   "outputs": [],
   "source": [
    "data = {}   ###* Dictionary to store the data of the letters\n",
    "for face in faces:\n",
    "    face_path = os.path.join(base_path, f'{face}') ###* Path to the folder of the letter\n",
    "    csv_files = [f for f in os.listdir(face_path) if f.endswith('.csv')] ###* List of the csv files in the folder\n",
    "    # print(csv_files) \n",
    "    positions = [] ###* List to store the positions of the letter\n",
    "    for csv_file in csv_files: ###* Iterate over the csv files\n",
    "        file_path = os.path.join(face_path, csv_file) ###* Path to the csv file\n",
    "        df = pd.read_csv(file_path, header=0 ) ###* Read the csv file\n",
    "        df = df.drop(columns=['cz'])\n",
    "        positions.append(df.values.reshape(df.values.shape[0]*df.values.shape[1],1)) ###* Append the values of the csv file to the list\n",
    "    positions = np.concatenate(positions, axis=1) ###* Concatenate the values of the cs\n",
    "    data[face] = positions ###* Concatenate the positions of the letter"
   ]
  },
  {
   "cell_type": "code",
   "execution_count": 4,
   "metadata": {},
   "outputs": [
    {
     "name": "stdout",
     "output_type": "stream",
     "text": [
      "Enojo: (936, 1309)\n",
      "Feliz: (936, 3722)\n",
      "Neutral: (936, 4018)\n",
      "Sorpresa: (936, 1233)\n",
      "Triste: (936, 3912)\n"
     ]
    }
   ],
   "source": [
    "for face in faces:\n",
    "    print(f'{face}: {data[face].shape}')    \n"
   ]
  },
  {
   "cell_type": "code",
   "execution_count": 5,
   "metadata": {},
   "outputs": [],
   "source": [
    "# del faces[0] ###* Delete the face 'Disgusto'\n",
    "# del faces[0] ###* Delete the face 'Enojo'\n",
    "# del faces[1] ###* Delete the face 'Miedo'\n",
    "# del data['Disgusto'] ###* Delete the face 'Disgusto'\n",
    "# del data['Enojo'] ###* Delete the face 'Enojo'"
   ]
  },
  {
   "cell_type": "code",
   "execution_count": 6,
   "metadata": {},
   "outputs": [
    {
     "data": {
      "text/plain": [
       "['Enojo', 'Feliz', 'Neutral', 'Sorpresa', 'Triste']"
      ]
     },
     "execution_count": 6,
     "metadata": {},
     "output_type": "execute_result"
    }
   ],
   "source": [
    "faces"
   ]
  },
  {
   "cell_type": "code",
   "execution_count": 7,
   "metadata": {},
   "outputs": [
    {
     "name": "stdout",
     "output_type": "stream",
     "text": [
      "Enojo: (936, 1233)\n",
      "Feliz: (936, 1233)\n",
      "Neutral: (936, 1233)\n",
      "Sorpresa: (936, 1233)\n",
      "Triste: (936, 1233)\n"
     ]
    }
   ],
   "source": [
    "for face in faces:\n",
    "    data[face] = data[face][:,:1233] ###* Take the first  values of the faces\n",
    "for face in faces:\n",
    "    print(f'{face}: {data[face].shape}')    \n"
   ]
  },
  {
   "cell_type": "markdown",
   "metadata": {},
   "source": [
    "### FIRST dimension are the positions the second is the number of examples\n",
    "### face.shape -> (nx,m) nx are the caracteristics and m is the number of examples"
   ]
  },
  {
   "cell_type": "markdown",
   "metadata": {},
   "source": [
    "### ALL mi positions for letters are flatenned"
   ]
  },
  {
   "cell_type": "code",
   "execution_count": 8,
   "metadata": {},
   "outputs": [
    {
     "data": {
      "text/html": [
       "<div>\n",
       "<style scoped>\n",
       "    .dataframe tbody tr th:only-of-type {\n",
       "        vertical-align: middle;\n",
       "    }\n",
       "\n",
       "    .dataframe tbody tr th {\n",
       "        vertical-align: top;\n",
       "    }\n",
       "\n",
       "    .dataframe thead th {\n",
       "        text-align: right;\n",
       "    }\n",
       "</style>\n",
       "<table border=\"1\" class=\"dataframe\">\n",
       "  <thead>\n",
       "    <tr style=\"text-align: right;\">\n",
       "      <th></th>\n",
       "      <th>cx</th>\n",
       "      <th>cy</th>\n",
       "    </tr>\n",
       "  </thead>\n",
       "  <tbody>\n",
       "    <tr>\n",
       "      <th>0</th>\n",
       "      <td>0.507080</td>\n",
       "      <td>0.687547</td>\n",
       "    </tr>\n",
       "    <tr>\n",
       "      <th>1</th>\n",
       "      <td>0.506507</td>\n",
       "      <td>0.585617</td>\n",
       "    </tr>\n",
       "    <tr>\n",
       "      <th>2</th>\n",
       "      <td>0.505673</td>\n",
       "      <td>0.623980</td>\n",
       "    </tr>\n",
       "    <tr>\n",
       "      <th>3</th>\n",
       "      <td>0.481656</td>\n",
       "      <td>0.494654</td>\n",
       "    </tr>\n",
       "    <tr>\n",
       "      <th>4</th>\n",
       "      <td>0.506479</td>\n",
       "      <td>0.554580</td>\n",
       "    </tr>\n",
       "    <tr>\n",
       "      <th>...</th>\n",
       "      <td>...</td>\n",
       "      <td>...</td>\n",
       "    </tr>\n",
       "    <tr>\n",
       "      <th>463</th>\n",
       "      <td>0.574601</td>\n",
       "      <td>0.445178</td>\n",
       "    </tr>\n",
       "    <tr>\n",
       "      <th>464</th>\n",
       "      <td>0.558181</td>\n",
       "      <td>0.448533</td>\n",
       "    </tr>\n",
       "    <tr>\n",
       "      <th>465</th>\n",
       "      <td>0.549747</td>\n",
       "      <td>0.449653</td>\n",
       "    </tr>\n",
       "    <tr>\n",
       "      <th>466</th>\n",
       "      <td>0.705346</td>\n",
       "      <td>0.438701</td>\n",
       "    </tr>\n",
       "    <tr>\n",
       "      <th>467</th>\n",
       "      <td>0.719566</td>\n",
       "      <td>0.431056</td>\n",
       "    </tr>\n",
       "  </tbody>\n",
       "</table>\n",
       "<p>468 rows × 2 columns</p>\n",
       "</div>"
      ],
      "text/plain": [
       "           cx        cy\n",
       "0    0.507080  0.687547\n",
       "1    0.506507  0.585617\n",
       "2    0.505673  0.623980\n",
       "3    0.481656  0.494654\n",
       "4    0.506479  0.554580\n",
       "..        ...       ...\n",
       "463  0.574601  0.445178\n",
       "464  0.558181  0.448533\n",
       "465  0.549747  0.449653\n",
       "466  0.705346  0.438701\n",
       "467  0.719566  0.431056\n",
       "\n",
       "[468 rows x 2 columns]"
      ]
     },
     "execution_count": 8,
     "metadata": {},
     "output_type": "execute_result"
    }
   ],
   "source": [
    "df"
   ]
  },
  {
   "cell_type": "markdown",
   "metadata": {},
   "source": [
    "### This make sense because we have m csv files, and for each csv we have a 468X3 data"
   ]
  },
  {
   "cell_type": "markdown",
   "metadata": {},
   "source": [
    "#### Let's to write a.h5 file to store all the data"
   ]
  },
  {
   "cell_type": "code",
   "execution_count": 9,
   "metadata": {},
   "outputs": [],
   "source": [
    "with h5.File('C:\\\\Users\\\\hgera\\\\OneDrive\\\\Escritorio\\\\PY4E\\\\Keet\\\\Codes\\\\NN_FACES\\\\positions_FACES.h5', 'w') as h5file:\n",
    "    for face, positions in data.items():\n",
    "        grp = h5file.create_group(face)\n",
    "        grp.create_dataset('positions', data=positions)"
   ]
  },
  {
   "cell_type": "markdown",
   "metadata": {},
   "source": [
    "### Let's to visualizase our dataset of 5 emotions"
   ]
  },
  {
   "cell_type": "code",
   "execution_count": 10,
   "metadata": {},
   "outputs": [],
   "source": [
    "dataset = h5.File('C:\\\\Users\\\\hgera\\\\OneDrive\\\\Escritorio\\\\PY4E\\\\Keet\\\\Codes\\\\NN_FACES\\\\positions_FACES.h5', 'r')\n",
    "# type(dataset)"
   ]
  },
  {
   "cell_type": "code",
   "execution_count": 11,
   "metadata": {},
   "outputs": [
    {
     "name": "stdout",
     "output_type": "stream",
     "text": [
      "(936, 1233)\n",
      "(936, 1233)\n",
      "(936, 1233)\n",
      "(936, 1233)\n",
      "(936, 1233)\n"
     ]
    }
   ],
   "source": [
    "with h5.File('C:\\\\Users\\\\hgera\\\\OneDrive\\\\Escritorio\\\\PY4E\\\\Keet\\\\Codes\\\\NN_FACES\\\\positions_FACES.h5', 'r') as h5file:\n",
    "    data = []\n",
    "    labels = []\n",
    "    for letter in h5file.keys():\n",
    "        positions = h5file[letter]['positions'][:]\n",
    "        data.append(positions)\n",
    "        print(positions.shape)\n",
    "        labels.extend([letter]  )\n",
    "\n",
    "labels = np.array(labels)\n",
    "labels = np.reshape(labels, (labels.shape[0], 1))\n"
   ]
  },
  {
   "cell_type": "code",
   "execution_count": 12,
   "metadata": {},
   "outputs": [
    {
     "data": {
      "text/plain": [
       "array([['Enojo'],\n",
       "       ['Feliz'],\n",
       "       ['Neutral'],\n",
       "       ['Sorpresa'],\n",
       "       ['Triste']], dtype='<U8')"
      ]
     },
     "execution_count": 12,
     "metadata": {},
     "output_type": "execute_result"
    }
   ],
   "source": [
    "labels"
   ]
  },
  {
   "cell_type": "markdown",
   "metadata": {},
   "source": []
  }
 ],
 "metadata": {
  "kernelspec": {
   "display_name": "Python 3",
   "language": "python",
   "name": "python3"
  },
  "language_info": {
   "codemirror_mode": {
    "name": "ipython",
    "version": 3
   },
   "file_extension": ".py",
   "mimetype": "text/x-python",
   "name": "python",
   "nbconvert_exporter": "python",
   "pygments_lexer": "ipython3",
   "version": "3.11.5"
  }
 },
 "nbformat": 4,
 "nbformat_minor": 2
}
