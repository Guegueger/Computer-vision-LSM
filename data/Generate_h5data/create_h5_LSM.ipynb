{
 "cells": [
  {
   "cell_type": "markdown",
   "metadata": {},
   "source": [
    "### CREATE .h5 data"
   ]
  },
  {
   "cell_type": "code",
   "execution_count": 1,
   "metadata": {},
   "outputs": [],
   "source": [
    "import h5py as h5 ###* A library to read and write hdf5 files\n",
    "import numpy as np\n",
    "import pandas as pd\n",
    "import matplotlib.pyplot as plt\n",
    "import os"
   ]
  },
  {
   "cell_type": "code",
   "execution_count": 2,
   "metadata": {},
   "outputs": [],
   "source": [
    "base_path = '..\\\\dataset\\\\ESTATICAS'\n",
    "\n",
    "letters = os.listdir(base_path) ###* List of the letters to write in hdf5\n",
    "data = {}   ###* Dictionary to store the data of the letters\n",
    "for letter in letters:\n",
    "    letter_path = os.path.join(base_path, f'{letter}') ###* Path to the folder of the letter\n",
    "    csv_files = [f for f in os.listdir(letter_path) if f.endswith('.csv')] ###* List of the csv files in the folder\n",
    "    # print(csv_files) \n",
    "    positions = [] ###* List to store the positions of the letter\n",
    "    for csv_file in csv_files: ###* Iterate over the csv files\n",
    "        file_path = os.path.join(letter_path, csv_file) ###* Path to the csv file\n",
    "        df = pd.read_csv(file_path, header=0 ) ###* Read the csv file\n",
    "        positions.append(df.values.reshape(df.values.shape[0]*df.values.shape[1],1)) ###* Append the values of the csv file to the list\n",
    "    positions = np.concatenate(positions, axis=1) ###* Concatenate the values of the cs\n",
    "    data[letter] = positions ###* Concatenate the positions of the letter"
   ]
  },
  {
   "cell_type": "code",
   "execution_count": 3,
   "metadata": {},
   "outputs": [
    {
     "name": "stdout",
     "output_type": "stream",
     "text": [
      "A: (84, 192)\n",
      "B: (84, 200)\n",
      "C: (84, 200)\n",
      "D: (84, 200)\n",
      "E: (84, 200)\n",
      "F: (84, 200)\n",
      "G: (84, 200)\n",
      "H: (84, 200)\n",
      "I: (84, 200)\n",
      "L: (84, 198)\n",
      "M: (84, 200)\n",
      "N: (84, 193)\n",
      "O: (84, 202)\n",
      "P: (84, 203)\n",
      "R: (84, 200)\n",
      "S: (84, 203)\n",
      "T: (84, 202)\n",
      "U: (84, 204)\n",
      "V: (84, 208)\n",
      "W: (84, 161)\n",
      "Y: (84, 163)\n"
     ]
    }
   ],
   "source": [
    "for letter in letters:\n",
    "    print(f'{letter}: {data[letter].shape}')    \n"
   ]
  },
  {
   "cell_type": "markdown",
   "metadata": {},
   "source": [
    "### FIRST dimension are the positions the second is the number of examples\n",
    "### letter.shape -> (nx,m) nx son las caracteristicas y m son el numero de repeticiones"
   ]
  },
  {
   "cell_type": "markdown",
   "metadata": {},
   "source": [
    "### ALL mi positions for letters are flatenned"
   ]
  },
  {
   "cell_type": "code",
   "execution_count": 4,
   "metadata": {},
   "outputs": [
    {
     "data": {
      "text/html": [
       "<div>\n",
       "<style scoped>\n",
       "    .dataframe tbody tr th:only-of-type {\n",
       "        vertical-align: middle;\n",
       "    }\n",
       "\n",
       "    .dataframe tbody tr th {\n",
       "        vertical-align: top;\n",
       "    }\n",
       "\n",
       "    .dataframe thead th {\n",
       "        text-align: right;\n",
       "    }\n",
       "</style>\n",
       "<table border=\"1\" class=\"dataframe\">\n",
       "  <thead>\n",
       "    <tr style=\"text-align: right;\">\n",
       "      <th></th>\n",
       "      <th>cx</th>\n",
       "      <th>cxROI</th>\n",
       "      <th>cy</th>\n",
       "      <th>cyROI</th>\n",
       "    </tr>\n",
       "  </thead>\n",
       "  <tbody>\n",
       "    <tr>\n",
       "      <th>0</th>\n",
       "      <td>374</td>\n",
       "      <td>116</td>\n",
       "      <td>639</td>\n",
       "      <td>506</td>\n",
       "    </tr>\n",
       "    <tr>\n",
       "      <th>1</th>\n",
       "      <td>382</td>\n",
       "      <td>119</td>\n",
       "      <td>542</td>\n",
       "      <td>429</td>\n",
       "    </tr>\n",
       "    <tr>\n",
       "      <th>2</th>\n",
       "      <td>417</td>\n",
       "      <td>129</td>\n",
       "      <td>442</td>\n",
       "      <td>350</td>\n",
       "    </tr>\n",
       "    <tr>\n",
       "      <th>3</th>\n",
       "      <td>437</td>\n",
       "      <td>136</td>\n",
       "      <td>364</td>\n",
       "      <td>288</td>\n",
       "    </tr>\n",
       "    <tr>\n",
       "      <th>4</th>\n",
       "      <td>422</td>\n",
       "      <td>131</td>\n",
       "      <td>305</td>\n",
       "      <td>241</td>\n",
       "    </tr>\n",
       "    <tr>\n",
       "      <th>5</th>\n",
       "      <td>492</td>\n",
       "      <td>153</td>\n",
       "      <td>431</td>\n",
       "      <td>341</td>\n",
       "    </tr>\n",
       "    <tr>\n",
       "      <th>6</th>\n",
       "      <td>597</td>\n",
       "      <td>186</td>\n",
       "      <td>453</td>\n",
       "      <td>359</td>\n",
       "    </tr>\n",
       "    <tr>\n",
       "      <th>7</th>\n",
       "      <td>566</td>\n",
       "      <td>176</td>\n",
       "      <td>483</td>\n",
       "      <td>383</td>\n",
       "    </tr>\n",
       "    <tr>\n",
       "      <th>8</th>\n",
       "      <td>525</td>\n",
       "      <td>163</td>\n",
       "      <td>487</td>\n",
       "      <td>386</td>\n",
       "    </tr>\n",
       "    <tr>\n",
       "      <th>9</th>\n",
       "      <td>513</td>\n",
       "      <td>159</td>\n",
       "      <td>484</td>\n",
       "      <td>383</td>\n",
       "    </tr>\n",
       "    <tr>\n",
       "      <th>10</th>\n",
       "      <td>602</td>\n",
       "      <td>187</td>\n",
       "      <td>506</td>\n",
       "      <td>401</td>\n",
       "    </tr>\n",
       "    <tr>\n",
       "      <th>11</th>\n",
       "      <td>570</td>\n",
       "      <td>177</td>\n",
       "      <td>530</td>\n",
       "      <td>420</td>\n",
       "    </tr>\n",
       "    <tr>\n",
       "      <th>12</th>\n",
       "      <td>536</td>\n",
       "      <td>167</td>\n",
       "      <td>532</td>\n",
       "      <td>421</td>\n",
       "    </tr>\n",
       "    <tr>\n",
       "      <th>13</th>\n",
       "      <td>528</td>\n",
       "      <td>164</td>\n",
       "      <td>545</td>\n",
       "      <td>432</td>\n",
       "    </tr>\n",
       "    <tr>\n",
       "      <th>14</th>\n",
       "      <td>607</td>\n",
       "      <td>189</td>\n",
       "      <td>559</td>\n",
       "      <td>443</td>\n",
       "    </tr>\n",
       "    <tr>\n",
       "      <th>15</th>\n",
       "      <td>579</td>\n",
       "      <td>180</td>\n",
       "      <td>576</td>\n",
       "      <td>456</td>\n",
       "    </tr>\n",
       "    <tr>\n",
       "      <th>16</th>\n",
       "      <td>544</td>\n",
       "      <td>169</td>\n",
       "      <td>576</td>\n",
       "      <td>456</td>\n",
       "    </tr>\n",
       "    <tr>\n",
       "      <th>17</th>\n",
       "      <td>540</td>\n",
       "      <td>168</td>\n",
       "      <td>608</td>\n",
       "      <td>482</td>\n",
       "    </tr>\n",
       "    <tr>\n",
       "      <th>18</th>\n",
       "      <td>628</td>\n",
       "      <td>195</td>\n",
       "      <td>609</td>\n",
       "      <td>482</td>\n",
       "    </tr>\n",
       "    <tr>\n",
       "      <th>19</th>\n",
       "      <td>679</td>\n",
       "      <td>211</td>\n",
       "      <td>618</td>\n",
       "      <td>490</td>\n",
       "    </tr>\n",
       "    <tr>\n",
       "      <th>20</th>\n",
       "      <td>723</td>\n",
       "      <td>225</td>\n",
       "      <td>619</td>\n",
       "      <td>490</td>\n",
       "    </tr>\n",
       "  </tbody>\n",
       "</table>\n",
       "</div>"
      ],
      "text/plain": [
       "     cx  cxROI   cy  cyROI\n",
       "0   374    116  639    506\n",
       "1   382    119  542    429\n",
       "2   417    129  442    350\n",
       "3   437    136  364    288\n",
       "4   422    131  305    241\n",
       "5   492    153  431    341\n",
       "6   597    186  453    359\n",
       "7   566    176  483    383\n",
       "8   525    163  487    386\n",
       "9   513    159  484    383\n",
       "10  602    187  506    401\n",
       "11  570    177  530    420\n",
       "12  536    167  532    421\n",
       "13  528    164  545    432\n",
       "14  607    189  559    443\n",
       "15  579    180  576    456\n",
       "16  544    169  576    456\n",
       "17  540    168  608    482\n",
       "18  628    195  609    482\n",
       "19  679    211  618    490\n",
       "20  723    225  619    490"
      ]
     },
     "execution_count": 4,
     "metadata": {},
     "output_type": "execute_result"
    }
   ],
   "source": [
    "df"
   ]
  },
  {
   "cell_type": "markdown",
   "metadata": {},
   "source": [
    "### This make sense because we have 200 csv files, and for each csv we have a 21X4 data"
   ]
  },
  {
   "cell_type": "markdown",
   "metadata": {},
   "source": [
    "#### Let's to write a.h5 file to store all the data"
   ]
  },
  {
   "cell_type": "code",
   "execution_count": 5,
   "metadata": {},
   "outputs": [],
   "source": [
    "with h5.File('..\\\\features\\\\positions_all_statics.h5', 'w') as h5file:\n",
    "    for letter, positions in data.items():\n",
    "        grp = h5file.create_group(letter)\n",
    "        grp.create_dataset('positions', data=positions)"
   ]
  },
  {
   "cell_type": "markdown",
   "metadata": {},
   "source": [
    "### Let's to visualizase our dataset of 6 letters"
   ]
  },
  {
   "cell_type": "code",
   "execution_count": 7,
   "metadata": {},
   "outputs": [
    {
     "data": {
      "text/plain": [
       "h5py._hl.files.File"
      ]
     },
     "execution_count": 7,
     "metadata": {},
     "output_type": "execute_result"
    }
   ],
   "source": [
    "dataset = h5.File('..\\\\features\\\\positions_all_statics.h5', 'r')\n",
    "type(dataset)"
   ]
  },
  {
   "cell_type": "code",
   "execution_count": 9,
   "metadata": {},
   "outputs": [
    {
     "name": "stdout",
     "output_type": "stream",
     "text": [
      "(84, 192)\n",
      "(84, 200)\n",
      "(84, 200)\n",
      "(84, 200)\n",
      "(84, 200)\n",
      "(84, 200)\n",
      "(84, 200)\n",
      "(84, 200)\n",
      "(84, 200)\n",
      "(84, 198)\n",
      "(84, 200)\n",
      "(84, 193)\n",
      "(84, 202)\n",
      "(84, 203)\n",
      "(84, 200)\n",
      "(84, 203)\n",
      "(84, 202)\n",
      "(84, 204)\n",
      "(84, 208)\n",
      "(84, 161)\n",
      "(84, 163)\n"
     ]
    }
   ],
   "source": [
    "with h5.File('..\\\\features\\\\positions_all_statics.h5', 'r') as h5file:\n",
    "    data = []\n",
    "    labels = []\n",
    "    for letter in h5file.keys():\n",
    "        positions = h5file[letter]['positions'][:]\n",
    "        data.append(positions)\n",
    "        print(positions.shape)\n",
    "        labels.extend([letter]  )\n",
    "\n",
    "labels = np.array(labels)\n",
    "labels = np.reshape(labels, (labels.shape[0], 1))\n"
   ]
  },
  {
   "cell_type": "code",
   "execution_count": 10,
   "metadata": {},
   "outputs": [
    {
     "data": {
      "text/plain": [
       "array([['A'],\n",
       "       ['B'],\n",
       "       ['C'],\n",
       "       ['D'],\n",
       "       ['E'],\n",
       "       ['F'],\n",
       "       ['G'],\n",
       "       ['H'],\n",
       "       ['I'],\n",
       "       ['L'],\n",
       "       ['M'],\n",
       "       ['N'],\n",
       "       ['O'],\n",
       "       ['P'],\n",
       "       ['R'],\n",
       "       ['S'],\n",
       "       ['T'],\n",
       "       ['U'],\n",
       "       ['V'],\n",
       "       ['W'],\n",
       "       ['Y']], dtype='<U1')"
      ]
     },
     "execution_count": 10,
     "metadata": {},
     "output_type": "execute_result"
    }
   ],
   "source": [
    "labels"
   ]
  },
  {
   "cell_type": "markdown",
   "metadata": {},
   "source": []
  }
 ],
 "metadata": {
  "kernelspec": {
   "display_name": "env",
   "language": "python",
   "name": "python3"
  },
  "language_info": {
   "codemirror_mode": {
    "name": "ipython",
    "version": 3
   },
   "file_extension": ".py",
   "mimetype": "text/x-python",
   "name": "python",
   "nbconvert_exporter": "python",
   "pygments_lexer": "ipython3",
   "version": "3.11.5"
  }
 },
 "nbformat": 4,
 "nbformat_minor": 2
}
